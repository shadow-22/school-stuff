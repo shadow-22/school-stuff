{
 "cells": [
  {
   "cell_type": "markdown",
   "metadata": {
    "id": "en-9lPHvFPZl"
   },
   "source": [
    "**Music and Lyrics by:** Περικλής Κατσαρός el13302"
   ]
  },
  {
   "cell_type": "markdown",
   "metadata": {
    "id": "Xg_hokIFfKGy"
   },
   "source": [
    "# **Συστήματα και Τεχνολογίες Γνώσης**\n",
    "# **Θέμα 2**\n",
    "Σε αυτό το θέμα θα κατασκευάσετε μια οντολογία η οποία θα περιγράφει το πεδίο των μουσικών κομματιών, και θα είναι συμβατή με το γράφο γνώσης που κατασκευάσατε στο πρώτο θέμα."
   ]
  },
  {
   "cell_type": "markdown",
   "metadata": {
    "id": "cmljSK_vur5G"
   },
   "source": [
    "## 1ο Μέρος: Συντακτικά Ορθή Οντολογία\n"
   ]
  },
  {
   "cell_type": "markdown",
   "metadata": {
    "id": "I07rF9khwXsr"
   },
   "source": [
    "Σε αυτό το μέρος θα μετατρέψετε το γράφο γνώσης που δημιουργήσατε στο πρώτο θέμα, σε συντακτικά ορθή οντολογία. Όποιος επιθυμεί (κυρίως για άτομα που δεν έχουν ολοκληρώσει το πρώτο θέμα) μπορεί να εργαστεί με το γράφο γνώσης που σας δίνεται στο αρχείο ```songs.nt```.\n",
    "<!-- Όποιος χρησιμοποιήσει τη δική του γνώση (που δημιούργησε στο πρώτο θέμα) κι **ΌΧΙ** το movies.nt θα έχει bonus της τάξεως του 20%.  -->\n",
    "\n",
    "Θα εργαστούμε με τη βιβλιοθήκη [owlready2](https://owlready2.readthedocs.io/en/latest/) η οποία δίνει πρόσβαση σε τεχνολογίες αναπαράστασης γνώσης και οντολογιών (π.χ. OWL) μέσω της Python.\n"
   ]
  },
  {
   "cell_type": "code",
   "execution_count": 1,
   "metadata": {
    "id": "I_s6PiQTU_c6"
   },
   "outputs": [
    {
     "name": "stdout",
     "output_type": "stream",
     "text": [
      "Requirement already satisfied: owlready2 in c:\\users\\periklis\\anaconda3\\lib\\site-packages (0.37)\n"
     ]
    }
   ],
   "source": [
    "!pip install owlready2"
   ]
  },
  {
   "cell_type": "markdown",
   "metadata": {
    "id": "dNzR-9Gj4KjY"
   },
   "source": [
    "### 1.1 Μετατροπή σε owl\n",
    "Αν και η μορφή (format) του αρχείου είναι συμβατή με το πρότυπο OWL **δεν είναι μια σημασιολογικά ορθή οντολογία**, είναι απλά ένα σύνολο από δεδομένα σε μια μορφή που είναι συμβατή με το πρότυπο OWL. Μια οντολογία ορίζει ένα σύνολο από κανόνες που διέπουν έναν κόσμο, **δεν** είναι απλά μια αναπαράσταση των δεδομένων όπως είναι ένας γράφος γνώσης (αν και τα περισσότερα αξιώματα της οντολογίας μπορούν να αναπαρασταθούν με γράφους γνώσης).\n",
    "\n",
    "Τα βασικά συστατικά μέρη μιας οντολογίας είναι οι ατομικές έννοιες -τις οποίες συναντάμε στην OWL ως κλάσεις-(concepts-CN), οι ατομικοί ρόλοι -τους οποίους συναντάμε στην OWL ως ιδιότητες αντικειμένου και ιδιότητες τύπου δεδομένων- (roles-RN) και τα άτομα (individuals-IN). Με βάση αυτά κατασκευάζονται εκφράσεις σύνθετων εννοιών  και ρόλων, και αξιώματα (axioms).\n",
    "\n",
    "Στην παρούσα φάση δεν έχουμε αξιώματα και τόσο το σύνολο CN όσο και το RN είναι κενά. Πρακτικά έχουμε μόνο πληροφορία που αφορά τους individuals (τα άτομα του κόσμου μας) η οποία προέρχεται από το γράφο γνώσης μας. Δεν έχουμε λοιπόν καμία πληροφορία για τους κανόνες που διέπουν τον κόσμο, τις έννοιες από τις οποίες αποτελείται ο κόσμος μας όπως και τις πιθανές σχέσεις μεταξύ αυτών των εννοιών. Αυτή την πληροφορία καλείστε να συμπληρώσετε στη συνέχεια της άσκησης.\n",
    "\n",
    "Στην οντολογία μας λοιπόν θα πρέπει να ορίσουμε αρχικά έννοιες:\n",
    "```xml\n",
    "#RDF/XML\n",
    "<owl:Class rdf:about=\"http://example.org/ns/Concept\"/>\n",
    "\n",
    "#N-triples\n",
    "<http://example.org/ns/Concept> <http://www.w3.org/1999/02/22-rdf-syntax-ns#type> <http://www.w3.org/2002/07/owl#Class> \n",
    "```\n",
    "καθώς και ρόλους:\n",
    "```xml\n",
    "#RDF/XML\n",
    "<owl:ObjectProperty rdf:about=\"http://example.org/props/role\"/>\n",
    "\n",
    "#N-triples\n",
    "<http://example.org/props/role> <http://www.w3.org/1999/02/22-rdf-syntax-ns#type> <http://www.w3.org/2002/07/owl#ObjectProperty> \n",
    "```\n",
    "\n"
   ]
  },
  {
   "cell_type": "markdown",
   "metadata": {
    "id": "fCv7EpwwQdsh"
   },
   "source": [
    "#### 1.1.1 Αρχικοποίηση του CN\n",
    "\n",
    "Σε πρώτη φάση πρέπει να ορίσετε τις απαραίτητες έννοιες για να αναπαρασταθούν σωστά τα δεδομένα σας, δηλαδή κάθε άτομο του κόσμου σας να έχει έναν τύπο ο οποίος θα είναι κάποια έννοια. Για παράδειγμα στα δεδομένα σας έχετε σίγουρα μουσικά κομμάτια και συνθέτες. Για να αναπαρασταθούν σωστά αυτά τα άτομα είναι απαραίτητες οι έννοιες \"Song\" και \"Composer\" αντίστοιχα. Φυσικά μπορείτε να δώσετε ό,τι ονόματα επιθυμείτε εσείς στις έννοιες, όμως θα συνιστούσαμε να κρατήσετε το ίδιο μοτίβο σε όλη την άσκηση, και να δώσετε χαρακτηριστικά αλλά και συνοπτικά ονόματα τόσο στις έννοιες όσο και στους ρόλους. Για αρχή θα ορίσουμε όλες τις έννοιες να είναι υποέννοιες (subClassOf) του Thing, και σε επόμενο ερώτημα θα προχωρήσουμε στη δημιουργία πιο σύνθετων ιεραρχιών. \n",
    "\n",
    "Πρώτα όμως πρέπει να αρχικοποιήσουμε μια οντολογία φορτώνοντας το γράφο γνώσης στο owlready2 με την εντολή\n",
    "```python\n",
    "onto=get_ontology('file://path/to/knowledge/graph').load()\n",
    "```\n",
    "Θα ορίσουμε τους ονοματοχώρους που χρησιμοποιεί, στη συγκεκριμένη περίπτωση  \"prop\" για τους ρόλους (που αντιστοιχούν στις ιδιότητες του γράφου- properties) και \"ns\" για τις έννοιες.\n",
    "```python\n",
    "prop = onto.get_namespace('http://example.org/props/')\n",
    "ns = onto.get_namespace('http://example.org/ns/')\n",
    "```\n",
    "\n",
    "Ο ορισμός των εννοιών Song και Composer κάτω από το Thing, χρησιμοποιώντας τον ονοματοχώρο ```http://example.org/ns/``` στην owlready2 γίνεται ως εξής:\n",
    "```python\n",
    "with onto:\n",
    "  with ns:\n",
    "    class Song(Thing):\n",
    "      pass\n",
    "    class Composer(Thing):\n",
    "      pass\n",
    "```\n",
    "\n",
    "Αν τώρα αποθηκεύσουμε την οντολογία, θα παρατηρήσουμε πως έχουν προστεθεί τριάδες της μορφής\n",
    "```xml\n",
    "#RDF/XML\n",
    "<owl:Class rdf:about=\"http://example.org/ns/Composer\">\n",
    "  <rdfs:subClassOf rdf:resource=\"http://www.w3.org/2002/07/owl#Thing\"/>\n",
    "</owl:Class>\n",
    "\n",
    "#N-triples\n",
    "<http://myontology.org#Composer> <http://www.w3.org/1999/02/22-rdf-syntax-ns#type> <http://www.w3.org/2002/07/owl#Class> .\n",
    "<http://myontology.org#Composer> <http://www.w3.org/2000/01/rdf-schema#subClassOf> <http://www.w3.org/2002/07/owl#Thing> .\n",
    "```\n",
    "Δηλαδή έχει οριστεί η έννοια Composer ως owl:Class η οποία είναι υποέννοια (rdfs:subClassOf) του owl:Thing.\n",
    "\n",
    "Με τον ίδιο τρόπο καλείστε να αρχικοποιήσετε το σύνολο ονομάτων εννοιών - CN.\n",
    "\n",
    "*Σημείωση: δεν είναι απαραίτητο να ορίσετε ρητά ποια individual είναι τύπου Song, Composer, κλπ. μιας και αυτό μπορεί να το συμπεράνει ο reasoner (θα δούμε τι είναι αυτό στο μάθημα και στο επόμενο θέμα) εάν ορίσετε τα κατάλληλα πεδία τιμών και πεδία ορισμού που θα δείτε στο δεύτερο (2ο) μέρος.* "
   ]
  },
  {
   "cell_type": "markdown",
   "metadata": {
    "id": "NbP3EmLlx6s7"
   },
   "source": [
    "Μπορείτε να \"σώσετε\" μια οντολογία με την owlready2 όπως φαίνεται παρακάτω, σε μορφή RDF/XML και N-triples αντίστοιχα. Η μορφή RDF/XML είναι η default επιλογή.\n",
    "\n",
    "```python\n",
    "with onto:\n",
    "  #RDF/XML\n",
    "  onto.save('myOnto.owl',format='rdfxml')\n",
    "  # or just: onto.save('myOnto.owl')\n",
    "\n",
    "  #N-triples\n",
    "  onto.save('myOnto.nt',format='ntriples')\n",
    "\n",
    "```"
   ]
  },
  {
   "cell_type": "code",
   "execution_count": 2,
   "metadata": {
    "executionInfo": {
     "elapsed": 419,
     "status": "ok",
     "timestamp": 1651589490607,
     "user": {
      "displayName": "Βασίλης Λυμπεράτος",
      "userId": "05342196998447166776"
     },
     "user_tz": -180
    },
    "id": "BiodQbS2aRoC"
   },
   "outputs": [
    {
     "name": "stderr",
     "output_type": "stream",
     "text": [
      "* Owlready2 * Warning: optimized Cython parser module 'owlready2_optimized' is not available, defaulting to slower Python implementation\n"
     ]
    },
    {
     "name": "stdout",
     "output_type": "stream",
     "text": [
      "get_ontology(\"songs.nt#\")\n"
     ]
    }
   ],
   "source": [
    "# Απάντηση 1.1.1\n",
    "from owlready2 import *\n",
    "\n",
    "#################\n",
    "\n",
    "# Your code here\n",
    "onto = get_ontology('songs.nt').load()\n",
    "prop = onto.get_namespace('http://example.org/props/')\n",
    "ns = onto.get_namespace('http://example.org/ns/')\n",
    "\n",
    "\n",
    "with onto:\n",
    "    with ns:\n",
    "        class Song(Thing):\n",
    "            pass\n",
    "        class Composer(Thing):\n",
    "            pass\n",
    "        \n",
    "        class Piano(Thing):\n",
    "            pass\n",
    "        class Electric_Guitar(Thing):\n",
    "            pass\n",
    "        class Acoustic_Guitar(Thing):\n",
    "            pass\n",
    "        class Drums(Thing):\n",
    "            pass\n",
    "        class Synthesizer(Thing):\n",
    "            pass\n",
    "        class Violin(Thing):\n",
    "            pass\n",
    "        class Harmonica(Thing):\n",
    "            pass\n",
    "        class Banjo(Thing):\n",
    "            pass\n",
    "        class Orchestra(Thing):\n",
    "            pass\n",
    "        class Bass(Thing):\n",
    "            pass\n",
    "        class WoodWind(Thing):\n",
    "            pass\n",
    "        class Brass(Thing):\n",
    "            pass\n",
    "\n",
    "        class Country(Thing):\n",
    "            pass\n",
    "        class Rock(Thing):\n",
    "            pass\n",
    "        class Pop(Thing):\n",
    "            pass\n",
    "        class Classical(Thing):\n",
    "            pass\n",
    "        class Instrumental(Thing):\n",
    "            pass\n",
    "        class Funk(Thing):\n",
    "            pass\n",
    "        class Hip_Hop(Thing):\n",
    "            pass\n",
    "        class Reggae(Thing):\n",
    "            pass\n",
    "        class Jazz(Thing):\n",
    "            pass\n",
    "        class Traditional_Folk(Thing):\n",
    "            pass\n",
    "        class Opera(Thing):\n",
    "            pass\n",
    "        \n",
    "        class Anxiety(Thing):\n",
    "            pass\n",
    "        class Calmness(Thing):\n",
    "            pass\n",
    "        class Joy(Thing):\n",
    "            pass\n",
    "        class Sadness(Thing):\n",
    "            pass\n",
    "        class Fear(Thing):\n",
    "            pass\n",
    "        class Boredom(Thing):\n",
    "            pass\n",
    "        class Arousal(Thing):\n",
    "            pass\n",
    "        class Pleasure(Thing):\n",
    "            pass\n",
    "               \n",
    "        class Publisher(Thing):\n",
    "            pass\n",
    "        class Place(Thing):\n",
    "            pass\n",
    "        \n",
    "        \n",
    "with onto:\n",
    "    #RDF/XML\n",
    "    onto.save('myOnto.owl',format='rdfxml')\n",
    "    # or just: onto.save('myOnto.owl')\n",
    "\n",
    "    #N-triples\n",
    "    onto.save('myOnto.nt',format='ntriples')\n",
    "\n",
    "print(onto)\n",
    "#################"
   ]
  },
  {
   "cell_type": "markdown",
   "metadata": {
    "id": "7-Gn-bRy8AjO"
   },
   "source": [
    "#### 1.1.2 Αρχικοποίηση του RN\n",
    "\n",
    "Σειρά έχει η αρχικοποίηση του RN. Πρακτικά θέλουμε να δημιουργήσετε έναν ρόλο για κάθε ιδιότητα (property) του γράφου γνώσης σας. Αυτό μπορείτε να το επιτύχετε ορίζοντας πως κάθε ακμή του γράφου γνώσης είναι ένα ```owl:ObjectProperty``` αν συνδέει individuals μεταξύ τους ή ένα ```owl:DataProperty``` αν συνδέει individuals με τύπους δεδομένων.  \n",
    "\n",
    "Προσοχή: οι ρόλοι **ΔΕΝ** συνδέουν individuals με έννοιες, αυτό γίνεται μέσω της σχέσης rdfs:type. Θα πρέπει λοιπόν να έχετε κατά νου πως δεν πρέπει να δημιουργήσετε ρόλους που συνδέουν individuals με έννοιες, το οποίο είναι πολύ πιθανό να συμβεί σε περίπτωση που στο γράφο γνώσης σας έχετε κάποια σχέση της μορφής \"is_a\". \n",
    "\n",
    "Για να ορίσουμε τους απαραίτητους ρόλους, πρώτα βρίσκουμε το σύνολο ονομάτων ακμών στο γράφο γνώσης, δηλαδή το σύνολο των URIs τα οποία εμφανίζονται στη μεσαία θέση μιας τριάδας. Έστω πως το σύνολο αυτό περιέχει τα εξής URIs:\n",
    "```\n",
    "<http://example.org/props/hasGenre>\n",
    "<http://example.org/props/hasDateOfBirth>\n",
    "```\n",
    "\n",
    "Θέλουμε να ορίσουμε λοιπόν πως το URI ```<http://example.org/props/hasGenre>``` είναι owl:ObjectProperty ενώ το ```<http://example.org/props/hasDateOfBirth>``` είναι owl:DataProperty. Στην owlready2 αυτό γίνεται ως εξής:\n",
    "```python\n",
    "with onto:\n",
    "  with prop:\n",
    "    class hasGenre(ObjectProperty):\n",
    "      pass\n",
    "    class hasDateOfBirth(DataProperty):\n",
    "      pass\n",
    "```\n",
    "\n",
    "Αν τώρα αποθηκεύσουμε την οντολογία σε ένα αρχείο\n",
    "```python\n",
    "with onto:\n",
    "  #RDF/XML\n",
    "  onto.save('myonto.owl')\n",
    "\n",
    "  #N-triples\n",
    "  onto.save('myonto.nt',format='ntriples')\n",
    "```\n",
    "και ανοίξουμε το αρχείο θα δούμε να έχουν προστεθεί τα ακόλουθα:\n",
    "```xml\n",
    "#RDF/XML\n",
    "<owl:ObjectProperty rdf:about=\"http://example.org/props/hasGenre\"/>\n",
    "<owl:DatatypeProperty rdf:about=\"http://example.org/props/hasDateOfBirth\"/>\n",
    "\n",
    "\n",
    "#N-triples\n",
    "<http://example.org/props/hasGenre> <http://www.w3.org/1999/02/22-rdf-syntax-ns#type> <http://www.w3.org/2002/07/owl#ObjectProperty> .\n",
    "<http://example.org/props/hasDateOfBirth> <http://www.w3.org/1999/02/22-rdf-syntax-ns#type> <http://www.w3.org/2002/07/owl#DatatypeProperty> .\n",
    "```\n",
    "Δηλαδή προσθέσαμε τα ονόματα δύο ρόλων στην οντολογία μας, η οποία αρχίζει να παίρνει μορφή. \n",
    "\n",
    "Για ακόμη συνεπέστερη αρχικοποίηση ρόλων μπορείτε να ορίσετε το domain (πεδίο ορισμού) και το range (πεδίο τιμών) του κάθε property. Επίσης, αν ο ρόλος είναι μονοσήμαντος, τότε πρέπει να οριστεί ως functional property. Για παράδειγμα, γνωρίζουμε ότι η ιδιότητα hasDateOfBirth είναι μονοσήμαντη και συνδέει συνθέτες με την ημερομηνία γέννησής τους, σε μορφή datetime. Μια πλήρης αρχικοποίηση αυτής της ιδιότητας είναι η εξής:\n",
    "\n",
    "```python\n",
    "from datetime import datetime\n",
    "with onto:\n",
    "  with prop:\n",
    "    class hasDateOfBirth(DataProperty, FunctionalProperty): \n",
    "            domain   = [Composer]\n",
    "            range     = [datetime]\n",
    "            pass\n",
    "```\n",
    "\n",
    "Με τον ίδιο τρόπο καλείστε να αρχικοποιήσετε την οντολογία σας και να ορίσετε το σύνολο ονομάτων ρόλων - RN."
   ]
  },
  {
   "cell_type": "markdown",
   "metadata": {
    "id": "xx3MNXBu34Pb"
   },
   "source": [
    "*Προσοχή: σε αυτό το βήμα να χρησιμοποιήσετε για ονόματα ρόλων τα ίδια ακριβώς ονόματα που υπάρχουν στις ιδιότητες του γράφου γνώσης σας ώστε να μην χρειάζετε να κάνετε αλλαγές στη συνέχεια. Εάν ορίσετε διαφορετικό όνομα (π.χ. ορίσετε το ρόλο \"genres\" για την ιδιότητα \"hasGenres\" που υπάρχει στο γράφο γνώσης) τότε θα πρέπει στη συνέχεια να αλλάξετε την πληροφορία που έχετε για όλα τα άτομα του κόσμου σας, ενώ εάν χρησιμοποιήσετε το ίδιο όνομα (και ίδιο ονοματόχωρο όπως έχουμε ορίσει παραπάνω) αυτό δεν θα χρειαστεί διότι θα είναι συμβατή η ονομασία με την ήδη υπάρχουσα πληροφορία (π.χ. η \"τριάδα RDF\" ```<http://example.org/ns/446_LO11344164> <http://example.org/props/hasGenre> <http://example.org/ns/Pop>``` που μπορεί να υπάρχει ήδη στην οντολογία μας από το γράφο γνώσης θα δείχνει τη σύνδεση με το ρόλο \"hasGenre\" μεταξύ του μουσικού κομματιού με europeanaID \"446_LO11344164\" και της Pop ενώ εάν ο αντίστοιχος ρόλος έχει ονομαστεί διαφορετικά τότε αυτή η τριάδα δεν θα αντιστοιχεί σε κανένα ρόλο της οντολογίας μας και θα πρέπει να την αλλάξουμε).*"
   ]
  },
  {
   "cell_type": "code",
   "execution_count": 3,
   "metadata": {
    "executionInfo": {
     "elapsed": 9,
     "status": "ok",
     "timestamp": 1651589394178,
     "user": {
      "displayName": "Βασίλης Λυμπεράτος",
      "userId": "05342196998447166776"
     },
     "user_tz": -180
    },
    "id": "3soA17QuuImV"
   },
   "outputs": [],
   "source": [
    "### Απάντηση 1.1.2\n",
    "\n",
    "#################\n",
    "\n",
    "# Your code here\n",
    "from owlready2 import *\n",
    "from datetime import datetime\n",
    "\n",
    "#del onto\n",
    "\n",
    "onto = get_ontology('songs.nt').load()\n",
    "prop = onto.get_namespace('http://example.org/props/')\n",
    "ns = onto.get_namespace('http://example.org/ns/')\n",
    "\n",
    "with onto:\n",
    "    with prop:\n",
    "        class hasGenre(ObjectProperty):\n",
    "            domain = [Song]\n",
    "            range = [Country, Rock, Pop, Classical, Instrumental,\n",
    "                     Funk, Hip_Hop, Reggae, Jazz, Traditional_Folk,\n",
    "                     Opera]\n",
    "            pass\n",
    "        class hasDateOfBirth(DataProperty, FunctionalProperty):\n",
    "            domain = [Composer]\n",
    "            range = [datetime]\n",
    "            pass\n",
    "        class hasDateOfDeath(DataProperty, FunctionalProperty):\n",
    "            domain = [Composer]\n",
    "            range = [datetime]\n",
    "            pass\n",
    "        class hasTitle(DataProperty, FunctionalProperty):\n",
    "            domain = [Song]\n",
    "            range = [str]\n",
    "            pass\n",
    "        class hasEmotion(ObjectProperty):\n",
    "            domain = [Song]\n",
    "            range = [Anxiety, Calmness, Joy, Sadness,\n",
    "                     Fear, Boredom, Arousal, Pleasure]\n",
    "            pass\n",
    "        class hasComposer(ObjectProperty):\n",
    "            domain = [Song]\n",
    "            range = [Composer]\n",
    "            pass\n",
    "        class hasPublisher(ObjectProperty):\n",
    "            domain = [Song]\n",
    "            range = [Publisher]\n",
    "            pass\n",
    "        class hasInstrument(ObjectProperty):\n",
    "            domain = [Song]\n",
    "            range = [Piano, Electric_Guitar, Acoustic_Guitar,\n",
    "                     Drums, Synthesizer, Violin, Harmonica, \n",
    "                     Banjo, Orchestra, Bass, WoodWind, Brass]\n",
    "            pass\n",
    "        class hasDuration(DataProperty, FunctionalProperty):\n",
    "            domain = [Song]\n",
    "            range = [int]\n",
    "            pass\n",
    "        class hasYear(DataProperty, FunctionalProperty):\n",
    "            domain = [Song]\n",
    "            range = [datetime]\n",
    "            pass\n",
    "        class hasBiography(DataProperty):\n",
    "            domain = [Composer]\n",
    "            range = [str]\n",
    "            pass\n",
    "        class hasPlace(ObjectProperty):\n",
    "            domain = [Song]\n",
    "            range = [Place]\n",
    "            pass\n",
    "        \n",
    "\n",
    "\n",
    "\n",
    "#################"
   ]
  },
  {
   "cell_type": "code",
   "execution_count": 4,
   "metadata": {
    "id": "QKs2YEKZhqoy"
   },
   "outputs": [],
   "source": [
    "with onto:\n",
    "    onto.save('myonto2.owl')"
   ]
  },
  {
   "cell_type": "markdown",
   "metadata": {
    "id": "zBi0rygNvs_6"
   },
   "source": [
    "#### 1.1.3 Σημασιολογικά Ορθή Οντολογία\n",
    "\n",
    "Πλέον έχουμε μετατρέψει το γράφο γνώσης μας σε μια συντακτικά ορθή οντολογία. Αυτό δεν σημαίνει όμως πως είναι και σημασιολογικά ορθή και συνεπής."
   ]
  },
  {
   "cell_type": "markdown",
   "metadata": {
    "id": "rX2UBLYv1REq"
   },
   "source": [
    "Αυτή τη στιγμή έχετε αντιστοιχίσει συντακτικά το γράφο γνώσης του πρώτου θέματος σε μια οντολογία. Προσθέσατε τις κατάλληλες έννοιες (π.χ. Song, Genre, κλπ) και αντιστοιχίσατε τις ιδιότητες (properties) στους κατάλληλους ρόλους. Όμως η μοντελοποίηση αυτής της οντολογίας μπορεί να μην είναι σωστή ή/και συνεπής, διότι η οντολογία, όπως έχουμε αναφέρει και παραπάνω, δεν είναι απλώς ένας διαφορετικός τρόπος να αναπαραστήσει κανείς ένα γράφο γνώσης. Μία οντολογία μοντελοποιεί έναν κόσμο (όπου συνήθως βασίζεται στον πραγματικό κόσμο), διέπεται από σαφείς κανόνες, και απαιτεί ορισμένες σχεδιαστικές επιλογές από το δημιουργό της. "
   ]
  },
  {
   "cell_type": "markdown",
   "metadata": {
    "id": "_Cw-H6fCd8_9"
   },
   "source": [
    "Σε αυτό το ζητούμενο καλείστε να μελετήσετε την οντολογία που έχετε δημιουργήσει μέχρι στιγμής και να αναθεωρήσετε/αλλάξετε ορισμένα κομμάτια της μοντελοποίησης ώστε να είναι πιο ορθή / να ανταποκρίνεται καλύτερα στην πραγματικότητα.  \n",
    "Για παράδειγμα πιθανότατα στην οντολογία που έχετε δημιουργήσει, ένα μουσικό κομμάτι (ένας individual που έχει type Song) συνδέεται με έναν ρόλο της μορφής hasGenre με έναν άλλο individual που είναι τύπου Genre και αντιστοιχεί στη rock (ή οποιοδήποτε άλλο genre). Αυτή, αν και τυπικά δεν είναι λαθος μοντελοποιηση, δεν μπορεί να θεωρηθεί ούτε απόλυτα σωστή, μιας και η rock δεν είναι άτομο του κόσμου μας, είναι μια έννοια/ένας όρος με τον οποίο χαρακτηρίζονται έργα με ορισμένα (ίσως κι αφηρημένα) χαρακτηριστικά. \n",
    "\n",
    "Θα μπορούσε κάποιος να σκεφτεί να ορίσει την έννοια Genre, και όλα τα είδη ως υποέννοιες της Genre. Στη συνέχεια να προσθέσει την πληροφορία πως κάθε μουσικό κομμάτι (individual με type Song) μπορεί να είναι και τύπου Rock το οποίο θα είναι υποέννοια του Genre όπως αναφέραμε. Αυτή η μοντελοποίηση είναι όμως **ΛΑΘΟΣ**, αφού αν οριστεί ένα μουσικό κομμάτι ως άτομο τύπου Rock, τότε αφού η Rock είναι υποέννοια του Genre, προκύπτει σημασιολογικά πως το μουσικό κομμάτι αυτό είναι άτομο τύπου Genre, το οποίο είναι λάθος.\n",
    "\n",
    "Άρα στην περίπτωσή μας όπου δημιουργούμε μια οντολογία για μουσικά κομμάτια πιο ορθή φαντάζει μια μοντελοποίηση της πληροφορίας πως κάποιο μουσικό κομμάτι είναι Rock ως μίας έννοιας RockSong (ή και απλά Rock) όπου είναι υποέννοια (subClassOf) της έννοιας Song. "
   ]
  },
  {
   "cell_type": "markdown",
   "metadata": {
    "id": "fVbxIZGw6CUT"
   },
   "source": [
    "Καλείστε λοιπόν να εντοπίσετε και να διορθώσετε αντίστοιχα λάθη μοντελοποίησης της οντολογίας σας. Αφαιρέστε τη \"λανθασμένη\" πληροφορία και αντικαταστήστε τη με την \"ορθή\". Στο παραπάνω παράδειγμα με την Rock μια τέτοια αντικατάσταση θα μπορούσε να γίνει δημιουργώντας τις κατάλληλες έννοιες (RockSong, PopSong, κλπ), ορίζοντας το κατάλληλο type στους αντίστοιχους individuals και αφαιρώντας τους ρόλους hasGenre καθώς και όλους τους individuals που αντιστοιχούσαν σε κάποιο Genre.\n",
    "Αναφέρετε συνοπτικά τις αλλαγές που κάνατε και σχολιάστε τις. \n",
    "\n",
    "<!-- Παρακάτω δίνεται ενδεικτικό κομμάτι κώδικα για να επιτελέσετε τα παραπάνω.  -->\n",
    "\n",
    "Στο τέλος αυτού του μέρους αποθηκεύστε την οντολογία σας σε ένα αρχείο KR-Ex2_1.owl όπως δείξαμε παραπάνω, το οποίο θα παραδοθεί μαζί με τα υπόλοιπα αρχεία στο τέλος της άσκησης. "
   ]
  },
  {
   "cell_type": "code",
   "execution_count": 5,
   "metadata": {
    "id": "7jmwfvyHuZo3"
   },
   "outputs": [],
   "source": [
    "# Απάντηση 1.1.3\n",
    "\n",
    "#################\n",
    "\n",
    "# Your code here\n",
    "from owlready2 import *\n",
    "from datetime import datetime\n",
    "\n",
    "del onto\n",
    "\n",
    "onto = get_ontology('songs.nt').load()\n",
    "#onto = get_ontology('test_onto.owl')\n",
    "prop = onto.get_namespace('http://example.org/props/')\n",
    "ns = onto.get_namespace('http://example.org/ns/')\n",
    "\n",
    "\n",
    "with onto:\n",
    "    with ns:\n",
    "        class Song(Thing):\n",
    "            pass\n",
    "        class Composer(Thing):\n",
    "            pass\n",
    "        \n",
    "        class PianoSong(Song, Piano):\n",
    "            pass\n",
    "        class ElectricGuitarSong(Song):\n",
    "            pass\n",
    "        class AcousticGuitarSong(Song):\n",
    "            pass\n",
    "        class DrumsSong(Song):\n",
    "            pass\n",
    "        class SynthesizerSong(Song):\n",
    "            pass\n",
    "        class ViolinSong(Song):\n",
    "            pass\n",
    "        class HarmonicaSong(Song):\n",
    "            pass\n",
    "        class BanjoSong(Song):\n",
    "            pass\n",
    "        class OrchestraSong(Song):\n",
    "            pass\n",
    "        class BassSong(Song):\n",
    "            pass\n",
    "        class WoodWindSong(Song):\n",
    "            pass\n",
    "        class BrassSong(Song):\n",
    "            pass\n",
    "\n",
    "        class CountrySong(Song):\n",
    "            pass\n",
    "        class RockSong(Song):\n",
    "            pass\n",
    "        class PopSong(Song):\n",
    "            pass\n",
    "        class ClassicalSong(Song):\n",
    "            pass\n",
    "        class InstrumentalSong(Song):\n",
    "            pass\n",
    "        class FunkSong(Song):\n",
    "            pass\n",
    "        class HipHopSong(Song):\n",
    "            pass\n",
    "        class ReggaeSong(Song):\n",
    "            pass\n",
    "        class JazzSong(Song):\n",
    "            pass\n",
    "        class TraditionalFolkSong(Song):\n",
    "            pass\n",
    "        class OperaSong(Song):\n",
    "            pass\n",
    "        \n",
    "        class AnxietySong(Song):\n",
    "            pass\n",
    "        class CalmnessSong(Song):\n",
    "            pass\n",
    "        class JoySong(Song):\n",
    "            pass\n",
    "        class SadnessSong(Song):\n",
    "            pass\n",
    "        class FearSong(Song):\n",
    "            pass\n",
    "        class BoredomSong(Song):\n",
    "            pass\n",
    "        class ArousalSong(Song):\n",
    "            pass\n",
    "        class PleasureSong(Song):\n",
    "            pass\n",
    "               \n",
    "        class Publisher(Thing):\n",
    "            pass\n",
    "        class Place(Thing):\n",
    "            pass\n",
    "        \n",
    "\n",
    "with onto:\n",
    "    with prop:\n",
    "        class hasDateOfBirth(DataProperty, FunctionalProperty):\n",
    "            domain = [Composer]\n",
    "            range = [date]\n",
    "            pass\n",
    "        class hasDateOfDeath(DataProperty, FunctionalProperty):\n",
    "            domain = [Composer]\n",
    "            range = [date]\n",
    "            pass\n",
    "        class hasTitle(DataProperty, FunctionalProperty):\n",
    "            domain = [Song]\n",
    "            range = [str]\n",
    "            pass\n",
    "        class hasComposer(ObjectProperty):\n",
    "            domain = [Song]\n",
    "            range = [Composer]\n",
    "            pass\n",
    "        class hasPublisher(ObjectProperty):\n",
    "            domain = [Song]\n",
    "            range = [Publisher]\n",
    "            pass\n",
    "        class hasDuration(DataProperty, FunctionalProperty):\n",
    "            domain = [Song]\n",
    "            range = [int]\n",
    "            pass\n",
    "        class hasYear(DataProperty, FunctionalProperty):\n",
    "            domain = [Song]\n",
    "            range = [date]\n",
    "            pass\n",
    "        class hasBiography(DataProperty):\n",
    "            domain = [Composer]\n",
    "            range = [str]\n",
    "            pass\n",
    "        class hasPlace(ObjectProperty):\n",
    "            domain = [Song]\n",
    "            range = [Place]\n",
    "            pass\n",
    "\n",
    "#################\n",
    "\n",
    "\n",
    "with onto:\n",
    "    onto.save('KR-Ex2_1.owl')"
   ]
  },
  {
   "cell_type": "markdown",
   "metadata": {
    "id": "sdExWnlV96nO"
   },
   "source": [
    "##2ο Μέρος: Σημασιολογικά Συνεπής Οντολογία και Εμπλουτισμός"
   ]
  },
  {
   "cell_type": "markdown",
   "metadata": {
    "id": "zlyerqm19VVf"
   },
   "source": [
    " Στο δεύτερο (2ο) μέρος της άσκησης θα εργαστείτε στο [Protégé](https://protege.stanford.edu/). Θα εξαγάγετε την οντολογία που έχετε δημιουργήσει μέχρι στιγμής (μόνο τα CN και RN, όχι τους individuals) σε ένα αρχείο το οποίο θα επεξεργαστείτε με τη βοήθεια του Protégé για να εργαστείτε με τα επόμενα ζητούμενα. Προσέξτε για τη συνέχεια να μη σβήσετε καμία πληροφορία από την οντολογία (μόνο να προσθεσετε) διότι τότε μπορεί να σταματήσει να είναι συνεπής με τα δεδομένα που έχουμε, θεωρητικά δεν θα χρειαστεί να σβήσετε τίποτα διότι έχετε κάνει τις όποιες διορθώσεις έχουν χρειαστεί στα προηγούμενα ερωτήματα. \n"
   ]
  },
  {
   "cell_type": "markdown",
   "metadata": {
    "id": "59dbXN07feIQ"
   },
   "source": [
    "Πριν φορτώσουμε την οντολογία στο [Protégé](https://protege.stanford.edu/), θα τρέξουμε τον reasoner μέσω του owlready2. Αυτό από τη μία θα μας δείξει αν η οντολογία που έχουμε φτιάξει ως τώρα είναι συνεπής, ενώ από την άλλη θα συμπεράνει ποια ονόματα αντιστοιχούν σε άτομα του κόσμου. Αυτά τα άτομα δεν μας αφορούν όταν θα δουλεύουμε την οντολογία στο protege οπότε θα τα σβήσουμε."
   ]
  },
  {
   "cell_type": "code",
   "execution_count": 6,
   "metadata": {
    "id": "MjWh9HNqhTFW"
   },
   "outputs": [],
   "source": [
    "del onto\n",
    "onto = get_ontology('KR-Ex2_1.owl').load()"
   ]
  },
  {
   "cell_type": "code",
   "execution_count": 7,
   "metadata": {
    "id": "DmCz5r5mr5ki"
   },
   "outputs": [],
   "source": [
    "#owlready2.JAVA_EXE = \"C:\\Program Files (x86)\\Java\\jre1.8.0_333\\bin\\java.exe\"\n",
    "with onto:\n",
    "    #sync_reasoner()\n",
    "    for i in onto.individuals():\n",
    "        destroy_entity(i)\n",
    "\n",
    "  ## Επειδή κάποια δεν τα ορίσαμε ως named individuals\n",
    "  ## αλλά κατάλαβε ο reasoner πως είναι τύπου owl:Thing\n",
    "  ## Πρέπει να τα σβήσουμε ξεχωριστά\n",
    "    instances = onto.get_instances_of(Thing)\n",
    "    for i in instances:\n",
    "        destroy_entity(i)\n",
    "    onto.save('myonto-protege.owl')"
   ]
  },
  {
   "cell_type": "code",
   "execution_count": null,
   "metadata": {},
   "outputs": [],
   "source": [
    "#prepei na kanw kati me to del kai ton kernel\n",
    "#prepei na kanw restart ton kernel an thelw na\n",
    "#exw swsta tis allages mou"
   ]
  },
  {
   "cell_type": "markdown",
   "metadata": {
    "id": "VJtlyllxh1rX"
   },
   "source": [
    "### 2.1 Σημασιολογικά Συνεπής Οντολογία\n",
    "Σε αυτό το ζητούμενο καλείστε να βάλετε περιορισμούς στον κόσμο σας ώστε να έχουμε μια οντολογία συνεπή με την πραγματικότητα. Πρέπει να δημιουργήσετε πεδία ορισμού (Π.Ο.) και πεδία τιμών (Π.Τ.) για τους ρόλους της οντολογίας σας, καθώς και να ορίσετε ξένες (disjoint) έννοιες και ρόλους (π.χ. δεν μπορεί ένας individual του κόσμου μας να είναι και μουσικό κομμάτι και είδος ταυτόχρονα). \n",
    "\n",
    "\n",
    "Περιγράψτε τους περιορισμούς που ορίσατε στο markdown που ακολουθεί\n"
   ]
  },
  {
   "cell_type": "markdown",
   "metadata": {
    "id": "P5rsJ0aV24bf"
   },
   "source": [
    "*Τα πεδία ορισμού και τα πεδία τιμών μπορούν να δημιουργηθούν και μέσω της owlready2 όπως έχουμε δείξει.*"
   ]
  },
  {
   "cell_type": "markdown",
   "metadata": {
    "id": "-shKVwRd0XqO"
   },
   "source": [
    "### Απάντηση 2.1"
   ]
  },
  {
   "cell_type": "markdown",
   "metadata": {
    "id": "cv9Eu6Cd9dGx"
   },
   "source": [
    "###2.2 Σημασιολογικός Εμπλουτισμός\n",
    "Σε αυτό το ζητούμενο καλείστε να εμπλουτίσετε την οντολογία σας με νέες έννοιες, νέους ρόλους, και αξιώματα. Στόχος είναι να δημιουργήσετε μια οντολογία όσο πιο \"πλήρη\" μπορείτε. Οι έννοιες, οι ρόλοι, και τα αξιώματα που θα δημιουργήσετε **ΔΕΝ** είναι απαραίτητο να αφορούν πληροφορία η οποία είναι συνδεδεμένη με το σύνολο IN της οντολογίας σας, αυτή η σύνδεση μπορεί να γίνει κάποια στιγμή στο μέλλον μέσω κάποιοι εμπλουτισμού των δεδομένων σας, σε αυτή τη φάση σας ενδιαφέρει να δημιουργήσετε μία πολύ καλή περιγραφή του κόσμου σας. Αυτή η οντολογία που θα δημιουργήσετε θα μπορεί να \"κουμπώσει\" με δεδομένα από πολλές διαφορετικές πηγές (τα οποία βέβαια πρέπει να έχουν συμβατή μορφή και ονοματοδοσία), για αυτό και δεν περιοριζόμαστε μόνο στα δεδομένα που έχουμε αλλά σχεδιάζουμε τον \"κόσμο\" μας γενικότερα.\n",
    "\n",
    "*   Μπορείτε να δημιουργήσετε έννοιες βασισμένες σε μια δική σας κατηγοριοποίησης των συναισθημάτων μέσω αξιωμάτων. Για παράδειγμα μπορείτε να κατηγοριοποιήσετε τα θετικά συναισθήματα και να δημιουργήσετε την έννοια FeelGoodEmotions.\n",
    "\n",
    "*   Εκμεταλλευόμενοι τα DataTypes που πιθανώς υπάρχουν ήδη στην οντολογία σας μπορείτε να δημιουργήσετε έννοιες και αντίστοιχα αξιώματα ώστε να κατατάξετε τα μουσικά κομμάτια ως μουσικά κομμάτια του 17ου, του 18ου κ.ο.κ αιώνα. \n",
    "\n",
    "*   Χρησιμοποιώντας την πληροφορία του γράφου για τα μουσικά όργανα του κάθε κομματιού, μπορείτε να αναπτύξετε έννοιες όπως το PianoSong ή το GuitarSong. Προφανώς και ένα μουσικό κομμάτι μπορεί να ανήκει σε παραπάνω από μία έννοιες αυτής της μορφής.\n",
    "\n",
    "*   Επίσης μπορείτε να δημιουργήσετε νέες \"σύνθετες\" έννοιες συνδυάζοντας ήδη υπάρχουσες όπως την έννοια JoyfulRockSong για μουσικά κομμάτια  που είναι Rock είδους και Joy συναισθήματος ή AcousticPopSong για μουσικά κομμάτια που έχουν ακουστική κιθάρα και είναι Pop είδους.\n",
    "\n",
    "\n",
    "*   Μπορείτε να δημιουργήσετε ανάστροφους ρόλους, για παράδειγμα ο ρόλος isGenre ως ανάστροφος του hasGenre. \n",
    "\n",
    "*   Τέλος μπορείτε να συνδέσετε την οντολογία σας με κάποια άλλη οντολογία που υπάρχει διαθέσιμη στο διαδίκτυο (κι όχι μόνο) η οποία μπορεί είτε να έχει την ίδια θεματική με τη δική σας (δηλαδή μουσική) είτε και να έχει κάποια άλλη θεματική αλλά να μπορεί να συνδεθεί με τη δική σας για να προσφέρει μια πιο λεπτομερή μοντελοποιηση του κόσμου σας. \n",
    "\n",
    "\n",
    "Η μοντελοποίησή σας πρέπει να στοχεύει και στη χρησιμότητα/χρηστικότητα της οντολογίας άρα θα πρέπει να δημιουργήσετε έννοιες, ρόλους, κι αξιώματα που μπορούν να φανούν χρήσιμα είτε σε έναν music recommender, είτε σε μια streaming πλατφόρμα όπου δημιουργεί σύνθετες κατηγορίες (π.χ. Country μουσική της δεκαετίας του '90), είτε γενικότερα σε οποιαδήποτε άλλη χρήση μιας οντολογίας για μουσική μπορείτε να σκεφτείτε. Μπορείτε να αντλήσετε έμπνευση από υπάρχουσες streaming πλατφόρμες (π.χ. Spotify, Κασετόφωνο, κ.α.). Θα συνιστούσαμε να δώσετε ιδιαίτερη προσοχή στο είδος (genre) καθώς και το συναίσθημα (emotion) ενός κομματιού μιας και πρόκειται για δύο απο τα βασικότερα χαρακτηριστικά κατηγοριοποίησης μουσικών έργων. \n",
    "\n",
    "Στο τέλος αυτού του ερωτήματος θα πρέπει να έχετε προσθέσει **τουλάχιστον 50 νέες έννοιες** συνολικά **σε τουλάχιστον 5 διαφορετικές \"κατευθύνσεις\" / domains** (π.χ. ένα domain θα μπορούσε να είναι τα genres, ένα άλλο να αφορά χρονολογίες, ένα άλλο να αφορά τα μουσικά όργανα, κλπ.)\n",
    "\n",
    "Αναφέρετε συνοπτικά τις αλλαγές που κάνατε στην οντολογία σας και το σκεπτικό πίσω από τις επιλογές σας, στο markdown που ακολουθεί. Μπορείτε σε μερικές γραμμές να δώσετε τη \"συνολική εικόνα\" και στη συνέχεια να μπείτε στα επιμέρους domains όπως αναφέρεται παρακάτω.  \n",
    "Για κάθε domain να αναφέρετε τις έννοιες που δημιουργήσατε ή/και τις υπάρχουσες έννοιες που εντάσονται στο συγκεκριμένο domain, να περιγράψετε με μια πρόταση κάθε τέτοια έννοια και να αναφέρετε συνοπτικά τα χαρακτηριστικά και το σκεπτικό πίσω από την επιλογή του συγκεκριμένου domain αλλά και των εννοιών που ορίσατε και των μεταξύ τους ιεραρχικών σχέσεων.\n",
    "\n",
    "Οι περιγραφές θα μπορούσαν να ακολουθούν το ακόλουθο template:\n",
    "\n",
    "####Domain 1\n",
    "Domain 1 Description and Discussion\n",
    "\n",
    "**Concept 1.1**  *(New)*  \n",
    "Concept 1 Description\n",
    "\n",
    "**Concept 1.2**  \n",
    "Concept 2 Decription\n",
    "\n",
    "**Concept 1.3** *(New)*\n",
    "Concept 3 Decription\n",
    "\n",
    "...\n",
    "\n",
    "####Domain 2\n",
    "Domain 2 Description and Discussion \n",
    "\n",
    "**Concept 2.1** *(New)*  \n",
    "Concept 1 Description\n",
    "\n",
    "**Concept 2.2** *(New)*  \n",
    "Concept 2 Decription\n",
    "\n",
    "**Concept 2.3**  \n",
    "Concept 3 Decription\n",
    "\n",
    "...\n",
    "\n",
    "\n"
   ]
  },
  {
   "cell_type": "code",
   "execution_count": null,
   "metadata": {},
   "outputs": [],
   "source": [
    "#Έχει δοθεί μεγάλη προσοχή στα emotions, στα genres και στα όργανα, \n",
    "#υπάρχουν έννοιες για κάθε emotion, genre και όργανο(χωριστά). \n",
    "#Ύστερα υπάρχουν μερικοί συνδυασμοί συναισθημάτων, οργάνων κτλ για περεταίρω εμπλουτισμό.\n",
    "\n",
    "#Έχουν προστεθεί έννοιες όπως Short και LongRecordings για \"μικρές\" και \"μεγάλες\" χρονικά δισκογραφικές ηχογραφήσεις\n",
    "#αφού είχαμε το duration των τραγουδιών.\n",
    "\n",
    "#Επίσης έχουν προστεθεί κατηγορίες για τις χώρες και πόλεις που έγινε η ηχογράφηση και κάποιες μεγαλύτερες κατηγοριοποιήσεις \n",
    "#σε επίπεδο ηπείρων(Ευρωπαικά τραγούδια, Αμερικάνικα κτλ)\n",
    "\n",
    "#Έχει προστεθεί και κατηγοριοποίηση σε επίπεδο δεκαετίας(πχ 2010s) αλλά δεν το προχώρησα παρακάτω γιατί πρακτικά στο Protege\n",
    "#δεν έτρεχε επειδή τα τραγούδια έχουν Year σε xsd:date που το Protege δεν αναγνωρίζει. Αν γίνει η μετατροπή σε int δουλεύει\n",
    "#αλλά δεν ήξερα αν επιτρέπεται να αλλάξουμε τα δεδομένα.\n",
    "#Ομοίως δοκίμασα και κατηγοποίηση των συνθετών με βάση ημερομηνία γέννησης αλλά ο τύπος date στο Protege δεν δούλευε για να το τεστάρω.\n",
    "#Πρόσθεσα και έναν ρόλο hasComposed για τον Composer ως Inverse του hasComposer που μπορώ να τον χρησιμοποιήσω για να βρω πχ τον συνθέτη που έχει γράψει \n",
    "#τουλάχιστον 10 τραγούδια αλλά στο Protege δεν ολοκλήρωνε ο reasoner.\n",
    "\n",
    "#Tέλος υπάρχουν κάποιες απλές κατηγορίες τύπου \"τραγούδια του Vivaldi\" που μπορεί κάποιου να του αρέσει.\n",
    "\n",
    "#Domain 1 - Emotions\n",
    "#Concept1 JoySong (Song and (hasEmotion value Joy))\n",
    "#Τραγούδια που έχουν emotion Joy\n",
    "#Κτλ για όλα τα emotions\n",
    "#concept2 JoyAndSadness (JoySong and SadnessSong)\n",
    "#συνδυασμός κτλ\n",
    "\n",
    "#Domain 2 - Genres\n",
    "#Concept1 RockSong (Song and (hasGenre value Rock))\n",
    "#Ομοίως για όλα τα Genres\n",
    "\n",
    "#Domain 3 - Places\n",
    "#Concept1 GreekRecording (Song and (hasPlace value Greece))\n",
    "#Concept2 ParisRecording (Song and (hasPlace value Paris))\n",
    "#Concept3 EuropeanRecording (GreekRecording or FrenchRecording or GermanRecording ktl)\n",
    "#Concept4 AmericanRecording με παιδί CarribeanRecording με παιδί JamaicaRecording (Song and (hasPlace value Jamaica))\n",
    "\n",
    "#Domain 4 - Instruments\n",
    "#Concept1 PianoSong (Songa and (hasInstrument value Piano))\n",
    "#Κτλ για όλα τα όργανα\n",
    "\n",
    "#Domain 5 - Duration\n",
    "#Concept1 - ShortRecordings (Song and (hasDuration only xsd:integer[<= 50000]))\n",
    "#Concept2 - LongRecording (Song and (hasDuration only xsd:integer[>= 300000]))\n",
    "\n",
    "#Υπάρχει επίσης συνδυασμός από τρια domains πχ ShortAndJoyAndPop (ShortRecording and JoySong and PopSong)\n",
    "#Καθώς και για Composer, BachSong (Songa and hasComposer value JohannSebastian_Bach or Johann_Sebastian_Bach),\n",
    "#hasComposedAtLeast3 -> Παιδί του Composer με αξίωμα hasComposed min 3 Song"
   ]
  },
  {
   "cell_type": "markdown",
   "metadata": {
    "id": "fYd3LUNJ6pVN"
   },
   "source": [
    "Στο τέλος αυτού του μέρους αποθηκεύστε την οντολογία που έχετε δημιουργήσει σε ένα αρχείο myonto-graphDB.owl το οποίο θα παραδώσετε στο τέλος της άσκησης. "
   ]
  },
  {
   "cell_type": "markdown",
   "metadata": {
    "id": "LQvWMFz10kPd"
   },
   "source": [
    "### Απάντηση 2.2\n"
   ]
  },
  {
   "cell_type": "markdown",
   "metadata": {
    "id": "hZwfyBAiodtk"
   },
   "source": [
    "### Μικρό Tutorial Protegé\n",
    "\n",
    "Αφού φορτώσουμε το ```myonto-protege.owl``` με File->Open εμφανίζεται αριστερά η ιεραρχία των εννοιών. \n",
    "\n",
    "![Screenshot 2022-04-27 172327.png](data:image/png;base64,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)"
   ]
  },
  {
   "cell_type": "markdown",
   "metadata": {
    "id": "LpyrItsjrbNz"
   },
   "source": [
    "Αν επιλέξετε μια κλάση δεξιά εμφανίζεται η περιγραφή της\n",
    "\n",
    "![Screenshot 2022-02-28 180153.png](data:image/png;base64,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)"
   ]
  },
  {
   "cell_type": "markdown",
   "metadata": {
    "id": "JtVKzkkishuv"
   },
   "source": [
    "Μπορούμε να ορίσουμε ισοδυναμίες, υπερέννοιες, αξιώματα, άτομα και ξένες έννοιες πατώντας το αντίστοιχο σύμβολο ![protege-plus.PNG](data:image/png;base64,iVBORw0KGgoAAAANSUhEUgAAAB0AAAAdCAYAAABWk2cPAAAAAXNSR0IArs4c6QAAAARnQU1BAACxjwv8YQUAAAAJcEhZcwAAEnQAABJ0Ad5mH3gAAAIASURBVEhL7ZVXq+pAFIXz//+OD77axV6wK6IodixYsO/DNydzyY2TxAv3cF5csNE4k7V215JfwEf0R/ERfcH9fpfz+Syn00mOx6P6vFwu8ng87BvvI1AU0t1uJ4PBQCqViqRSKYnH45LJZKRWq8loNJLD4SDP59N+Ixi+orfbTcbjseRyOYlGoxKJRF4sFotJqVSS2WymsvEOPEUhGA6HkkwmjWJuI/LJZPJWxEZRXlwsFpJOp1/IE4mEZLNZFaH7LJ/Py3a7tVm8YRSlQarVqjGlrVZLrterFAqFlzPudzodVRY/GEVXq5UxSqzdbqtMFItF4znO7Pd7m8kMy+QVnUqHaiK+k1as2+0qUTpZ/+bMCD2wXC5tJjMsXnDXgRRpEgwnmEs9m0DPLFav1/+6T0P5waL4zJoTROMkwQm8x3TqNpvNn9+IWt8liOl0qu54waI2bBgncMKZXqcF1ZReoCf8YIVCIUXkBFEwdybSIFEWBRvKD1Y4HJb1em0/foPmajabxpGhfqSYsrjPyE6/3w/cxxYzh+du0FwsATcxjkBucqhcLgdGCTzXIN7SEF5pdhvzGVRLDU9RgDBEbCf3PGKsQuay0WiozJgyZoKvKICImZzP56qJaCDSTip7vZ4aGWb3XUEQKKoBKZHz76ON538R03hb9H/iI/qj+AVRkS9KUY+DTtrpXwAAAABJRU5ErkJggg==) "
   ]
  },
  {
   "cell_type": "markdown",
   "metadata": {
    "id": "IxdWj-7eBsTn"
   },
   "source": [
    "##3ο Μέρος: Εμπλουτισμένη Οντολογία και Δεδομένα\n",
    "Στο τρίτο (3ο) μέρος της άσκησης καλείστε να χρησιμοποιήσετε κάποιο triplestore (προτείνεται το [GraphDB](https://graphdb.ontotext.com/)) στο οποίο θα \"φορτώσετε\" την εμπλουτισμένη οντολογία που δημιουργήσατε μέσω του Protégé στο δεύτερο (2ο) μέρος καθώς και τα δεδομένα που κρατήσαμε από το πρώτο (1ο) μέρος, να \"τρέξετε\" το reasoner ο οποίος θα εφαρμόσει στα δεδομένα σας όλους τους κανόνες που έχετε ορίσει μέσω της οντολογίας σας, εμπλουτίζοντας τα δεδομένα με τύπους και ρόλους (θα δείτε αναλύτικά πως λειτουργεί ένας reasoner στο μάθημα), και στη συνέχεια να εκτελέσετε ορισμένα SPARQL ερωτήματα στην ολοκληρωμένη οντολογία σας ώστε να δείξετε τα αποτελέσματα της ορθότητας αλλά και του εμπλουτισμού της οντολογίας σας.\n",
    "Για παράδειγμα εάν έχετε δημιουργήσει έννοιες RockSong και PopSong οι οποίες είναι υποέννοιες του Song, μερικά SPARQL ερωτήματα που θα μπορούσατε να κάνετε είναι να δείξετε πώς μπορούμε πλέον να φέρουμε όλους τα ροκ κομμάτια απλώς ζητώντας όλους τους individuals που έχουν type RockSong, αντίστοιχα με τα ποπ κομμάτια και την έννοια PopSong, και τέλος να δείξετε πως εάν φέρετε όλα τα κομμάτια τότε έχουμε σαν απάντηση την ένωση των υποσυνόλων που έχετε δημιουργήσει. Καλείστε με αυτό τον τρόπο να παρουσιάσετε τουλάχιστον 4 αντίστοιχα παραδείγματα κατά προτίμηση να μην είναι ίδιου \"είδους\", δηλαδή να μην είναι όλα απλώς ιεραρχίες. Παρουσιάστε και σχολιάστε στο ακόλουθο markdown τα SPARQL ερωτήματα καθώς και τα αποτελέσματά τους / τι θέλουν να δείξουν.  \n",
    "<!--Στο τέλος αυτού του μέρους να αποθηκεύσετε την οντολογία από το graphDB σε ένα αρχείο KR-Ex3_3.owl το οποίο θα παραδώσετε στο τέλος.--> "
   ]
  },
  {
   "cell_type": "markdown",
   "metadata": {
    "id": "dSaeb9rg7VB1"
   },
   "source": [
    "### Απάντηση 3\n"
   ]
  },
  {
   "cell_type": "markdown",
   "metadata": {
    "id": "0VlbqwMB0fQv"
   },
   "source": [
    "### Μικρό tutorial GraphDB\n",
    "\n",
    "Αφού εγκατασταθεί και τρέξει η free έκδοση του GraphDB, θα ανοίξει ένα παράθυρο στο browser, στη διεύθυνση http://localhost:7200/ . Φτιάχνετε ένα repository, στο ruleset επιλέγετε OWL 2 RL. Πάνω αριστερά πατάτε Import->RDF upload RDF files και ανεβάζετε δύο αρχεία:\n",
    "- Το ```myonto-graphDB.owl``` που είναι η οντολογία που φτιάξατε στο protegé  \n",
    "- Το ```KR-Ex2_1.owl``` που είναι ο γράφος γνώσης με διορθώσεις όπως παράχθηκε στο ερώτημα 1.1.3\n",
    "\n",
    "Στη συνέχεια μπορείτε να πατήσετε αριστερά Explore->Class Hierarchy για να επιβεβαιώσετε πως η οντολογία φορτώθηκε σωστά, και στη συνέχεια με την επιλογή SPARQL αριστερά θα τρέξετε τα ερωτήματα για την επίλυση της άσκησης.  "
   ]
  },
  {
   "cell_type": "markdown",
   "metadata": {
    "id": "UsU62g8V3bpj"
   },
   "source": [
    "## Bonus: Μηχανική Μάθηση και Εμπλουτισμός Οντολογίας\n"
   ]
  },
  {
   "cell_type": "markdown",
   "metadata": {
    "id": "-LJWm_LuUZJj"
   },
   "source": [
    "Σε αυτό το σημείο θα ασχοληθείτε με την εξαγωγή χαρακτηριστικών από κείμενο. Θα αναλύσετε το συναίσθημα των σχολίων των μουσικών κομματιών της καμπάνιας με τεχνικές Επεξεργασίας Φυσικής Γλώσσας και στη συνέχεια θα εμπλουτίσετε την οντολογίας σας.\n",
    "\n",
    "Για την ανάλυση των κειμένων θα χρειαστεί να κάνετε προ-επεξεργασία των σχολίων. Για την εξαγωγή του συναισθήματος θα χρησιμοποιήσετε τον προ-εκπαιδευμένο classifier SentimentIntensityAnalyzer που παρέχει η βιβλιοθήκη nltk.\n",
    "\n",
    "Τα βήματα για την διαδικασία είναι τα παρακάτω:\n",
    "\n",
    "1. Μελέτη των σχολίων\n",
    "2. Καθάρισμα των σχολίων από θόρυβο \n",
    "3. Καθάρισμα των σχολίων από λέξεις οι όποιες δεν προσφέρουν σημαντική πληροφορία (π.χ. άρθρα, συνδετικές λέξεις κ.ά.)\n",
    "4. Αναγωγή όλων των λέξεων σε μια βασική μορφή\n",
    "5. Ανάλυση συναισθήματος των σχολίων"
   ]
  },
  {
   "cell_type": "code",
   "execution_count": null,
   "metadata": {
    "colab": {
     "base_uri": "https://localhost:8080/",
     "height": 425
    },
    "executionInfo": {
     "elapsed": 880,
     "status": "ok",
     "timestamp": 1651589725752,
     "user": {
      "displayName": "Βασίλης Λυμπεράτος",
      "userId": "05342196998447166776"
     },
     "user_tz": -180
    },
    "id": "Uy9C9FAAZfxw",
    "outputId": "cdb66d53-cebc-44d0-c7d0-9a28753fcd21"
   },
   "outputs": [],
   "source": [
    "import pandas as pd\n",
    "import numpy as np\n",
    "\n",
    "#διαβάζουμε τα δεδομένα\n",
    "songs_comments=pd.read_csv('/content/comments.csv')\n",
    "songs_comments = songs_comments.fillna(\"\")\n",
    "print(songs_comments.shape)\n",
    "songs_comments.head(10)"
   ]
  },
  {
   "cell_type": "markdown",
   "metadata": {
    "id": "OfWgNFpMNaa6"
   },
   "source": [
    "Θα χρησιμοποιήσουμε την βιβλιοθήκη nltk της python η οποία παρέχει έτοιμες συναρτήσεις και πακέτα για την επεξεργασία και την ανάλυση κειμένων. Για την εγκατάσταση της βιβλιοθήκης (αν αυτήν δεν είναι εγκατεστημένη ήδη στο περιβάλλον μας) τρέχουμε την εντολή:\n",
    "\n",
    "\n",
    "```\n",
    "python3 -m pip install nltk\n",
    "```\n",
    "Η συγκεκριμένη βιβλιοθήκη όπως θα δείτε και παρακάτω περιέχει αρκετά έτοιμα δεδομένα όπως τις συνδετικές λέξεις κάθε γλώσσας κ.ά. Αυτά τα δεδομένα όμως δεν έρχονται μαζί με την εγκατάσταση της βιβλιοθήκης. Για να τα κατεβάσουμε τρέχουμε:\n",
    "\n",
    "```\n",
    "import nltk\n",
    "nltk.download([\"stopwords\", \"vader_lexicon\", \"wordnet\", \"punkt\"])\n",
    "```\n",
    "\n",
    "\n",
    "\n"
   ]
  },
  {
   "cell_type": "code",
   "execution_count": null,
   "metadata": {
    "colab": {
     "base_uri": "https://localhost:8080/"
    },
    "executionInfo": {
     "elapsed": 3494,
     "status": "ok",
     "timestamp": 1651589739487,
     "user": {
      "displayName": "Βασίλης Λυμπεράτος",
      "userId": "05342196998447166776"
     },
     "user_tz": -180
    },
    "id": "8GdpJkybNaa8",
    "outputId": "04d750d2-8d4f-407d-fdb5-257081f0cb03"
   },
   "outputs": [],
   "source": [
    "import nltk \n",
    "import re\n",
    "from nltk.tokenize.toktok import ToktokTokenizer\n",
    "from nltk.stem import WordNetLemmatizer\n",
    "from nltk.corpus import stopwords\n",
    "from wordcloud import WordCloud, STOPWORDS\n",
    "import matplotlib.pyplot as plt\n",
    "\n",
    "\n",
    "nltk.download([\"stopwords\", \"vader_lexicon\", \"wordnet\", \"punkt\"])"
   ]
  },
  {
   "cell_type": "markdown",
   "metadata": {
    "id": "tV3lBv1uNaa9"
   },
   "source": [
    "Τα σχόλια που θέλουμε να αναλύσουμε μπορεί να περιέχουν και πληροφορία την όποια δεν χρειαζόμαστε. Για αυτό πριν την επεξεργασία των σχολίων οι χαρακτήρες αυτοί πρέπει να αφαιρεθούν. \n",
    "\n",
    "Για την αφαίρεση των υπόλοιπων χαρακτήρων έχουμε κατασκευάσει εμείς αντίστοιχες συναρτήσεις. \n",
    "\n",
    "Για παράδειγμα στο δικό μας Task δεν μας ενδιαφέρει αν τα γράμματα είναι πεζά ή κεφαλαία όποτε επιλέγουμε εμείς να γίνουν όλα πεζά. Επίσης μπορεί να μην μας ενδιαφέρουν οι ειδικοί χαρακτήρες ή οι αριθμοί  όποτε και αυτό μπορούμε αν θέλουμε να το αφαιρέσουμε με την συνάρτηση `remove_special_characters()`.\n",
    "\n"
   ]
  },
  {
   "cell_type": "code",
   "execution_count": null,
   "metadata": {
    "executionInfo": {
     "elapsed": 18,
     "status": "ok",
     "timestamp": 1651589739490,
     "user": {
      "displayName": "Βασίλης Λυμπεράτος",
      "userId": "05342196998447166776"
     },
     "user_tz": -180
    },
    "id": "FVm9qleQNaa-"
   },
   "outputs": [],
   "source": [
    "def lower_text(text):\n",
    "    '''\n",
    "    Συνάρτηση αλλάξει μετατρέπει όλους τους χαρακτηρες σε πεζα\n",
    "    '''\n",
    "    return text.lower()\n",
    "\n",
    "def remove_special_characters(text, remove_digits=True):\n",
    "    '''\n",
    "    Συνάρτηση που αφαιρεί ειδικούς χαρακτήρες ή και τα γραμματα αν θέλουμε\n",
    "    '''\n",
    "    pattern=r'[^a-zA-z0-9\\s]'\n",
    "    text=re.sub(pattern,'',text)\n",
    "    return text"
   ]
  },
  {
   "cell_type": "markdown",
   "metadata": {
    "id": "kieqUUGtNaa-"
   },
   "source": [
    "Οι παραπάνω συναρτήσεις αφορούσαν το πρώτο στάδιο της προ- επεξεργασίας του κειμένου, το οποίο είναι και το πιο απλό. Στο δεύτερο στάδιο, θα ασχοληθούμε με τα πιο ουσιαστικά βήματα της προ-επεξεργασίας. Αυτά αφορούν την αφαίρεση των λέξεων που δεν περιέχουν ιδιαίτερη πληροφορία όπως οι συνδετικές λέξεις και την κανονικοποιήση των λέξεων σε μια βασική μορφή με την αφαίρεση των καταλήξεων τους.\n",
    "\n",
    "Για την αφαίρεση των stopwords θα χρησιμοποιήσουμε την βιβλιοθήκη nltk η οποία μας παρέχει μια πλήρη λίστα με όλες αυτές τις λέξεις για διάφορες γλώσσες. Τέλος για την κανονικοποιήση των λέξεων παρέχουμε 2 συναρτήσεις που χρησιμοποιούν την PorterStemmer και WordNetLemmatizer της ίδια βιβλιοθήκης. \n",
    "\n",
    "Περισσότερες πληροφορίες για την λειτουργία των μεθόδων αυτών μπορείτε να βρείτε [εδώ](https://www.tutorialspoint.com/natural_language_toolkit/natural_language_toolkit_stemming_lemmatization.htm).\n"
   ]
  },
  {
   "cell_type": "code",
   "execution_count": null,
   "metadata": {
    "executionInfo": {
     "elapsed": 540,
     "status": "ok",
     "timestamp": 1651589741931,
     "user": {
      "displayName": "Βασίλης Λυμπεράτος",
      "userId": "05342196998447166776"
     },
     "user_tz": -180
    },
    "id": "Et6_A4fbNaa_"
   },
   "outputs": [],
   "source": [
    "tokenizer=ToktokTokenizer() #για σπάσουμε το κείμενο σε tokens\n",
    "\n",
    "stopword_list=nltk.corpus.stopwords.words('english') # η λίστα των stopwords\n",
    "\n",
    "#removing the stopwords\n",
    "def remove_stopwords(text, is_lower_case=False):\n",
    "    tokens = tokenizer.tokenize(text)\n",
    "    tokens = [token.strip() for token in tokens]\n",
    "    if is_lower_case:\n",
    "        filtered_tokens = [token for token in tokens if token not in stopword_list]\n",
    "    else:\n",
    "        filtered_tokens = [token for token in tokens if token.lower() not in stopword_list]\n",
    "    filtered_text = ' '.join(filtered_tokens)    \n",
    "    return filtered_text\n",
    "\n",
    "def stemmer(text):\n",
    "    words = nltk.word_tokenize(text)\n",
    "    ps=nltk.porter.PorterStemmer()\n",
    "    text= ' '.join([ps.stem(word) for word in words])\n",
    "    return text\n",
    "\n",
    "lm = WordNetLemmatizer()\n",
    "def lemmatizer(text):\n",
    "    words = nltk.word_tokenize(text)\n",
    "    text= ' '.join([lm.lemmatize(word) for word in words])\n",
    "    return text"
   ]
  },
  {
   "cell_type": "markdown",
   "metadata": {
    "id": "rccfsAf2NabA"
   },
   "source": [
    "Όλες οι παραπάνω συναρτήσεις δέχονται σαν είσοδο ένα κείμενο και επιστρέφουν ένα κείμενο. Έτσι με τον τρόπο αυτό μπορούμε να κατασκευάσουμε μια αλυσίδα ενεργειών που θέλουμε να εφαρμόσουμε σε ένα κείμενο. H παρακάτω συνάρτηση δέχεται σαν είσοδο ένα κείμενο και μια λίστα με συναρτήσεις και τις καλεί σειριακά δημιουργώντας ένα pipeline προ-επεξεργασίας του κειμένου."
   ]
  },
  {
   "cell_type": "code",
   "execution_count": null,
   "metadata": {
    "executionInfo": {
     "elapsed": 3,
     "status": "ok",
     "timestamp": 1651589768074,
     "user": {
      "displayName": "Βασίλης Λυμπεράτος",
      "userId": "05342196998447166776"
     },
     "user_tz": -180
    },
    "id": "I2POriwOa9NN"
   },
   "outputs": [],
   "source": [
    "pipeline = [lower_text,\n",
    "            remove_special_characters,\n",
    "            remove_stopwords,\n",
    "            stemmer, \n",
    "]"
   ]
  },
  {
   "cell_type": "code",
   "execution_count": null,
   "metadata": {
    "executionInfo": {
     "elapsed": 2,
     "status": "ok",
     "timestamp": 1651589768525,
     "user": {
      "displayName": "Βασίλης Λυμπεράτος",
      "userId": "05342196998447166776"
     },
     "user_tz": -180
    },
    "id": "9UG8iZAKNabA"
   },
   "outputs": [],
   "source": [
    "def preprocess_text(text, pipeline):\n",
    "    '''\n",
    "    Η συνάρτηση η οποία καλεί όλες τις μεθόδους του pipeline ώστε να γίνει\n",
    "    η σωστή προεπεξεργασία του κειμένου εισόδου\n",
    "    '''\n",
    "    for method in pipeline:\n",
    "        text = method(text)\n",
    "    return text"
   ]
  },
  {
   "cell_type": "code",
   "execution_count": null,
   "metadata": {
    "colab": {
     "base_uri": "https://localhost:8080/",
     "height": 36
    },
    "executionInfo": {
     "elapsed": 26,
     "status": "ok",
     "timestamp": 1651589768933,
     "user": {
      "displayName": "Βασίλης Λυμπεράτος",
      "userId": "05342196998447166776"
     },
     "user_tz": -180
    },
    "id": "OyJi6O5lNabA",
    "outputId": "97e69831-b12f-4d15-fc11-7846af7fd08f"
   },
   "outputs": [],
   "source": [
    "original_text = songs_comments['comment'][0]\n",
    "original_text"
   ]
  },
  {
   "cell_type": "code",
   "execution_count": null,
   "metadata": {
    "colab": {
     "base_uri": "https://localhost:8080/"
    },
    "executionInfo": {
     "elapsed": 15,
     "status": "ok",
     "timestamp": 1651589770711,
     "user": {
      "displayName": "Βασίλης Λυμπεράτος",
      "userId": "05342196998447166776"
     },
     "user_tz": -180
    },
    "id": "FQ2b9MjaNabB",
    "outputId": "d8e587a4-d15a-4131-a43f-f8d965826958"
   },
   "outputs": [],
   "source": [
    "new_text = preprocess_text(original_text, pipeline)\n",
    "print (new_text)"
   ]
  },
  {
   "cell_type": "markdown",
   "metadata": {
    "id": "pPNVdaMiNabB"
   },
   "source": [
    "Στο παραπάνω παράδειγμα, στην μεταβλητή pipeline αποθηκεύονται με τη σειρά οι συναρτήσεις που θα κληθούν σε κάθε βήμα της προ- επεξεργασίας. Από τα παραπάνω μπορείτε να αλλάξετε τη σειρά των βημάτων, να αφαιρέσετε κάποιο από τα βήματα (εμείς π.χ. δεν έχουμε χρησιμοποιήσει την lemmatizer) ή να προσθέσετε κάποιο δικό σας βήμα (απλά να θυμάστε ότι η συνάρτηση πρέπει αν δέχεται σαν όρισμα αλλά και να επιστρέφει μόνο ένα κείμενο). \n",
    "\n",
    "Στο παραπάνω παράδειγμα βλέπουμε ότι π.χ. το something έγινε someth, το is αφαιρέθηκε κ.ο.κ. Έτσι μπορούμε ευκολότερα να ψάξουμε για λέξεις κλειδιά μέσα στα βιογραφικά ώστε να κάνουμε πιο εύκολη τη δουλειά της ομαδοποίησης. "
   ]
  },
  {
   "cell_type": "markdown",
   "metadata": {
    "id": "AgwN1Q7wRiiz"
   },
   "source": [
    "Για την εξαγωγή του συναισθήματος θα χρησιμοποιήσετε τον προ-εκπαιδευμένο classifier SentimentIntensityAnalyzer που παρέχει η βιβλιοθήκη nltk.\n"
   ]
  },
  {
   "cell_type": "code",
   "execution_count": null,
   "metadata": {
    "colab": {
     "base_uri": "https://localhost:8080/"
    },
    "executionInfo": {
     "elapsed": 656,
     "status": "ok",
     "timestamp": 1651589776161,
     "user": {
      "displayName": "Βασίλης Λυμπεράτος",
      "userId": "05342196998447166776"
     },
     "user_tz": -180
    },
    "id": "czYWg4cXVX22",
    "outputId": "9b0bd789-df83-43c6-c835-ee77abb37833"
   },
   "outputs": [],
   "source": [
    "from nltk.sentiment.vader import SentimentIntensityAnalyzer\n",
    "sia = SentimentIntensityAnalyzer()\n",
    "for comment in songs_comments[\"comment\"]:\n",
    "  comment = preprocess_text(comment, pipeline)\n",
    "  print(sia.polarity_scores(comment))"
   ]
  },
  {
   "cell_type": "markdown",
   "metadata": {
    "id": "oPdDjNSRaDY_"
   },
   "source": [
    "Η παραπάνω μέθοδος δέχεται σαν είσοδο ένα κείμενο και επιστρέφει ένα dictionary με τις παρακάτω τιμές:\n",
    "\n",
    "1. neg: πόσο αρνητικό είναι το κείμενο\n",
    "2. pos: πόσο θετικό είναι το κείμενο\n",
    "3. neu: πόσο ουδέτερο είναι το κείμενο\n",
    "4. compound: αν το κείμενο είναι πολύ θετικό ή αρνητικό. Δηλαδή αν η τιμή αυτή είναι 1 τότε το σχόλιο είναι πολύ θετικό αλλιώς αν είναι -1 πολύ αρνητικό.\n",
    "\n",
    "Οι 3 πρώτες τιμές αθροίζουν στο 1. \n",
    "\n",
    "Με βάση αυτές συλλέγετε τα θετικά και αρνητικά σχόλια των χρηστών. Όπως είναι λογικό, μπορεί κάποια σχόλια να είναι αρκετά ουδέτερα και να μην παρέχουν κάποια πληροφορία. "
   ]
  },
  {
   "cell_type": "code",
   "execution_count": null,
   "metadata": {
    "executionInfo": {
     "elapsed": 383,
     "status": "ok",
     "timestamp": 1651589777955,
     "user": {
      "displayName": "Βασίλης Λυμπεράτος",
      "userId": "05342196998447166776"
     },
     "user_tz": -180
    },
    "id": "mYgI6GLNZiNq"
   },
   "outputs": [],
   "source": [
    "negative, positive = [], []\n",
    "for comment in songs_comments[\"comment\"]:\n",
    "    comment =  preprocess_text(comment, pipeline)\n",
    "    scores = sia.polarity_scores(comment)\n",
    "    if scores[\"neg\"] > scores[\"pos\"]:\n",
    "        negative.append(comment)\n",
    "    else:\n",
    "        positive.append(comment)"
   ]
  },
  {
   "cell_type": "markdown",
   "metadata": {
    "id": "-krv3OjBbd1d"
   },
   "source": [
    "Το παρακάτω κελί κώδικα φτιάχνει ένα wordcloud στο οποίο εμφανίζονται οι λέξεις που εμφανίζονται περισσότερες φορές στα σχόλια. Το μέγεθός τους εξαρτάται από τον ρυθμό εμφάνισής τους για την επίβλεψη της ταξινόμησης. Έτσι μπορείτε να φτιάξετε ένα wordcloud με τις πιο συχνές λέξεις των θετικών και των αρνητικών σχολίων. "
   ]
  },
  {
   "cell_type": "code",
   "execution_count": null,
   "metadata": {
    "colab": {
     "base_uri": "https://localhost:8080/",
     "height": 625
    },
    "executionInfo": {
     "elapsed": 2968,
     "status": "ok",
     "timestamp": 1651589783249,
     "user": {
      "displayName": "Βασίλης Λυμπεράτος",
      "userId": "05342196998447166776"
     },
     "user_tz": -180
    },
    "id": "AnYctg9-afud",
    "outputId": "229ea4d2-4700-49b0-d9fd-0b80006e3b98"
   },
   "outputs": [],
   "source": [
    "def draw_word_cloud(list_of_texts, background_color = \"white\", stopword_list = stopword_list):\n",
    "    wordcloud = WordCloud(width = 800, height = 800,\n",
    "                    background_color = background_color,\n",
    "                    stopwords = stopword_list,\n",
    "                    min_font_size = 10).generate(\" \".join(list_of_texts))\n",
    "    \n",
    "    plt.figure(figsize = (8, 8), facecolor = None)\n",
    "    plt.imshow(wordcloud)\n",
    "    plt.axis(\"off\")\n",
    "    plt.tight_layout(pad = 0)\n",
    "    \n",
    "    plt.show()\n",
    "\n",
    "print (\"Wordcloud θετικών σχολίων\")\n",
    "draw_word_cloud(positive)"
   ]
  },
  {
   "cell_type": "code",
   "execution_count": null,
   "metadata": {
    "colab": {
     "base_uri": "https://localhost:8080/",
     "height": 625
    },
    "executionInfo": {
     "elapsed": 2343,
     "status": "ok",
     "timestamp": 1651589785570,
     "user": {
      "displayName": "Βασίλης Λυμπεράτος",
      "userId": "05342196998447166776"
     },
     "user_tz": -180
    },
    "id": "xUzgwynva6L0",
    "outputId": "9eff6309-679b-44fc-ff07-47f8f7e1205f"
   },
   "outputs": [],
   "source": [
    "print (\"Wordcloud αρνητικών σχολίων\")\n",
    "draw_word_cloud(negative, \"black\")"
   ]
  },
  {
   "cell_type": "markdown",
   "metadata": {
    "id": "eldL5FhBcCjH"
   },
   "source": [
    "Όπως είναι λογικό σε αυτά περιέχονται μερικές κοινές λέξεις όπως music αλλά για κάθε μια από τις 2 κατηγορίες υπάρχουν χαρακτηριστικές λέξεις όπως like, cool, relax, happi κ.α. για τα θετικά και sad, bore, weird, murder κ.α. για τα αρνητικά.\n",
    " "
   ]
  },
  {
   "cell_type": "markdown",
   "metadata": {
    "id": "uDwEEFf64YDN"
   },
   "source": [
    "**Ζητούμενα:**  \n",
    "Καλείστε να αξιοποιήσετε την πληροφορία που εξαγάγατε από τα σχόλια και να εμπλουτίσετε περαιτέρω τον γράφο σας (π.χ. αν ένα μουσικό κομμάτι αρέσει ή όχι). \n",
    "Στη συνέχεια καλείστε να εμπλουτίσετε σημασιολογικά την οντολογία σας, με βάση την πληροφορία που προσθέσατε στο γράφο, φτιάχνοντας νέες έννοιες και αξιώματα σημασιολογικά συνεπή. \n",
    "Τέλος καλείστε να εκτελέσετε 3 SPARQL ερωτήματα που θα αναδεικνύουν την χρησιμότητα των νέων εννοιών και αξιωμάτων."
   ]
  },
  {
   "cell_type": "code",
   "execution_count": null,
   "metadata": {
    "id": "0A0rFX_LMysg"
   },
   "outputs": [],
   "source": [
    "# Απάντηση Bonus"
   ]
  },
  {
   "cell_type": "markdown",
   "metadata": {
    "id": "1bXbHhPyHrua"
   },
   "source": [
    "## After exercise suggestions:"
   ]
  },
  {
   "cell_type": "markdown",
   "metadata": {
    "id": "2LDYYzjpJI3P"
   },
   "source": [
    "### Composers of the exercise:"
   ]
  },
  {
   "cell_type": "markdown",
   "metadata": {
    "id": "gbL2UpW1HzaE"
   },
   "source": [
    "#### **Nino Rota**\n",
    "![image.png](data:image/png;base64,iVBORw0KGgoAAAANSUhEUgAAAVQAAAFUCAIAAAD08FPiAAAgAElEQVR4AaTd2ZOk2XkX/qyqzMo9q7L2XqanRx7JC4RBEYYIIghuuOAf4ooLw//APddAEBAQYRsmJGTZEraFxh5JyNJImq2nu7r2qtzXyvpF92f4+qV6JIsfdZHxVub7nvecZ/k+y3nOOWu3t7elL/ubz+dra2vrr//uXv/d3t7e3d1Vq9Xb29vlcrlarUqlknvW1taWy+XG67+1tbW7u7vVanV3d6fh+Xy+WCxWq9X6+vrGxsba2lqpVJpOp6vVSlOLxSINXl5e9nq90Wg0HA7Pzs7Oz8/Pzs5OTk4Gg8F4PL65uRmNRre3t2tra6vVarlc5i33BuEtpVLJDflcX1/X53S+XC5vbGyUSqX667+NjY1KpbK3t/f06dOHDx++++67T58+rdVqW1tb29vb6+vrm5ubi8Wi1Wqt/e+/4qtXq5VXe5FbdEMf/Brq3d3dhYZuQ7o8qHEsyGBD4bu7u42NjfX1dXx0m6F5kUdWr/82NjbK5fJqtVosFqVS6fb138bGxubm5vr6Onbc3d1tbm5WKpXb29vpdHp7e1upVDY3NxHcW0LAu7u7yI8uedHd3d18Pq9UKuVyeX19vVQqzefz/uu/arU6m82Wy+Xt7e14PO71etPptFQqLZfL0WgU0vV6vVKpVC6XyVWtVtvc3FytVvP5vFwu1+v1yWSyubnZaDTK5fJ8Pp9MJuvr67Va7ebmplarXVxcPHr06OTk5Ojo6OXLl9rZ3NysVqv6Np/PcapcLi8Wi+FweHd3t1gsqtUqQa1UKpPJZDabra2tbWxsoNXd3d36+rou3d3djUaj9fV1ba6trfX7/eVy2Wg01tbWRqPRbDbTt0qlsra2NpvNFotFeI3gOLVcLvVnfX19PB6Xy+VaraYn+R49S6VSelWtVsvl8mw2I2mlUgl/19fX9XOxWOBO+fUf2l5fXzcajVartb6+Xi4KbvE6whex8/B0OoUIpMdrKE9EnBzc3t6SYxeRSOiAmtF5LJnNZuBgPp+Px+N+vz8YDIjg/PUfoYkOaKrY7VznJxf5zA33Lrx3uVyur69XKpV6vd56/Uf0Nzc3y+UyBUAQohNe3mutVCpR73yPJYgQSHIbwvqMVoekacEF4EsfkCI8CmVgClDW7fSHxm5ubmoQHP9vHHsFqVAg8KST0W3KEG7CEZ0P3vmVfI/HYxi9trbWbDbpuVGUy+VKpTKfz5fL5draWrlcvrq66nQ6l5eX1Wp1Pp83m83NzU3CMJ/PWReYAgXAAbEhZtVqtdfrPXz48NmzZ0+fPv3888/39/f7/T4OGnLAy7/L5bLVag0Gg93d3V6vt7GxMRwOW62WbmdQoRvALZVKtVptY2ODOez1eoRzPp/DO2SPwhdRmNawpkVUJSSLxQISoRWtDsHL5fLt7e0r1X39t1gsYlMJOUMbgUc0o4Ds5fIXWv9LlX9jY6MoWKHacrnc3NxkbcgcaSgKh29ovpH4hh3wlPbjLABXDEaC+Xw+nU7n8zlaz+fz2Ww2n89jfCLo+vbmZ9TJRfEGulHUGfAcp4ZUTSYTOmC8IQIGRIaiOaVSCePdGU1G9GI3cp1ni98Uu/ql11gbKMk9b34fFChCcyRJb8M7iBaXKnqOlcgVLPBSahwNKVIAH29vb2ezGTPOaSKsMRvp82g06nQ6V1dXe3t7p6en3W6XIV0ul7PZbLVaUba1tTVt1mo1XV0ulzrjtp2dnc8+++ydd9756U9/+u677758+XJnZ2cwGOgqOjOStKvVal1dXe3v719cXGxvb5+cnABNaBIUNnxORKhKdZev/xCT/UDh5XI5HA6r1WqlUvGN1sgw+6fn3A1jpL00nHisr68XVRorYQ3JjGb50rPG6I2B8nq9TvVWq9UraxbRKV54K657mTsZQL9WKpV0OuaC2xwdSDhAzyOCDI6eIWu1WkX0iBd4c2cElKykY8U+/+pr/Q9k4F/6EzXApLu7u9lsNhwOB4PBZDKpVCrIGhRjrLwxgyX6IalX6GqQgoJ5JCxBz9A5avbmiKJm7GqkULMZlFEwGt7lFRHl6DMPzqtvb283NzeROgbHTxsbG3nERf6NU+NO3y8Wi0qlsrGxQdri0N3d3RGhUqkEFDiS/X6fEr7zzjunp6ePHz8+PT2t1WrxEfSfSeTQ5ptSqVSpVO7u7jDl+fPnX/nKV370ox/9zu/8zo9//OOvfvWrw+GQR4Pg3ohN7Pze3t7x8fHu7u7x8fHW1tZ4PEZ5pEBAlL+9vWXPSqUSq762tjaZTNhhIVWYcnt7G4cxsoG5dCdv8aLb29tqtQqSQCRFjUS5oAIgr9FoRAiNDuNofrlc5rBk4LVaTQdeMeJN8UpbkaQoDCqD21AQMDPdeYfBBN1jOfNiWrS2thYLD0f0Fcsrr//QArahiA4Q91/W/2Kff8U96c9iscC/e37+cDgcjUblcnnz9Z9hRtzzeF5B/kIcLC/KkEeCegQrvXURY5hm37wIXvjJg2kn98d6B1l8gzW5zUXIi/XEHU91O5jifiyLaIZ3GBToqVarbKMwOEmEyWTC2+cXDAaDw8PDs7OzR48eff75551Op9frUR72djKZ8PbjyhpU8Pru7m4ymbRarcvLy4cPH56enu7t7fV6PUmN5XIJNfjzAS/uxoMHDz799NNut3tzc9Nut6PGUMNY1tbWFq//0FleDIqR8CJTELPb7UIlkMFGGgUiB445GomRUTjeAYkSk+Ytr6z367RInJq1tTVaw/hrRG8RjQD75pdafiwPX0PlZIbSD2Qir9hvVMaphSL80AcxJ+CYvf5j5zVbq9Xq9Tp/qejYxIgl1VfsoaFGLl3kBhchXJEu9x7Uq+l0KpxLxCEqYa/4KWk89BHyJZzxfYzSvShO1Fd8e66LLedLVpocBF6Lol9UfiOltForYhBKFoM7XS0qfAbFyulG0hyr1Yo7EGckHgGhlOeLS6JvsQfYzaXS1Pb29tnZWbfb/eSTT7rd7uXlpfSkrhKSSqXSbDbL5TILGWDiFa9WK+6GZjc3N5fLpRBXboIsRe3v7u76/f5isTg6Orq8vHz06NGLFy9ardZkMqnX64hG+RGTraJXwXc5YKnBSJdRQz2KwOWJwZfkDjV0EoNQOEGTGAHO0j6wIuJwmxGRBPnCOC9ra2uwL8geDv5Syx9Ox832Apw28oiLTKxGM4D4jcUWID20wzmoj1ia5eyBVUoe0hgeaYhRLepGruMXxH/JiHKPn6IeqCl1LKfKr0tgiQH8/1qtFoEoKkkaj076FfW8AkFyfe9xMvfLlD/tR7d9U3RGvNpn4mFviQEv3kMt88YiH4to4hEy5DoWglTgiJ6IcqEGjKPht7e38/kcLsjm3N3dTafTRqPR6/VardbJyUlyfuPxOJMRgCDTB8LgdAm7SU76ZkSECgroFQ5m1GYHtra2rq+vd3Z25PyK6hQOJkQyXsRM+3JvUMmQNzc3R6NRrCBXPDZZtjveUwwbhkptoHDmyCgXOusVWQodoAkfFh+9FCn0JGD9S5WfYkQgdMhoNZcu6lm/3w8i6AqUxenIEJ8TURjY29tbDDbOJH7JhCkTnIiWRp8zcp0pfhbfGCXXsS+9jZLEJS6Xy41GY2trC7k5Y4HMUD9InzaNOpY/UOhZHUg7KPZm9+6RPY17r1ekKY8TnYw6I+UQshhBK4KVzgcRgkou4vHGOS++NIKY4XgqSmUOdbVaTSaTEDAZKbYaOozH42azKVHfaDSm02mtVjMZLHfAdtVqNRQjD4y5GS/Isrm5ORgMyuXyzc0N57/b7UKWer1umoDfPp1O+eGdToeZMcWwWCzq9bq8cqANTAfCwq9o73K5NDka+YlPx9SHMovFYjKZDIfDo6MjM1z5CdPDCw51kvnNZhMTk/kr2gwscANp4Vnzo+P7xAIJpjb+1b/6V0XZSotFYQo7I3YY75OIJOrAnjz+ZspBzgbFATlAIh+LxUJdAFqY8PeImK3o8GOP/usk2jEpoSYp1zFZfY9EGUzbiJcajQZRazabW1tb3W63Vqu12+1qtWpSl0xHP3U+hsKzcpZGpGPJiXipfiIO9CQuUJk1QO1knrmXXqTl8DJOFtOU95LF8CIwEbNMmZOjjSBqWc+JhHBdhAnQARxTQ/RHo1GmZpbL5Xg8jrWH737lVYk4hsPhfD43C8AHDDXEBd1uV6QNnSVfggJokvS1TLtqFJ9x1rCP5q+trYkouQ+Z+V8sFpqSqANM0+lUsxCT7hkIpSI8s9kMQZIRFOvFmKE5b594kPNk5nlMHCssQ5A4O2a7MTECVrzfuKrVKs8azq5Wq9lsZt4KnavVaqPRqNfr/4flLzI7iBB1Ci4Uv8lteBaVcA9Z5JIlY6cdwyuCq7xArVabTCbL5RI2i1gMNQpGpkkq+E83cpGxpEt+SucRMdZPZJXH9Vz5R7PZJMR0Vd0FpyD5mEqlQp56vV5ULrpUBKPY5ABoaJU+kxtPFUeNdLk/IyKXfo25zliKcGPU0CHgmFHEsGuKxdNPsXReESFmYfARvGo28yPp/2KxYNKVDG1sbMihoCo7b2jsGGpMJhOepny+pMlqtdrc3JxMJlCPXqlHuri4iH8UN/v29lZBDsKiDDOzXC6r1Wqr1QpVobBkpHonumSmOfN2qYBKMUVsSZGP8g6Z7Q8QUwqz5tFVrkQkliChPOxjG+ha5If+g54E1DJTQVIYhL8hwivlL/Y18pSLe7/m38iWFoKCFFXPvMyA4zWQhmLWEV+ZUK1JDicdknaiq2770s4UO+Y6T4VexQf9ikw6mYhusViY+lJ3peccVOFoMQKiD1rwmey30AZTo3KkDd5H8nQs1PN9vix+n2FqkPq5/55DlOF7xCiCRwEaKkd6IiWB3QQO98ClWq3yn9PV3IChbCkcJIJxvnQs+pCscHAZBCfLAKRwB904g8nDhQjFjA9rD741aHT6ubm5WSwfjFP95rQCOqsjhCZm5tT8GYV7ooHqOzjwXmrIaE540EeRHyQi22ET0il4KcabbmO0BPnF9/IaQDOxUVLVaDTAxCvHKoJFMqIVxe9d6wSiR/JcGHO+JCjupNhpTT+4OnF0i/g0Go0IkzjT42obi/CRapx7r04fih0r3lNUjHtaEWoiqK4yU6n/I0MqOrGz6HNmQqiITZRKH8L7QCSqFrtdBAISoM/Me34tDtCXGWbaNAQd0FtP+b5oqI3rS5mr8TALIkeUSTatjveUf6PYKKNklUGjyZot+jiGjICeinoQjFqtVqlU1tfXG40G662R+Xwu4PdSmcW0nwpl7evDxsZGo9FQHG1Ox1ygYIGKFkMw2fvZbBZ4KlIyTPcl7EsGLiqQV5uTgx3oGRyJZOpDsqRYqUvY7TqGM31IC1DAS5WupfP/h9tfFMHitdd4hnwURdCvYv5IGIZ5BMTmldALlaGAiCBviVDqcWIeN2R44WKxq/euPZIHI1JB0HxDXpEMgpKhwWCwsbGxvb3daDRMMsnZpEhe43G9TPkYgs/UtBT5oZ/3yBj5oAy5x0W0IrqdG7RcbD/UjvoxmKFeXp0hsx7cS7/6TLPBIMzFHeaalrp2PzThkNMW0/uRkyL7xOfQLcibHt678ODGxkaz2VwsFv1+f7VamZmz7oPAcB5LpZKSfk9BnOi2SYdiEIS2SWBFdON9CKFFowoNqTcECdbQRo4JZ8GckSi1UqlIWxQpKR95fX0trxGxx2UGEhNRuHgNbiLVQAQFsIk9VoyEwq9eZ7QkmMREH6LJXh9F8khYkmdzP4HTTjKiehYRlAHWSOyq2mGBUApFNjc36/W64VGPKFX0QQ+/9DOy69niWDJS3Ui3YyqXy+XV1dV0Op3NZoPBoNls1mq1Vqul5rzZbHY6nXa7XXSu7hlPJI21LKp3WFUkrOv8FPdVt4GC3ob+RhHCGoUHo4fuMS4PxkOO3qaF3FDU9lT4GWBUl1CSMKKfeg3ZOKqV+a1i9yQaaYjZ4jh3OiwVh91upr3T6VR21k/Iy4v2jcdDhPX1dW5zQgDKYDXR3d1dpVJpNBryFIav6ItCxt66k52IP1Is4yPtkUPpgGK6hDx4e7ADMb3XG2l+PAh8Lw4tDAWvERtdReSoDFox+/V6XV7z1ZqoaGx6/Csuouc6GomMtpC23JaMUfoEOBKARQShFBQgjhEy6JsAiRSmvCSu5r1ux/SFLrkhcBAJc+FzuVxOJhN5u+FwyMKLQawn29nZ6Xa7e3t7W1tbB6//tre3a7UahhlpCBLDGH4Eg3yjV+4P+OqhO9NU7oxyptsuik/lp6KyIYXPe6UT+GImpShzYIhuYxaB0Ye8EXDgFCOJ9b4JTQIBebxSqUQhoQDbGAeTjsUdiGhNJhOqKHk0Go3Mt1l2QT/NvJgssPotume86Q/QEcLEL9DtiCj6q1/KBIF7tKP/UVQ6H18DKVAvSQoERz1k73Q6xsj4gc647tgKZL36XgJFJ+OMxBcLUxIvvxqIuyNYEaPi98VfiyiV72PZ9DuSV6R15IOeQ3oUiatZKpUsrmQ9aPhsNhuPx6prTSlJ+SLWm/188xucvje0e121Mix2ezgcXl9fJ2WNZ3Cd8X/48KFSqq2traOjo7feeuvx48c7Ozvb29ucunq9XkQEfQhoUhsa4jpicc878GsRKQz8Xv/TcnH4AZqiDfRgLHlRmSP3+IKt0YEY9ryao56nCHqSnaaaPJ5pMJ13p1dLfwi5ZdRhDX41Gg3JMG+XtaLh4/EYLxaLxc3Nze3tbb1et3JWSU+j0UipPArElw76dDodyLJarabTKUzhexKzlJkxvKPRqNFoWM+7XC5fTZiVy+YdDIryhwjWLCaNj3QIGx3WK9oe1AM6foKANAgchLMiFDegbTBamsM0eRwlk7Wk8YuEX1Fdo9JFMcoNMQV+RcS8AKf1MuOEF7Eqeo9z6+vrtI5vP5vNdnZ2zs7OLOdqNBq1Wq3RaGRtX+wYuUmyJF0tyqU+xwXwbDqMRu6nhKavNcXPN1hcz51cg+vr62R05I3a7XatVvvKV77SarUePnz4zjvvvP322wcHB7u7u61Wi4ljIpAeP7Ie25JvSWblg8yLNdRCRBMKGaOu+pcnGcYnSx8ZikdNRulPEZ3ZBBNvQaIAk4jM1Pfa2pr+UJvJZCIVh1BytObGsb5Wq1GkjY0NNvme31GpVDhZrVZrNpulAod4yOopj80a3mq1SkVxrdVqqcyh9rI25XK52Wze3t72+325umLOXL5Nl5Lx4UWbuL26umq1WpmJbDQa19fXyQdZIaOGp1wut1qtm5sbxd38eVRC9o2NjSxGMll4fn6eJAgFrlar2rQLgDzIYrGgIClnNhcu2lKJjA6J8Ml5ljzW63Wjm06nNi+gpK/+jdr8mhdFE0S7MDimLI5uwCmyXjR0jUZD+qHZbF5cXDx//rxSqTx8+PDy8tJ8TDy32us/WkG8ijh3TxPujSJWNELshvSN9Offe48HPop21bUtKDxIICwE/OY3v2n2qFqtNpvNJ0+efP3rX/+d3/mddrv99a9/fW9vL0sDptPp9fW1zS0CmgkyYSXjgKSwpjje4jVbHUQLxvGqUJ75ZVezIi0eWfhYJEJe4bbQ081Fbxxr8qwEmNsQGaDkG8UwNJZi67M35jbPcm5jIdXwAxSTc3FVMJoNpDlpFpvSMiMU5YyUxh/Z2dmxvvjZs2d7e3s3NzdmGWgj2RiPx3h0c3OzWCwyaygMEcIYURQnFj5yXoRaIFgcFMdKbrLZbA6Hw2azeXNzs7W1lUxnxpJFhOxEq9Uaj8dbW1uj0UjloohbzdWvq/xfqh7IipoZWyaxfH8vIcFAsXKj0ciSz9FodHFxUalUrKZCHUipPjGTIt4Y9nxpryJ/LiKv4UG+0U5E896DeZwkYbbRiUporE9yeXd3V6/X1QVubGyMRqOf/exnn3322Te/+c3f+I3f+N73vvfkyZPf+I3f+NrXvlar1ZbL5e7ubkYUR5GXG3EnzQQX6qWfxeHfU/5woQjQUQNqo1QxLoPWou33Lvwb0lF7JitRLoDgjln4FHLFm51Op+iZCJ/yFPuJpIAMCAKs+AvAAh3cFlG0aYfo/Z5D6n44yE5KE+h/kZgm2Obzebfbffbs2cOHD604gsK2mSj6PsrVCbPdR5QAuV+8fQ9kMVQ3XKNA0Uol/BF+1uv1m5ubvb29s7OznZ0dFVN+AvFUOjmOra2t4XC4vb19eXl5dHQkjZUlwK8ympGkX3ZxjyhvqgqxiKy4Ibfd+7UYfHY6Hdas1Wp97WtfG4/H19fX5BL1LeSCYSSGa+r6TUtYHAIg901ENl9mUPd6W2zBdXFc95Qn5lpr4E84t7+//9WvfnVra+vq6uqjjz56+fLlt771raurq7/8y78cDAZ/7+/9vX/2z/7Zb//2b29ubqr/YSe1I63t7SQmAkFRM6h7fSt2PgYwWufmIka4XxSQ6CDAWmyNXCZGpdJ5vBgcFR2EgGM6w2InDE6qiDOPoSQkQQrlj2KggHUfTEK292Iz7hW6ZXkY7gQpdJ6eZBovcnJ7ezuZTLrdbr/f397eHo1GOzs74/G42+32er2Al0lEMN3pdCJLxSHkjYiQpJKciy99km2Y4hXMOPu3vr4+Go12d3dPT0+Pjo4uLi4ODg4CvhEMfVhfX2+1Wre3tw8fPvzkk08ODg6urq44MpkyfDXqf/kv/+U9Nocuxe9Dl1iqoq8SlykjjH8e5fcTLEx4icrr6+vtdnt9fX04HGb3nuVy2ev1+v3+6PXffD4fvv4TXhIUvSr2M9dFT0QfokhF+U738uC9i+JTXucRgVacRokocjAYDK6vr20Otbu7u7e3d3R0tLW1NZ/Pr6+vh8PhT3/60/fee+/Zs2f7+/vWpcgbMYYmO4orz+L23+sblSh+WaS/YTLRmSuhtyphkaiYphKuh7NajlHlynmFn5Jz4UTEBUj4nbggq6S5PArm9V9IbxOedCaDCtAXiU9pY2AMipolre1BkgZhyQwPuQjc8bkiTobcbrfFnpTZjiDCPWiliGBtbc3q77QfiqEzgUn/qUayDMy71Kl6ZxOE5jLQQazebrevrq5sefDgwQOe/Hg8TsDlFT7X19d3d3cvLy+73e7Lly8fP37s/iJS/y3Kn+ZcRNqKEnBPl0LW9KmoYOBZzmwymUjtzGYzhX3VanU4HLIwtkAajUbj8dhOfqPRSNk/vuI9lkdWchHl9/bocLEzRnFvLGnBRe7J976xdWTKKnPx8OHD1Wo1HA5vXv8NBgMLs1ar1dtvv/3uu+/W6/XxeLxYLM7Ozv77f//v4/H47Ozs7u5OapNnW9wKKibLdGMYgRf517iKrMWX7JaTgJ9oqk2gCZ6iwIxJBuvmfEZSvTcGJ9E4w2L5A9boGD9cubQFKl4tNyaKjvJwTwCBsDGhpVEQLQ58lFltjAm2VB8EyFJBFIyIwXczDScnpHQ2m3U6nfPz8729PfteClRT9Jn5c2KZ0mBDBuUpUQk1/EoqvE4nDT8dyCqyLOiaTqe7u7sXFxdHR0f9fn9ra4ulRBM8ynhtQLq1tXV6enpwcNDv9/f29kwZxqv6293+ohyk6eKX3mpIUZWiUMYdChjbLopLZuWD9RsSoUgJGikDdEiqFpniNKYzxQs2h4bcc0zyr/v1PB0uNpKQ1Ze5x1atRSMTyliSRHvZ/16v12w2Hz9+fH19/du//dv/6B/9o6urqw8//PCTTz757LPP/vW//tcHBwe/9Vu/9Q/+wT/4vd/7vXfffbfb7SZtA0kjN0nRR/N16UtJUeQIyifq0duIS3CBjoUCbvBl4tLEEV4Nm4pQ6y3uT4NkwI5XpjzMZVjhV9R2jxTHFaEqcipl44YGv2zBTOu0k2QBz8Jt2okly9tjrqRdqtXq6enpw4cPj4+PHz9+fHV1lZS79XPmPsQyVvWhQ/AIrISe3si2Fd0W15ieOB+ywCyrDxuNRr/ft9dQt9u12TFnM2+MCzafz+UIDg8PZQeHw2Gj0RiPx17xyhks9uxLryMiul4cT1E4aGnYU2ReqOwCrZV8Bu1qtRprqWZDUR0HOEu+Yx+kSSLBv6zb+T66kYt0iWDlzjcvyBamGhThxjDiEt/y7u7u/Pyck4kNpnNwaGdn5/Hjx7u7u41G42tf+9p0Ov3+97//7//9vz87O/v2t78tNfhP/+k//d3f/d29vT16zrgxREmJ6zzih84u/FQUbguTJJaBSKrQPJKCPMHFmy14UXKNiboDSYxVUU40kpoZGCp6t1pODy01Ne+g1CfpvaBJ4ANrsCNMiZ3M8tVarWY7luQRYbR/NYuDSXbICyrUkz9bLBbs6u7u7mg0kjnrdDrHx8fZetC0nMWIZungXXGhrvm2e5ShqEV+cTpEjtkXvEhDwmY2wS5D0+l0Y2NjOp22Wi3iAYPMR3jFdDpVz9dut0ej0ebm5mw2s7zCVMsrtx8pQ2UCjayu7/laYUNRUDKldC8AS3JV3k63SqWSbHCj0bBoYTabKeDp9XqswWw2u7m5OT09HY/HnU5nPB7P5/PRaJR4Uof1s2gcXGcULqIPwV2jCOqnhQxKnAxi3FxECgbQ4zCF52/2xQ4W+LG1tfXgwYOPPvpI/v83f/M333333WfPnlWr1b29vd/93d+dTqdnZ2fHx8fz+fzy8hI62Dtc2Umz2VQTZilLlt+TKkCuZhMET1//MbAwiKeHFIQM7NKZMEVk4ea4CZSHT1t8IzNA/kINBTD4S2xEBEEx71XMY99rUz9bW1umfsfjsTn5ZrM5nU6toZQTAU80IUViWiYVWJbV+DbwaDabJlDZjHq9Pp1O2+32zc2NoiAECb5zHOwvMhqNDg4OBoNBq9U6Pz+3hNH96Yxqf8pMmE3OqRqyUM80MEsQiZK5MP3BkRmPx+12GyohO8IqZ+YaEEUj2tjYUEMhc7S5uSklQVAVKZB8+NJsNll+ZTUbv//7v685fWaRLVUAACAASURBVCrKd3qJ5TEU0YTcgAH0kPK7OeuiMIxesZO8erus3Nzc4DR5HY/HFxcXZiaq1ep0Oj0/P7+6uhoOh4n5tX+vtxmIFxX/LV4jR+DgzZ98o3EvKt6TX0Ox4sV0Oq1UKvb8n0wmZ2dnlUrl6dOnR0dH5+fns9nst37rtzY3Nx89ekSfv/rVr9q16ubmplQqyREo86hWq7u7u5VKRaip2Ik0FNU1y1TRH7OITtw0YymSK1l0lr8oWKhHSyGsTN6XZnMEwI1GYzAYNBqN4XC4sbHhCA2d5CDoVfa6Z28iD/K+a2trCuwZT2DqGkihc3ITXKFURkAumr9YLLrd7mw2q9Vq19fXsmIOC2G6K5XKbDYz9c3ys14g4Pb29vz83DzZ9fX17u7u9fW1/HkxnNSfGAlJB16AeZz5fG4NIt3jhclYGzuzIXmM4PxcpAvRigXvsTQcDXnB2WwGPdvt9t3dnRNlrN6N6iXkYQNetZlsfySjqBV5fS5iaYsSH3ViLiIxlD+KWmS2w0lMhvl03MrJyYmpIDRaLBaXl5cvXry4vLwcj8c8f52JQL+pmb/6m/T2S2/LSL/013yZRu5dJJGme9Gxv//3//4HH3zw5MmTZrP51ltvqbU4OTkplUp2lQfe19fXZ2dnqvrm8/nOzg5YNIU7Ho/5R3FiOeGxdTofryc8ore66p7U5JFdMJF0fe7UQiJqg4pPThCr1erV1dX29vb5+Xm73bYuLQ4g5deOWSvKxlan1CfLPTY2Nvr9Pu8jgT3F0HOPUEK2FCAaI63e2dnp9/sHBwcXFxfr6+vX19fgptVqtdttpltqmRusqAQpmHTZtdvb28PDw8vLy2azeX19nSQc+sRZppzQyqdYXR6XPrPSQiEVASIdME1x+ErUJKQOuMTXgNco7NAeWw8CKedKKTlB6sz/l0olftAXjgPlN5hwOiL+5jdhfO7Ry8iH76NC9yxnIN967Ovr6729vefPn0tjLhYL5lGMsFgser3eixcvTk5Oer0eUEiomQ586cW99xbvMdgMOT9lIEXq+7V4s9ty873WTD5Pp1P1y2b4jo+PHUM2nU5/7/d+b7lcHh0dMZVu4yBcXl4y8vzh4XC4WCzsJsY2iugytPSK0SMNAXiyAqzjlBlacYCxA74sug9F4fZrXo2PwEIZrKyy7TcFrnkXKaKcbHhYSTpzTtZgMFhbW+Nme4XqWqqO5r7nWkumEDbt25bn8vJyf3//9PR0d3f35uaGhpfL5U6nI3mxWq2s/93e3qaQaJjFsNvb2xsbGw8fPoRrx8fHthUE7vekwqvRXyLDym7dU2iYNY4QYWtrK7trRfPFKXHlqH0MqhiT5hsFsij4Ozw8fP78+fb2dq/Xc96RmmL7r9nbSy1zPLK/sfxF+Qi37kl2pC0Kk4vi48XbIky5Ews3NzelLl++fLm/v39+ft5qtThX/X7/4uKCfFxeXn722WcnJyfFbZ7SVCof882vc3FvUHkkLIyIF7Hv3lP3/s2d8jHSwpHsUqlkmRAn+Z/8k39ycnLijApTQbe3t48fP764uBiPx61W6+Liot1udzodhWKHh4e3t7c3Nzc7OzsiI1SlnCkCIRxBJday6M9TEp8x9Rm+C79qKhkNFt4NYa47xbTmnzKrVK/XQ5A06MFs5hmQSrpUh+mYsJ9wJ8Zh522tZScvOQ72gNkkVw7eUQzj5B/6XyqVLi8v9WF9fd2umHwQ3A+ymGyvVqs3Nzebm5uKaqUn9CoxuYsksB0uRvmt0ZAIAJSyrUIDxxBE6uRurD42sZUjxsTI/AvDhwh2ChoOh7u7uycnJwcHBycnJ9vb2xI0VkbYCAcMEZs4hl8ofzh67yKSFBHByzfVI/mSAIc708u04EK60jFJ5+fnBwcHJsaGw6G1Lvj04Ycffvzxxzc3NwldNJvXpcP32tfzNz8jlG8+WLSBWss9ocO9Bu+9VOOI42ypwWCwXC63t7cPDg5+8zd/84c//OFbb721u7srBXB6empPxWaz+bWvfW00GvV6PedMlEqlv/t3/y5R3traUjS6tbVlHj4JtkSAFPVet83rssBFTU4/ddWgXBdTg76P/UGNUECz1WpVMdzFxcXh4eH19bXsbBjEAYkTwd6y/36ykkeyoNPp1Go1wblHbLzppaG2f00MRx74XIPBQPx4cHBwfn6uJk+sZKfQ0WhkUZD7ZZHE5PGVJPbq9frV1dXW1tbFxcXu7q7kuURDoFMSUZ0S34HDT13j0ieeB2QbGxs5tzOr/SXtEy9kfzGUhBECFmbfXKDthq+vr4+OjpQAScGSE9aRKcoklEZehSdFghb9NKLg0/dRe0IQbdRCILPo/997JFKIBIPBoN1u93q9/f39Xq9Xq9VOT08///xzqyNevnz516//LPXJkmZtBmLS///Hi8i00SVS/b9tVqZnPB7f3d01Xv8JYVar1bNnzzY2Nr7zne+88847q9Xq8PAQQdRvWSu6trb25MmTw8PDH/3oR/P5nP9mI2pTNQnysYZkpDCuOIqi5EXzo0XZ+BTkxbeURkKEiF0kMvIQkZCQHw6HW1tbl5eXgk/8jXsS0fd2olJUG5VtiiNms5mR8lozWcATBHbpZKqMmH3INZlMFLQ3m83z8/Pibl+W6ynF5Y3H3kraWxfcarU2NjbG4/HOzo4I4urqqtlscutghGwOwnJDws0ciQXjHLkrTYMCFhpSe/JsZjdZACVkUXLQH8iWocjcwWg0MnlxeHg4Go263a5NBwQa1sXBuORiv5gD+v3f//04Hmk9ShvRzzdhf+xA7onxif4UuR5RMJVC+G5vb5vNpgKJm5ub6+triPjs2bPvfe97P/jBD2RZqEcEPcnndCZ9yIXXFZUhkvdmzwFW1CCNIEgRaDSS74t3ujaNVKlUbFwt2eu4a67gYDBwFpWVC2trazs7O06bns/n77//voXM1pCVy2XLhMx4qSflJwN1ahDHGCupvcwT+xnl1/P19XUzTIwVnaGTBCszMloOsmuNMEAcfmy5XGZymQQnVURm0ojj3misB9XJLhaLTqejyvPm5saac6tlsjrQ63S4UqlYoJpdCSg/7lgoub6+LnGYPcJsziP+Au524EQoMRrl73Q6VgFfXFzs7e2x/NfX1yCSSifWYKLVp6ROITKj8lcqIXCskl0GR9CRNKFxZQV3ZigQU1oBDsogsvBONJbkkzo1ebG5udnpdLKez4yprbubzearqb4ItKYJigPqSqWSolqBpTuLn5H+wWCQ4kHt4BOKS0fX63XbnupNkqur1erm5ub4+Pjs7Oz8/Pwv/uIvvvGNb/ziF78AEExEEr9RPHJW7EzxWscif2GGexL24Afpj2MSDQkcaMeIzOgk365jWCiMZOozI0VK6vV6v98vl8vb29vj8fjZs2fX19dy0fv7+4xer9ezyNdk78uXL//hP/yHn3zySafT2d/f/2IZ5msxiSlO+id1FlEDWXGiIOQrYjFX8F4xHE8yjrrh42aWAPOQybpNLJKTEwwDCLseUWOjg1OpirOCSyqHow5ibHzglFSFEuZEl8ulEBqp+fyZ7s7u9FHCzA2xkCZQbm9vbbtg43CzfRJv8nD2AlQoEX/EegR2WLFddNIo/GuqUssOFANYBCAuW0TOr4EAVKJo5iPtDmAisNPpoAzBlrSPfHIiMuOOI81mk8YprBL7BOhfrZGP9hYv2Ebf0BYCUUz8FO9nkZKBxP5YISIVCM/+B9ocDAbHx8c//vGP//Iv//Kjjz4ajUYnJydcfWPQXRS899Jf8e8vcwq0E+NvdMV2+BeBGIPKDcF+Og+/gh2+FEzBi9hnEZ10nXQGI5PDKvf29lS57O3t7ezsnJ6eCqdNnl9dXR0cHDjNnhbFJ4dZ6TYViltOdfNl/rU9WQA0eo5ucgqxNhl+cAGLM/CQCz2FxAw+9GGisxUHbYlHwDhnTRet4ANSb4iDsClMsMQ9bg7rmspI2TK7LTHOmuUSSp7RB0bL96z6PeoZLMkBo1lZJAVAP5WrF5MCa2trCrRAXowKupEliMn3RDesxIgwTpFbvV7n2CuFyhoKZKcv9K6YSogQRmYM9gvlLwbw+iTWyvyEbv0KDUx+G4mL0rBaraRtIJlKXhVaV1dXf/EXf/Hee+99//vf5+HbIUc1iDIBfIr8/V9doGCwrIgI+bLYYCTDr0iPsoEJjcQOoHXMWpLYtD2NQ3Tenbnom5ub7DxXrVa73W6pVHJeHerJ9u3u7k4mk4uLi62tLaLpjcEvr9AfHcbNjD0+vweTXedSYXcyNZE/bgKtU8oOEcBHvLw3j2NLIirJDm0CjpCdG6XQM2WRgYOiVxiSakfs4FQvkZTpNypqUDRKZovJNX2QtHn0kNuchUncJW+kKukSlMlJU/TfS8WhKIa8nk0ugJ+oWUPTZ/4afinczB6BqA2UhWm1Wq3X6x0eHvZ6PWt1pISK2o7p+mPK0Ku5jRESw/8by19UDDoPaJ1UW0SjCHTxIpKhK36CgjjEeZNKmc1m/X7//ffff++99/7n//yfz58/Hw6H4iXJEmMW26Tl4ut+zetIdu6npdHngFSkPPqPJbjr/mSVeN1phEBDRtJM0OOVgT/2gQJz9jDV0fSlUmk6nYIDxSSr1ery8tIUoJLnyWSifQIdyyxrRfjCxyh/rIf+BEEiKIEMVAoFNKjxaEsQmf7jWt7lNtmyvDeWM7CVNtlAd/pVU7a75oTLoeob1Urug2YKXuJqJYenWUAQDuqhodnMI3xkt+KdBae8RVfVoVvJL5WjBFvHPKInpCUkZYq5LZYqilCK0FzsOTxKLqBcLmdK76233rq8vDw4OJhOp4xoonJi7KUEMqzJcPLN31j+qIGbYsrCp19h9mMNWGkAg+WsHHyVUxkOh8fHx//m3/ybH/3oRx988MH19bXNOc1wJjSSEAK36bdR/TqfYUNY65t4Psbr1+J17g/b8DKWij/p+Cd64hGi1mg04twinXC0VCo54evq6kqCk2sgh4yF/X6fc8RdLJVKL1++fPr0qcAYPWMKBHjpOU+1CHb3iIaSmW22tRvLEzH9ZSy2Aq/o5Mce3qNzaAU6OclxBk2Ys0WGb57Pwl4BgpIb8bbDUdKIR1hvEpXMhZXL8ixmwnMMrD32WSAahVNR0fQnFFYME+effpIHqTiGlCYHDQUXyodoo6UrMYfROgKjt2DIK9AfSclbZgTm87n5lKOjo5cvX6o+0n6UPKJLSKiwl2YBgnu+CJ2MkAylc5QZfY0ZvbDnS3UPKeOhpUGT9pyc0Wj005/+9K/+6q9++MMf/rt/9+9AcqfTsVummkdhjMeNgS4FjL707W9+GQr6KXR5807fcHPwiZ54Ox1DX1kcqabAHDbDcnnNu7s7p6ObWdUmd9FT9vOkEhKB0mn2byO71ghcX1//7Gc/q1QqTpvlatJVKJnRhWK0DgogAryLhkfowzJabYyBM+OK26VB2BHXAMrfY7qexHAlPKaEDkEpUpXKcYbDHaNQu6qfPvVKNoSHDIvx1/y8afwsE9SfxL2yD4astWgvlTAc8pCERdwH5lrdjgIqmzVz2kFqZlJiz7TJD880R+qv4vIEZVCYBEZDrcm/urp68ODBxcVFs9ns9XrqqUJz9iaeBaJpVkCk7P8L7twjd1GYgkOxJ4QpjxQv5PMItK57sT1bTk5OLi4uPv300//xP/7Hn/zJn3z66ae1Ws0SvfrrPzOQw+FQHSIYMiQk+79V/mKcQjK0VgSFIiJoH+0ouVRTxkhQzNkmZ2mkPBf5p6zuvrq6UqsrDZOzJdvt9vb2NidfPf/JyclkMrGYVMpQDtkKuU8++WRvb28wGLx8+VLhAASJTyTEEA9nRNHVTIwTd+tA6F6RyJG/dCAEZOTNttJJTcUlTDsRU2E/meO4xrIlRaopy+x5FkyOyRSp72AEWdJJB2xYAUXzk4SzcsbYI738Bf/6ZMkQMCjwhTEsl/NgCCs5KlxK9O5XbjZlAyKZ7SNpyeGjZyKLYDRYCUmtziSNcdZ0qdVqDYfDbrerkiqmQh+IIhIluU56gQg28Vzgzt/E/JFynYZw6WL0sMjpPALYDAzERv/X19evrq6+973vvf/++x999NEPfvADG/UqYJQIVMS+vr7e7XbZzEDgF9UIGxu/7L3FPhSvizgVhSevxX+L18YY22KK3sEP3Dz1Elk+iUOMobhUEtupvq1Wq9fr2T1akUav17PObHt7W4Xp9va2eFXmv16vOxdsfX19Mpmk2KnZbA4GA1mxhw8fVioVE7bpQGZh7il//Nj4MsiYmcJYuURqBD1MBEMkmBaFyEQqxh8l6QYRtHbINTX2K/U2mwUaQCH5yZylVxdHpClpPJGCDcWLzjwgoC3x5ihqfIf8awg+44Srjb2n6sZu7rn6+o8HEUdVm6ok+Di83Xs6GSgk5wE1bwcESdTrmDDH3uSS5QoZWq0WMwA0ORSybAEUcJwghTArbXzVMUoYwNAQ2sVW4BkBur29dWRtyphKpZIlnJDCZ7lcPj8///DDD3/605/+2Z/92Z//+Z9fXFxwljjALIzBR54oJwGNmAZ33Fb8NT8B+whHuVzmeoXWALVWqyWdQ2kTTyqTRnf78He7XbsjW0299fovRqZUKjUaDdvvTiaTy8tLS0rUkNuebDKZDIfDdrv9zjvvDAaDDz744Pz8fHd3l+V3TIX6iF/84helUukf/+N/vL+///LlS3nySqWi8PHv/J2/Y/P/r3zlK5PJ5ODgoNVqVavVnZ0dKQbOET2J+cU++o8pQWSmj+ByGZh3M1KEQ5vEi1ei3N2iHcvIReaR4ESLsl9hrrBW+tZqZdI5n8/7/f5gMJBFOz09xQWKYctKuOZwDjOdjgngvopMfW8pK1VpNBrAyI7aEHZ/f59iKyrPPJm40rSFROzt7e1wOMzEuPULmJIZB4Oi7XB5uVyaomYklOuolxGjxf0BJUV+kepMOiJ+gqwiYWOPybZKYRvbKw/zbBAEZ1X7tNvtjPoVTMRdh+7xfovei54RI+cTUDY8KyIx/ez3+59++ul3vvOdP/3TP/3rv/7rm5ub4XBIM220ZPm3mzUVNQ4Q/JoXBDoSH4Ka2tEIyyAqi5WAAvGW2Trln9Vq1foqRACcTuCJIzAcDm2TYnfXw8PD5XLZ7XahNbmfTqdXV1e+aTQah4eH7Xa72+2q/9NzwLq/vy8bKlhg1ra3tzudztbW1vb2dr1e54tRnl6vB4aYvlqtJmvAd8XEJMYjWMFNrAyFY10zgZdQH0ygQ+6P7CJ7mqVvbqPe2Op7NJF6uOczr6+v39zccIzjCtVqNcsE4hHoVeSN06HznlURvLm5abN6NVS2r1FupCkArVfEMnYudVzuVH5uqbydMGBEJgtCSXtP1Wq1wWAgD29pvUJPFANMmdLTCJvKMypOvnLmo/90mOYLnVLghMgIm4AuCYW044DZYln3Fwd1ajoUTKzFLfQ93LJVCEEkcKvVajAY1Ov1LHj+yU9+8h//43/84z/+488//5x0SnTDfp/R0ohmZOtXX8TIuy1IHDvjIhk4pIlJL3rIEU3z2NxpdVEeB6iCTLAqvIcgpVLJSuT9/f3r6+sHDx5wZcMbyVhegGz/zs5Ou91W2Kv/lnYeHBw4cwoG2e1ja2sLVmY9pvIHx0sakfposS5KYjb4N5XlRdFwAhSpDbWjBnEZGBz09Gt8B6bCDWm/SE8ut2+K6IA45J5EUQYmdzQamQoBhbZFUUfoXTJwVv5Fvg0NTtnGa2dnx+YCz58/J3ssJNcmBaYwCDoLhfi8UMZSWTtem10HshmOC9q7XC63trbOz88PDw+vrq663e7FxYXMro4BShFBjtPhWAl+M/OCLEhNpYFaglZxU0Q6OSBzySQ8nQRnCVK4bHj6RXrDrUUgp2Nu8itL4qQdRxFpaDKZWKp1e3s7GAw++uijP/iDP/jGN77hQCLsl9ehRQKH2BY3FAUo4vjLLmJh4gLdu7PIVIOiEuC8SLU0JWfbaDTY/CKC8uKQL9xaW1vb3t622Pv58+dPnjwZjUadTicTUREjdthW6sqq6TA53tra6vf77XZ7MpkcHx/f3t4+ePBgZ2fn8PAwfq8q1GazaTOfxWJhqa+tjUwQcnR1smhpeRbJNkeFcLaonEGHN8UA9dwQV1GbhqkdPCUtekKOfZPUejpDovRQHKuObXd316p+zhQg0ziiqYPICWi4b45wc3PTSr4HDx58/PHH+/v7/X5/d3fXrvC0rlwu9/v9RC6AHmUYRl765eXl9vb28+fPHz165JyM4XCo8xEbYK3MfrlcPnny5Pnz50dHR5999lm9XrdUEXHkfUOK2HDi4V/GPPusIHhoywZH5olo4jVdCkbf27VZy+iGv69mpoo2Py6rSZR4GgSF5nglQBqPx4pzlKb1er2/+qu/+k//6T/96Z/+qc1DbTDK55FnbjQahAAd7wnfPR3+W/8NgqCL1pBMdl1mobj/XPEst0hhFJUxEUmKqZId0Yjystvb206nMxgMOp3Op59+enh4+PLlS1updzod9t8cp/SBPSQkipJ04dsrFzF3ZWbk6OjIEnTmEcxb3m+XG8rgUFOoen19vb+/32g0Wq1WTn0gZ4QgMuFZKoS8bou/ED33PZIW70z4SgqLyp+m4hULiYsKQ4r4HQTDDLxd8cUXbKm4hjaSuqAShHWbDie/vVwumd/j4+ODg4PPPvtsb29PHY4NMDmt2RVPT2L8xf9ra2uj0ajZbB4fH+/t7X3++edvvfWWghTOIPmP9+QQEUsJHz9+fHp66tNy4IQS2V1DwVsc9Wg7N5ankKgQOKI2CkRuM0kJueI78GKiHUWfzjbZnLtXyo+1xq8VW2tHi4rWw3Godg4dDAY2omm328+fP/+jP/qj//pf/+vPf/7zbJlGVVLbK0CQT45UZVR/q6rnhuAuWviX/nONDJuLDpvJpXySiXTPYoBZOt8Ey0X+CW2izLJcJpk+//xzWyMrtzSNh6TZMcKKPTLKMVMpQBTstWAnScXtzi+x+Hx3d7fb7e7u7m5tbdF8q8plkhPFyaQ6cHZ9fV1hHNHExKLyx5sL5emqe+IRhNq+iTwRyjcdQy/icxWzqkUQyWYYRbVhYyhVu90ej8e2b5C49r1co5RECgeoMaTW+bW1NdsKffrpp/v7+1ZPWpOfXXEz964KI2ovXRLiWFNoSd/h4eHFxYV1h4gWc02MuTnX19cU4fDw8PT0tNlsSjPDR/l87QNfcijAYW6TBedgqjVCq9SMoCfgu729LbrxWCCwgo9RYcPXIDB6Nd4gd5jtZVAECMUw6pyR2x5ob29vPp+fnJy89957/+E//IcPP/yw2Wzu7OxYnGtpJDlOFAp1kufLewMHxW/evI5746fQAhcRBRCwBknjK3JiSC0CwcgkTrh/4IPZD0IHbjAPcazxns1mT58+tQdpMFtSIEbJ60Q9WeMBm0yaYNiDBw/weLFY2L1vf3+/2+2aXLQjtTUw5gIx2LYwtjxT1tbtdu1RA8gQFn0MuUh8faZCuSdYGQGwms0EvkxbknZuRiK2iHAnw0oEw0oGH0BQCbv9KpHKmQi8IX6i8Wb9mIV9yiKZTdKFO6bBX7582el0bm5uLJFkgbxiMpmYJYml5Y8EXEQrzWbT7r29Xo+jh5IZKb0wTBuugZ6zs7NGo9Hr9RqNhoCueCeLiEQowxyyWKYYMU6kwM6TEIzzVGLb/OspFOM3RelCuiQIXkEAcxfAC6ITrDgC0EKURc4mk4l1hZ988sk3vvGNf/tv/+3Z2Zk8ajbeta2CGUg582R6Igr/7xcGD1NYcvDEHkrmWZVpN1UWI70C+Unjx0lTeQLjNA5ZkIjszufzx48f2xyOEzSZTOLYR/m12Ww2bbRAo9SuYrCkoOM6bPudY7+RlBmsVqsiKVtBpwYW/I9Go7OzM6sD1tbW1H5xqoOJlJNnF/RMhim+QOQh/IqHCSAIRnjn/rhOgvnYDNriLaEe4mTtDaGyJU6pVGq3241GwxSAGt6iI8O38tIElXw0GTW7bsxms3a7XTwq2wp/eytZ5IsX3kttMolg7hBSWHypzpoTZAkQ4KP/Fh1PJpNOp2Pnf2KDuWQAhRM6JahBXp+TyUSMXEyvpJDM2FFD9of8x7VE0vhxOCULqNY+wvBqqi/Ikageg6kHoEpbTtpiJEej0XA4/MEPfvCf//N//vTTT0GXc4hS1ia4Qq80mJS7t0cKSU9EqniByr7RmUhhYqdIpAkSYOkVthXodrsJ3YkUTovhOeqNRoO+8fMtpDHBWcym5tQtgAJBlsvl+PVftVp1DCkJK5VK1mPbtrRarTra2cyiae1SqdTv95mmWq12eHgoUyCZikflcnlvb89SKyxQCGSKKNV7Nzc3s9lsZ2dne3ubp2CinrXxOFrFRMc74Oxwl3KNfSE7LiAvECS1bkg5QCZKLbN1OhvZ5RnN5/OcdH51dUW+cVOFvFfgpmSnHAdJs+ObxhUCr1YrkyksnsorxIlrYOYPr/k70nXIAlBMDUB/MyZARGECzF1fX7c7q5iRpbF9U+bCspGpPQUUhuoPZBTy2EUfoJfLZbvu2MUc+EIB25wul8t6vZ71gn4in8WiJrlnyqhcjQzYCQ5ylbOhZ1yaBCGgOhpI2WxQRbKfPXv27W9/+4//+I//1//6XwERXoqMus2qpFtSXQBikqK753oUv8+r9a2o/zFN7o/lCZoUD0uRs0ggaiDuBJMEqOg7cCkzywqqo5mOEs9UE6+VNl5dXeG0KK7T6WS9B7ih6rrn1DpWWiyqdkixo10AhVqCfFNckgX1et3cBA7e3d3RLnbGHjWZXOBMwtyEMEXyhgtJJoEbn5GNeLy5n9orgGE5Y5RItn/xjtISaFZLmmO1WsEps+Vm+wQ7cW4hb3I6nAu7hrVarX6/L+WRGjtM1zGuhLHoj7HLfid14ldX3gAAIABJREFUwu2nQtvb23KQ/Di1cMKEWq02mUx2dnZGo5FltuCDHgLKogdOoYr2D0omu6yWkQxXq9WcYWFOR1eJSrlctt2b87kRH9lJC2xNrQSICROzkWy9Xu90Oq8sv87F0zBlQkOKPdYJZ31eX19/+umnf/iHf/gHf/AHttwhnaSEh++bZrMJ0sJ+/klR8gwbV36Z8mv53lMULAofGY1oFvErt8WCFVFAdT3+FTeQUUTJmgULzPcCCPlhE4T2UcrUoN1szNKvVivhvcKvVquFc4IxSwakEra2ttzJRHDSDIQZDxGkEjO5oAzJ2FerVb/fn06nT58+pTDkAKn53iFpoDNxSn6K3LgIcLgToUTgsNW7sotZMaEQv9fApSeyJU6z2cx4SYLYLUQuRvi26Nra2nJq9fPnz3d2dubzebfbPT8/5zvA4jgm9DZeSZRTZwyBP4I4i8XCeaqyJyZNFBoOBgO7Th4cHLx8+VJqAEYnSkoaMtjH+MXXsH7Eiglvx+KiDRfI6Lk6EVt0np6ePn36tNfr2f2VmJlHs5yJxkUdAtmr1UqNGdz5orY/kRg5IHCon3ky1sMZhh9++OF/+S//5U/+5E9evHjB1Unl0D0pOT09VcdKsvUjMzcRpkhbJPtLL/J4fqXJjHZcA1MvJC8xvORqmMF0cPuBvcgN3qFDimS0r5OaRXGYrTO8xFQHwmCCyIsWCsk8URKrAKxdF4+x/Jubmxbw0/b4nwJa3DEur4ZrJiAkF5nQ8XjseFnZGT1PzOXZsAD1aDV5uAcKxTv95BtSa0Qe9H0RW2OCENynG9DWe+VEM17hGN3wSFGKbm5uHjx4cHJyYpXr0dGRmu57icasVgib0hmGlAkhHkkBii/wl8wQjEqlsr+/f3Fx8ejRI68+Pz/vdDpYUFQf1E4CLzG17hl79DP0VDUbby6Cza/Z29u7ublRWlav15U/obYkXSbmgm4Zkbqsk5OTZrNpl+RXU33cBgG5bLPEXpgd9oiXTk5Ovvvd7377299+9uyZbG2OmsgjaU2NdEoyxYEAODCRi2gvPt37zG25ELhSMMKBxOS72FpSWWZl4gYnwavIh2fOG8IYR6yboo80L5dLJTdZ6yacSyrVs0JWwscQSQ2yD2tra61WK0JmRbN0upNVKJKN6yiY6KM4aZQZHXGE7SVIADt2fn6+vb2tWoH4gstoPmJqGT0xsZjMlxoIOwIKLEymqcXVPG1YEM82JjGTWKYPuEXKmeg/axZA0WdmM0t99MdBT48fP3727NnR0dHl5aV1kHqe+CVKGEQzQBhK4GPzdZssbW1tSQRmupfNd4DX8fHxw4cPT05O1BHE2Ux+UUbDvjgkh0KmNJOOZKR8XgcEWJVMaDnmKghVHHz44Ydf+cpXjo+P+Y+msQKLtDWRRUItw3/rrbeS1fpint+ttMV1+sQvJRzj8Xg6nf7Zn/3Zt771rRcvXshnRF61ntkFDpVfSbAYBu7GwhgzfgQ7Imf3LvQNyn7pzTht5xwCZ1DFRWDFYQrI41tiD0+ecDiMQV4t07AOHUBl8g2qNzY29vb2grXJu8ZzS1qYX0DQxcbZPcmXjDxs0iuNABRpyKSyAoJmKCknH206nQ4GAxM/5hfcHOVHfyQNuHAfWLyINboFRsOa9NxTtA71YnWNUQt5NW6iiUQ6d8wrAC6zL5KnNqS50WjYze7ly5cHBwdO1DEnZ4AAIlEtfdaBDNamnf6NZdbz1Bf4HpelITc3N5008+LFi729vX6/7/DsoB6DKnxWc4GG0TJTMCxQxNiv/Hb5DgMhKlbHOoboyZMnV1dXOzs73ITk17gwyZgaCJ7G2RmPx5kLK8cVBMm6gnCpH0RBe299//vff++993784x+zOfP5HJBY8IBS9B8WsHhgKT4J7rI56JLPXxHzM6eGlGcjEBEpPnw0vIgXwmMwzH5yldUs0Rk4xeE3he5OBQIAxcJE+Jhon6I6ztHMnLHEbJI/0aP0lWSsEfmVhtveK+Yi7BcFpPQwwbPpLuXxRmG+UE3bbDazpLLb7ZoUhCahJ9YH+LyXJMTJ0mwkNZqf/ci4VPEcmVCS51nW1TwWeBXaiF8IGxlNzrhWqykYI4GoqlBC6lv9/MXFheVV7XZ7c3Mz6a5su+IV+EXV9T95iqI/krxPgohEqfbMk3K7vLzsdrtXV1c6SSTk+RPeE4CIImsh02lEFBXkMZNcyGz9kvyleiELlmwP74CDxCwBqWhQJN9gsZVIWwHxKub3WPwT0wAGnDNS7+7unCH53/7bf/vhD384n8+RW0Wqo4URF5rE7zWwAI/vfRYlKUYmXY94uSjihVF5vIisAfu1tTUTs9GrVPIMBgNSiO4QinaxTjjE22+1Wnt7e1TO1IsZHW4LuiX2Ju69Xg+fms2m9TYIK1m4Wq0siDaN5+BNvpVQKCkJM6xEgQYibBKrcSIcd23+ZfL6T+5WVoLFUHlhbRLOhvgap/kxiS7ck7fTYezITyTbT3wNqitJTrqoFvQcj8ccFl2ND8UHRkweFnsQrAeUPCzFF7bEd0DN3d3d/v5+uVy2hpcfkSS8iVi2h/BE7DMzzbkzbyd36CTP7MUgtwWMFLlk1lC3ncWWFKYkggwfohGtJGjJpJkmVefZu1Gv5D5w02GNW1tbTm0T4ximF3mFMXoknApbNzY2hsMhg/eKKf/iX/yL+EIUj7pWKhWr9Jnuu7u7n//853/4h3/43e9+14FHJj9swyDTWFT75EiiqMQlApR/i0BQlCQ3FMEC7Yrfy1ZAKzoQlGk0GgbJNcDs+XzearXIqLyAcMAScclzb6nVau1221SFSRSRbb1eFyPIRdmfg3zI25kupksx0XwHBkHHuHx0m9BwjoomzjUWWnHYbreZAuSFtuVy2Tpt1ANtculSrTk4yBRaar9wlq5aapm5brjmLXa/lqeEOPxGDya9XIRR/r9glZwQLdd2KLfngokh2/JkUc1yuUw5DcHlQid5xl1H3tRKq4DMAkeTYY1GIwfyJWAhMBlylESHR6PRYDCwzRQhscGUltlbK6wlFwRi8/k8ezEHCyA4L9L+ZcqW9B/G5TxyHjRnRMBIFGOxTeKuViu1MzZ0yWprfE/ehP8rTi+iEsmUA3pFQDan6HiLhH2DE+fn57/4xS8++ugjhsu2k+PxmFlIaBftLeo2hY/aB9FDdJKh3+HQvYvofF4BFzhIXCaPMOluYzfQRQfMw9ErZzM4EhehM50LQefz+YMHDyLfPAu1KOfn5zZsu7u7u7i4mM1mzWaz1WrZpx0B6QBFKoblBDp5qXQ7OBUTilZQFTq0Wq3M5GOkniNm/CaPhIaGA+lMOlJsohO8oH5IR7ddB2u4SJJw9/jojcmzFFfm6obYxBulOXkxOOt8Xo/zldI+WJGL9Qj7j4kRm3Sy3W6rqppMJjbAqdfrqolCT/ppdDqQ7umhugnurck8u2jRWJlzDgUIlnCVklRR5pr7kLIfc7rValVMEV0VHxUn9gkJsfGira2t8XhsOrPVamWbkOw6Fy870ZNg3Owy37PZbCZL/arIB0WMgaGGyqHmYrE4PT39+OOPT05OZrNZo9GwxU1WOCbFEj33TSCg+H10PvLqNoJb5EfMfryDyGW+EWRGASKsFAM2FX8l6En/kMvkzxlnAXkCaV8ymKhJ/3kBmQ1iFUejkV+jDLg4Go2yykB/3KDZ4qgZbcT3bMiYstzE0uicKlFWQvtYaZcbsCXoUA4QwMV9CgZfMAvpxAhkHYplJsUjmAjIUtVDpnVbLiAsNqmhBkF0HRfXvzw4+KLWLUqOazqcPIiXgiqn5SyXy729vZOTE6v6HZGUjGNc0fQ8cY2MHclZLBbq880j7u/v50wqYQsixztTdectAsBwVlEWRqgQIYSGwFYlkaFXPhEtDJpOp3t7e1Zwnp2d2fMuSSt0JlS2HorYEHLzWYw9cpXhnPsABu4KRzlat7e3V1dXx8fHSk2pCt8JdmR7EyJbVFFdJ0/FgeUbPYskxXbpUsafC41HW9j2AIcOgAYtM78RoJx5xCG09ApkYicvTjmHbb9yahL+ZYYmU1wRGqlpGQeRvALezc1NogNQUgFiSk/eDvEZZ+exZIyk0xi5hcwglTPT457ApZvFkNqRrJpOp3YBarVagbxodRokA0kLi0iZB7oBZYr3YxA6pxqKJadvHhEnT6dTbqOtu01ZJc0EazKP6HGpUOIateHckjGM6/V6u7u7p6ene3t7z58/t8DONAdh5lGrp2QS8T2WX+edPnh0dGQlvwXC5k0ibPwpihQ9CuaKqhqNhkjbNs1Sy6FeAKhoKnyJ2kRLmmBzc/Pk5OTRo0efffbZ/v7+aDRSgZYiuqiGHXT4C+GFgdsbwpZzZbMO0T2vFKs4LJWsX15evnjxwgGMzlGzkl+yNypXVOmiqhevSUnuxLncgLJR9VzkhjcvgjjRFsN2J6YSLAawuLqTadWC+hwqIRZtNpvC5szkxaEI3ckcALbfdsRIOGpCO1lxqu6povOZzLPHpeXj4LDwMhdEx+i4ANAkMFrEPl9yRszXTCYTO4vaZ4Ydy1wavqBkkdTaCZSHiUn9ZIY82XKQaq6UrZPkF6tn9Ucy7UWbHL7rTxK3GXWQneimw+12ezgc7uzsnJycPH78+OzszNJSoM8lYZMFfTrDp4AOurFarXZ2dm5ubo6Ojn72s585ANcSvYAF0GS6OSnEzPeqhousiajkwGU6HxoKn30ZTTbkWq12dXW1u7v74sULp48fHR1ZRcZXytpZouLfaBOpK4Lmq6kT/xftBk1AfalLpswqaydt2o3H5BYrwWOM5YncBFbCzshNdDU3Fx+/dz+2RRnSSPofacDOZIypSoyniLeYdZPQUlpXr9cju45wTmpHICcp6LDHTORaQKLCPDMOmU1g3CSTi+EGUbC7IQrAAokcu0fCYgqQeDgSlsmh+A7RgbjBVrBYbpAdBKy2qNVqNJCW+gyFA8p6hf6Io7cxVrkzBg1TghRJBMC1JPNsBoM+FlPFsGf9VRrBwaJwoj9ZLwYjrVaL5T8/P7cgH9kDLsbC1fIiHkQiCNby5uZmb2/v9PTUlg2PHj1KUlaaLE6+gcN3MCp3KEFmUtwUr2QHTxlbIQ5+xW/yU6ZLeXC7u7t8fvUFynsJAyfU/VGiePi4jGuky3Tjq5ifhAW5/WuqzLk0NsO0IiXnRgBspC8q6psqnV8j4i7yL/PrwSh50dQE3e/FwOTvXvuxFRos5vxIUkoDIqM8nbj93mL9opPSo1TZ2EfSVSKXyPqGkjPI4TGRhTJ0jCCWy2VFF8EyvZWe9VTo6RE5jpBOn02AMzh5qjh8ImJ1M1VU/0sb2QfVgbxrBEcfkh2XJ6pO91LHEZxKPFjMh3mKdyP9QZCU0A8GgydPnkhzBiBAm55oXM/1xETJbDZLJxMCWH5yfn4uN2adXLodR9psbqIYOpPUAM6qIHBQt0k+bwltY2YtxyiqA+EEuPqwvr5upnm1WrVaLQRMDAgvov9oRR0An63Hzs/Pd3Z27AotNk/1V9GpZALJYVHdpKi+iIC4Q6KXeLxFF9STXP3FYuH+zLGZ9+ZHRSKLL8M8n0WrkpuL+sywRNyLF67TQlFbtIC7olAz86Cd7IYWRHM4HJoAQx3am0ROFpBJ+bIq+LpYLJxZvre3h2ixJ8W1AxRJs7VardFoKBFNEgg7aSN5YlU4DhQDh1ihTGGYwQp+wW6BdMZO7FAYcPspXY1fSqlgDVZm6YGfOHfc0dAcqalivV7HGr4raIsLGltEpaVO2UPZENFTr9cTWFF4TaXGUQogMMdIyr/QZE8Zr2kw6/mHw2F2ARmNRoiWid6UbIcXqITsjhu0Qsny2KwmCl9iJFQckbdIUUTLZk3z+bzZbFptiWJEUeflIGQZWa9AeWw7HWy32yltyHJm+o8a7EewOCkqcyhU+wtN/+f//J/H26EhFJUTW6lU2u32+fn5t771rffff9/iE5lYIw9MROENzACoDeK6AX2RKd8E16PhaS0qbcodTAqwlUAkquFFZ6NCC84kxnKUYuRGUKDzjLnV+/bDVyjGgDCqJgi9F5oU9dauD9n7LEuh4nKvra3ZyBkcJDCxn7RpAo2L6uXwsN+vAMIqbkDAriaRaf5PrQGZYBIpFWrIG1mY7IxHmYVMsLtApfhT2IfdYMXuw9pUpcPjJfeUVoeTcwoLVKTZukOFGP8ITJjpoKjQVr6WwECQZLCc4U3SEg5on86bySdydlI2duAejybPenumNrwUcwnMYrFQ5aGIEKMDPSbqCCTrSMcs+ydsWGBvAnDGY2cVbAcEVYOwUdpsQoUmxZmp+Xw+GAxs5ezMMtuQNRqN8/PzZrN5cXER1Gi+/nslhN4RhNaVu7u7m5sbsKd6sd/vN5vN6+trgQQbEilJpUBRaV3f0/NAQ1G23OmbuP3FptbW1gSKYgEq5DrtBG58j7J0gxiBfPEPrtA0wbzknF/pgLeYF808bVbpOnVHSdn+/r7NYZJ6YcCZGiKr0lYQEcc78aE+ZwgI61NXDcRgQyg1DonVQzGSR7jjzXoqxciKF7IvBQ0vrmtKZ+IJawFZEiRCqHQMjvNy6UamDMCHoJdUgAYugKNf7Hjb6XTOz89NhuNIPGSEIrTS1zYyDxPdQJ/BH8vJNvgGhEUUiRxDzbqkvHowGGxvb3P+h8Ph3d2dT1TFFBSIXkRpAQTuZ8ld3BkSksSQIBqyQBMmVuPsHKLlESijklLwwqV3M5dqMBiofSKKqY/4ogQOt4iL/RVhp9OgZ7OZAuZPP/0UySJ5uuLfWOxcxM9HTcSKdHoq/9670Ejkya8EPeRGLOCVx4vubnYsTJf8ylfnIJgjAcnc8iySIyvZDztHPniXnV42NjZMt56fnz99+nQwGPAkzYnE6NGBxAiQCPVCUmBK37ziHrwSqeIAMQ6VyIE2g57xUARTEC07BegVnWFJ+DhUJZrvjQl88m/6I+4QP+dcTZ6n/SeCPrErOJIEO1Lf3NxUq9V+v//gwYPj42O75TvQPVTyoHGBraSyzCPYGkSX4mRBH746IAOXPAjJ2oAv1wAN7cV+cXFxeHh4cnJicy6CR5diVCLkBot3iGACn6+XCksFF8ns+NW45NqYrjA0eYrIRpJ50IFvT+3FjM5BitO9vb3NjG1ubrZe/71Sgfg8mWbAaROSGxsbo9HoF7/4xccff2xDQgyItYnYIXH0MNpOjKLtuYiMFrE8kJHb0k60nQHxPf82WFt8KuQQDqGv7EssKnsS94eQkQ9SxXvUQ4WA3r5areyZv7Ozc3l5+eTJE0s7B4OB010APNSPl8FG6bkduxEZh3Q+3CJP+Te4EH7l/syixdzBBZzSE2wi7tJCnU4nbiqyxGHmJ+snjsSwEEcEF7IqH0AixAFzP/nJT/jzzWaz3W4jgpyWm5EdtbV/eXl5eHh4dnb24MGDn//85wIlN0cwaBRgtWbWpCybxj8NZaIqsWp8LrJBdXXAnSEgL6Db7d7c3Lz11lvHx8e7u7s3Nzdqw8mS/iOI9uXzISnrTUVlyhgMHpMYM6/mV8q5WKinA6GqUSNCFApMK5fQFC4Tb9XEdoIUDEaAzVi9woKISBFWgZBirA8++OC73/1ucZFDFJK/gKNFtS9e35Ns44kBwSdfEinfFFvQsSLFPY5VfnV/8VpWPD5qGpRMCgVhkJic/6nOn2G0yXmSmqlsl9h33sbbb799cnJiNmh7e1tcYHqM9CvLJ2qsnxBDmBf1DlV9E6EHXrAP+0PSXGTONZCnNaxJBBQqZf8VMMGOxVUpMiWvCG3jkgiaWJ6401gzn8+//vWvo6Q+D4fDfr8vD0dhigLtYKJ6vX51dfXWW289e/as0+mcnZ1tb2+rQ0E9kzIghqDrDB3zauZU9oFKJJPqwSRQ/ZsTqKQtgrmVSmU4HD58+PDy8lKXHKYAGQFo4IPJVdGQ2ueEipyOuFTCAUObTCbE2NzbeDzmbHpLOoNxKBkg9i9fNfYsNpgfl9lHtT2VSuXw8NBWFK+wPtE+NIoZlHh88eLFH/3RH/35n/85Gytgy9QCQecpJG0TNSsC8Jsqndsi9Blh8afIXFwMGJHwJtLpwrPxYIso45p7j7gq8Lk8RKHYmldLNMZkGTvUGwwGu7u7z54963a7n3/++ePHj7MnfBRbqt/KH9YeLsQ1TYepRFKkGEG4UQ8FkmHNeIm4NxoFX4Bw5NBL8aTXRVsIohIgCMJ8Rc4QgSfpjQwD9DQbogPS7LRiuVyenJzInGXfcVIrCZokmfFKp1mv9uzZs62trc8//9xWnKbcMg2UyNwkNAdtNBqJX5z7LjYM7tMHxXwACxxgZVavgch47DbtPT8/V967vb19c3NjO524vXHHQLMXFcXeDViTTZmkigMi8WWYFjs15FeQwcky2Gg7VormdJsnS845IIoLyXC32z04OEihyiu335jlOTkJEpJcQYdtnp6eemY0GhV1Vb+jn0XT/aa2u03PAFWxqdxPxEPWXBQdoZi12G2DR47It6iSF+qNRDNLpmPJFfByLrgMBChN6ZV/yStps5uKA+Gur68PDw+TZHKbFYFy3fV6XZ0pXhoRdU3LGW/CIvBP5XTDI765JxzaoVoUJoXARBP2MY86MJ/P7RtDMaLtaBUrDXQCkSKaJDLIjxUm5EeKOw6UVKjGfUmIyW65XO71etVq9erqql6vn5yc2D8z88rpW1Lx2ZKcGUB2B8alcj4qAcvifLH2xS8lg32DUI5IabfbZ2dnrVbr7OzMOq74mzgVVcevN0UIsGZaNHt1OPyGkCCy09whbMhODSWwGGCdRMnMCxTdKD1Euo2NDVuJNxqN/f19xzqz/K+wnrOHeVnjyeyfnZ195zvfefHihXU+2U8qL/Zu5ejRXvJ37xOlfGaoX6r8xXZC6HutRe7jBeQij4dGRSZhPxUC/wSFO+pXLyXBw+HQhorZGtXY9YfRsLXDbDZjduiVl3IQnFMksU9STcvZIAD7020tx3XMv8nIhhSZBYAO2SOcgQWywnivTq5UBMgBSUFBprIwBfUydZcMM9Fkl7IWNc9mY5xUKyTXbZLSEcPZr1IyzM0k29mY6urv7u56vV6UysyWLpVKJcvalAxYKmcpfpILXg1cVquVXQxhhGAHu00B8ux8H0+Q2XSitLIC5/+GBeFOqVSS5VU/h0og3h4KMpGqNglb6J9pXZpYTCWYziByqczDbp2XnuSyiSV9b7diO3/c3t52u12vm81mTnyWSf3iiO7Nzc12u81TkopcrVbf/OY3P/zwQ0GyTb8TPcJ4Rb6YV9SKqOKbZIqJjoUk9+hVNOnBi5DYPe7Pr2S6mBrxk/xKJsa5apkyVS9ZKpWk6CXzscHmnzbexzMVuBsbG/bezx74Tijc29ur1+v28MgEWKfTsSjAltJWd9B8syy22TY0gVnCSNYj7hyKMblUGpviZ5n+pcYWDlIqqT5C6ebEgSwtUFDNom+2P9N+8kPQRPktDSSUcTJFfPbPs6Vko9FgmRmuUFu5y+7u7mKx6Pf7toGntDRNzsKJY9ZEJA51BmFQUoCtV8mx8WJqtZrjOk5PT+v1+u3tbavVykKVhCEyCHZeEQIoHIAvmc+3rXPQf2dnJ8WRwIJe2YvVUcvEjFO2vr7+ySef1Gq1x48f0yzz4tnspN/vW2+3vr7u0AcoAFJpnzka+6CItdkY2VZEU3whpqjVarYYbbVaHJadnR1b95Jh+vIq2w9L8BLz7u7uBoPBT37yk5OTE24w8257uaBLjOQ9Jf9/+ZfqpoUwuwgoSRCKteBOERSgvu5xNDwi0i768EYdn5YjYPIpgQYBslG0ykrmRQ0Jm7+1tWUjN6fxTiaTdrvd7/e73S4Cbm9vM6fyJvTBbj+GpmYmGGo40fyi7QUEJC9wYMhxphhMAXPWGnJoZacUL0MBC0UbjcZ0OpXZZUwAa14X5yUemZXh4VEQWTcALpTn7qrqoasO5EVqRmVzc9OE38XFRbfbVYZk4Ok5+gQXzMZZ5T6bzTqdzmQyoSQgSYY138TyJ/WT8Ar8CUmkeOM8OryEO2Y602r83IDOyMIAEB5YIDjKhiXJX1jrSWz29vZkMST8kNQMn89ms4kpmeQjG2rDvJT9yDy/lUvMWLPZTA1lYrdXm/YncjPvLcC4urr64IMPzs/P2VvkLtofaV6qFfZHaf9/X0Smo9JxFqIk8WkZpcTDuqGFeBa0AsBlgUexbI57FtDJ66JOTmiwOeTp6akjXPnhnU6n0WhY8Vqv14maCb/BYPDgwQMbQtlPKlFVuVy2oFjJDR2L10AKMyjh3D0diPohBQ7mTr4DjUpuT9aD2VExRVX29vYuLy+bzaYYJ0ROERvhm8/ntoWh0lQ3WUnvijIwDymD1SY6UyGzdJPJxCyAo4qur6+5/dvb26enp6kgIAkkO7N0Zkm3trZ0/vLy0oZucdrtLpk5V0XZHC4WPkeD3WM9gf/CNpbLSkK4BhSEjUUWVEq2O8+Cj+wWw6pzIa2nckBTs9l0EPjV1ZXKPCiJdCQZkhKtLC3xZTZZsjOfinVBUFajR/bcHPP2yr+gz+QGtJPCFy9ePH/+nKNIuDlaGIle0fz/H8r/5iPhsYvAxz1vXweKJs51lDbteBAFA42aZXAoBkVK4MQLNVhVk6adHj16ZDXl9fW1nRuq1erh4WG73T4+Pu73++1221bqJv/ffvvtFy9ePHnyZDqdyhLLwykEwoOch5VB6Tx2ZFx+ZaNsfWGwJBIl5c8C6mBOa24upga596PRSEWN2fXd3V1747EHFJgO8I946b4xN8Q1RVLKSUZ1GP7GUpnyTJYB5PGepEXsifT06dOPP/54d3fXOaiDwSCbo4hHvHS1WnU6naurq/39/azbt28H598Z28PhMBsuhdEhrD7rLeciwoYFCSo9W4zP0adoVLjrUpsylJaQBgQ6CmVCAAAgAElEQVQzU6N+pNlsnpyc7O7uvnz50pyinIh2gqTCCqczRzBi9tymG2avyPZ4PJZg3t3d5bpubGx0u11WhJy8Ku8lPdSDiEyn0x//+MfD4TC132IMJPC+XKeFqOuvfxEIIFLRAS2EEy7cUxRoRlLPY9kSa2mc8scNK+ZX8xbijspxpEPWk5OTd95555NPPnn48KE1VSorbNexvb19fX2toEpYdHV19dWvftV68l6v9/DhQ3EdZ0Fq3bQNnqUKGPjChZAiOEv5w6y4BkaRhB8qFXmU6XG210tNKTvK/vPPP9/b21MEHm0MsiQ/Svc8ztdg39wpZ0z5wxG4EzSpVCqm5XiXEmBp9urq6uHDhynysWsVoxpXIla6Wq0OBoPDw8MXL14cHh7aS7vf7yOLRVbxfVKuG6pGolILwBtPUCYm5+aQGX2AZXYTwy8RvnQGnTfrKZKv1+vX19eLxcK5qZImag2ur693dnZevnx5dHR0cnKibMR7+Ue8gIQqUC/EJPDJksAFCSA+pn0o9/b2LChyQ+LHV9YukOYd0j+np6fvv/++uEjrMkkxqkWFR8dfX+Gjcvce0Xjxy+g5luftAQXRI36TM9dckgTtEUHmUUZHKoVkC5Nk8mgXSnGS2+32s2fPHj16BKH7/X6qHi4vLxl8pwCz5FaSvv3226enp48fPyaR9jgFTLHS/x9vd/Yj6XXeh7/3pbau6nV6mrNxKFKyLTGiFVvxRZAggGMECBDkJn9CgCQ27AS+CJA/KhcBcmVAsukgZiTZJCWSwxkOZ6Zneq3uruqlqvcOej7K93dQLVLLL05fVL/11nnPe85znv15znOoGxRLowqFR3SXc8duAN9MI2GyqBY0fg0d+jUcFnHKU9ja2rp169bm5matVrNFFATCdCK4wg3zakkBlozzyOsIzBgjfOnCK2IEURDCjyYnJ1XdWlxcfPr0ab1eF/zjnzMkpBuCrNVqcm/X1tYWFhak9wGp0xMhLYULQSJgACQV4us1TbzAg4waTAE8wdbjYMjbTavnkkQvxC8epAdQomtgmtPT0+oObGxstFqtnZ2dnKIL8SgRQWbp0oifiAreTk9PK80SEej8CAWpePscA8U4As9ryR+pCEy9Xu/ly5dPnz6N01hpNDZYBIvJ/GaUX1L4wHUwL/fRPLi7thJpGR6RwaCxSAkWvungrBH1pBasYogSvMzm09NTxVtqtRpJTo3c39+3M+zo6KjdbhPp8MaZc7du3ep2u61Wq9vtClmDGzyIuRSUgjHwybrSQksmCyBUhtyPnkJ9CKcIvwsQCCjDQI3s/MXFxb29PedAoer4IHg9wCpe9/I0C85OOiR0pz1NTEwwd9kR4ZVc6+xkpgSEvry8FFGrVqurq6uTk5NyaZWER7FGbr04Rw8ODuxXU9BaiEHKhm1p8mrtwxf1RHso1uycuYoxkfAYZULrIInxYbUEshgNFwNBIkDDv2uZqC0MdQQv4UeNHOd8bmxs1Ov1jY2NiYmJ/f1975UdSAszADSofkH4cmCS4yHZ6VNTU81mE9o7nAuxxCr8OS4FmmKGspR3dna4f2xUtr8qFBXBi+pCpf9XLkA5sEaWiXsHd80/I8mFMYQGjBBeIjlrhurSCcUYH8UNLZJCiEpuEIy80LaR2NLvPLL4ZrheclZ0rVZjpasgwNkTOjG8GCYERSRb4GnlfN5UXDUjclFUuCEvdDhLUs3sklKFWgl6AXPJSLqi3wJskv8jGGlJCshGkFodgUAUohghfgpoQrBUBi+io7KklD91Bg5ViFEQUFg4QBgbGzs8PJSNYxOKGAqPrHyqer2ueqI3WmIGM1ghqoR7UNrY2Nju7q5a2kF7zIJb16jE//CyeCKS7ccOGh4etpXz6OgIL4NOetjb2xsfH9/d3R0aGup0OtgcayVmFIR0GAyNKXSn84SKUT5qHx8fr1arNILIM6WlA8wxzBg757u6uLj427/9Ww5hcVTaJhwlkRCSXgifklyjFwFcXlZeRPoFs11ACBMOoodK4SJZxPjEvHAHi5r1o3biu+VI8OOoAHIWSAx5AXYQ5yy9iYmJ2dlZVS52dnb4im/duiWAdHZ2NjMzo/6X3Cn0Pzo6KvZLzth/Ap7QiMKV2gS22SR1h6ZjvtA0smuAC4B2t9ut1WoSsQZQmQ6ZA0KiMRqGR+TVcOnhTYDMQrH0FGMIgAtQBxRxdoID1UZxDlml2fxPaulQ/pmfcF4cypCcujM6OjozM2Oy4ebJaWM2R6POtkIZxzYIj4yMdLtdhoBQWUk8MAfDCoUnYZmZZlRsQFoDfspSszpYao6rNCRJhBx4nU4nptPe3h6sjvmTrFnrAg9pqRiEd3FvJb+eW1qaKbIib6rV6uzsrByeRqPBu4xJEfs+sY9rtR90rq6unDpg1WPeaBB6zte/v4uId6+IHMvXkl9Ecy6dTB4pldjgChXddHAH9AYpVeBk4JDD0C7bqpNZsLe3R/On4EXdpRnasEEVx3fxDgODwVmGkg/6icJlvlHCfaWgYo4Rg8PDw9fHrY9de3Dga0jXllWviOvIxp4y0w58eOBMAS7iXKFAXACDZq4nBhznK8SlbDvlOtomR0YM75K5q9vvpZDeS9GGuZdIGJaqmZeGGMoBe11SevnqLCvYplsII/s7cDbZ7NLBK41cUgC3X+lzKbFFQDFES0qZYMwfgwHbnENB8bEWMRkEPoJXiVDQ8Mk5+MwQQPxwD+oGktdUjwDodQcHB5Kc7b4oxXsQsXy4vIbW5Z0s7cDNr/96s59QMhh5HNPFkmH8QJ5sqN1TWAOFymKHu+kEHOhayNX9mHlx+RoPpKRbQgL0Rg4YEgUY6DEUqel+TR4YQMXgpzDnQAuKDDWBDA9zdAEgDo0gTwJhqhAUyXQAJDoIBSqFiSgglj4+PECArOBgPAl9Ga2n/MR21QNNBMMC9twHdsYmnKZCahBTPFgBGkjIyAXGzDH7ryISMpHUvZFFI90oaiNmAal0BUm8N4hn4xY6Z53FTcv3HEDRjLAkyQWO0BLpFCgNp0b22R9pMCCQmSbJX7OpqSkaAaZGVzJaIJp+/aeiJCwtsQWGXNftj4OUynF0dGTXAcCFs2ZMwa2bF3l9Lm62cSfdpkEAHbM/7CPjzjJE9CUVJPKECheHc1a0TETxOM2fwIwAtxLGQB0gjhJgj7KHrRJ9XDgK2oUx2SMcnxD9lmBBQlEHSlBH6y4lUpAeaRmSBgCY1LTAk/vWg+GMYTGwE3eAAFkR+jkwxsiHi0jXKsQxlrVAcgF4KJC9TfolvBeTHsCzOgQU+Pf7fZmt2gRDInixGMeQcFIk5JmhIkiGBphQ4AXnQhiZYCn/6UpQCxI6a4yfApv2IkRoYBmtpCDCn8sjtkOGp3HenkXXAPGDhulb3/h9JQ4CWkJOsTFpr1EJgxs/70SP7EmA2N3dzZajtC5fnJsDF2kTWh1ocPNrEO5XfyTQgWQQETHkWhuIK0c9AjlkIwwLF6WFlCuHkROD6AdN0qmcwS6JgvRAP6IpOXPemknyZxeAMCGMdyCJIJmRa3aT99GfIUrJB+1HQI2yOPmcYXzQK46ugAuiG6e1iClBRQ+vyTTDDtC8QVr6aNEksJFgiyqaXl5ezszMlFpxWLYXkc9wl0dAn1lZi27AyANSIS0zDakEIS8uLqjrsfPBObMDkGj4eKUcPnw50GYrUVjoWdYupw9nqC5oiLHCstDU+ww+Txm8+8ZPQaA9YTcMjXAT4ocpIY1P2nisANGWMPqQ4XWGHxBIAzw+Pl5bWzs4OPBiCBEgBh3z/MBF+dTXNw7Zp4fy2fwavAz0s/weDIMkqeIvzHIiCZwySO9Zrj514y0GHoTaGVq0odS9JzkRIRxl+V9eXk5PT+dQhzhgkQqMsY2Pb9UmLUVBIvbNUbfQq6Rzoypn7bqEFelHvESh0yyf4SAoAXXBJwPgnSrFOJZHvAjOQbW0ByVaJFuA98QsNLO+0ZOjL1g4ZI8VTk1NCUfbOWbiOGbcBzHroLiXKoNDWiLgUuh51sgZyUIPhgfUBkPzF2mDxp5idiWkh/g5WRBY3JZBP45AQ9KhiVAqw8Ui0sJrsrgYx828D8jjsCPANCllIywZ6rbEotf61/l1JR/yyt2Dg4Pnz5+nsrpGoBPs+VUuSkr+VdqnDVQOQuc+qkb5VjGrYuYeCfOOOYMO00Z0I+sdWCSObVW8Aukm2QO15BXwj2YVYx4uEnoBAlRgpNHPpV47F4RSAD8M26w9leuwpGiVmRRCDZaU5n1EXNALDCnMrsMxYymEjEWwMxFgCUsCcxhvyvDMvrcwbrQEfZ1sExQ3Zh36FIthzdHYYTAmHpYELF4RTjRg1ODL8MSONQqdl3JYhumz4Us/QsLsoi1+ghL4I5nsWhIxUBib6eCqxmDWUU9yE4s0QTcD8OAAwKZnDCjbk2zvUw5I7WM+oIyZVCPmdXItG6gTAcT+/r7TOEvgGhDsyZM3L4xY45vUe7P9V93xrE+DDveJ2E//lBmEAVLwQ+wn9bAjByC9DsMIFCwjMK0NqJEDIUuM37ArlUroKg3UY+DmYejmZAjyvDztz1IxuPBp2nK02cw6IPWiEL+ZIkg+M1qliIYp26RgaSIHzEv/IOkRGGYPDKXXLPgp4lQrB1aSHyaCJGTU0fC9DolSgrAtvyIeHDBtqDCMgmACyHg7XoOTGjz3Krc8EHmLp+zMtYLuMMXD9DHipB5OTk4yWMCkvI7j09zNIrzDSz2VbKIIDMNjlFlWPCKseYA+IVvMqHw1wSj8ExMTjhI+ODggV2ZnZ4kxURgPRtT5en20OzZ/dna2t7f36NGjg4MD+BSugycBWagOPoXgIWLYhBXSA8pEt7mffowjnwCafnJ/gOXnvZYTNAVCgqP8wEK+iihxftIwKYSi3yLSgBWFHB7IG6FiZfD2SzstG9wPXv/hCJLbms3m6ekp9bVer7PWuHxVgIaybAElaJx1kWL+vAywPAJTBREyDdoNDQ1NTU1F8ebxAsbT01Ob23NqqCmADPpkOsoJl08KMl5ESKonb1t3v9/HULi+cbdseoWOuGqv17MuXqo+StjcyclJr9cr5wXB7CJJQN552xgltZb7oFqtUnDQlQANCsRrHDlhCz3ShYF0GZqFQwdKvz0hrFIDXhnuFkub5YK3ho3GwMH7gsChC7MLCiG6LIf2MBBuGy38R0FWKliB/qmcVv/y8tIpjGNjY1tbWyICQniNRkPFEbwJoxyzW6jf78/MzOzt7b148SJ0VV58Fa2GOL/qopxD2vwGvZUewVxbgACLlphfU2IIiMkcq4VBGBtOR2Gz0lHnKPbxkxGDbKfJyUkUS0IqkH56empXtlwRAlPKd/ipF0nGCmbA41goUIGGKSQhMkc8+jWzNubIH9OPqpx5hVSCpu5Q+sgEHOrw8FBeSqPRwDsuLi5U46RZCDsBfhJRy50gUTFgPHluOugt2gpbPY4AwwjOSMiLaWCmhKQ1jQsGTEhRW6fwJg4dPIiKYdjn5+d4tEdC/wacnAULRIZl4TSOrI6Eg9U+UWbOSsmShfjLO6ELCFxOP9olo8l8CePg6tnZmSXTRl0Gx/vAihwWxg0E+D9X+1Wb2dzcvLq6+tnPfqb+RDkgA/X5G9Btugq+hq3kp1/3Ij1ErdBDeKc6E5RquBhMinEF1diBBIIQTqBvMTSDOllyh5cymlJiRRtJwb1er9Fo4AWQQO5XUMfCMAd4E7Ko1F00I0AI7GwWPRhVkDUXwSpDpRjrPwIkqmaGZKYIuNfrbW1tua7VarE18D6RCM5tyi3bOBFKKQMEDuspqjUFIdw2ulVcJBhTeIeoeCICJcGbPk4XMsBKkjRJueBhpXfYnC4Z8eDggBYT+o/YBw0AhFfRgoMS5auxJ8O2UhaXVhJ0Mn4rpZk7QX4T0U9mna/6yVf9cDQeHh62222D5ISiwFarVbEnLG9qaopCR4CNnZ6e1mq17e3tWq323//7f3/jjTeePHmSKGKkaMb3616EWZRdhYXf7C1U/Ut/0iEkKOEbqoh4cZH2vpJ41pJjnyQMr2V2QlBSi76gcabDU6D4N7JUyk4dK4+7TgjAItHiHKVu71oUgdK5UAqclNlCVOxDxBnMA8CI94ga6BhAJeZE1fc4dtPr9XZ2dg4ODi4vLxcWFpJPhvVQmJNNNDIyImWFhtLr9eImCBsymNj2bGZa9PDwsMzoTqcTGo58AwczMnLXmI5FyVtcZAmAiDCQZhsHgcPCnG+lJo+uYA7EK5mpO8HkCABv9Cv6D/aGqrNSJbXf1FjDaPBQE0z/1NX0gKcY89TUVPQ1HmX1f6mKzWZzZmZGDU6dJA/62vSrVqv7+/vz8/M/+clP7PSgzebFAX0mdpMsf+md8tkSiL/0wZsNyq6AOHhfrgoNGQHD6egI8c+VuasWHkdAnFFrw/XpBeJPSEL0GLo7HU2fqn2w6pVSQOToH9F6F+5gmswEkC8pLW2Qh/GEVLQ3O/Olc6J2Y8ZoEvwDt3jmjI1uv7Gxsbm52Xn9B1C1Ws0WEXjsdZ7lpPA6Ubr9/f2jo6OLi4u7d+/GhQY77YmQWBHasHZ8EKEfdB5qR4cUNGPAHUyQEZtHyK1slPAiyTahGUoyAwRsCf+geiR/kC3968R65VdjCNrAQ9oWJpuWlqkk/rw0dEE46cT44yAMAnhXqQOSSZSd0dHRer2uHxIFq7VvKrt6r0N9zWZzfX29Xq8/ffr03Xff/W//7b99FclF3N1s8FV3DDfAMsPy5sCDAdPA/bC9gWe1N0MrFF7gJjlDP4/nEgb7Sp5Hqsst4Y/hvQdo3bIGUaY2tlhcXV31ej1l3rnfkrIaXwNeEKNDtMZ747yBRqQr/pIJIuxY3cEDs85JL6WGH3mCVoNeuCGdAmRUbVxbW/vxj398enoayY9rRHRTngNMO6BIVNNhpIyOju7u7pbqdNRgXaFegh2hWpHQalwVCZUBFAxkK8WiiZQG4WTRkXXxZ1vBk5OTo6MjBZTNzvqmE0C7SbSgxwEEtfKI6VDUs14UyQF8RvxwO8vhjflqPG4mvG/6IYp064h3YkNuPqa2v78f7mPPzvn5+fT09NzcHG3o2iJmCVcqlefPn9+9e/fFixfT09OVSsV2qN+A2jO+XJRompu/7kVGkmnrISw5HUZ7jxjPszDPymkm849XHAWiVfiN1C0ALguBpLLzluegDvpzjOSpqamdnR2/Xl1dNRoNuGIwxgDDsCeqChej2EQW3k9RWPQAs5O2BQ7BY4oMJmLMpTrADEkMn4t+bW3t448//uyzz2ySPTg4UMxTGbzwFHuWJPwkbGGJJU3JnNne3g5OR+FMwBxJmzgLgq4UZ0QEbFwtoUnTcZ/KwDWAvzgrOaafVTM8CpeKzLCFtwJkytUJLuUiWJcFKkk9wC+nHAETjqZZaFKDgUd4YagGQhhgYvDAYna6TXKqIEgyeWh8JycnTtnDO5TutoHlWg3k52+3241Go1qtrq+vj42Nzc/PI37jw5My/0DkV7kA97IlEJR3fsXr0HAJtehIGSrmivIxORa11XIny8DVJCanB6gQ6GejWGKtyQsUpqJnSkE/OTnZ3NzkKlMs3dkV3gLXIZmAFtZQVqoCaq+QLyCW41oCOYw3HexM+/gyIjbjFAjMSUV2inFSKIz8yZMnAr27u7vKaY6PjzudPidYCpRCBjMSUjIv5xGqpRG0QYG4qnSUfr+ffqBy1tSF/gfIBp5kfeFDgnwUgZOTE5VqvV3npo8HGYYV8cgAxxygxiCnwQTN3A8jxsctgdexYsRNTcfIMS8Ll85zgWgZaPAW9Aw1elOglKmVix7VTAiQ4SY+tbW1lS3no//5P//noaGhSqXy8uXL1dXVJ0+eNJvNnZ0dBQaIxxBwSf/eaiZhVwGQeQK3iVkMg05mTnkzzTKf8iLQKS+EzfVpzUCfEmsMkBK7ZZBnzPHV5Sgr4/FgKfbp6hhKoDE1NaXWdcpX8Oqr63B8fCyGT8gnAOPtAoTJHQzDZtNy4Uq+VJHKyNmiSM4CC/gTR0nCJR8mJyfVjUvII5r56elpu91W+Gl9fb3T6bx48eKHP/zhkydPlNnb2Ng4OztbXl6em5tLP0buyGdaA7/U+fn54eHh5eXl0dERMa4IL1PfnVgriEG1CNl1rG5CmBMLuov/UTHwPlNO1MZ41CCPDQW1zs/PZRnYyo6jSRZg1tnVF9c9jp91j/ch6kAugmBBTuhnMHooWUAwHH7C3tCRX3EfmgulTMZKtgCWGwGC/2gz5okRGsDw8HC1WpXFFJIk/Hd2drrdLkPg5zX8LAAY2dgflpnhhory+vIi0wgplr/+/V2Hp0ZKWH4RjoEVgknJMymz9+fn5+MdZBAy5AjJ8A4domeAhijhtRHvzGyk63TkkvVYbywgyj+YE2W2/aRqWKPRUDMj61I6LEIPrJg4FOmERggVCJPx8fGZmZlQ7Pr6+ieffPLpp592Oh17hObn5+/cufPmm286bkQ6k9Sd+BRZmEdHRw6B7Ha7Cu85yjbewQF8UK57ZGREyX0TlDUEYvT5SFRzCTW6Tw3BKaxC4lOgR3IylFKKJh7WODsA0whDJFSqkmhL7A3rj2GCqn3NU7nwbKi97NzN4G3aQMtY5mFMZcuQm4vwJrvIVDHBtWU0KMYrHJDTQa439uB/iiIpO5X9iQPTLr9ahow4s82UysZ/f9cZgCXMcoo8DbBbY+YugmqRGMkMyS403iOVqqIZ4gK6TVQGVuEpcDEJZPv7+571oPuWylDBn10XDz95fnBw4OC6hYWF3d3dRqPh3OUkacUHpisz8rqABbImlAWTsKrd3V148PTp048++mhjY0N86OTkZH5+/vbt2zMzM5GuKUpVrVbZOIT//v6+fMeFhQWH2CtqGvPKeIx5ZGRE4a2dnR0lK50XknIA4aTYNGcH/QLqh+1GaCuLEL+MC48L+8sLpOXRKYIkJTkFb90E26/CW22gAXmQMAQcy4O61SZPBS1zJxcmGx0NWdGgtck4y06CACae5DSq5dnZmbNMKBQKh1+fXOoxaOdYLykr5eRLOg9WlRzd3AYmnGnn/q9yUfb/q7QvGTDoIK3YTiWPBET0qVmMqyR1kc922kuNijqtf4xZ0C4OeR4sg7fz//Lyst/v7+zsHL3+s+1Pblz8jtR7CE0cWXt5mlNTU69evZqfn9/Y2Lhz587u7i5PgfGHaxOV6DbuMXqB8cOkzPr4+Pjg4KDX6wn8bG5ufvbZZ2tra5IOHUNy79695eVlDJSUznLTaeOZ4x00yNnZ2RcvXjSbzd3dXaAIMVPHsMv9/f25ubnNzU0lq2u1muL8iQh4FmYGH6yjWYdUXCSUC1FD2zp0XkBKgwV62CJuGGT4VVAub8fRPJJxBlDux8I1cpI/dJvGeTyDTxsAj3qfR/SPvD0FvbFdpxJDRV1R2ch1yPbzYh74VrVaTXgwUDCsDC73ywszLO/8P7vOwELkoBOHSu4DIgkcSe7USoXNuYIgENpWIJFDCyZx+52dndVqtUjg1NhT/9fmaDonwFYqlb29Pb1R9SXk55CGyKUcEDoyMrK7u6uc/p07d5zr0u120X/MkCBiLsjqCBBmCJhYcnJgf3/frodHjx598sknDrdT+2l+fv6dd96ZnZ3t9/vMTlWxOSaSEEl9OD8/d6jJ0tLS8+fPlS1XQy5KB8DGRq3X684LWFtbwwXGxsZsJLWaJVnKICLnLWW6pRcAfpSm4AMMDFUHLNAAQG5qSTr/GuwFZ5+ILVTtqVJS5i2WQ+eeDRfLu4ycMCs9CDopmYKW+fRGAjigUxBVChYJB11ZWD/fxKGCCqX3zp07BKbzwzLPjA/087UEdDkUDQYa56mvvyj7LFt+fW+l6qEHim60Rzezizs2JATi8GMvJcymTxU7eDQtCck/OTlJ4ECv+AKnp6dTCcdLVdHr9XrVapVbi5sdP7bYQQiM/PT0VPnKw8PDN954o91uLyws7O3tKTWLhTOGrWhO/hEIYFxIqhFC4zyT3IqLYQpbW1vPnj07OTmZm5tzusPt13+OoxQrZttnqzLmhY94+97eXqPRcJzR+vp6o9E4OTkpTRKPJAi/s7PTaDTW1tZyUogCu5wsqCICOZodFAc0jDUmWCgcNZackdZGC+PYgkjpP+O0WBbdcpTol2tEqLGbWUFUGvaRNnobQGCSPN3mgqyOiCLDbvbgTkyqoIE7npK8aIKOGJQUQFRflyTCj2m5b7zxhuQnNlgGFNaSO+aZz9zPhEONuZM2/9cv8q7A9yb3hR8YMLhbM+oxBpndWra12+jGssVKoG8IWE6baEoWQ62LcmM8Kzf+W+QdLz2+o/9s+7WWx8fHrVar0+kQleIFYpDaY2Hg6RqZ8X4ZCXMgK6iZg/devXr15MkTOoXK0BMTE/Pz87Vard/vq+aEU9TrdWokKzp79fhH7CGj7c/MzNhYBsOiYYVCFPlot9uZFB2EQMZeQ+fB6ejAUC4SG6eI7LWCSbsUfOHC9FMsczhD8nk1DMk6fhWWRsGGbNC7JM7c99OAhA+uhi6CtN4YxSTSK/2UYAnphfFl/EAt5MQEAEbV2Z1TgM9e5/azPOOzpRJwnKRHg4779CZoMpnw5kDhZuP/i3cCu1zofOAriEQ/j/FPMiB+/JI1C2+cAxEnGQs/HAQ+SQTImu3u7oKslFg5ZA4CJ6sdqAbm0oQSz5+cnIw6IGNPYYZutzs+Pi5zy0SsfekYn5ycVCiSJ5wGl3lF5SED+/1+t9v94osvPvnkk3jpBYHOz8/n5uaIhJmZGZvDCAOMI6n7/IsK5qv8bd+IJJ9SoqKNIIak4IODAz5mlo4BB2esAi0skw3Gx9tPoWWjceaBkvRKXgzZL0nHjP5PgYqMZY0b6teYseBvnKUaH8rMFEK0sfMRoc8wkZJwBCbcKaW6iZcvheQZrbf7ilgoTTkAACAASURBVMGxgxL7CBuFzD8Xb3TRJJO9fPky+1IzvnAvvMAgctPIiFM8IqP/GiI3RCuhh7Lzmw966c37MLLMe4n8pH7nJ6ARzrBBdWpqyrani4sL8hkQHXVwcnLSbrfHxsZmZ2dHR0cPDg5IP2U5kQfpCr0cUGF/JS5jLa393t4ehpK9wNL+qHkpcS3hZ3Jy0nH3KSIIXNTpaNE4jl2rOH3C791ul4xVPqRWqzUaDQeHTU5Ovnz58vHjxz/60Y+Gh4c3Nja8ZXt7++joaGtra3R0tNForKys3L1715EEKmGInDPg7YoxeEtjywN3KV9GQhgQKbI3R0JwsopsYxlJYk/qrhLgkA0n5TWkwWIcOX+WGpW8GgZabAROWR4ZxCBDEeJF6QivD0WVuIdZDOA5LhO0L32KbMOwLaAIZYVl5Nn4+QdQXYOBm+nWCNGCa9ofLhZ1Y2hoaHt7G+pee3CcjnJ0dFSpVJ48eXJyctLpdMIL0ruLjDXgwPzMNiPLr7lz8yJtylkRyKWOlwfTPncGLjK23De2yHNqvMWg73GekZ8lgGLAy2yNZQQ1R0dHa6//qtWqCwSfpCDYRmZCRMSMC6BV8KREEPgKikpKyQFyYjaZu4KcSoaoIDAxMWHJg3+SWITTnTsSq4/9v7+/v7W19dd//df7r//Oz8+73e7v/d7vzczMCEywbhIO4GyDEqQrTpRlivyJIU3sRDkPpcVvx2uoPbDICIoAsJrcjZEQeSNQ+2r6SdQ9ODhwQg4RjT8GgEHXLDcVLDLchXUpX6cHuJpn4/ALDucihKNxiZzpqryZ9sHer7rIXDTwxvK97lP4gS4D9hMN9Dr1C1622+3Z2dnx8fH79+9fXV0tLy8/fvw4BJ/XZEkCF3cYopr9WtPI/NNPJmOS5Wf6/6qLgADaeZbVCv/Gx8ftZ8atbCzh5wth65wEcygVuUeOHR8fy5MRBqvVao7i4zF1erc9qkmGiQCUGxclMFPmG7cNG9rZZofyqdx8hHyHGArKOT097Xa76+vrR0dHzWbTThsYbwqSIMmrTGd3d3djY+Ott96an59fX18/PT29devWwsLCJ598AlHwlJOTE+AKNwzxGyfCQ7FYQMLvwGhFNPAZvsBfEE2VB9FnjDL94zUGFmsUWhtGudA6ZHkxTBKaTRwUSpAKFGPv9SzawDG/CtO8EdoHY8OM8lTQW/vcL2kkSFtCrGyZ67y0JOaAXZ/5KeZJDNLyccLvemNPu91+9uzZ4uLi5OSkMw9j45UDCmhC+ZltXhnQD0wpE8hFwFG2dHPgMy3z7NdcGECK4QVHjRBtMN3dgR+Cn/KfaJUBpZRVpA5dLi4u1Es7Pj5mOPDe0eclTkOLIJCdMzRVIlpWv/w2EYdkEzCgYHnykajBAoTc78a/s7Pz2Wefff7556enpysrK1NTU/w6zWZzdna2Xq83m00HBMYisGqTk5P3799fXFz8wQ9+0O/3j46O3nnnnfX19fn5ebpimbGP5sOYQsxCBkEMLGYAszEphOdaOZC4lrBgNr+FK3uw+pAkpB6cCZdnF8inRM/a4LxhTzAnajn2WmrmJc1kGHndTVSkKUSjCWkMtCy/prevQeObPwFy+k+D3I8s8a4kWYX4PWJxbRi59vYfHh7S/SqVihO/Su9LXgMWA+8wk3C4svFvdh2CMYdA7WtAVrYJ8TOeUUjGnM3bAYSoWESNgBZtE2bLinVCG1RDkHx1ct3Ozs7IbV4GmmS0ca4mRRcoEZQCpntq0cWYZGUEX11AMhrB7u5ut9vt9Xrtdvvx48dPnz510rusZJsyzs/Pq9Uq9wSulMR4Rw8eHx9vbm5SIigjExMTMzMz9XodDFEIcmVsI6rcwYMC8FAmOh+QH8RpSv3JR+ZsFka1zwetBsXtSgB2S5alMeYQv2xuKJpojnWP0wuDiNILpLEKdaVN0Cak9TXYGPS7ifCB5EAbyOwt5VNfQ0fcBBqXzfQcMkxvoRfsrLxPk7qG7fT09MzMzJtvvnl2dtbr9dbX1yuVyuzsrJFl0OkrFxkHiA8MLi/7qouwTB160U1wfNXjN+/rJ7hoPFlvrxOWc42oyHliFgFTrVnsfGbaE+bseUUyR0dHpccT2qOjo7x0ksmUTIFbUlAjA5G9Aff7fTY/egifDgbLckFaJycne3t7a2trr1692tjYQPmXl5fz8/MpK8arJy6oPgd0t/vo4uKiUqmsrKxUKpXHjx8/evRIdY3bt2+LL0jgx4lK9ThpgokyYo4cS5KU8FYN4l23IuFlSY6IGuVCQlEoMDKgJD9Ioqu8FyUMeJ2MQc9YSXKfhVrhD50rEr7sPzzi5gAiBUvUjeoRbAldlKQU/MwAvDRd+fpV6J372odLug8U6SqN82vuGMb1lt6xsTHnqMTyyTFS5VDSdS7KTjOagQHlfTcv4t4DpjDdANdF+evNTso7xuATtWABLJwk8FqMcER45lgOn/ES8xSg7aQDURYIVVvWGo0Geo5pDXVwAQ8GO4k4NwXwpPSohBk/DfZMugrUnZycHBwcPHv2bG1t7fnz56uv/zqdzszMjMPtU6CC+ybmNxq2akNDQ9Vq9cGDB9///vf/+q//2uNzc3PLy8u9Xo83WEEHSkFqaVisgVhptHQSO6HpFDhBzKEf4joJf9kMSvOnEAEUdgwhLTGFKIw78GT8g3zm6JEQPDTGj8JeIxhKL0xQKPPFa2A1zMmkvMXN0gkaCg8q5qWe1acH04mnSorzk088K8PLRdoPzL18VuPyDpq6tvlhv6DuwsLCzs6Oc7wz1cy8XEVvzR0vyCMZ08Ar89Uqhry1H3gq4gIR5tlfekFKw0hACewSkkT8XqE+Ny0AqdPS1aJMeN9JMjAb9TrR1D62y8tLmZFsAXMxBlhuyuwImy75pfEReodx2pVlA8b+/r7TwY6Ojra3tx89erS5ufnixYutrS3ex8vLy62tLW6I09PTer1eqVSyj1AhR6q4z6mpqVu3bn3ve9/76KOPFHFbWVnh1BD9oWwbbdylLEFskSvRBAXqMBqSHxghRlxuwRNJiooRpjIXskchUSFjAkTnQueWjCYSeRslBffM1oZQuPuCr6K/ECDRn6BiLspVCwkAS7A396FZELhEXXzKSMwuZmbaB6Vv3vGTx4ERB7n5yC8k8jTzK6GonzG7NU9OTlqtVr1eb7VajFX5gGJOPMYq/GX0GWXIPgtcDjTq2QB/HehHbwPcKwMdeBYvCKOxWtaSBAgCRXvkLfeWSAAzzU7VROxmZmampqZyBPrExES9Xs8RKFNTU61WS4EUXitYIjt9dHSUBosedCXzp1qtHh4ejo+P88ndvn3bwlxeXk5MTIjDccv1er3Nzc2hoSHxNqi2urr6+eefP3nyZHJy8uDgQGKcyML4+PjOzo4Y5Ozs7OLi4srKSqvVGh8fb7fblUpF51dXV+q3NRqN3/qt3/on/+SffPnll7Va7datWxhKt9tl/SkLhSeOjIwcHx/TEN2h71gFRIUdTExMHB4enp6etlotcIijnjfETacnkvZMIfkL0odQOI09konWlt6iM4YdCNZwo+ZcRsqCVXYsp2yI5F9DMHw8SBt5QJHBkiK6+W7j0KXiSTqKsimFhpZ0dnY2PT2dDV0p3GDk5pVpkkwD5JqvA4wmqmvZQJtktUd/ybN5xfWs8UgZURwwi4uLv/3bv/2Xf/mXMk84iqJloZ+S8kP8A4PwNRwBYYe8v55L3ewqHDfTQPwZyc37eVf5E33Ss7HVIQ1onpycELaXl5cO+aDn89KzCzzOC2j5MaBer4dHWNqkG+X0jpGRkf39/X6/32q1ZNpbHtUast0as+t0Opubm/v7+6oybm9vt9vtg4MDxYL484XHp6enb926xdddq9USqDs/P5+ZmWE18GUGib/3ve9Vq9VPP/300aNHOun3+/v7+2Nj1/IAO1N1JzXOMCbqA+yPTCZ4S3l4eHiYJCurCSbwAXcuzYQw+ijV+AKNQw9Z8fIiYjCIGsSzoNEgknkF9xA5F0+wMcOD8BQxr/MT9oHxySxM7hBJQ7SINSJCzMh15D9TFIpq7I2RW+WQBsjBlEEs4m2gfaRd3hhKRA7XyZHhgqU6+vDhw7m5uU6nk/xT889jga8eIcHAEH3NZHwN7wgH+oVP3bwZIk8PwQCEV96/+Xh5p3zQs2xX0JcugkPb3yqHH61SUJH95eWlEL3pT09P8/9RJZJzKqtfpvD4+Lg6Kq1W6+zsbHJy0pFByi2TbOJqOzs7W1tb7XZbHG5nZ2dvb4+OPTMz02g07t27Nzc3t7u7K2drcXEx41S5QUTd20tdyZSPj49tGXr//fd3d3cXFhZardbi4uKXX37ppGd4ie9IPVKNN8hdoiDpGm0W3WqAwrEMBIDq4pIIUoWMLWVQq1y7XAtZwS4tI8ZNMD8xPXDwGH1pY+TuUxv9hOwDtzTDjDAy10aCw7ovkOaONcWGcF6MMm41M4q2ArwoeYCeM3f4ZoLGHOoAwwAETIxBb6HHa8lP5kxOTpJpZl6tVlutFsHo9IvQavkao8kQM7jyohS/uR9WkjveW37Ndd44cOFr3p656TxrH9wqXxFFxk36YdaeHmg/H7JMdfe0F3Oq1+vT09NJm+10OhJ+ufed2wPt0EMq2BGtolA2nFerVXtsnfz16tUrpTKpZkhFPtKDBw/efvvtW7duVavVbrc7MzNzcHAgDCG9n5uwXq9PTEzg6aVOSz5vbW0tLy/fu3fvO9/5zubm5sXFRbfbbbVah4eHe3t7Kr2q7CAzylNmoTdUHXmVUKJk5xi9BC+ORpmyNLrK6rC9IwnRCW25xIQwbgQQuec+qNKbGA70MsxafrHtAJGHvKQYZdAgq8w7gKmhfyp6UAVVoxR+E6ONKRHtpsR5gydIfJZag7fD53wG+fMrCs/ENYiyA29jL/tVqDXwvFb7sTeHVTLyWYnGPTExQRha5hBbuvj/c5EpDfCIvKXUJIMoeQog8qlBCeWMzc2IJmsfhI7MsfwcezL5rFM0N+OUKkffs9GN0Xt0dBTrWukbiT2pcsfDB+awny09PDzsiJvDw0Nh/KOjI0t1dHTEDx85Q0uHxAT71NQUc12yvTPheRb29vakMDE+GTJ40/n5ea1We/fdd7e3tx3Tdu/evbOzMzl/Y2Nj3W53cnKyWq3u7OyoR15uRpb2xzsYtzzVutfrYZdBUE7TELwlwwUGGHGQ29pF6pSLGz056+tFOI5u4zXIGKxyln5gDLoK98nWWtSBeRHLrDOhWX7HOCxxahSIQeTkxVg9YqvxNGVeNIJ4pg07xB82l2FnysHtdBWnA4ADiAFoY7Jj/C5kReJMrVZrZmYGWgv5ZIVCloH7AH3mvouSUPPTAKm7f7Pnsoc8UnYY0IDIQP9lhwFQHncHRMIUMGx6EJVJZI4HmzhKUNBPyU4J1gbtLi4u9vf3SyIX/JdMdXl56cQo6RVIWgqwPAKetqOjIzuC5ubmZASdnZ2tra2pEf78+fMnT56cnp5WKhU122xYYCwoAWrtDw8PFWuxV2d8fHx7e5tCWKlUHPN+9+7d09PTZ8+ebW1tJc//7OzMpibzki/AUY/BxWwmG/n8s14IEoRjiMKZLBBxis5LAo4nLJiQdURvug1PQdgam3XoweCz+nkLZu0r9QpRxTliWeF/vD/4COkYovJe8sOLcAFj0GEUFtIixgURna5C+bkYIP6IKzSbeRlnoBRSTz9a+rw+ohs/E33lK2o0Gg8ePFBfyXCBNfGSsou8ILRXXiChEGfINcMtG3/NdRAlD2aRbj6V4XkqjwTE5XpEw7TZNpU/dQtpcHTOQud/kuHxaVENJPkYWGie5knDdyhVtVqVIbO/vz89PX18fHx0dCTP0vLnhJmxsbFGoyFb7uLiQp0lIQN6/uHh4ebm5sHBwcLCgpbUbANjYwu47O7uTk9Pz8/Pn52dselOT0+l9DmkeG1trd1u37t377333vvggw/W1tYgg5RB3r4wOHSSnH9KEC5Q2s9Rlbm1nQp7c71iUYM2YetdBh8cC1oHkcwXmUVuB9+059MJCkU1KEUiQkgPEN7AYAiqzlANCfVG2fZeMj8dhgUAV1S2PGu++qffoe1Q7ADEgvnhsOV8NcZcoBNryFOhhWs5ZyhJ8/Tb1NTUgwcPms3m5uam55OCEl4VAhsY2cBXzYwSrAcGMdD+q76GjHUVuGR182AGVoImSBPxEmavZ5vqUrcH7KxiBAveIc3erlW2It/eyMjI9PR0kl5JiQyGTdvpdFqtVg7w2tvbszmPnX9xcWGDELX26uqqXq/fvXt3YmJie3t7Z2fn/Px8c3Nzfn5+dna2UqlMTU3Nz88vLi5SMezGU8An3j6piriAPN+pqSmuB6Aw4FarNTExcXx8vLi4ODo6+uWXX66urjabTb4A57iDGEICE5+wPHtRLY3Cp2ie5Ux74h7LcoQgKVCGFGIbUBCC4iog6CQ3fUVpHgzwRXOQq5/CMk5OTigR6C3rrtwVFDIeL5qcnKSj/XxL/Ni1+KTDD+gash4pYmEcOoRXpELwkNBGXwPED6TBcF/NFJMKZYVLGhLRS9LENEub0T/+4z/WwpQoitjtX/3VXx0eHvZ6PZlqAYFR5ms5sqyHgQ4sXpY86oDlyay0z9fyIj17XZAmYAoQ/QQc+s9PDpOCsjpEMI4xojlLtknVKr4igj2o8PPjzceuU6RouVgkxZvxhviZ381ms9/vi8NL3el0Oqurq7u7u8fHx+12225/e4Shy9TU1MrKyvz8/P7+/vHx8fPnzzc2Nv7yL/9yf3//xYsX8pSbzea9e/d2d3cp+Q4X46ClJTp5JY4uU8MpMLLs9qH9jY2N1et1SUeHh4dra2sOwNFPfFehooTfMRfrBR2hBy6W5aY6RbuxLhbCqoVcs/RZ36AsumVBZGt2opvem9QGjaMr6T8Yy7Aqe8YK7Tg0eHOkFxP7GEQsf4EMy23pI/MNJvRFPEjEtoIIDRkDO+TMvhKGDzdB2FxgFUqMZlpGr7MbLc7UEvOvH/lP/+k/OdIYuPVi99jLly9/+tOfwhKrm1UsibYUsFmzX3pR9vBLG39Ng4F+fM2nixJY+SncF9AdZgp2UXawhhiW1DOrbiVwdPiRADhD6fLystfrofmpqSmHXrOfnYlydHR0dnbWbrd7vZ60GUKb3+HOnTsXFxebm5unp6ePHj169uxZtVr97ne/C2n29vZ6vd4f/MEfPHjwYGVlRUDOsH2yMi4uLpzbkd0ExFGv19vY2Dg4OKDFwGkIJxHIWWPPnz93WECpLkEg8TMs4xeuDoTTGNdAcrqCVGHQpZDIAunW15Ld6Ce1GDBfoVmO2BxqrmRLKXU9i+n4hL25n5eWoTg9lLiUZtAAiUa2lS15VUoMieskKczRdwxDn+GM4ZV5F66Uo2Kg98Aq8Ft5RShU/xne6J/92Z9BlIEfqtXq5eXl+++/L95TEoCH00UuBl5fAujmT5HkA4/7erP9V90ZaO9rPl2UxK8fEgPjJK4VfiulkJbhzewjGr6cKFllOa9egppkNVU37L2LDg9fe71ep9OREUBcYDGTk5Pq7czMzNRqNfmCP/vZz548ebK/v/8v/sW/+MM//MMHDx5897vf/ef//J/v7u4uLy8vLi7+/u///v379x8+fPjs2TPyXwESu4xN0Lb8eHPRv+AChkXpg5Tijo1G4/j4+NmzZ4oOo1KUTBRHxA3AP8uU9UW3YUysA8gWXI+ACf3oJ5RZduspqk3ZgwN5+FBwBESFoYfUc1EK/Cg1ICatm9YQn1epg4QZZQAR8gGIn5J6RB2Iro65JF269Kl5cKDngD0yxoswWXwh3CEwj6qSBpn+NcP6kz/5k7wYsHQqkfPzzz//4osv7CRlBZVex4ElydfyIrAobxKhN38Kixpo/DVfBzrxNZ8uBogfIzcRpbvZ6hFKceqQbBaMNY5cebkl1fDGEdrJyRfgcSZUtD41sw8ODhxirYzKG2+80Wg0ms3m8vLynTt3VFW4uLj44osvnj59+tlnn11eXq6srPzjf/yPv//97y8tLS0sLFSr1X6//6Mf/Wh5eXl3d7fVak1OTu7t7e3s7LTbbXl+RotzwewELACTniyZV+5QpVKp1+uNRkOi59XV1fb29u7uLq0hwvkXypmbC5T2fkJUPE8DSxaiQvmxF7wIcmYF9SbbMgg9Nna9ObVarVYqFSWMrq6uFGiTjXt0dCTuXSJG2BOzyCqTCsaQgZXUiIvl2ZBoppmfyukEaME9WJGlgY05lzFkXA44QPbSbFsqx+BFcRjzRwSxuWmjdl2H+jADLaAIzXNpaemP/uiP/sf/+B+pURm/YMbxG19AjhIPfgPK/43fbg1KHpQSPfpE/wk1UY4SXoJSCmaRsRaP8IlBwX4mMGEYQlLbs9lsVl//TU1NNRqNer0+Ojra6XR43V++fPnmm2/eu3fviy++6Pf7DsO5urr66U9/2uv1Xr169eabb15dXf3O7/zO+vr6N77xjeXl5UajwS9rKZkz8Dg5AjwI09PTjUYD5skmsP+nVqtNTU2R9vV6fWVl5bPPPut2u9H7qACRme7/wlWAVOYebzYdB1EFznAXMQQrgsQlE+EsRBjJq1NxcPn1X71e39jYkBPd7/f39vYYPibrjWWHIRsXGQktHRXQccj/IICuAg3kBJnDvLwom5f0ZpqULxNhaJMW3jVAFMAFA7MlKVqYtc4jJQCBKHwnbbJebKVrn78/9r+Bjo+P/8N/+A/ffvvtH//4x/1+n9lfwqtEgptd/58uf/H/jMnPv+7jv7jTX+EufhxBFAYcvdRF1hVLwmVp1PZpgDI/UODAILcDnw7vME/Ff6jldA3UzuvearVmZ2eHhobW1taePHny4sWLbrc7MjLy4MGDhw8frq+v7+zsDA8PLy4ubm9vf/zxx+vr60p6v/fee9al3W5PTk6S2wnHWlopA7A2Pt2c5WBNBS+Pjo5kCoLA2NjY4uJivV5/9eqVQwpKcWS9ggw3AZ+fiO5SHmbp3cQm0qG3BCsGmELuHx4eNpvNVqsFzvPz83Nzc7Va7f79+zjsxsaGk4jkXGaEBhapjlbxbmsaG4cWMMBrstbha3DJpDKXoFn8Kag3Bg5uorcS+SkguZNxcnBamoyhhFUm6FkparlpYGlveKN//ud/ni2rXAicBEzc4eHho6Ojx48ft9ttO728OOuHqWdJMudc5PVfc/FrNR7oJ2DKGAIa3Q5OeHSUEZ5dNAQ1YJk7UgevOPP1RnYJaDMmo0QxEVMtWy4d6Sp+k2KBBkBsivydn5+vra19/vnnT58+7Xa7drx2Op319fWhoaFWq/Xtb3/74cOHJycnH374YbPZHBoaunfvnrpAjgPe3d3tdDp0NNvmpqamIiioMLF01DL1K+IEvRwWQlOwS88+IvGOEtqhooEVydeSw0YeAgj8CSpHBQvLCFWwXLDgEk9UVV5YWKBe6V+64dLS0rvvvvu7v/u73/zmN5eXl09PT1++fJnl0xJRxQKPnzsDKGdnIliD2eXxeARgUZ7KRbACAJM2Ei0GmmmP7wzgLQROLlm8LXlFYJVxGqSVjeZiJInIXiPhn//5n5t5rJ3YEjI6W63WT37yk5cvX1YqFTmPRmP9yvXIdXlRsomghYsSkzKBr2k/8PhXdfJLiZ+4o+MEKVNOJ1EWaGrnrCzaNKYWxpMUmwoy2eQvWUhVbKEay6x0NCldq9XeeOMNGbVPnjxZXV21L1CZ7fHxccdgzs3N/et//a/feOONjz76yFmd7dd/x8fHzr0SzD88PMwWjrGx69Ks9AXrZX3jxArPghxh4nIHyKu5ubnLy8sXL17s7OxUKpWwiRI7v2q9ME0IGoQB0shMxA8NggweCR6H+IMh3n779u1mszkxMZE6xQoW1ut1iszw8PDCwsJbb721tLRUq9WePHlS2tslLoUJhpzw5UTsgC4ZTaYcWRq9PSANPZu4jADbAQlwwgM38ZaAKNN0J588zWUzLQ0GTIKfookWMXWNo4PkFaP/5b/8F4Mw89gSgG5v9rNnz3760592Oh1F78PRoyYJhgNoiQ0lsyzB7fUDd24+XjYouy3v5zoY6Q4pZ8IDzyLFi4sLNSq5NrE8lB/fj4Mu0bb6NlQD/Bu+np2dyYS17Y/bjD1P8SYTBMwhqLy6Vqs1Nzd3dnamiv7m5iYwUtHl801PT3e73e9+97vvvPPOkydPtra2Li4u1tfXnYTpkMy5uTnRB5mqDhegZOLXpg/JonQMDQ1RGYJVdhkMDQ0l3wH9LCwsrK2tbWxsYGqM2H6/z6mWZJhQjgueUZCEsmgANLJqmE4YE30Tb03dYcUIdct5PjMzw9XC7FJ84fj1n8naklCr1dSk+8Y3vrG9vb25uYksj4+PBUeBLhnuGWEGEJWkzGikhqA0BM9RZ4RhWyFFszNlbMVuOkPFO+BSyQ0DGVhk5AkZ+FWaEDGT9Q1PMZ70adilqnIt+UMbGa5QR7/fJx57vd5HH320tbUVh1/4dDgTYisXteRMA/d/A+K/2UOg+Qt/ipgKn8MdYD/YCbcEQfnkaMgUdTJE+RcuMYoZt6hqH73Xf7QpTgGahSXnPbFJ1pBgWArsfP755+vr63t7exCCdBoZGZmZmbGHd2lp6eHDhxcXFxsbG9Vq1T5roWydrKysjI+PO3REMYKyeGmtVjMXG3KT9itDEQsw5WQunp+fp8A5XHG2h+IisgOwjOT8/sIlAOp4VcA8oamSeHDGYPbw8PD09LSqJA4Ld4gYgSnHhiZC02GylXKrVqvxqhon5FT+SN7k9PS0LAwoHXrmilP5I+I0QwUoX1EjUo+7Dr2FMpUtcrP8DOqio5sysmwcsz90qv/QYKgd4vkKUaGc3sI+Qn1j2WthkUpSOTo6okS9++673/zmNz/55JPQyc3FLkeWX3/hzfz693pRaaIw9wAAIABJREFUvnpAVQmXxbYhUOx85i6mJqbqJ8ST5SccpEzGdg2zgIj0iOSceK86nyp/dbtd52Sy1TMe6atvv/327du3G43G/Pw8V8L29vba2trw8LDQgMOFFSCyIXf69Z/SQPL5arVajqxLQT5qnb2GNgU52Ofs7ExZwUajwUadmJhYWFj4gz/4g6GhoR/84Aerq6sTExOVSkW0UlywXMeAPeQkAAEXyc8sR2k5pzb52NhYpVKZmZmZn59vNpujo6POI+h2u2gJ9xQhxzVQ6fn5eQ44gsyps3p1dfXee+999NFHa2tr3W43hXeS9gvtkUd4t9HC+dAn0IXRYPG2HmfuIcsonix8XANBYoID6qoeQvkAq7d8lh5QDeihEemwCL/LSAL/DPJayUr9o8hwgJAcnsTvd9999y/+4i+yT7Nc77zAoNNP7peNf+PrX7e3TDICH+gTGnHf8qRzaxzplGVAxvRDmj+mKeBMAlNBbbajuoMe91s2e4+PjysBsrW1ZfPsyMgIzRboFIFoNBp/+Id/+Oabb7bbbW9Rk58qUalUaAp0iv39fTt2p6enJdVDyjD0OBrIKGdXQu4cy4Gc7N49Pz9X0K1SqeA+//Sf/tOjo6Pu6z9GMiTLggbgZpEooMb5GnQPypJjiprkEKR6va4MIckshmrtpFS7D3vjnMY4pqenGQXEOEKtVCrvvffe8PDwZ599trq6qi5zRGUIskzcghumCZK4w8BM9Q+FsDOPuAPrgmARrl8lR4NyeYuL9BC81TIbBLBUwCei8gi+UL5Rn9f7+RkV8N5dcWz7Oth43/nOd+7du/fZZ5/pMUM0mWBAKD8YUP70//i6hJphh38PDDvmpQa8YoiQLeDTmR+WNhpTepY2kzJPTACBqEajYW2yQt1ud2dn5+XLl/CPOJ18/Vd//ffgwYPZ2dlOp0OgPX/+fGxs7Pbt2w7MnZyclB1clgC1V+/w8BCpyEEKkQwPD1cqFeEbqC83kbRUjHBoaGh3d3dmZmZ4eHhtbe3w8PDWrVtLS0v41x/90R81Go3/+l//65dffqlA4Pb2tvThrCyY41Y4pt0igBYXN7pCzCwdS2DTsfwc+dHKovX7/V6vB31PTk4wOGSgVhruaW9yfBa2MFGjer3et771rVu3br399tuPHj3afv335MmTaCiholK5Cy0Fl3I8ofbhLyYYujC2LLfHiV8IE4UC3wkAg5keyf0MoLwTqnZhtOFQMfKjYUX+6+TnNfz4h8LDRkZGer2eM+HGxsb29vbu3r377W9/uyT+DMJwy7FmoOXNsv1vcA1kNx/8pa8oQVCujWFbnsjJbFPPGhCVUQjjVsk2x+SWQzUaINbA4JQ+TFCLqirCLcE2ISKvIKKr1Wqv1/v00083NzdnZmZmZ2cth0o4w8PDzWbz5ORE/rbD/+bm5pi+lUplYmJC/cUUyaQqyy8WcbTDT11ghRt4CpkzvV5vd3f34uJCWYehoaH9/f2lpaXf//3f5/k7ODi4vLwM5VsF4LVGcDoe8tCGimD2I9vREMlMYqNVC3F1deWcYovoHHHVTQIuCQ6zs7O0hsnJyVarxeEKIGExRvvNb37z3r17Jycna2trf/VXf/Xhhx/yFCaWiTFZl/AX00kVQJpdOFrozdw9xRhM2kUET4mEOMhN+i+xOsxiQLKmn2CytcNWYKDxEGZCLXrT/+if/umfxmTVHXpIQggE4mv527/9Wzs9BgaXHgfu36TV3Pl1ifmr2qfDgYsMaeA+vk7VzNZ9MX/LQx2lrArmoVuFMaMCqKshz1cpKEs+Ozur2u/s7Ozc3Jyi+izqaK2KcMrkwQ7i8o2TbGNj4/Ly0ob/xcXFWq3mZHWe7aWlpYT0Yd6tW7dIfkJS9Z5KpcKjkQpz0cic5xESyiF/xjM0NIQUlRV2Pu/x8fHExMTS0tL4+PjW1pYjXm/u7YED9Hy4RC6hUpk58/PzrVarUqkkKKOYAr0JHjJDYmnKsHAz5gz3x+3btxcWFvj2p6amQN4CWf0E+U5OTjgUFhcX33zzzVu3bpmvcqNGC3OMHyENEIivX4VgIUX4QDa4jl4ZMnE/kiYscqBBjCaQsWqZGmSm4sUJNSDkPeiRTHD0P/yH/+BhFmBWbnJyUhFb/qrx8fFms/m//tf/Wl1d1WZgfKGx3C+nlF9zYQT5movy8dz8+q7KZrku+89soT7vNxmL6Y6Pj1OJvT0H5nL+SX1vNBoS3cR1lLiVrC6lzJLQoWZmZhx9CQUvLy8bjQbzSgHfra0tIX3ULhWX2u9TjGp6evrevXu3bt06OzubmpqamZlZWFgYHh5uNBo7OzuCczMzM0tLS7du3ZqdnRWbPDw85JATKbS+EIg7w1lDXF/Wl0MxUUbKhRKA5+fnu7u7nAvKlktb3N3d3dvbS5SnRK+YvrgnvaPRaOCGc3Nzi4uLc3NzNlPBV15J4tciYqx4EO36/Pw8Yh+PHhoaqtfrt2/fdk4JQZUTChGzsF+/3xcCmJ2dvby8PD4+XlhYmJ+ff++990ZHR9vt9v7+PiZlIuQ/EoIkJoXycwdmxrCHabAohBqGnmZhwSViezbz8lO4Q0ZVEkh+pbpSTGLwZ6hhPWEi3jX67/7dv5PBAr50A9gsD4zOYDNJo9H48MMPt7e3U8ROBYgMImRmnqU+Y9BpIGAbjqOlhBN1svjYoSZy9SzMCCzKm6H8sLNy2q453qTQMU0XFxdV2qRbpsPYouGpYtc2e3c6HULVu7jW9aBgdqVSUUVvbm4ODbNLT09P1fCoVqsrKyuyfcSl7E5RnHd2dlaVAdnE9Fh172u12unpqSKr6nO2Wq2VlRUDpqLv7u6en5/b3rOzs2Omqv0y7wUmePt4K6jiEZKjo6PVatUbx8bGbEOcnJyURXfnzp2RkZGf/exnzAdhAiedXFxc8GjGdcIgwkk5RxXAA67j42Mlw0vfUzRq5UBp5kdHRzwUIO9FDx48uHPnzszMDBl+dXW1tLQ0MzMjUgOwDilDvefn5zZTYEnj4+Nzc3Ojo6Orq6sbGxu4sCwGoCCugxu5CM6bZshHfUSTzU7KIBUJkQMUoHFQGgccUBBKGtYSUzM8ShCFNHw8Q3LBVk2qX2jneksv93V5EoNevMMz2SX26NGjjY2Ns7Ozer1u/uIl6DPkZ7ahvQw6mlXp+wmtgmzEaZyxmUxAHxwdUG8GBlB+NRhRjPB4O1iV0AobLt8iSTZ2I2uIA8yUubV0C8sJDXtyl5eXHZ6L5AheyiRuXa1WMQ651dPT0wryC9opSpFIAa+Y5Avpw/KC5ubmbt26xTXIBdDv96V2IU6qzdDQkCj9yMiIsnywE1Wo4CqIKA2GxQ4jDTL7Gqanp5U5ffbsGWQlwFGgRAMcJxvL0XakIjJQ4IDUjfsDygEsxAV2nA6iQqR6vT4/P7+0tOTIGWclKbjOkqJKQDYSODnsUFQBdTpOt9tN5WJ2X6wSKBp6I7rNxc3goa9hXiEBrwvhxayIhA8jyEWwN0DLT1BUg1gBXhHPXfA5o9VPuh3DooSp8EJCuOyRQ2hycvLBgwf/6l/9q4ODg/fff98pLpeXl81m02Kn0/LCgHIHLPI1F5oZAMDRGIVVswk8zQLT9PArXoyNjdFgwYhuub+/T1hx0WVRoYtRhYmyFywDl76fkuGTbQL0z5GREcqqbp2WVa1Wd3d3eebtSLUQEoqslhcxjE1cFIaYtZXYgB3CDWLMeyRHgyPY6WgKDUxPT1txEphdky2GwgQpHxzngrwg/kvetdnZ2S+++GJtbe34+DjbImJf5MySpEXiJoicvulzfHzcMaGULICyQFlWHCo3HUyW6oZgCHMoC5VKhQehZLghaYNEQtVq9Vvf+hYR+hd/8RcyKQZC4HiNDmnH8Q3hMqXvA68xiyC8r2ZBTYBCsSDykylrTzUWy9S+pH/S0YMxJYKZ+sGaA8by4trh57ssV4KO8ZBohBOaCTeHTH322Wc7Ozu4nYhR2WlYjplnuGljQEwDnUTViQWoMeXfSpRwDCqEC9y8yOvCXJGxMpuEee31n1JlzI04cj2eRWUEkQBUehkmlHnKMDHOPz87O6s6ULfb3d7exhrQTKPRqNVqeAQdBO5y1LP5yepms9loNJzJZQAkISlt2zYXF+1AbKLT6ezt7eER8MPJ67YAqiwmpxB3sO/NSML6ZXmydGJGsp+TPEfP39ra2tvbE3TkGlToDhsK+0Zp+ices/1Bsl3pdo0yGFwKLYHD1dVVs9mcm5vjQZTnD9PIrWzHGOgq0sh4DM9ZtY1G4+rqqtvtqlmaARtzqQhHhQ6OhVbLAQNp2cbYcj+KMHzGUDJT9OyRRBbNMTQ1QNs3h+HtJYNID9cn9lCEWDskAzrHAjC2lEmp1Wr/7J/9sx/96EedTufy8pIZBkyZZHmBtsuxRgnJT+54KqwkYKJjR7kopxdAl2/8+uvE7aV5obF6vS7DzJAQmOuzs7No5vY1MiYjZFA1OVOr1XRIST4/P9/Y2JCs6ih0pilNCgEvLS1tb28DpuQ/XgA1ORwKIjNPLu309DR1Glmq/zMxMYFTE0pUhsT5rU7Yq+P0BAXsPiaI6C92HOPL8XEo6zYyMrK3tzc1NVWv11O88Pvf//7e3p7twJF4YvvsGmiHh5ZaNLiRt9wNVjy4LgMF5kTtwsvQv4QITEcDQFA0hd3E/0qhgBiWVT90kH6/7xzKb33rW8zADz74QCJQsrZpCtmtRCUEWFZeiYp5RVAR0obqEH9J5CGKki+ELsyufDztgRRHC2nc5AihpgzpGgL/9t/+W2wYkctXPzk54c1GEuLDkPj4+HhpaWltbe3v/u7vDg4O4A0/UNlv9POMcuBXk+TMsJYYPwlGjMfnl6gvEIdfhiV/vdjPUxAuld64NiYnJw8PDy0nbKBbAuXp6SlKZs0SlZw6QKyZ4plqcvPbNZtNcenR0VF+eCkoqqH2+33meo7xZiNUij/Ew4OdMkpAzeQWd6B6VKtVnrM4q9AAlRvwcfBut3twcKCUWHYBmLLywaCdcrpwwAmfose8jybuRODd3d2nT59yQ/IBsVZMAaO0RpDNuhsb+/Hg4AACYBYJtVLHuJxUVbUcVLZsjrSFkf6FSOgdVo3wD9q4KH0QRK4NBbOzs7du3VpfX7dRAn8MjSB4xBLvvakFw0Ol7gOUm9pI00wzNzUr+0yHJaaFy+SlpS4TRo8B5RWg6hXp9hoCmAfTyMJDBVyTW552FEX9W9/61srKytOnT6OqpceBi4ws9w2a14qOTemIZZhCVOfn551Op9vt9vt9W27TyW98kRrmpMHx8bG6Wg7SAKxgScLdUVbBIRXycsChfSbK+E1NTaHz+fl5p1+Sk7xoIJxtv/v7++Pj40tLS81m08FYDGMVqaTiATub3Jmf9Xpd3JEFThmh1Nj3YgxYBmOHq6/T6djQdnR0ZLRWnxFkmyAg6JMn4urq6vDwcOx1mWq5Sdkw0+l07r3++5//839yH1IbY1QjPEpENMqE69Uaji4T9SQ+UW5F4j2mMpOE+6bc0+Y6Dlesx9S4KkES8qAH6M0tavx37tyZm5tTKO2DDz5ot9vlXoBSqkfCBW0GRB0gRIB7r6eYt2jVqDK2dJv28OcmtZdclXbgETZCSC+UH9VMs2vvV4g/yybDL6dQymZT6UHS1VtvvfXuu+/++Mc/prYdHBx8FXFmJrhOvoaX23k+PT0Nz5aXlycnJ2dnZ+fn5y8vL51LvbGx0e12gRhjihqDLE3mV/mExFdXV7a7YeETExPohDYIWGAtzuw6URyBT4wAsaVW3J07dxqNRmpC5wR0m1IYEYl+O70TEjcaDXaWc3LzVVhrfHy8Wq02m839/f3JyUmcgqDDJhzpNTU1JXuHWmEk8Nt2QEfxyN6Lhhk/nDAhqQvaYQQO/ElGWrzo/X6/2Wxids4aPDo6Wlpaylbf6C8WjuAyU64cgQnyHKZFU2OD1Ot1VXr8SkpT36ampmq1mvCh7AzkJDUY14spZMywnVJpSIkCOC7JpuZ/82/+TaPR4DoxF5YLhAcW+BaUjlwtUd11fgoBl8QPH2ByWn5V53mdBhY3pJGnyn7ya4bt12uH3/HxMcImDGGbgyW0VluaYaaqb6VS2dnZ+eEPfxiuhr9atkyDpxBVY58ATVMlhO2rF6pBhBMTE7Ozs61Wa35+/p133vmt3/qt+/fvM25PT0+F5YTZOKITCDVzy19OPvevrq4wKRCk2uQwaTIqDBhm2APT6/WGh4fFvdFMr9crjWrG4fT0NCsdZxFsk5pCaikKwLdqC5C8NIaVfSnYsSM3R0ZGNEgYDK5ThcbHx2dnZ62deSXXkIOg2WyCRr/f39zclBe0trbGXuBDnnr9F/yLkCm5HlVI5H9paQnckBZp+erVq7W1NZFIKIFQmQyx3n1lfHEtC0zCYIvCv00OTU5Oqm4q5//O6z8Vu8bHx+fn5yX2UX8ACu/DICYnJ9Etcc2TCjEonrgn+UnXwN1A7/bt23Nzc+12Wz0lNdfop2wKmciZdSRE+B2SCfqV7M+ClpQSThRajaeDaxmeB0rhI1E3yjsWNGYspKV/hbdeF/OIw4/SJY+yVG/ACwaE715cXOzu7n766adEn/Ymk/ElcMWmgDQceNkYE7XQGsTw29/fV0lyaWnp/v37krc9Ozo6qkPamuFFtwGLcgyg7zMjBMo8CzpB6zziDB8goqM6C8X4yYGkSGjGKBCatqI8iNiHnSrxPuBiyGMgFZ/cs8sFtuELEFTAcmzs2mVrslgt3m1e8cY/f/78iy++2Nzc7Lz+gyWAGdXPKyIGI+L4wMyRF2NxcVFivzDB+fn5s2fPFBqNHZTlYC1bXMgTHC1PyIhQooZgT9jNwsLCysqKioYLCwswRAJ/s9nEbcktQfuxsbHj4+NWq3VxcSEOnX2T5foGq11EboEAOTE/P7+8vDw2Nrazs3N4eMjxoeSpeo0CMU5nCBFadMqpbkP//x/hvS4nF7lVEnaJkwFLlsNbgp/lBcBChsiwLERGgpCv9TueZEqIAAYkwAJoSp63iurVXFxcPHz48F/+y3/5wx/+cG9vT2gn4wg0yRbcNwlY+GVEmX3yh4eHaMYOFuv9xhtvXF1dKTjLChgfH5+Zmfn00093dnbOzs4qlQplLAuZMXzVBSETSyfmfegHgoaDJMpo2zzZlY1f4uTHx8fkhlh66uSr2ykb3+JJXKFXg63cdXSYX3nLkKXHaRaGjVNgARYu/iflSfTGg311dbW3t/fkyZNnz55J+LfbnwNfuV78gvsTL2bR0CkkGqkv0uv1Hjx40G63HSVku8Hh6z+IBO+DAKBKOwAiBnlUgPgpQjkaUMvPz8+b/+ePh4+Gz7sJUXmIJSzSBA8ODprNZrfbXVlZ2d3drdVqh4eHrVYLuXINcuOZZggMTmIuXDPNZvMf/aN/NDs722g0lDPgVsBfwI1hT/hFaKdPELiJjTQyBDlA7QFF6BwB5v4Atudd6TMPlhfGULa5lvzu0uIogY7ljrjDUXhHZW6k4NTjx49fvnxJDpfzLMcn4IxrYgepnEU8opajoyM+8KOjo3a7rRxlTq2FYdDIlMiNSPLw1HIYN4FOT0FFrMEwQtw3SiCYmjvRTSPFPiST4VwiQFCHp21sbKzX6x0dHfGZO/gg+XkYq0JrFHVhv4j0ZrMJ2uGY8MxkpZpkjdhTUfB0xSGnCuBPfvKTzz//XO6aOVar1eHhYduNsy786tQNNEZ22XLD4Jqfn9/e3p6bm3vx4oXdHxMTE5ubm59++unq6iptWUAkWnR8eNAu3DYSKeiYhXOHV2hxcTHZe0wePn/nHdt3lLwDNDk1NbW7uysm1Ww2O50Or2H2XzJtYAJcip4bZIAhHiH/lVo8PDzEu6mf+L7CcCHCoGIoK4SXn8iYkH1ClSHX/BQc1n/ecvNrnvUWn2nmK/PczWvitwwUUas+PDyMYuFQCZEk3ht9rVb7+OOPNzc3GfZZv4wYwWDPisYsLy/Pzc0x9sgigkvAj25sM4lyF86NSHTq6uqq1WotLCxcXl62222LZDLenumUYyivvY6Eoe2jOm3SFTrhiQw6ZprS3WSnQCMG3uTkpHw7Vf3DO5L3MjExoY0juklaPJcMsbffg6jdsmXYxiAjNYyABgRZNXCOyOPHj//mb/5mdXUV36SA6IqXTi6gUXGskLEJnkGp0dFRq3b//v12u82lNzc3d3R09OTJk08++WRrawuUMERjpnyWK+LOAJ5k4bJMfKvErDQe+4KUGOITleAcz3EU3V6vt7CwsLGxMTc3t7GxMT8/T4xhoHFVireBc8ZD5+evlbvhCBOB20aj8ezZM+4epEFcTU9PU83KWcMfTDCopUHpCwDesMKMJKDIRdgBFHUfg47/O43Tj57dx4jTZvQ//sf/SACGDPDFMh5bAgiImVjDw8P3799/9OjR559/rk3Gl5dxkMRaXllZ+fa3v33nzp2trS3JFbEJpaacnZ3NzMxIN3Cm5dra2suXL0WqmAx0XRIGupu8CdM8QzaZqguvizjKaunH+GEACYPZWSFElWJYYmYCZmKWCAx6oUZO7KurK2mFyZATSaGZ8wIiY7yAfpQBw12ynYLGIj07O5O6S30Fakz88vKSrvThhx/+3d/9XbfbNcJ0wknmqF9cgIdvZmbGDoXsXGCM7O/vt9vtSqWytrZWrVZfvHjhYCxi/4svvjg6OgJz7a1FULC8gCoZSVAFTgez6T4rKyvLy8tyJSXt6SrOaaIMWgqpVKvVnZ2dVqv16tWr2dnZ4+NjxVQsq/eGBxlzMDxyzqjYd5xn09PTy8vLOzs7SdlUMTX+9hB2tBsu7cw92FW+zlPBQ+/NZ1pmPDrxFRoP3PE6D+aptM/YrqHx7//9vxds46KEZynRr1+QIipJPFxNRap+v//xxx8rcX1T8Qjxc+G88847v/M7v4ODijKAPn9mvV7/5je/efv27X6/32636QIkmG1qZOPx8THuOzo6yt1F5hhVRLcJD3wG52h6WWw9BGS6YvghA5oOW0O8lKqGyOEHkyE2RTRwRTgc0kqaYRCkCgr06jAL/n8GAm+IbQgqDkuhY3zhOAxg6yVNs9Pp7O/vf/LJJ0+ePAHepBVxnWRzTr1el5uIp5ijOH9seKF1xnOn05menrbin3766ePHj+UvE2geGcBps0NLhsq0hnURAMbvk3ry27/92ysrK41GA1u0IkqV2zGBa+uTFiMUsru722w2j46OHNeTcEbkBH9NMDZMx9IryiLoEP1XEPrk5GR7ezt+1pLmSzoPLytvpnEpnMwXKrpOM3BLDwPIHDrXPkgbCT/AHQb6GXv58iWbShkQMWemJv8foKO68/Nz/J7TSG7cd77znfv376tIlaFnlBizhRwdHa3X65VKhaVEviEVhy4tLS299dZby8vLrVbr/Px8f38/TprLy0vKwv379+/evZs92EJcAmleCl6x4jISF2FkZeOUmgIsDmfX3NrEZjK6hUz41UooMR/4KQgu4OaOEppWYwc7YPXgOxJdWOByrk2Bew9BHh4ekoE4KXTBcejzCE/jXq+3v78vHhkLVjB8fHy8Xq9jNDhswHh6esr5Ek2QJFACYGRkZG1trVKpdLvdycnJdru9urq6vr5+fHxcq9WYeCi8tGmNE9WZTvwLiWYBFPwJ2ciDFu9UC0R90XguxeqyLWVsbEx+frvd5uGbn5/HHDmqs1XE6gc4ogBBdbQgs0gCYgYsnXl1dfWjjz4SAMZWSlu6VMIH6K3ERtOMENLya9qXz+bauudZyG/8YQFpnPuYxej3v/992WbsKDiRmHzQK8qVUvDxVE9NTTk35v3334cf2KRMT6mmtVrNfo/FxcW333777t27p6enq6urzpnmoTXQ5eXl3/u931tYWFBiYX19PalgfGYKzkjRkdBOC+j3+4bKjUyFLiESdm4i0DRCOznFMcDCcWGbwB7ZS+xnSyw4Bl+NSlJwvV5XITciUWFMx2PGzgexZH1gPbgeLhzOKyfCFEIATCGagtVVqGt/f39nZ+cHP/hBt9tVi5oWJp+S8UzhHx4eFljt9/tO++z1et1u19EgfC47OzuYtUBXr9drt9sJ79tdF1WIimFFuMcIOhZlpVKZm5tz0lZqHNrpRDnKjvKJiYnW67/FxUUbdZNAYTCYRa/XA38OP2udnA6cPVWDophk4cRTaO9+5e8AWPwFRkncuHfvXqvVev78+erqKldi1F5CTgqTWRAbwasQPFvbGCJm4jxyn6CKAY5NuMmVwNwLriJyr9BnadGTRuHp1y6Pv/mbv7l79y7HVa/Xcz40T3L5sjCkxLRlcYyNjS0vL7/33nv/4B/8g/fffx+TPjo6Ui+NU4rHWwaLs2jDJktDFAft9XoPHz585513Tk9P19bWPvroI+xZCp2uVKqR3QXRqRKhQK6dSNQMvtTtoaPV4lwgAyn5xKk4dox/qmCKYYQz5kKKG4nK74Uxo2HSXmWuTqezsLCAtSksYwklolCRsAyeJA4wdbipysEP8iqZs4Qbx4QezIIrF4qr2yMLYHV19fDwEA8VnijJgLvICWLgYMnUDuDeNxKfFtF2w4hxiEQeUv0ID0aNUOLY2Njm5ub09PTm5ubCwoJwXXgBqtOhbRQUqOnpaWfJ9Pt9x4pnLcpYVWlWhCURAKWv1xIwb5ErzMERkM3Y2Fi32/3d3/1dbP3Ro0fJHUqkPFs/Uis5iwUIJcRQbFA0DXLfqErp/atfp1vTGeh89OzsrNPp0PSCZ3heSAXs4BxLCQbwdXEU93q9Dz74wM4Qp30wxlARnbbZbH7ve9/7xje+sb6+/vHHH+/s7ER9lVfLrzs7OyuoA5qqhvBsIX5KPlEptE55yVQRdr4Gji7CUM0Lvoppm2P5YFzExKYklkhp0AxM4U36pzBj58yH/f39hYWF1dVV5b2oUaZJ4CsOS564N2JJAAAgAElEQVToLSFxSEDvyPIbKhI16zJ6enJy4vC/09PTnFBC82dnDQ8Pb25urq+v8w52Op0I6lJDFo0/PT1VUaf/+g8TDK8MtuCnFJOMM6KP3iFjr9lsLi0t3blz5+7du04u7Xa7i4uLJycnDx48UGOHgmADn2LeWIBE6U6n02w2KflKffb7fYKX9eEAEkWNwDMxSBOkJpBGBGkkUwimXF/F0ZvN5srKysnJibPMLDHI4xE3n7VSQS3vxYkGfiqBZtE1MAzXoE20lO0HrsM4onGAnmaj0rkVlqLcYtsRjKWPFCXzHinpSXMeHh5utVpPnz599eoVHYxjJsdFxMX6zjvvrKysfPnll1988cX29jadKhyd52lyctKB2YhTtn+320V4KF9CuAycXq8nVSb8FaHeBIQ7gYgF8EnzhzfYFkUgLI8hnXj7QAgnMI2Q53Xn7/Xe/f39mZmZnZ2dubm57e3tlZWV1My3lvGT05iCc1AEskbsZ2dx6MqSaZYt+u12u9vt9no9Ik4kVQGcVqslTVBVb9Hy2dnZO3fuzM/PY8HVanVxcbHZbKqcXXI9ijdOZ4J40IAZH2jDWha4CoVLS0uLi4sLCwtqH/R6PacPf+Mb3zg/P19ZWRFfdAJaq9WqVqvEkoO3OfNevXo1Nze3tbVVr9flVhgGdMenvDQEwB9Bnge2sjDiPArwTcdXWG1nx+jo6NLS0tbW1qeffhqNWvgQTeLp4YleFJwEt5K2wSdMIXzBnVgrmkH1X4jnWYtAPpwIX8sYRsWf+/3+wcFBt9uVOX9+fi6PPTZn5oN9miRERCTSyD/88MOtrS0hkBgkMeHOz89v3779xhtvdLvdzc3NdrudwJXcoenp6VqtpoKF9EwVY09PTz/55BOV6kEtaUX0VTwo08Z9y8kHZFRQsEuDq6srhl82nGS/N1cQiirtIIwJvXmvVzAXk30sY8LO2Wq12m6379+/v7W1devWLek9zGAo4i3U+DjMSuxhx1pyxA9F2ETWmJQu45EHBwdKBlErhPEV4QV/23IVGhkdHb1z5w6B7AThpaWler2+vb2N/cW2IhUML2w04iGMOJA31Ph3a7UaG1MmhVM6tre3l5eXDw4O3nrrraurq7nXf+XGPt1SPKenpzc2Nlqt1suXL+fn51UTPTw8FEfwXnwckhtkijXQcWCybuO5CEfL4BPzw3FY1I5d2traUuAwoRl81iMlzpS9wZzccZGvJUbBUhzNOC00eEbqhKTLi/JZC1e+YtQOB9v4tra22u021bperyNaMOKUikOCjMIOycDLy8tarfb48eONjQ2bYSiE2mCNFxcXc3NzDx8+bDQar17/QUe1sbES4ih17C4uLl6+fPnhhx+ura2xMC08Rqhgk/vYB47DtVvOE7zyCSgaRGcOdEqQwYN8kuT8eWmWpUIPce+VeQEzMzPHx8f2ii4vLzsbY2trS+AgxENnDrvEDig4TG5Lzl5lAjBbeD1iQbgYGhoSJLMKCVz5VagMrJIwMzw8LK7+xhtvTE9POwKw3+93Op24e0gCk40qZPkyEY4DRFLCx3YMKmEKljL3JOTv7OzcvXv34uLi/v37lUplfn4ed7BYcewPDw93u91qtbq5ubm4uCiNt9/vHx0dYY5xNEhkDkrwgcW6wf7CU+AAkBp2ZpQI5f7+vpjF6enp4uLi2NjYj3/84wSwwv5IIMwxBFnSqhkFCSFnqbaUjXMf19B5Nuqk/1yU7w2/Lm9eizebq+CrMycFUZ2LQs2Lmxf2yK9AcqnwxZs1Pj6+u7vrXIeSS7H5RQofPnx4586dly9fPnv2TDgg9RIuLy8dnLqwsFCtVknjjz766IMPPohsNxMg5qQgZiuVim0eNyFSAhHFZkVBHCuBLiVfIP8DboSXAMQATPWZehjRPrK7SUb6rVu3Op2Oa4XrsvxEhwSnxN4sgVfnyKASFTAmLNsUgkbMMTmwMuH426wapUYqp3CvUkIC447r2tjYEHO1yxCzjmS76S2LkYihB7zQzixiVbH/W63W7OzsyMiIKN3t27cvLy/v3r07Pj5u944NCFYBi1FtWfWBVqtlW7Gig0xXDsJSXSXVWY6WNTwas0geB1NU9m5YG2TGeg4ODqDf+fk54l9dXXWAMgdNVqfEAaAIcZaU72aJpWWzyJgoEX4FzKx4HhnoLfRiCkHv65VqNBrEOMyT2NjpdLa3t8XnCHYA4niXpqLkBkkLv2mMW1tbP/3pT6mdcTLZCce99+DBg3v37m1tbT19+vT4+H/Tdme9lWZZXvDt8Dwdz0MMjsEZOUXk0JVFZUIVTdEg1DQqccEFLSFxwUfggk/BN+BTICEBohFCjbp4M5OsHCMz5giH7fB8jn0Gz8OryF/q/24dZ1YXDa8vrOc8wx7WXvNae+0DW9ki1qz322+/7ej1Vqt17969uBKILKoazSJG9cjIyPT09Pj4uDAEZ2TIIKAJFaHVvAC3wgV0kT0evHGx86OTk6gwmyEgxgnVdCFd13iE8dXDlu/AGxLlnwLfaDRsF4uMJUIV57GKMCyMw8gjENpQDeUTpMrdDQwMXLt2jbGmpijas6DVatUpoI5m5hUufSvxOFDjg+7BsBC/gYV44mOPp1DIU1rh9PS0RBpsyAYEzohkZwmUYpHcwEKqzimHciRTTLCTkxMqevLKZONbFChEhGC18QHDWKsAhfb29iYmJvr6+kSXxVZnZ2c///xzi0hSGi0Lro0as3wl/aN8y4ebtyFqwAhRNXJRzgXP02Ab8eeFHyR/BkcjIhZardb29rZiBpR2SMwcsNgghX/39vbW63UumY2NjcePH3Nl85GQYyJMHR0dP//5z4eHh5eXlx8/fqyOOobN+Hz33Xdjkb548UKxUAkVgUuUK1ie+tAjIyMOby+j5RAaZBEqARLoY4dhBCDrJ7bF6pFease4YhvsOpwxQo/TyNEABsPfFrgTILinjL1sLyfAbVaHednqL7dSL4n8k6LQV0VQtbqgICQ21MPDw9HRUad6yeHH9y1f6vPbkqAAnptbW1u9vb3xGsAqqAkRXUN3yCNtOUIm/hEOI9TOonG61tDQ0NHRkWN8zELL3iTG6SkOTbBviqGXBAccWaSJq8UdMWZe6kR2tcmxxR1oiaMY26WbnR1hXmXmH3bT0dFB+/j222+lbFKmXAdcgUbbRag06JEAk1mgMiYesPgkwA/9poUSsb0W3C7H80rtT/cu0pZMNX51Ba1E762lORCz3HIHBwdor6ur65tvvllfX1fllgBkMsgSvXz58t27d+/du+eds7MzmUKDg4Pj4+MLCwt2jEvyXVlZqdVqdIQSz6J1Q3RI7KimkZERIWuqiplT9qKJZQ0CjkzfgP1n3SE2jBzWZu99IA4XETZi7u/vV/yTDkm34kPFfTo6OtQ1gXlmRwmampqSQchxED3T/mjyk5IZVkUJZ5lnTekgUqSGh4cTylGsRULH9PS0Q3KlaenX7oOdnR0nc0Xtp2cGaHo3ciAtGbQ1gosA5TqeoDCC+fl5eQf8KQ7zcbgFY7tUMXjgjSEbH5JiJLpOnAAUR6lEndiP0hxxT+PPCPVYWv6kna2EmWDmJb2l0WgsLS2xjIi0VJ3NGgVbgmxtF1S8jAf/iutE1xlnEDvUnvZzof30EqX1ldxC/KVukAWjZGYvLawF60hyyhsmx6cyMjIyMzOztLT0/PnzVqvFF2D7Kgmp4sKHH354dHS0vLy8urpKaNiff+XKlTt37ty4caOrq2tvb6/x/d/R0dHOzk4GFgSKHo6Went7Z2Zmrl69CptlqiYYGYC6CByhLJwO+pb0j6hCaVGwMx5Li2glPiNmcRBwi5ynpEAsgijIzQvFuS0Nxkx1ZP3CXAANx1HVMyk9CYXwEQgr0PyB1ClX/f39tVrtypUre3t7IyMj1WpVWTE1RI3z4OCgVqspqcCUQ7exP2PyBGLAG5wz+BJNxSMk3qlZcHx8PD09Dc7qxEqRiI89HBAXlnGQRCaKj3rEMqyguCkYD/EeP2iWjA2bJYj6lsmSGTEA8SDUCBREwuXLl09PT7/55hv15k5OTgYHB51EFDq8eBGazEUAxdZw38qG6ZTt5IU2CX/xnSwEJH81L5Ih6JVBWFSTTHZHvV63XzUsI9wRstpMxvG2t7d37949a9nR0cG+yoGQY2Njb731VrVa/d3vfscjpRDg5cuX79y589Zbb/X398vks2tSRtBFCsRQTJXtah+I7I7d3d0Y/+G+Jp//7l8k/vKF2PzWJkiJ94EV/MABy/vaYTJQ8sN3GK5lazJw+vr6xNWJ8UgDGRCkmT3RkS0xBHyS7FH1+R3RobKdRIxKpcJPtrm5ef369e3tbeUGCTGrybOrOjvXbBn0Nq+S5t2xFm0YBa/cRDP0ICxJyrB8PiDiVY3MQN60NhslwCcuUn7+g4MDhTpNXwgDPedYkdJX5TgDw44u5ic2QbokdhijwERiJic6YxO6sqtOZw1NBiwuggMR2vpNF23vswXiSmij07QWsGs2rCT38+GPEH++oTWRYMfHx61Wy6ZOnI8tRP8nvuhUKJbnb2RkxEHooj5JLOWMqdfrCwsLs7OzzkiiLFGDb968efv2bYdM1mq13d3der2OBQioZJAwj6CDtXaADg4OHh0d1ev1arXalmoWWAMuiKMc19p0HYdNHFp5vzx/Lj5haxPnpc/Bp8w2RUJQR8CiVASgC5+zpDGkKGSVykKpL6K7jDDar2V2HokM4jB06v3ExITcuGq1euvWLRHys7MzlogYmKIDe3t7kZzJtDVOkdeAq8QtEG77bwy+RZZMpL29vehBygRT2djeFgjXSEK3TWhMUVs/ISdJA6M44eAec104xhYMQM6MMFmQjN1hainZxGWbNYrMkHc0PDz89OnTtbU1ZyKJawY4JShCrkFIr0WZRa5B9dj87pRw9mHu+zB9hezdidr/ivgp8Hk14tGFIcZ5tr+/Tx1izUaDtVoHBwe24jONRIwePny4vb2tPkxcbsrCHB0dvffee7dv337+/Pn6+vrIyMjh4aEq92rgCjfKPsLvU/TKhHk7wUu9t8uXL8/Ozvb19e3s7NijgvhLiASgmbU72jTlgDK8Nl9FM4S1iJD0jspKViB4Mt+2MN4s/YZpxvtoAISeg3poOkp9pnqSBn1FU4Cp2TAHibEezicWHEwFrkajcXp6WqlUlpeXr169enR0ND4+LuZqCw3ro6OjQ+Y/sHADYQR6QfyBZERNwFWiaTnxJNv6RCVyxVS1KaCQpDQ0mdJJlhUM4+Pk/OeHCrdi1eOJzWbTxDkmMQhqEeiFK3Hjx7pxP1EtwDc1+MApNj4+vrS09PTpU3sfOFYCChfl/4ArF/gUF0/8U7A3/CIgTcsA6375X7Oh/5RI/4HPiqX7GPK5LhVXMwf9vb09K0TjYizJoGLeJ+W2r69vdnZ2bW3NcQ79/f089jkUaHt7e3Bw0P5cZ0jQtXp6emZmZubm5uzEOjk50ak0BDYY6GTY4IJxcGivrKxsbGxsb29T+82/nGDAHQi2yfwANLCOdGWDgaC8N6PKjg46EZsfrbpG/D60J0JFLfzYLAQLmFc0ndHRUZUL7CpBD1EfjMoaaTmYzb1HcSPf+FDOz8/39vaGhoZqtdrQ0FCj0RgZGanVaimVzXJ2epJtl0ZoIdBMDNFgG/DmPwBe/N+2CjJ2KcmpiWzjQAieFkAACCJmu4GtlgAFaSmh5SYIByKIC5D2/Av8DuCZFF2ALYuRhasKEHIihMOCOfiLK62urq6vr5e+j7YplyoGzKTUhMhZdth3Okojea3kI22rkJ/Bc18JmkD1H5f8Gi3TS7i45Ugg1NSfVZSKCDo9PW02m5VKhQtwdna21Wp9/vnnKsmw0wSQ8XWbw3/2s5/t7e19/fXXULyjo2N2dvbWrVsCqnB3ZWWlXq83m03s0HgsJNZLi1bjvb+/344Locrwv3CxYGTAF5QNL/AVm8L7sQMpgbGJmEgBK3EBJ6AU4zmyherr0cjISBwKNAWD1KZz9cbHx0VJe3t7bV9hzZI/FjJlAmj4jUZDwfXY+TTn7e3ter2OcbNW9vb2+vr6uAYceg3FkUSMZ7nV9e//hD8haBkDB0PjoTmGbwbggFMaRJhIKmriBfbnOIbAsdw6yg58zOLw8NCi4A4Ue/pg1BOTPTs7y4YFWhVfKQUkOikV6eDgYHBwMEReUp11SeghVgyvxOnpqTKHjx49GhgYCPKUSAUyUb/RZPkfAgBU8llLlRxUDQ9gfR4gA2kehf4tGY/1KyEdp6LxacXjhGdjmykpQxXc3d21F7Crq2t0dNSIQfz8/HxkZAS7bbVay8vLjqxjgGXHy8HBQavVstt8ZmZmeHh4dXUVfsv0vHbtmkZ6enq2t7c3Nzfr9boxBHYuQBnW1mq1ly9frq6uOgaXS8xqGR44BnYmngYBPfD1YQmQgDKaQmRvrFAjcfxmZ2dnkhTsrkvtfTre+Pg4Tx5P/tHREd9njpFHmcxUJoC9w+hE0PH4+FiorF6vM81a3/8NDQ3ZnG+bsIoAqqTEcWPROzs7+/v7Dw8PVfihS9MdqtXqysrK6urq2toaz1lUrRL72/RSpxjJVqCpJUKBUeKG/qvbYYHIXhhsSDTzuPo4MtggnIUQnWyH0tn7cHh4yPBMsEnkT0p7lAWV5nhDbd2jw2Lc9Ec2cmr7pdKM2ER/f//R0ZHiq/fv33/58qVRJafLLuBKpYKDRAYwElFm1oIkgJxAEdqEb6DkZslkfYIi3M/TcGcXr0J9bbfaqOIiU6CHq8DHpMwu9GRc0F3x41qt9vTp0/X1dW4tLq69vb2ZmZmurq6VlZWdnZ1r167ZvffgwQNM9PDwcGho6MaNG3I/SUhKh+J5WAz5GV/3/v4+TD06OiIMS+hE2YsuEO4Y7h5we9TGHPN+xHgqN1itBI3E7eINod6PjIwcHR2phFmpVNTkt7WOdk0hJ+ssOQGefRaiCcR1tVpVayT1l6hmoMFBg0Fsbm6OjY1JSms0GnyuMad5y8jA6elpx4ohqhcvXjx48OD58+e17/9arZavgn8A0oZC4Cw+FztTOgYZi/8CERNDDu/g4KDYG8IwpFarJUlE+qOQHjew1LLu7u6dnR3mJBaJc4lxcu/zC+odgrELuFSRCl1AuCEzwqcgTGQAVTxLLJMNKGwfbjabDx48yAFtFGG4pNCgkeCGmmU5Rt0IigJ1CDgAb7vwM9geDatUGWJHmN0PoT5flv91VhonGaKpyvpICrCALaaonYSgu7u7nz59qsgn7mgQUuX4k4+Pj8fHx99++21lRTY2NuzqpVp3dXVdvXpVLip+zBM2NjZGVtD94nrBYr2JEqBsIskR/iF1UsvPwCEoCKaeMs8S46QYI07onpRH1n66GBsbazabk5OTjUZjdna2o6Njbm4Of5TYR2uVngREtkixcuULODZjcnJyZ2dHU1NTU/o9PT3llhe+1ebu7u729nZ3d3ez2ZyZmdnc3KxUKsKEOIjDRW3vdwIvZaderz958uS7775bXl5WTF2SXxwTdKXMzn3akP/ZNhKFUcvBbwo5KDl9kE8kvkDxWjiGy8sH29/fV0f06OhoYmJifX19dHQ0pwkm2IkV0qfkrVMDk0zNY40XxHaj7IChkAckjJlDyTWLqOVIVHLK1NTU4ODgF1984RSjeMRoGbCLh1hTUKhUtOEbTPM/WlVQFAHnp09KltGG5PoNnr8ilqS+6iMfhwBclH1YSwup5H6z2VRfyRJGbdNTf3//7u7u06dPq9Vq7HNBwbOzs7GxMZXh9vf3p6enFxYWjo+Pq9Wq/cVMzfPz8+np6bm5ua6urt3dXdry4ODglStX3nnnnStXrihxA90jlNBn+Fcm0oam4fFtUwaK8vNcWznAxSWD9OzhttAdhfPw8HBsbGx1dXV+fr7ZbM7NzTnQljbLGuK+Kkt9iibAQpmC3d3dtrKurq7OzMzkoMRk/svbq9fre3t7XHq2yq2trQ0PDzsaVOLm2NjY6OiokoGTk5MEb09Pz87OzoMHD548eeIIwJOTE1t6w14JliRZBIZxQyhJ7L6wCG9oUBzE+EHzvxSz4M/LS+1HtIrq8fZfvXpV5Z/t7W3lOukFdg2SUlwb5stNGEnARR/FPkZHNlyVA8tcggYQCb4pbyFGQBFeW1t78OABn2K2z5gUMwFNkakadyeUH5L0tE34B59Dsz4MFyhlfujXhQb/vySfoL4H5c9Qi2RjDMxrgna7u7vwYHh4OOVW+LGIxMHBwVqt9uDBg1ar1d/fH7U2Wy/Et9bX18fGxiYnJ0dHR2u12vr6OiSTfOaAwC+++GJ5efnSpUuzs7MLCwvvvffe1atXJyYmJMxgovLq2ZkiWwFrJl9OsART7rtoU/vTTl6LHEsAAgFwufOxI++RkRFl5Gu12rVr1/gvgBGyStRLcdTkTZkCIXPp0iUltFdXV69fv767u6vShqO+WaGdnZ3SchuNhnSs2dlZm4g5oijJnZ2dExMTg4OD3KgqcJ6dna2srDiEw5GVBwcHW1tbjF6YwNtKjTc2AAwHFDUgPBFYdhZhAaxcPtHSERAZC6qEcI4VxgiE687PzycmJnZ3dycnJ5eXl6enp7e2tjgOeAENJq4c9IzbKt9AF0BgZRyBisFaoYkEZ3AuamZwBkyS9jYwMNBoNLq7u8fGxl68eLG2tsbODVmlQCYwxhKJeh/pRfHUO3wL/eci9y9Svkc/irEG05UDW7J+iWF6IzPPbEtvKqg5Y2N/f199tRw+yeLt7u6enJw8Ozt7/Pgxek7I2mqxyjo6Okj70dHRN998c2FhQbh+fX19Y2Pj8PCQ+vDVV1/RpvSiR8WecNxoYmXZBnoKsOKUbVCjgLmZ/1kwd8p32rgyacBbTpnEjCKy+JMqlcr6+vq1a9fU4VX0NmECgOWO0n7ZC+YCKavVqrTcq1evNhoNsQAmLtbsaHMGv/JB09PTKysrck7ZFCqvM6SRysHBwcOHDx88eLC2tkYbr1ar6+vr5cYk3pwknMHCcEDtpNYLzLYtz8k/Ng7gBfQjUM1ZJniBdnIGprC5TUd4wejo6P7+/ujo6MbGBgf7wMDA3t6exH6FjJK3TyBzb5Wuu4ODA6TrBb4Pg885SOHpjBHu1aR1YQdUG6AYGhpSBGF+fv7o6Oibb76pVqtmDRoxUWMwGkMSRi6K7ugaEfK//yJjDiYH50uu8UOoL7dC8G14H75CkgMEqchxokq8w9t7e3vtxqfeOBegu7u70Wg8f/68Wq1iqAiDKYtD9/T0qIo7Pj5+9+7dhYUFaH3p0qV6vb60tPTixQsnzIMgL/ro6Kh8fgdOcPXxaeGdWeCAILPLRcAUZheEDn7nZXfCSsKb6XicHVGJBUHV7VVn0pEyqtAFnrwYqL00DuNZBPOTk5NGo6Eg8vT0tMISdpjTZmF/rVajZMmHY/NPTU1hOrzldDS20unp6ebm5osXL+7duyfg39PT02q1NjY29vb2kE1ABBliAgQs7oA2xyeXGE8QJc5OnrBppM6osZUQR4j+zx0YYGLiUYVyjkB/f3/MHza8Al7x2kgcoPwbCX17cHDQvIixFIMU50aQXHHiuxi0AcN/s/Z++dTRUsvLyy9evBCTPjg4sLIhe6CDSKUPxZBC81GvQqflRbAxCxQ5Ud7JJ9EFupIRESHjA1B2HSlElaWOAisi5LlpNpvValVdOuQtsAQd2av37t1bXl6uVCq2CSj4lSorPDTytLu7u1977bUPPvjg1q1bUlCUTIB5yfqAzVeuXJmdnVV2ijaV6A5cDDcFboLFo7wQ1YYsCk4HgqXktzAgEzYhqkcfTuNO71PIRPm34eFhtSsUPs/OyCw/HxWtWPYuVyV4ssynp6dVW+fXRMlo6eDgYH19PQVnRE/VQeVwbbVaExMTqSx+fHy8u7t7//79r7/+mnTiMZWjzn/eBgRThiRhl4EqfIADIhFSbo+OjsSA4wUomxVipHgSCeId7ugx9zmbGErd3d2SF+IT0R0hT1a3Wq1Go2GnGTmfJH906ybfqrO9Geq0D0E+kdrsIjU8lEnLIOFUZ11ZWVGS7N69eyKITqMlERloeFxkflAuFzEB4F4IuLzIdYD5o5Kf5Es7r/xWMeBLTwx4aRTQEYbr8C3aI65s06jiKmqBDQ0NVSoVWkCz2ezs7Lxy5Uqr1fruu+8slc9tB+7r61OAiRdgb2+PhFd/Ym5ujsTAHYhWJsPo6Oj4+PjNmzcJ/JOTk8XFRfsF6H5Gbi5cO4GRm/hChG0UVxBMXj3Ba+4oBDTyvgvavoQzck9i78TEBI+JNYA3+/v7ejk+Ph4ZGRF5HhoaYodzdiIhCWf8nXNzc1yq3Psi/5cuXeJt7e3tdZaGATupSi0AbnC7JKjZUjYUVllZWeHxFvfq7++3QcuwE7vF9MEw12GpkSrUkIGBgZGREWBP6TcwJDaojUga58rU4h0AKzwuigCFhbokr4EzL02VtVihpYUmrjkylX5xh29P+rAwp7xmLoDkNWcjHJYRj6DVxykQsySf119/vdFoPHv2zNaJUFBkGI4f6gNJT/2nWZTaZRBYJCtwi5oDVsRPPgwJu3jVYyLzaTHr2nZhWFSmvGx8mktulr33trJPTEwMDAywVEdGRvb39xcXF9fX1+n8cVMZonxSy5bTOChsov0KvCj2KpG7VqvRqfiBdnZ2njx5sra2JjgcKo2KnpEHKC4ixKwiwGFP5SeA4JPMPS/gJkBEbutXoou1cV/7EqLF8yy/FtTbtdlR4NDpMXY981QNDw/39vZKkTLNIPHBwUG1WiUbyxIM5oiBio0/ffr0yZMnq6urW1tbGPTQ0JCKeiMjI/IIMRFVNNBqph+9FASCsjRq8j+dqqIDXy++X4IFEEJOXmaKY4VmyrKgVwoBEPWcrLAiUUYp/XyBif6mIhuWLS8In4W0Qed0jCgAACAASURBVABrakhEPTL232vBmSCGp0oMPnr0CJVy9GqwDQkD2EAyqJU3cydSTb+AlhZKLbXtk8DzB5u/bForBJRrWGsmIf5yhsm3FwtlbpFp8WbR7Wm8Z2dnioV7ijbiaDQ4umitVrNgQ0NDLvr6+iYnJ9V7ShUQLOz09LTVailABg8CIOgYSZX556KN+AGkBEvehAHhd2EHXs7OcwKfWoS7CxDCgACZYCm3c3R2diqt6eRMkQt1TW0dY6l5Stu04Q/zdQDJ1tYWYnMyDzWbCKUQNZvNlZWVhw8fvnz5UqYmTlT5/s/GvqGhIaeDqZwFhiZu1oiwDUoQQ61XJI2b0zv0nlA8dcChCQEpUMMfhhVwJf3ZOjKIqPrSaYzTHuSY5RJ+hPGIa9qBqKr9YE5SMynv25BHPfEVXlaaZll6hoCf2L0RMtYWFhbOzs6ePHlSrVYpBRfhFnzLfENfoPGjxIz5hvjDifDogLG8yGK9UijKXX3ByPLCtXYz6LyQ+RsHLUg+Oa+s4N/4+DhVamxs7ObNmwsLC+vr6ysrKwIENktRLzEXyxwfr2Ie0ntPTk5GR0fVk+ZAdvaTCmLIhhWNnqNeYs+ZDoiUsMgd0IxYa1sGU8YCymtf8TZx4yWHJBwzooMqZLOTNFi5fQpgQSZ6UIp5AX7MZvkqg4ODbPKhoSEaxOnp6c7OjqiKYjUDAwOMKZaRLRJLS0vr6+v2XCjak5ic3OGDg4OhoaHp6emenh4Z9XhHlh4xoNhALEgM2vHbZRWYDyH+UBdbIGiG8oliTCeiMqwkfjhZelrIjgZ8h2xnzsS9JZBh5DYv4sgCHxKlGBFskBC/5W5jf8npMPeIGaqcn+ojPn/+XKk7FF7SZBgfZGtDuSggP/pJzPg08ocSP+X5YmdxjJdTDXnkIsRfxn4pUYgf2o2MjEh+unTpkrLc/f39z58/V/MUk8YUuRviM2ODtVqtWq22s7PjoO6hoaGJiQnpsar3kG+NRmN9fV2aDe9R/GRRzEKHF8m+RGuUDwXdz9PMPSsRIOBfsDBOL0QL84gF9rDjxlLvyWE4dpufnZ0psEddst/JdmaJojyLVInsbkJXnZ2dtVrNZgqZqtwlp6en9Xodz11dXV1aWhLAGx0dVeTPXj2InhrYjIuOjg4MIga5roVyA4e2i1IQhSSYIUBUKmKiM9HkLVwoUL/alz+SMg0Zki54AQAft8KIwc2CCqBk5wXUtUyCzTn9mYHAENBvLFODz4D9hDalG7ijo0NAd3p6utlsLi4uUvvhQBvESqLLo2BX7uRCd5H8If4SsHnZRYn2P3j7g9/h3CWu54Oyodx0wYdpSvkWwglEYbeyOM7Pz2W5NJvNnZ0dhRyQJWYU1gj6FH7GP0U3HuC+vr6YAFtbW5ubm9SBsbExmfMl7CBK28gzKcMuRTpcKZck3xphWEngHtklwCmgzXdFymlNLcOBgQF19ev1usAyPxwKdEgR2zt1k2n1cTjL6puYmFC4uqvr1WaNZrO5vr4u7phtVI1GY3V1dXFx8cWLF6urq/L8E5UUQsc+ONUgkJhcX1/f0NBQUmg42PBTYZc2eRVZUnpJs764fCgK0XrKuVX6wKnZ3tGjNhFwjDUXzEBDYoHSj2wB9E4SDXt7e20/RfwIiatoaGjIVgu6gPg/M8EW/eAn/SIRPhwkpgFhMDAwcHx8PDAwMDU19ezZs2+++UZGUBDvRy+Ct7m4+Joxm5f1ogUkNPijn7j5CtS83CHX9BROhq9A2byW793PYR6hE8TJHY0Z9/b2jn3/p0ScArWVSmV1dXVjYyM8LDIffAFXd0iX35Un1rai0dFRhoZSk8h+dHQ0h39FYeZdD6GWF1FcS79rYIfmy//Bb42EZaAc6Cu1Q9IRq5KUNh5sQuyt0WjA5jLhVOUsdakorjCPaSAFWCav6rf0TzvS1tfXhbI421ut1srKypMnT5aXl/EUXAauGG08auLtIyMjExMTY2Nj2Prx8bGqKvRqXN6qlcgQMAYxSrqNPMcHMRFaAPrB9aLzeyHcAWvQsjFbBVEVLg8GBfpHrtpHkDgs6a3yipQqumpGwhYWpEjBcqsvZRirMlmTwpjQoXbcocpJoJ6enj4/PxeFbZP8KKtEsFCii6BieZEhhe7c+UMlf0JcGi1Jvew+rL3sxk1USmlMMgbtncM5u1PI5L6+Pnlmb7zxxvT09P379588eRI3ifgnO1bEgj1mVtCCazfsbWBgYH9/n07bbDbhK6NA9JvIUsfC8oTs02zgGF4eoJfvuM5/BJxPsLxgAN2Y8qJSDRUUooOezZGUUnzNsVlqIlkUSGy+AqKmzPfJ4i130TQajc3NTVqAHUTVavXp93+1Ws3JfGwB4x/6/o+fReBQWZTr1687SrjRaOzs7GRjnzBb2y60UALuaeTB6WjacuMAMPITVXP+oVLiHfG7ZseCMDqnh6NzIlpiQmg4uf1kO80xoTuSo6enh1Jj25L2Rex4qeyzoscJTiGtLHqYUQRVFEz27OHhIWj39PRcvny5o6Pjq6++itlSEvOPomXwsO3NvFz6AgH2DyX+JGBbCRiZbkqa11lIMVpAFF0gjspgRaXopYBMSsdDX1Lx4cOHS0tL8MNM8EUSMgPLYgMHL6CzPSSlNJtNC09YDQ0NOewJPh0eHjqF9keh6WYeZeKYGqEKC8OnAgHLn+mjRsMuLVI76gcHB09OTmjp/f398qaURQMr4f0kPkc1Q11O+2UMj42NwSHDc/g3bd+eHDbFwcHBxsbG4uKiXIC5ubnLly9PT09zBFLEBOTtzuKjpapkX83JyYnKaCqyWNzwemMLSYdrhw+GpBMnD4KyNSI5qcoiwfhmuAxgJg0Jkpi7R44nozHZacPEsBO52WwSLVyGUvp4T3Z3d9UpMAzqGMTOJh85EScnJ5OTk5cuXbLBDL7JgFTWkagjn+QUQeOxsbHd3d2Tk5P5+fn19fXvvvvOwRZYQxLh6RSAE1qgELmJPYXIgx5oNvwUtZpCG26Ha7Rv7Ml7of+2i1LTg/3h7iGGkFBGgDAcnDA5OTk1NeW8BIW6OKhKy7+tU7ZAORMYg8xUrWg2m+xYXLZSqUxNTaX0xdHRkeojMQgvdmHho8Aj6UiqkuYBwTQJush88jmCrgzsQZScbM8ah7WkLoIXCFA0IUFQYpyM6unp4aXf2dlRKBKh0vPl87L5Q3urq6sUrjfeeGN4eHh8fJyLtJyCa1aGuWN2HLddXV2tVksFt9jnNF6IGHQs8SG4iDtAX2p82GtU6PBQgNI7NifvCNiF4iwfx57QnYXr7e1VFIjqri9WBiWLCJHnK8IqIsB0TUUNB0nYNyEh3Rm2h4eHzuoQS+aQPj8/n52dRYdJ0+aOkdrM3KD8T0xMHB8f2+RmE5f4Qnb+tglgMCxpPvTlIvDPT+wmGJ6lAWE/X7HUcOLwgzSdj8uLUHjbRckUtNA2BwVqDg8PR0ZGVDsR4eP+XVlZWVpastGi7C7XmZih4yb2FDYajXq9zlWDipivxD7d29aAer3+U8RPnpQgNv7YZiH+ckgQrqT/kGvScgNxgSuyiPHPqoR2ruP0Jp3on0ZlanJ1x8fHa7VapVJpNBpTU1Oi3HrknaIEkUJ2Uq+trV29elWifqvVsocv/I6MPT09leuO/MwOtfT09KR8Y/SySOagV0iagRbChh4xvCFPiULR8nSdEKCsW6uDuhhHtqJHHqQ7pTJ4W4wqLccdIM1J76Qrlo0WMBp2xNjY2MbGxtjYWK1WGx4e1gJ+zc+PMm2RMgbDk2QhuaC7uzupnJcuXXIs4sHBwaNHj2q12sjICBnmXHbYAseM3/9SiuRpqfBH0KKUCC2fp9nA/BXxl3H+NFpScnDdRbm65SPj0HT6w0fJbZUqcGVH+o6OjspUkfm3tLTkwIOy2VxHhpSN8yywFXFcw+MeU+XC/ZcvXz59+jSFaNJsLqJTgbKFJHwATssBYsmMSqXXescgDHcISBMcSvGmUCC+kBghB0Fvby/blQyUz3NwcHDjxo2XL19evXrVGT6kCjYhvMQiODk5mZiYqNVq09PT8Hhra4tai+kkGQF3k4SDRcYHCfjKrqV6ehYCKEAyUKIUBKrYBLoKkrThblBLd20KAsjH9Et0yR30Y62BQoyZL9BQCQzYUo7ExAmM8FzR1p2dnenp6bW1tZmZmWazOTg4aI34TXSRUAjurOQkBYE7FlXjRzwXvb298/PzvF1SYzC7NqSCPBhcGxKG1H+ULmBvKc7BvKT8V4ZbiD8PsqghjPLip17DXz01B2tp1RN3Vet2d3f30qVL09PTys45/+/x48c8f2V3uQ6iaBZcECrlNroATQwzPjw83Pr+T3zLdu602XbRRqiQL9SeibtTYrw7QVYA9EJI3UpY6UQEvEM8YpSQA18g7qQMUuZthd7Z2Zmdnd3c3JyYmKhWqxMTEzs7Ozi9gLxwoAjCpUuXms3m0NDQysrK/Py899GkwQi+ZrRSs8O8hMqF5XJMCDmJMwJ+G87Qtkw5GIzGwCo3yyUIwpTMlCoEOOKR0TuQcQLA1Ao3tR8ZnqQXQjtbg/HHMJTkp7Cxd3Z2lDafnJxULMi2PAp/Av5WU/WxZBZwK4aPq9cgEYtDZGZm5vj4+OXLl460l6cImGBiRYL2iByI8kKQ08WPomiWpnxqaV6FhbMAId2y0Txtu0ijbaP0M0/DoX3Ov+X4J9WOIHS9Xv/666/v378fSmjrrtxg41G60GPJ12V3K/b0+PHjZ8+evXjxol6vZztXW+N+ljhXQrmEBgEO+8v7WiiR/gf4fk9GZTQoLMbnbZpzHGkc2hqMAiJM0N/fv7W1JUo6MzOjnm/8UiMjI95nr8LvZ8+eTU5OHh0dXb9+ncN/dHQ0ZygDF0ytVCpjY2OVSiVnMZN1ABKGaEYc5m0rDhT4MpCWgMJ3AKdcBe0HAy0ujNeI9Y11ZlRInaXgk0hmYWaOw8PDwxzLBeAkBDMTTua4d4kkbH660tramsIhMawwxyRfOE1YAqXYnrqMjUZjdHQ0y8c3gRMdHx9fu3ats7Pz0aNHGxsblCzTL7kk0IVuA+pc5FGACZJ5wUWegjxY/chZfR5cbDTfp7m2DkIwWjDuUouOOqeSz+DgoOr0rVbr22+//fzzz7e3tyFr+spF1GZ30kXaDFZh5M1mc3t7e/37v83NTQo/133aLC9Kyi/vc2iXAM009WgkMT4j03LhhTC10A/djOCNEOa7tqU3qA+S9sZC7p6eHkUs7MwnqRREE0EYGBignzP77e17++23z8/PBwcHpfHryzBQfn9//+XLlxml8UewSmT7QF8f8rla32BCuTrRVzPl0kEIjEF06wvrXJtp6c0u+WZp5dGZvU9vT3A36WEGQ0qHmxiYl6kY4R3KGQwMDNTrdTlUnPOKC4EA+4JTOX4E7JuqYh93Tivn4gXw09NTcN7Z2VlcXLSOweHAATz9NH2WXbhqG+SDusHnUGuWJp/8IPmD0GHJP0X8obogfXhJGvFICxSeJLd6dHp66jgNy7y4uPjf//t//+yzz+r1eogk03BBhdNX6ApVWELWHdkIM9R+h50y7Xjj2lpuA0r5FMaU8zLgDBIckxcUiAdN875HCIbi4I4tN84+iHTiFspkDUlRkFqt1tfXp1YMM5JG46QTEkllRD6nxcVF+TAzMzMI+OjoSD1s3ARkenp6JESrwsJtluq3dr/wDmTK6CSrH8SwKKF8cg/EogF5JzhGnodHhDx44zk7vKMF5GQk2kd7InlW3zGtrCGlYvlQRJd1cX5+zocPVpryCXve4X/KKPDm2DWEZYOkQgnWxR52xoUMAm3y+Xd1vSqcxfYcHR1ttVq2dTx48GB1dVWb0fMBMBgVx1CIP+gRYi6XIB96Gqz2jpuviD/OhqBOXNz5JhdpNLSNeRNT6SlDz0LiauH3Ot3Z2fn2229/+9vf3r9/35bS8rWyzfRrJGknHYXMhIXhCiQLjwhkM51cwIk0a3aibtiKb4OgGHwpPM0offkZlM3B8nY6ey1lTlAg+NMtueW5SLq6ug4ODhqNRg6Ej+dfHE4QC4kaIU1ep/E7YDQp2fr8+fPz83NY2NXVNTMz09PTMz09bWOPer4GI7J9cnLCNT0wMDAzM6OMUlmdhpESLw/EAAFTKyW/hQsulgwxDAXME0zRsjUSGOeeLB0lwhy0egfMiuqRBIaEaQrLyyNKriH0E6VDvRiHMvBEPWUEjxC4FbFD2Fx9tkUyN7wvTch88VZ4NTU15VTLp0+fXr58mc8lXFJEXFFAOGOEvlUbLnD2AuiVMAyNgGd4xA/7+eMzC73l45KvhLbDs0M8bcQZGgi9ZZm1rIX9/f3kjXHYZGRpOZ3mTnlx8X1PM8Ky3/LDtuu0k/nmBcDNz4yHeM99qxIkDkDKtYF2SN1+MvQssQdJw7as+s7ODt97b2+vgh8qatp1lwI+ZTmgwcFBBbklmYhgZSOdExAFSiqVitPNBgcHVc4n38gZskiKQaoSQ2K+MTpwrPHw33DeACekHtwF8DBZb2bVcj/L0baOyINCkcb5dLxJMSlTBtiDYhzAxY1KUMP85I+UO4WTAuDg7aBKfA0yhYRyzT2pBynsmamZqRpETrWUW1Gv11+8eKF8A/Lp6upqNBqHh4cTExN4TbrOhWaDkwFXSb9ZhVz4/JW3PxGdyK64cNNWLsJdygvCVn/uR4SGBjIaF9JdJZBxsZQT8JWx5n6GXl4ECuXNjK18Wl63vVy+X9oUUQ5Nx1fasca5zqPE+ZkbEMtNmGqffzbYp3oUsRkTmtmPHVDF1ZDD8qNPsWkFTVSttjvAPtwUFCKg+LTQqj2CJstWknrgVFw0APLUQOabAFjOFzIMKjf5DFBmEagGMYIDWYvgSV7OnVIOlS0AdV7LUmKygEzZLncEJ/PfNMlePJdZEeEv54dFUK/XHR6rYIRyVd7HXJgYXIYs07hvspPNYDIdUOVSEV+cmJiQguFIe0XETk9PRQeOjo6wb0DDYYELJ9Vg+T8wcbP86RPw7GJ1pK2LUA6s00TbnfCe8n4GGsmfzw0ooUGuJqpRm9i0wG0TSDsugkZt939qIhdfc+eiDAk6pqmIowDd7IwzLSODiEGrTk01QWZbykWzt5mCdviOjo4q7ynTdmBgoLu7++DgYGdnB23TMIWU7T+L1crCp/fi5lKAoKBr7qiUUSoT4zEXUT2sQdaK6729Pbuzy7rjImexGdlKEaQBWrA2gAJY6xui9bT8KvAPlpZ0nvfx2eQRmXuWtcxEdr2/v8/gDzHrVHc4aaJ6iN+kElwUAY3LiTzgU2RqqSNkDKXRDhQwH8sYHx9X/+/Zs2d8EwpD4CBCDwAVyMC6SIsSStoP4eQCrEIyXYkMGTpshqOBRdmfL9seZQHCV0w13Xih/I9lQikCBGQpEcjDGlPqym/L65/qIiMsX/4910ZuPGWbpeZSKgIA6s2sbgbPOoUW3mRpAyxPAXEhMiTbgsN5YGDA5nn8MbUJQYNazr0v/wcSQH2EJyya44MlrtsrtbOzk61BlUqF0lepVAiiWCLsZMn/qIie3Gw21XpXGhi2KNxkmhaRTm5gJWfMnWBqNPZQadbICpY6YPnI+2kQqKPAB5d0hBjIZM4dwM8BPhmk8Vy6dInFxExj/pDSDg4Bf5CxLmjVO/HdYMRoQeQ/8X+Y5oixg4MD5zKOj4/fv39fqW9HXRwfHysEchEOAH5RuIJS5FOQ2YWvvPOK+AEunCmASCsh/qxZHuWiJLZ0UHpovJkWwl9iMRKYyXXNt/kkLZQXmVt503XbIyNsu1l+lWG7WSJf+VV5P7Io7SRPA1SzBlkk/B7dCrnlk56ensHBQRYgvUCzvO4Y4v7+vg18iVQ7ggJScoPbpXd2dtZsNjs6OuiupBB/uC3ATlhz8EGZnXJ4eNhsNu0gorDwbkocjlMa42BQHBwcoAfIcxFc7rQJ/zDWUlJZhbwfwAbU4B8sdZH/yN47wRybhUJ4yNU76a68yaORnXyYvoXDBNNLfAp4SkjagUWBFfPNAKwjVcIYdNTX16dY27Nnz1ZWVujCqQRRgtS8jDx4FYiVaJzZtT3V76vYQxA0K0fmXOwv0CxVYg1lIUM57kcq+pm1jCSkcWCWUJCHOcKz7DSf56JtkLnvIk/Te+60vRkz1f229wPQQDMLUIICEgcRXZQdRUrQPJNLbwmIJl4Y4lTZb0q4xpXx4ybM0VR2s8BRCWTk/P7+fl9fH5d4eSJFZ2enbHPaAb03CTPUeE4HNyFxq9WCGL29vYODg/gI6ecTXvc2dAygolWVMAxJR1WMiPuplfKJXtooNq21LUH0kaRRlm+6jupkveJOxzh4bZJtSVcve6fnW1ZhF5tWsHIqgImDAyVRO9nc2dfXd+PGjdPT0+Xl5Z2dHdVosoE6iEQ9wUQC3kAV3ELUbeRTQvWVt5/Ije6dJGedpdG2VjwNkVwknixA2mlrIc5SuCU9Q+8UV+sBLdJRQFA223bz9/wsJ1++FpyDCm1D9bNcPJpLcCjvc4+lF8MOlmRG2FxZuJIimnO7JOcwEJxNHOlhL/PR0RE1wf4/R2sjdYlSmIXMHydtNhoNXsNqtTo2NgatFatIaoqhKjTEa8gNcX5+3mg0HD3e19c3PDxMrfC+GmTxpQFLgBC4lbgU4MMT8I8IybdB4vJOoJ3F0pr2y0UJVpPMvHTWrs1GCPEjhzKjlFJDPvNucp2mU5wIa7CvRGD/+Ph4cnISlRo/OIvd8nljK2pVS+teWFhoNpv3799nBh4cHDhPsewOB9FvZl1emGPuBGIB4yvuY8t3vCOlDZb3StzNzQwlHZT06WZay09fBTnMIRIS3MHXDhZFVMsz4ZkJIh9hfiUSGGE5mJJ0MwBDKrGtjVv5iuZiYGk56kwJBNcaic0Z4MCMAMQL9ofwyVPmkzGqwN7u7m61WrXZnvGvgA9lO4IIXtLD5Q6Ue9cbjUatVnOYig0wSn1VKpWDg4NmsylNRWF5dUTVQbbtUnyLzN/e3uYXcIayjdLDw8NKBogmHh8fyxnPeAA5q5wlaFu1CDTLCjdy3Ya+WYuQN+oNpqVT3Rl/WEkGEwWTVo/m8xSyMUUlqvFVMbIoU2YhjghplaJzYCHMEVyQLAQ4KB8a89TEmhsbG7t27Zptv05nkq/BBLBri4x0cnkoAlKxNzlx6BciSuRKhPQrNpT65AEuaGaFAgh32og/r/3U/bzwB15Ecy6JU9AVPdPH6Fe/J7f893eX0eYiyurFDyElZMrTNuaS+xcZTYYdSAZBgZqYpahnx3Fiy8wi6jc/MC8RCcPyt5OfVBFKpEzBdRvgbSmHKFT64eFhfFbX1HjHfqrYMTo66vgQFZloCmiMUz1bpHe+/zPUePtLmFycO8gHFAFy2DFImkKJnJr1Ya4jCWMORGJlpdCGkeQ/fEs7GXObZoeGgwNx6LhPrVC3J3nQ+EjEPogxb4HIwKILMA0wCKWoNzc3Vbh1BBAuw77I7kPjD98EVe0Ht8GwDMd49EN6r4/NvFynAC5A+amL9PRTL/yB90P8RowfY5OCVZhZ1phfpOzd+Ms7bV3nUS5YFl4rp5wICPiU75dEXmJw0LR8WZtBuHRBCU+oL/oCQrXfGVp7hKQJfHcYjTyFTHfyAYM/Pz+XjirtjPeOuJDfJsslL6tpmewAQYdGoyH73aYADghR8Vqt5iygWq0myzgCNnAoxXsM+zwNDZfUi8b8B6uLwMyd4H3oU48h9ax+4O8FPzPgchEZZbrIYgUzE+Fn4iEqBpqKKaIkUjksJVlVpnKkXzCxBHo8PT2tVCrT09MnJyfKq+soPmAxWhsHYmaGy2T6IGP82octgP8KXIODg+Uky6kGaiWgfdkGqbyQT/4PL9IgOc8WoqGxULAAKq5VTI+4xsUR5o4300XbfU8DB1wmLD+9lHAob3o/8uRHES7ve8oPbxURvCnwxpMn0RHiaqJnwi1n+3Ds+db/np6era0tqj7aSC/kEkWdN8G+dPxueHgYo+ERlFkolYgOwjyh/Dcaje3tbQECE4/akpm6AMYA3BL4H+KHpm1gbGunjXfAe+SXlbKC6SKdaiqrD7BeNgaPYjOnL28mIYrpl1igbQhlmjb7SA4fYGoqzr9ECg2JqqJi0tnZmZBNZ2dntVp1Jn2YPrclEyOqogkGwrI/AFOUgakSvH3Fs9j81BgTBgLYE6AHdqGKPPq/fhE8KFtWgj5uG0pUnLcl/Rtq+e3F66x9LrzT9vMiEPJaevFJPsxFJF4g1jZIi21fbXL4R0ZGJPBkt2kqcEvXz9YgciA+Nok6rPTy4JC45UBVmoACCkzBRAds7LHxUeqXGKSUfuYhh38iZ6hu+/s/OzVJm+yfDxCCc0GkLAqIheZDve4Het5v+6m1IAwG58O2RyXw03Xa1GzWNC9ntBlMmWxHyaJDcamEpWLKdgeF9uIqAp+ECdN47uPRo6Ojc3Nzx8fHnP/8uzHg8dmowOYSFdXIqT8si9zJO6/i/FhaRhZtwZgCqQyxhEiu89r/+UVbm7R9EMRZqUyMzwTJM3njv4htaTbzKi9KrIrc1siPzkhr5QtprcT4fJun+dAjud+RwI7H4x+Kz8bGZwgh9xNXcqSH6pE2rvf19Y2MjCgdQ0ew8LHGpawNDw/TXSlQMTtxf02JKXZ3dzthVrHAZrOJOE9OTmzy29/fX1tbU00E7pKNJVIabQn/8hocNBvBZTnKRbl4p4RtPoQPZftYQ6QFwvbffEvMt/RlvyUiRaMmLKOx6z37ha2UiLXxxFFC2qthIfu4HKoZsRpAeGZmRiDwm2++EZ3NpqCenh7Vio2qDcgSRiloCDzOP6N99XNwcDBTNY4Sd0uUBYVAKqD/v3uhR2uT61IxsfMBoDHaTMZEwrx+/8DapmZeuZlvA5zcAYd0Wt4P6MqvAtUSjdIRCoea+HRQFrFIUwAAIABJREFUSh0UTlrdmW+9XuecU3OeTIZJMnYcOCM+jBQxAkHB8/PzoaEhlaplFgSnxQjtYIN85+fnjkuUlMLtjDs4CWNzc3N5edmOQ7TUVpQmoDCFTLwNbp4GqiFR0NOImz5Ms6Dq5k+BmsGYrvNa7mjNz3Sd5YiotBuqHEZ0DRpcsgOSqxL7XGswWXiP38RyBzixc3Fn/qDx8fFqtbq2ttZsNkVz6fx2GRoPHlcGLwSSR0dH1X1lmGTur4hfKkKm18ZFAtOA+P9v4o9UDyfDt5iaZItC10NDQ85Cie8kn5Siuw3J8tNKZ/kzrxI6YZmh28AhGkda8CjtpKPAUMvpNx8Sy0wYPnw0qephUlCVQnQSKSq1k1TVV2q/gp9Op9cU14CtU/YLdnZ2Dg0NVavV4+NjdQRgj+Nu4iAATPXORRmcOb23t2d7bGdnZ71e39jYePnype1AWBiZwxEbOrk46zBKcAv2R/ailsBZUxe5QJYmXZQADz6n/baLMJFyddyMeM8jZEIJ5SghiljjSQegvkFLZf9KgzrrblEIZKRriRNNpA/29PRUKpW5ublHjx5tb28PDg5iwalTHADStmgZEsZHR0evX78+MTHB4Df+wOQH4g9EAjgN/RQGux9+WRJMKDDzaXvZWAP0ti7KNvNI+zLGbdKWGOvEzvHxcekoSoM7a8F6BPnSVO6U/C48PnBEiuzhrFY5kYuYYb7l+C1/FOwEn8p2wrno3ui2Xq/z1WHw7PCenh5HFTqmWkeEuU31kCapZrKG+ESRNE1BVT92+/7+PqVAyPDs7Gx0dNQje9ptLyepAMfWIGX8q9Xqd999x73HMZmiuoYHr0oemjTYEv4AwoPgw1wzjC2QR4bhczD3cpDEhaBmttnmfVZkEsyCuiVzSRc4UXzMpfGcRdQRB5tYfaoMYOv7+/uk7tjYGGgLB46OjqqkmsOX5Q5ZX4wgTj6lqJ8/f/706VN2gYoP0o1tu4Y8aor19va+8cYbf/7nf/4v/sW/+Gf/7J+Nj49//vnntnKST69SD+3TyMyRromBS/6DSNiGdwKmkqgA2pK0ScKw5yxk2vn9F3m/xAaq6ezs7M2bN6VSET70XnMRiQl+OOgeH0GWwQMDgBxBmkiewMGFeZU3IXobmka+eTMwzMWPMllIQ1yA2NnZmSSwqAPYP5KTVULndwi6yLyDgATnoJ34cGrOl0oHOBDs+Aj4QGXs1WHe+IIqaZz84Z4YXEaewVu+rH6mn0XPSCI8EJ5PsjQ60r6bABvpVYocTbkTXpOF8EnwKkupWetbNpvBh4+UqEWAc1vS5FmmlKaDg4Px8XHpTwoxcBBSIiAnaJt16SPISKampi5durS2tlar1UwN2xU+sMVwfHz87t27H3744b/8l//yz/7sz/7u3/27b7311pUrVzo7O1dXV5eXl32izR+SfEL8VoU4KsFaLlJWItAPiudzEFdzOq+VC5kG/8ALg4FbwMRDzhZV6GJubu7KlStKKXGGkTmJqUiJj+/HItHf8GYmnP/uBzkyTrMo8bsNb/JmLrwQjM9PL5TAD/GQ9pCAIt1oNJgA5RGX2iSrmYs2ojuhxPv7+/s23ugo+UKoHYjoUyWbyEgy7Gaz6XCEk5OTRqOh8myYHbBkLplj7mgnXKCkRviTFqyLgQVnQvYadD+QT2vleqUvvD4Tybqk37STFZF7F+LPdNxB9mErKBbaaJPh1tvbi2VXKpWdnR1VgOOjQcDJ7YFRigJ7BM+pAI1GY2xsrKOjY21tbXNzk5KbEqwsuDfffPOf/JN/8ud//ue/+c1v3njjjbfffnt0dFQEtKura2dn5+OPPxZ6FDL4Qe3PCgUKqRySaQNl/pdQzgqV8NUmHlOC+292nYEFRWCn4tybm5snJydTU1PXrl2bmppyKNj09PTIyAjFKfpCuJJhhMUSjBp3k2LfNrWLP3PHfDGjYFUmGzDmzo9egCqN3Tk8x8fHyr8Lsxln8MybXACqUOQIEw4/Fb7atqBC1pLGbNp35JGJhDXAY3yBq29vb09BdDnIFj1wyEUmGFSJ460kG69Fow7CJKcryBncC5qF5tMgzh7OldbKbHyro9n0HhUs94NyutMFoJHVaYcrCpmZvihgT09PvV4fHR1VbX19fd2hXeovid3iI6idmxCbs0bC+N3d3bu7u45LpNNVq1X4cHR0dOPGjV/96le/+c1v/vk//+e/+c1v3nnnnbGxsfPzc0VcST57DR49erSysqLHV8HIrJALgzArU8r9iwidO1ldLwfi7gOH/+X6tXX9+3+WkpYqrsGdnZ2kuzYajStXrly+fHl0dHR+fh6/h6n4ZavVUhUrjtZY2uHlsrvCLMpRldOMTHDTlNXGDWlBo0CjbCo3zSJWsW+TzmQJmGryw4JwaCP1JIaGhsJfcsEjACnRg0QASVOmXI7Wkeos0vKwEJVCcMPDw8NaraYgslBCSBHy6N0EQ1HmHhwAGT+jRUff9DT/TTktJFuuhGeuS5QLVyr7DSWDedbU4NOp9U1Fo8gM74cxpTXODkPlBaBMdXV11ev1ubm5paWlW7duLS8vX758WUlvhpszkfmYmGNhJYZ9enpqb8va2trLly8TZB0cHBwZGfnVr3710Ucf/fKXv7xy5QpDQ201Jy9h3CKCt2/f/gf/4B989dVXe3t7PxQUleEXJleCyXXAWq5xuR657yLEUErOkEpw92LjZUcXr8PRw+zTnfSp/f39arVaq9VsU7PtdH5+/vXXX799+/aNGzfm5+evX78+OjrKQRgN30KG3hifCANy/+hQSwYUhJCQg3MbXr4NQQYC5thGHm4aQ8jSJ9knQ9pzBdMMufHtM0lExwE75L+MINuEFaKJuh45Y6iSgiLETk5O9vf3nVTrfNHNzc21tTXHVJZmHbIJEwQTbeY60GhbXywYVRtPaC9vBkWDb8GEtkclsnkEyHktakJYbTlOo2W9hxcYYdrJMmXpE3vGwswC2EdGRmyjJPl3dnbo9kJxCtjz1cnsMs6oGA5H39zcfPz48f379/n8r169+uvv//7Vv/pXv/jFL1j1ovoxWrEM/i+ys6ur6+uvv15fX6e5dKk6HjhmtiUEg8dkad7JwrgIcMuLfJuFDyq0ff77f5ZfpakUloPihLbtq9Vq1UH0iqVXKpXZ2dnr16+/9957t27duvr9nxr1nKupckmzpfmXdf5/dABuZuQGRmuIQMtaBmu979sQf5oC3kTL47xkBfD8Zb6Mt0RA+EGoA6zN7B2OpyAHfjMT2AWINoSH3cQ7qI7d8fHx7u7uxsaGqH4qMpTIY46R4VmpoIGLEoUCH6RIAkcriW1SAs11iWbpKDfThUflzxK32wR+W8t5s2y/HEnYVup2Sa+0zwL+HB8fDw4OVqvV8fHxer0u+KffHM2UkgpYfM4gPz09rVarS0tL9+7de/TokaNZFxYW/tE/+kf/9J/+07/zd/7O5OSkLRvqgtt6qODS/v4++W/f1/n5eaVS2draevDggf0d3WblP/ZAYnMgByOzQiUG5ylcyQJHZJXaEZD9jf8nbpxlgKlsudhgsL+zsxMLWFtbe/z48dWrV2/evHn9+vWpqSnJmNPT09Brf39/Y2Nja2vr4cOH29vbktXQv/BY9PMsudmVam0QDv8Gh6BvCbo0AnQwEvQihQIilRtTrlt2B+3ddlG78XJKJ7Szh0/MCWdB9uICeAqgsScloqoR2tnZKXWCtAdVA7OTH0Pp6OiQ/8vmD/CNnFwtNbXMqI3ycQ1kAPe8iaICNy/ETQtoIUufBBW9TKXPJ1kyuI2haMejLETQm+5tLp7CN5lXWjB+5OppBpN0CTmp6v8fHh4ODw/bcqcWqGpLR0dHlP/u7m55O6qnQ/WVlZXHjx8/ffp0e3t7fn7+j//4j+/cuXP9+vWBgQHlWwPwmMZOYfU0CrhefvGLX/yH//Af1tfXXwE5Nfy8ZJ6Ju0TbCX4LAoUkwvWzVNpJaxYpy+/9eF+tmW9LQKOHrGgIPu2UjKZcv4zHjvd6vb69vV2tVhuNBjWYem/B+vr6ZApcu3ZtYWHh7t27d+7ceffdd2/fvs0ly1+IhTnvXWEW6ZnhmKChzRCMoQIgR44JeqFNxgb5gk9SDHRNBWUiSvKTs9FqtWTjyTyD8RbINNmHNPlU+OU9ZjskRI+q7eeLMQyGfX19169f/+Uvf/n22293dXVtbGwQaLYJOBcwNSdjgmX68Z6aGlgFnaJisLCQa5ZbmAMMBV8CXk7ysIDgVbRljeAFJYKVqBVoM+KyKInYZV3o0u5neCEWnCKncdnm4EyUiYmJgYGBxvd/6qk7OrW/v18p1P39fTmXtvTMzs4qZn94eLi6uvr/fP+3uLh4586dP/3+74033iC6sgoRM2zAsADGhYVQed1JBGtra59//nmz2ew2AfMJFUEdN0PnWoma6n7o09O/9n8Yc3r0yf9uO39tR8mOaLVaitKtr69XKpU333xzamrqypUr4q7Hx8eODLcSfOknJycrKyvPnj1rNpsbGxvr6+snJyfLy8tHR0cbGxviN8gG8iFRSke5S5LjBx8MTcpySVi4xMWInbC20Ab4KKeDiXikHRp4XHqloNva2vK+RB1GRKvVwt3Co02nt7e3Wq0Sbt3d3VNTU1evXn3jjTfefPPNhYWFzs7O6enpwcHBL7/88uXLl3t7e2iGksjIUm5YeAIWZVQustAXESC0hPtYYswuogW5Rg0MGqQ1BJx5gWSEjc+DhC5C4UHFDDLtG3x4VqggL1j90KHjlZzYF6UGnXd1de3u7g4ODrZarZGRkcnJSelbAwMD4+Pjz58/b7Va29vby8vLi4uLJycnt2/fvnPnzvvvvz83NzcwMJDWDMnGYeOJi+rSpUuNRkNKCyUC8Z+dnV25cuW11167cePG6upqd9QV32cB/AzQA5cwP0vbxhoCi4sXbRBPd2m5bQ0utvC/dScwkt+q7nVvb+/Gxsbw8PCNGzfu3Llz48YNCW3ChF1dXarW9vf337hxY2xsjA52eHi4srJydnb28ccf7+/vP3nyRHpsNtgFw5RnEm+PIgARx8fHxdsY4XgBRT0wR88AmzZL4UZok34xqXwuV1RuUpyR2bovS5cC0tvbOzQ0ZLtOQhuS/9SHGR8fHxsbm52dfe2112ZnZ+0sllW+sLBQqVSmpqY++eQTh0zZ3qO4uMQVXq4IkqxvMC1IFYqNrlHiAOSGJ1n6MD7tp/G8EC7pIrI9+KDTwNxPn3NVhKumce+0OTJKBGYuob30C/GUTmNhGUPUCueyVKtVRhwToFarvXjxYnFx8fT09LXXXvvFL37xzjvvzM7O2lWtwhJSAgH6YKlfw5+RkRHpGFIPe3p69vb2dnd3nYUtyvhK8pukJQlQMsRAp+3NgDuLmjvlRWARzC4v2lYCxpef/42vaWI4cTiUQ5FPTk5evny5ubkJuWdnZ2dmZk5OToaGhiCu2vgzMzMdHR1DQ0P1ev39999/8eLFnTt3Pvvss7t37z569KhWqzkLVDFsQFAhx5RjcPqZU7QB1pAC20zTKmRPruXIa9R7MjzrLTOXOxD1Zg9pd3e3U/2SQM7VL4ynU7zJC729vb/85S/v3r17+/btSqXS09PTbDa3trZarZa48cLCwvvvvz87O7uwsPDxxx//9re/ffHihUohOeudEhFeT2kPRZkLmkTJ7mSNQCBTLrErwPH5j2ILEgV89BlA+Tyzti4h+JLLhP9mXTK8vBYK1Czly34KNkLSfrFprrje3l6A2tragl0+OTw83N3dXV1d/fTTT19//fWf/exnb7311u3bt69duyYFOHXTIHaUIxqcuQAyponmFYM9ODh4/vz5xx9//Nlnnz1+/Hhzc7Narb5a8ezqC7g1Eelh/lr3v+3NrGsgVV7k5bYLSxJQZtx5TSN+tt0s289125slYiEhWG5dj4+Pt7a2Hj169PTp08PDQ8IwRdr4xgYHB8fGxhye0Wg0bt261Wq13n777YGBgVu3blmb+fn5mZmZ8fFxm/CZ4rzomGvUcuOhDmTuglvlTy9Qa8N/M0cTgdlMypQAh2rhOFI7zs7OxsfHTTn6SH9/vy29IYY02N3dfff7v9dff727u3tjY2N1dfXo6Gh0dBTWDg8PK1Zz7dq1y5cvyzk7Pj5W9itlf3kirale0pe5gEYmTi0v38z7qM7Eow1F7IeJ0IYSvs2buvB+iRIBaawwPXo/pJXXcpFGMgVdy5tkNsbzjwt7JP2eNSr9dG9vj2q2tbX1xRdf3L9/f3d39/XXX/+TP/mTf/yP//Hdu3ejlkri4k8xR+Z9cjrDIgVoUlh5e3v7888//8//+T//+3//7//Tf/pPH3/88cbGhhMEXyUaoZkQRhZMhl/mHOiHXLNUAB3ek09cRAKUFx6V5JrFbvv8/+RnuHXZXULoEmDq9Xqz2Xzy5MnZ2dkHH3zw85///LXXXqNiNRqN/f39W7duVavVy5cvb21tXb16tVarffDBB7u7u9BdGLxWq62srCwtLW1vbz979szhmUmDR4dx1JUEHJaaCzABK29mXc2C192OcZBXh0+mp6JAMBgK8uT19/ePjY3ZEHJwcLC6upqorRXn2+vo6PiLv/iLtbW1O3fuTE1NMd2BsaenZ3Jy8uDgYHt72z6zmzdvDgwM3Lx588svv3zy5Emr1arVajLPnDBDBMVtHv7uIvejkGetSyC4zgrmZ7nXKDcTFwyWplPCzM+0lh5d0AKAPWMo3/Eo6wL+aCeKAC58eHgoKUuhRA7RZFs1m83h4eH9/f2lpSUV0IaGht7+/u83v/mNfK1WqwXOZEBWPNATw261WmaNNcgI2tvbq9VqT548+eSTTz799NMnT55QACkdfKWvjniYnZ0tU99LOP7otAHR/CNeSgQNHpefp9lchOt7jU+4/Na19/NV2WbbddubPi8lgPdJuVRfkkEhU3psbGx0dHRqamphYeGNN974oz/6o3feeafRaKjHMjY2xmWoeE61Wo3s7ejoaDabMgvq9frBwcHu7u7W1tba2tr6+vr29nar1ZKbFexkBMZKDAIZJFUZkHMHfwxYCL14FjB7YtkZT0NDQ8PDw9euXbt06ZI0J6nHf/VXf/Xv/t2/43TQOHGhXGKr1RofH79y5cqbb74pOZyjoa+vb25uzqkSg4OD9Mne3t69vb319fVqtVqv17e2tlZXVx8+fPjgwQMbEOPmQI3YQcRGxHJYfy4MzPKV1/k2tg/BWxI5YAI1rSfYBVGjTZTU65qKnlBLW9dpMyOPpsbAzGCyOpVKxUneQGfntYS0lPS9efPmP/yH//DXv/71jRs3lpeXKZI/mOXdr3JwncWi7G8ihTa2lmnL1mJxcXF9ff1//I//8fz588XFRY4Y8Ck1hVc89/Lly9kqb8SoqOSd8cdowgsWMvQfYnORnyX4yrUM8VPJAD2cVUd5/29A/GUSqC7ghIhRqjLggsnipIYpaDU7O3vr1q2/9/f+3vT09J07d8bHxyVOqiYqVUM6Hd4MjNkTIR9OWdu9vb3V1dW9vb3693/b29tbW1uNRuPk5GR3dxdqopMQPP0QtkEsQ7VXnLbf3d09ODg4MTFRqVSuXbvW29srf1H5t8nJyfHx8aGhIcc/2Ok8MjLyX//rf/03/+bfvHz5ksilkqCHOCDPzs6Gh4evXr1648aNu3fvvvvuu11dP5R71CO5PTc3l6rqUgNardZ33333ySef/MVf/IXqoNhccKZkXvCtXOWS+L0ZPCxxIIZMiC0oip+CG4gFvHAM/UcPhRWmrwtOU/APGofpRHP0cpivLRhqLoXyZdeenp4ODw9XKhWJmK1WS7HTs7OzhYWFP/3TP4VjRsJ+pD6QLk5w6Op6dcQGWPX09EjWNH2bLHd2dhYXF7/44otPPvnk0aNHR0dHlAJqrNPHBgcHbQHmG+qcnJwMpbXRdhDRzJEryZklTBU9kqQEYtlaWEAuwC4wDSvd29szQy9kDEGCtODCa203CausXNvT8n4GYLS6I3gZdefn53Nzc3fv3n3vvfeuXbs2PT19/fr1+fl556tBrOyZp3Xjtcqn1Go1jJ+RpuvDw8NGo+GIWHv17MaR70n5VJVcSpJke351fjjXvPfYgTxFoeYSyymHKdF9cHCwvr7+r//1v/70008vXbpkuz5tDlPLEfTUgfHx8b/1t/7Wz3/+8/fff58rZGJigie5u7t7ZmYm2cQyBbu7u1ut1tLS0ieffHLv3r2HDx9ubGwo/kVwiTLEJSkE1d/fb6MrtJblakbBqHJppCpFVsW+SNoCqohc8S0cQ1cYX3wNsh5TUTsJlCXm5zroFOSBMH7iO6k3tbe3JxSCK+3s7BwdHY2MjNy9e/dnP/vZ3/7bf/v69eticiIvMMoWDCqnICKHq5Je7uTM1efPn3/11Vdffvnlt99+S8Hs7+/neJILwCIIzWJ8r9hWqXkmtydKWmgvpAig4dYBRNtFXmu7f/Fn7Ftd8LqV/f4UeV9squ3Oj36Y7sJirBkky7wMADLZu/rb3/52aGhoZmaGq+/111+fmpoSFSs3C0BxyER7rFQqQ0NDYrxUaztwo/nHh58kvCBoNNhIGENiPUZ7kmNvvuHOCID2yGK0/IODg7du3frd737nZmLgMkxzbrwx7OzsPHjw4OjoaHJy8sqVKwMDA2pIVCqVs7MzSQEiVURlb2+v5MKbN28+efLk2bNny8vLT58+XVxcXF1dXV9fn5iYkB2UhSYP5fOAiTKESUMyL4O3LhYx61sSIar2qCT+SJd47PCOoDp3PYUxDoJ0AbVwmVBRrAADcB/YZWHjYkT37u6ufNt33nnnww8//Oijj6a+/1PEkcrJGs1+jZRLdVLL8fHx9va2I97Oz883NjYeP3783/7bf1taWlpcXKzX6z4k8x3vWVKEwScl5JWAjJMD9kercT86UqkdBCKAm59lT3/tdckdSoKUSBc3BPgm9PWHNPvXvhMKj+igRua+yaINnhvFEvf29l6+fPndd98NDQ1Nf/83Ozt748aNt956a35+3lpubGw4YI9+hZZ4d3mAGN7x81MTksoSJp0CfuIFUKpcBdgsCZz5Fy5m1UIA9hrg8mp4vffee//xP/7Her3OoOCjNl/GCxkoaVzpuI6Ojj/+4z9+//33ZTFxfIgv0pO5zVUWm5iYoJXcuHHj4OBgbW1N7Hp5efnRo0fV7//29vYcNDQ0NMR3QNcg+kyB4Ap9Bk/Cqcu1Nv04qr0chc4SByYl64djWRG6DErWfq4J53Qa/A/kww4YktQ3Oy96enreeOONd95556OPPvrZz342Pz+PTRuSGUmXxOjDaGApf9PAwMDOzs633357//79jz/++KuvvuJsajabzlyQ85vyDeFKWpPKzUR6dW1igW+YZQnfkrwDiICghGPA4eaPvpwP25r1LaYbplO+kw9/9KJ8M8TszfJRvgWXDD64YhhBGoXrokgTUycnJ6urqxzsbOOrV6/Off9369atubm5y5cv2zWZ0A6kzEFOwBsBzoRmieEOFHIULoIoXXxsbIw6wHkj8GM5MQiMEsFjN7BZ2V8G0Ztvvqm8BDwzNi9jBPRYxUUln/zVX/0VO/PnP/+5Q35PTk6Gh4dV/pPtT/LEW6nUYk9Pz9zc3Ouvv76zs7O1tbW4uPjixYv79+8vLS1xju7v79frdaAgl5wRYtUAKisIibOsQe6SLXrahnvUjbTjHWoCeHrkKwsR7a9ssNRJoynrPYMRutfU3t4eDHnjjTd+9atfvfvuu8pMVKtVdTWGh4cxWbaGWswajOpOhVSK58svv/zkk0++/fbb7e1tySldXV0JCsZgiUM0mAyHg/av2HdYTinqQSqEYfL+hzYAqw2aPgnlX3xaNhWQAVPbaukoal7bhz/1M6Mixy6OJGwuLWS92wbvJ63YkYnoLXkaytdK8nnw4IE0r/7+/tnZ2bm5ubGxscuXL7/22mvz8/PDw8Nzc3MJlMj9IhwSnEM5KbBLwEZZdQhX8meCgtEI4nNpkxg6ZflzGp+ens7MzExMTDx79gw0CAQMyPkIJVVkCb7++muR/z/7sz978803Ozs7hUIAJ4lD0AsL4Art6+sbGBiYmJiYnZ29ffv2zs7O+vr62vd/z58/f/jw4crKiqB3IgtZfY1b1uBJJNNFBDOjLG6JDyaS4bWhXxADEyQ/whZL5GwjAX2BniOYEJ4tPUNDQ++99977778PE7j97Dqn06HJFJjgpaNBaK3ZbHIYf/bZZ5988oka/g5WHB8fp0AJItjSi6EbT1tAt4TbKwZH4oVpQZ0YToFdoBkJWdJVCdC8+QdepEHwJfMJtEA5g/6pNjPOYEOaLUk6n6dld8qX3aFrZXNV6ZLJ8XgwG/nF3KLjifZ3dnZWKhUZMtevXx8eHp6dnb169ers7Oz4938jIyNHR0fy4WWD4wUdHR2QoCRyPqRyqxa8MQDIagMfpR3yRYnF3CUgDw0Nzc7OJrcX8ad+iU79jNFBGxc60tdbb73lqF9hv9J+pD4wAayI7e7d3d31ev3q1avXrl2Tqbq+vv78+fOVlZXPP/9cNvurDSfd3WElgUDbykKJ3Mwqo2EImaUMmVloC5eWfetmm9XgHf/bcCa45CIoynXiDKVKpfJHf/RH77///u3bt523p8yxreiWj+cfd1b5R0CKwrW4uPjgwYPl5eXPP//86dOnW1tbw8PDIyMjzlOo1+u4Sc59YD/Gm4P4o1dyzwPOK0kWTtkmMSJzwLeEVNu0y58A5JPfD6zyq7BV6BhPDOgwjcr3f/+13kskyHjyYWSIi5B6ltn0OYfYovHYeQSbaYxhWMot2f2uL0flXbp06cmTJyI38f0ODAwMDg7Oz8+PjY1NT09PTk7OzMxcvnzZ5hmvRSFUqEPsSvZOORcjjCgzHfA3Qpa8092k8V+9etUJyF5DurYkmyB064ejAAAgAElEQVQ60ZQYp9Kg1Wr1L//yL+v1+t//+3//o48+yh5VYsoYWAQyW7QJO/f29jjzuOuHh4fHx8fn5+dbrdabb765uLh4//79Z8+era6u2iaURTTZErvcyfK1LXHuB0oXsRHCx4xPXDBTDkMJtpSNuJn2MVnVu0ZGRsbHx2dmZsbGxt577z2VNpy3a7Mtm5yXgUrPhGy1WnZeqZjy6NGjL7744quvvlpaWnJoyqVLlyTzRz3hcOHWZWNylOJ3BhxocC0nN/GVtx+NlWZ2W+gik/9RCZn5u7AMuW6DUdvLbT9De+HNkCk6fNv75c82Zh+8KbUSIivT0XgYfzlUGCAYxi+VyorICXBzwI5Y2unpqQ0C2gw9cPKfn5/v7+/Tb7noBgYGvv76a4309PRQDezieOeddyYmJqTQCnoJ/Ozt7TEBwtQtyv7+PnskLkNO01Aju4BbrqurSynow8NDShbUh7tAF3ygTfAkmcj6+vp/+S//ZXNzs9FofPjhh319fUmCUJ0C3DARAxDIkDIYU6Wr69WOcrKrv7//3Xff/ZM/+ZOnT5/+z//5Pz/99NOXL1+enp7aj2wRS/Qr0QwalAiQlc2jUrZZnawjE/2is6lsUNcRgeVIdKF9FTVsG71y5crY2JjJIsiUPCT5y6QAul6z2VQu5eHDh/fu3Xv8+PHW1pbaXioC8LCcnZ1lO7BkSvu1DU8esQ0XoASxTSdKwSsgzMzM+Cb/TQYGuA4EOZYSqmFp8DFwbsddFIiUFAXoWv4peg5m85BzszcajWBS5qNla1aO07U0WPaLBbA8HLBGayccddo1hiq1HvEkFBpHbvoqkQO2xQOEn2aEZDUqYtaGuzHjIQd1HXseHx9HVNPT0+Pj4xjBzMzM1atXCRYJG9h0wmYZf9o/ODigQrMqNX50dPTb3/723/7bf2tbztHR0dDQUKPRqFQq6gWabFYqyrAp4xdW5Ne//vW777770Ucf3bhxQ7gOAYhUEy0iWLre2dlh5sCl4AmNVIi0Xq8/f/78iy++ePDgwZdffrm9vX14eMiBure3Jx3TuoSAg73hYloOE4eZmRcfanKEs6a5iAuszRqy0Ok37V+6dGlkZERGxvz8/FtvvVWpVFTLk2o5ODg4PDzMlXNyclKpVAh5odO+vr7V1dVHjx6trq4+efLk4cOH9XodhOGh65B3uQ/FtkvrW36SZAq6MySUS0IjaC/gmclfvGDVJPUFUGg7ViLirvy21JTcv8g1y/dVm46BStRwkoedA8HvaY2E90JERACXIUHuLHMaxJiIPstcjhlhQ+ty5OkoPA7ryXpEE4syRp3Ga/KyUe3t7TWbzVqt9vz5cxMXQaxUKiMjI1NTU5Pf/01PT8/Ozo6NjY2Pjw8ODlYqFQdpZwzd3d2cFIQ89eHSpUvXr18fHx/f2NjAJUdHRykm8beL86N21kcmi43q4ne/+92zZ8++/fbbDz74QASLeGd8ghJKAzd7JZUbYoDA3TCd3t7eqampkZGRubk5yUXffPPNl19+ubm5KSwKpxMDB/YQodBsBHVAXRItCBt/uWqZIMakTbjEpxNJFtVYrDQsmOgixul91Wp1cHBwamrKqXvqfDj79Pj4uNVqbWxsKMv7/PnzZ8+eNRqNnZ2dZrOpTUPKSEC+bcxuQm9Eil/ktRjObByzeOXtd+XLcm6+LJ8CX0QKqiC4+L19ki4DyhBb7vyeC46lzARJaN9N36KoUo1v6z0OIeibCUa7K0lRp+Fr0V9K2Z71jjcr44k8zBggXz4H9ITlslqlFqB3ajm12ZrBVIkizWZzaWkpR0T19vYODw+Pjo6SpTMzMzdu3FCYkLJAFuFinBSE8/7+PrWfqtLb2zs9PT0wMLC2tpYMS0IyohJDNGXTNMeVlZW1tbWlpaVHjx59/fXX7777btKfzs7Oss8XVThhSpiDl1HSsaCXpVEEVfF11Rbfe++9Dz744Jtvvnn06NHLly8dSWA3qriJtUaHsDR42/YT5DnAMsEfxUazg2bajx0UmJRp18EB3HZra8vcGXo9PT0TExN8eGVmZ61We/ny5crKigyoWq2GWMokdIlP5e5Dk8qw4UmUEXPMxIP5mbupvcK9EHzaarsoP46qFoaaiIKvSjr3YTxJZbO/p9MkqBIX8Cxw9yEqosw7utRrGUO8mhavBESYX4iZRIqoDGVazsiurEfeT7MYsxZwqyxPiYUa9HnkPBM970fdUPKJvh3dhP8ckRwdHe3t7SkF0dXVVavVhoaGxsbGhoeHBwYGKpWKnP9bt2719/ePjo7OzMzMzs6qKtXf37+7u4uPk/Dd3d1zc3OdnZ2PHz/OwiVvp7TRzMjAWPJSfeyPVu9gYWHhww8/HBsbm5ycFMcG1dAnf74kZdYQv5fUJjITYasmdPfu3Q8++EAS69dff/3ixQvCDfPi6BIVZ+OUsh1WlMKgRMUSc8r7kS5BDOBKvkCJhBZI1q0iCPaJC7jkTITd7/+q1erh4aHtpOpN12q1RqNxenoqbmIYYZEGEIoFyRAgfC4JxHXJLEDDjOLt+yHUFyQuJx+sbSP+7NNAFXoKKgS/y6YiKILiPwVx0jiTt/w4TrpLywZ2samM3GDK2QVk4f2ewrz4ZrSJpAP0kq95pBHdZRgluXoE7SJDgrXSWqKhaT/be+TqRKYFvbSptYjK09PT2dlZ3qBGo2FgfG/IjF99dnb22rVr8/Pzk5OTpBCowkVmha2mWKoWhBLSVxbRhXEC9dnZmcOkPvnkk88++8zWwNu3b1NGKpWKPcUcHKqkpk6sZD4We0B66dKloaEhK37z5s3Z2dn333//66+/vnfv3l/+5V86QcjZpOStVYAYWXeeUeuCgGGUXoJObReZb1rDueBDiVpIgLyBwFwJ8vD5xWq1mnpbW1tbXBh8e7u7u+I48XBRQtnU8a2kcZOCFWZhdpSRoLepZeSm5iem8IMdMTExUS4nNpO3A8G8E+SDNymeG4eNkemJ/ynXms0KtYHbT836xBCD6DG/gxzRRC42hQDKJczUrBbIxqLLSTueEinYqsaxTD1eTLaJDtmWWRW5EcO+XFebOmFMcgEDwPCgpBWdnJywBi1zJtLGKeLwD5aAISuDg31mZubbb79NbKlSqUxPT+MI8BI1Wo6kJ0ODDAx8LFPsQcEngY+ZmZnr16/fuHHj1q1bCwsLc3Nz165dwwKwWi3Y+2TYxqw1sAoSci1Vq9XNzc1PP/308ePHn3/+uc3qVicDi61kHcGHs6CMkvwe+k8OPFSEA4yUXAejABYOIHI+TpKfa0MYaGdnp16v20iu9onWgvChDt5fWMEbjW7BJNC2qcwAADOSOMPDqrQcbvvqqeN7Q9thaUFBgyv/UwIzFLwQfCO4wlxLYk4jpRTNTRd5ZKyxr/Kz7f2M8yK3K538acfgTROKICFJ+K7LvkLMYWHhAm095mcQ0Z2wsFhlIUVV98XD5XWiHC3YriPFDd4L1+Up/hUNwmL7SWmMhx/eq9ghzhRhYjNFR0cH/TzckItLTnFc5QF+8InSxJMvZoZV9ff32+fX2dnZ19enKODU1NRHH3105cqVGzduzMzMDA8P8/aBAE5tgbLRWMFpq0NIwrfT09PHjx9/8skn/+t//S+lqZrNpgEEvJbMT3IIzVhlKBH+mKkFD0M84T6lxRckscr0AmAJl8F6GIy25eeMY858LVvQ6PORE8kytu4sYmth6bXvjvSwFFAwKlMIUQvBhKV2/b/N3V2TXcdV8HGN5k0jS3ZsnFS5EiiquMod3/+O6xCSAhKMHYiJIcZAEixLo5FGmnlq8lP9vdL7nLHsiAfmYqp379Xrfa1e3bv3Pn0hIJlJZRchCVONh2QVt/XPuUgn8qk+yNsbAhK7Lb97faUYpmshEZPFJzD9OhuoImjaxwwtV1nkPc1C/JLTeGTSMpjgWA15GAhitskXK26ZwfpfMhX8yWtBnuP27MNqueLLTj7+nTjwrb7Ly0vvJngcyyKOLTgQLlP4cqnTI35J9r333vPxiWor8s6il2iVqc6omTAdQ/S6ruMrX3755eeff/7pp5/+9V//9ccff/zpp5/+67/+q1eGKrKyVFsDyodekZzJ+uDgwI/P/8Vf/MUHH3zgRw18erzkm+vnVMRpJ5Uz73TIPHxOIWUKsnOw3KzMgu7z58+dzLVuevz48aNHj87Pz/3qoe0b+d0Ewys8ijMreJQmd/gmX1NjdVPFaUm/YiffA8wni9Obu9/73veyH9OSobX9DC3TRZJ3q9QIlSDJ1wuMaoRk2Oq9Wzx16nfaMh7YIwMUwFtgPRSNCieYeaR9uLTvgeqsjDItddMJNmZOMXOa03pa4RSN0uvi93/vvPNO5RIftQsg3SRFxq424eLWzzyDdZnAUsIXOOpJS0xDw7VdPn361PF+CdFq6PLy8vHjx7ZgmhU4Kz/ZJgUMFK6xLQt3Hum9997zcwl/+Zd/6YxjjyqdgHz8+DFvtiho1oLflxFevHjx6NGjn/zkJz/60Y/+6q/+6ne/+92TJ0+Ojo58GMMQFbsM5cWho6OjBw8eeLSMvcUb87HZD372aBdy7FJn33pQhZXpChkmLmGVZPXnAH3rgUoZC5VmmmKhl764h31ZM4qygtFffcCzinQJtpw+aVGKVwrqbjxpdBextIlKo2ZjubXwMzG4VT6bkIQP1eLfcTX1nvmNimG6jsOoZEWQ21oDD3TNorJM+0+VCZMWcq0UFJDCDGmpoR/qK1v1qLkhGu0vElbhqr4oUWY1MK29ZY1mqqqnxb9TzoInPacipa+lxOXl5aNHjz7//HPv+f7oRz/69NNP/Y6NZXMLEDXRxcXF48ePAdy/f98L8JT84MGD99577/333/+zP/uzDz744L333vMpO1kVjF8ZsIXp4P3BwUGfuMqsyUIVLt0tXOdlYHmmIU14HayWNMOfrhbSAni5i3Qk3PV/5gJuA6G7S97ncgX1q+Cf5pnc6J+sbMPe3TSSeFNxE0M+sUBO+G5NZih6IaROmfA4nAGTFE1QW3gzmFQCnipxHv8Zu3Sb+Kb9kohqzcKkTzW0f9bmc/ApNlqlgEq1lglgUFQUlEomY/b/xUC+K/J7JBaVQpo/8RuzvQ8EglTvsEKyp88cKyvPtdudO3d86qOlhy//OuXy4Ycf/uQnP/nlL3851/k+HMDKvlB4584dX09txhLeztL84Ac/sKFwcnLig1lOBF5dXflwgG02/NvUZNOZ5flJts4iWzHzySahtoSxZ8HVnFwAmw+6TJ/5Q5qMaCrVg6sOZcn+c4eb2+QqkUicwx6lJEYMFTOI6V90lGkbFa87Gzjw/xaAbi3wUam/Z+C4TQoNDh3PpuvkCpvS3czcusMls2UJQ8yBMTlpzbVilrDRAkkzAFTTLdoljUPqNXuLfCL4YE6Phc3nRgnafvgxp0wVGkvSjOIiL55TVI1kD/9i06nzHBpMpTt/7UN3V1dXjx49+sUvfvHjH//4o48+8l6jLQNvB/U4MOYlEStnOyPHx8fvv//+n/7pn37wwQd+hFbl0jmiuY3idGPmIxRVxH+dGuRNXVMP2mJ+SdPy5tRewb8gFJnwh7xkpIca+UYnIwp+/dCyddTb44Dhq1/pjbPMGe0iCkz9RT69wxhnBYzhy/+QLA3D65w4w9BdDb6Vh9Xp+YeZap8tAdN4+yIImVfFaskSfHoodFOap4C8U9DapfNhDNu2ZZnpAXPGcMoNlUhPE6pr5hDarpI39u7du2+//XafDEhAO3xKgOmm2REtSqOHnDIStFQcorj8x5WxblEgzjEA/4sXL3yw0E8qfPLJJx9++OGPf/zjf/u3f/OQXMnQcNmtOpaqsS3V+naA75p6fdhOu99ul5c9hI+xOVXudOOdST+XEA70k5YqNkMYGAXWP3U1Y2fih6180a9U6+cVM3GADJssGd2b4A/7tFydgU4dTUYRo00wOQokC6pYmXdr08VyWadGl7ExBUZ9zsCpIBHApMTFQonc87D4ccslojNOoBVjHraZqK38+bqNNPW/TCHGyqQQegYWcl9oUOPhqvcIW4rjTQ3sK1oOAoMXHtUFffJ5krAfCY+oLrsRNp9u1LRFekvPSzhRuKO+5S/AR0dHFxcXFuFe+/3Nb37jmz9ed/Hkwq8DS5pkKeljKcv66TtvSTvmeH19/bvf/c5LBLZjS77TvtrJVSmUeqcTZrWZiGMpV6e9wh6TkZjU3QogTcK/BL9kbTivC2ei2TrpAaFNIrr6g7IflghvbTkzX2Twx1fiNaUscdWoKfBsLwAu69w2isBJmgj4B5AszVSVwSwkAvN1nay42GOLtiTivHpqjCVuShWMVNoytiARun7xJkMkNa2GNleolDCLNgNwcbuDyaKhIMpj4FQ6AqAQhY9DHLlywC2RpgW1yZWYZShfm0khJHIAwedMLOn9UJJPS3/22Wd///d//+GHH/7qV7/67W9/6yGZ3ybwsrPPWnv86RVXClTqv//++3/+53/+/e9//3vf+56Sx4mAXCLmp69mkXwJ2JQ9J6GxMiM8+Un4o5hBU2m3FqNHLuRMbLUbobwIHvYqQc+VztwbutnwmxZaQiXaCcAn6q8R+UVr8Yet8OxrTL00pM4a3ZoGawqtsxyUUlqHp5rUTb9h5qCTYreSMZ/WUxkmvwotj3l7ZrtkGQpMGz0LfPz4ceFKir7S4/RYL+rAYEs8bMLJB0hMAo4n2O6WLFIX57AJ79FUCiSIw7PEpzdqSQ+5TSqawU862dY+BZ3LdFD1IQon2xTkXoBXKz1+/Pgf/uEffvrTn3722WdPnjzx+UAxUCHgOa5nWk4leqr67Nkz7wh0itGPrHsrIeXHJ5YIlWh0u/g5n5mWKllMyMYKXdvAM/LpjTjT5Qw0e0+ltdXVwEYxEAtK8baEOsyS5++Y+amgDKFozJvdjVKXz58/94jIWRGTjxNXCTBH5UPuwpPi8jP9uVSXM2GlRMMhrFoLPyuqwJc1pwU5ffFR+nJMBatNkpHOkLPkKyXD41abfJSp/pc4/IqzPWG1usdUOzVg+6ADqk049vNlB4KjfnR0dPOTbEevvte0LO+bTDpf7BHArE2YLOcuP2JvKjxtzI3Skgg8sljbKNXtOTeEE22WEtjX19eff/753/zN3/z85z//7LPPDg9vHLiE5VcDHj58KKpZ/ODgwOexDw8Pv//97//whz989913fd/a8z9vBwhIzPvxAtxWDDbl9gzSYzwP8HPCvF1Pk02phA8zkP8pWZRl+qJUksVA0wyrWVfORJOjsrvqL8Vmypslgx3RJboIUPLOS7LlhM+uHfiNLSl5X8QaOO9OtK/ZHxhsC85piXlr9hfMs5Pht/xkwpY5erBhLjUKuXQd8jw7urRE25KOM7MzpxhlThPDmRPp9lymP83P/ra9xxvALwKi3mwW8+yOYYLkbQmb/gEUM9hL+Q0MPsEnM8HXgEcZ9ezZs88///yf//mfP/roo88+++zly5e+emYX0KOB6+trv5jgtfmHDx9yy4cPH37w+7+Li4tf/vKXBwcHPqolL4ulWdEkYMbNB5a4mJLGtsbOwAE//WdqwN1w5jY5Uph3juJU5a/SitTw6v++4M9IxicwFeBg8kez/FXGqmQILA+euuhuci49t/dP4DReZ3y6JWcvCXWKNithM/OMsexkrlhcRNR55ROeVrbW0pSTM1Fsi2octi1nR7DLVNfwDDTFyTNmZknbDclYwROtiT1JU2nJhSwzxQSTkmlmXi5sZ9PJwIIHzHT6qgC7lV988cWvfvWrn//+79NPP338+PGzZ88ePnwoEfheyNOnTz1H4P1+sv7q6soPrjx48OC3v/3t06dPnz9/3tRF52kgzql0BnzJEUxCLZelzvrpJy+djVJM2Khl0UNDiuoJJokToWkM9SatGzv6AGO+ElKNRQXGZ7ApjM4mh3azzQAzhBapFop5wGv2L2AhrxFjeoqEQrd+Ds3DqqaKuqkKeWEhgfPe9565T3zmK6WY9mBbu84qAP753+7uDLw8MqdJrsih3jo/hZQ1QmKtBwCVat2Jv/qzch2GWM3dJy3tad/AGphH5WlVEEkNj0+P+QDRv//7v3/00Uc///nP//Zv//bXv/71l19+6Wyvat+bUV988cW9e/cePnyoGrp3797bb7/97rvvegfZazYeg3stf8o7eU6rhZZGMBpdJlqqqGcGRW4W3XqCTyehYus0MyFn3DWwIgvPX234sV8MJVsjJ8na27tmlemCeJo62qcg2KYMtbfa7Na2kVdtR+mZs26RuSixfvhpZkE4hzQnpGKOQle925OMFGJh1jJSeNuDAAlbPERFw16d9J/JuuVxYxQL8hxr2hG3c4Z3d8JgY1YQlZfFf4pqOAam6rC6NVwwNRbmS1gACO7x9W9+85t/+Zd/8RvB//iP/+hX6zwiPT4+Pjs745OUwxxOXv7nf/7nr3/9677/tXAVJ+SipcyxFQR8o2osaLcDART8C7zLLTazVPP5oi6XvBTm8N94Wif84oaQ/afuPED/lhVTfRNmu5EzA6WXGlsJt+JtaW1H6dnylv8taFvcprvJecJuCcX5rCDKm3yRkzXWkOk0k1tmo3y6MkXPEgA/pFsSStYJv7w2L4MpPjGQcuJ/Mhb/7hY5jd0CpxyVUWqcjQVtzhpMPTkuBkjk//X19f379y3m++VP26XPnz//4osvPvroo5/+9Kc/+9nPPvnkE8/2fRLfDjTbebL43e9+1+uGflN8rvUmq7VZgaSsNr0u5gEYlVrqLNYWi8yKMrUvSCIRSzO268wJp/XDT9tfbfgtNGI0q7R40DP/m+2JVE04HXryhJsm525NBpbOrcBbADbIErE9G5X0NFsAww+y8liCSA+xByxCeYAeM+csVvPdqNAkm03zx6rhk1tmM+Vm7OAtMdIS/Is4LvvfWjFNupVc+l1SVIEHMu90WTmQty1OH+mFYtjS8NIIPqtdX1/7DIkfI+8r0l7Q8DTx4uLiv/7rvz7++OOf/exnf/d3f/fJJ598+umnUqqv3Kv/z8/Pf/GLX/hyZvs1nstOutN20yVmGE+2J0whB0kqXfC7NDMvVkhFoa3RU7mycyzVAFzNiI2b56xhmZxhdz6gaj6pbJisx1x4c99MXqRN4Inkf66NtP/suq2lk0to+TqFt0rychziv9Imtjm98xWMFxV5xBZryYKS5/cnpv16YQMqYxWr+GGdLBqtmISfIchu4Ayh/IPhlv9dboe00JDsplBGYXvOP/WkscmqsOxWbumk5vQZtJxPUauj6EmzFwe9AHt2dnZ1deXbmB9++KEfTfMtsx/+8Ic/+MEP7ty58/HHH//TP/3To0ePerNrahItll142ydOYBppnkRG+b9AdklpEyYkwdQjMNO/RpOx1JCx7ECbnm82OL/73e82Euq4rB8lBih4SlHNY0vKN9x3HXplnRvhKUlmo2O5yKWsvKEeo1zmHDVmv7HdwoxjYZaLnufzIcFPqNJfOuUZRlWxCzAlA0WXGkqCMLibaF3OMCMX9cZzDJBrakybSuWIvMdaZhq0vXqiQZt979y5c3Z2Zru7dQecsQp5RwZCXmaZ/M9OnNNMdBMkuTKWWwV/KsqyjZ0NGktvbkm+HXy+f/9+Xzd+9OiR7GDDv2orPtGtHixJJYLGXGfFqojA8GS7jdJGFTuZDM/2gPzAUZopPZVbJfq8ztHGKrXmM1+pIMvNmZ+EDBSXCUmSOb52TjaZyN4JlgHcgn8a7Pb2N4VfsE2lC2lHnTKA93+c8ciiBbnPp8GZ9rPuQmuCzehFS3zmnTMD0pVb1NvqdJIo39eZcqYL4pO2Z7sqwM9FSATlC5AdIpjMCJvOw2PDXpqnbsZWPQmhmJxqScMaC8z2Mv7xkwbq3w7REyQV+WKVz3j4BMh//Md/OCX55ZdfKvhBmhj7SAk8c4bbR3FnP5zTTEuwLKPYKIdJitxpCSJ7bTol6JyTiugtKlP/Nz/XpXQsGGLUgGVwl1P7laOYiJVJqVvxsbMR/teE34lkZye55lt3bfwKgI55UJ+CVhCGMKlrpOukloYNIY7/8uzsmZ7B6sKss/TRndjSTH7Zc/sJv2gyW4BRJCd4Tw3a7S/9kRTzGTrxK/snV1Mnca6B5wqiyXDtkIcnWeat4JcGrS6QJT4zqs9pzym0h9M+gpJvNIdppJ9sp7Hw0GVg9cxGTM7GRFi/4F+wOQo9qxXIjaI0Ck+BU+Q/+MWeKCk2MifseacEMz0PT1Ja5cA2td+e8+IbG1MFU19LO57rnwMnkzxpKpFGcMXYYNKUy6Sbd+csFw/mh4WTsKWQ4IOsmGKbvrs0ZUktOsPmss8zTSb7um6SVvbPh0PYhhCVCc8NzI121MWP1cH8pTDhgR9BkoA1kj3+3WrWCrJGzNTDrF3OxsST9voNCKjoSttJ3k74cIbW/7M6Az9xRrfOembDXf/hTwmMNYFLpshlzZ3pMpYgj9uMuOCv5uVmRyW24IycvLqlB6P72lMMbfzF5RR7C2zOnMh3wmw7Q7vPLcLZQY7Oyatm45ZexMP0pIgmUe47qRfG7qIr5MKQqq3BDCklezifE4Rh2kXn/F9ZkSBxpQd+Ne3h4eF8pZdPSGecjIzCniA+5pcd8bxMEpMf55eQ1g9by8y0F3uB6fkj/+cJ0Do6sfV2cpW1KSHl4IEmF/2/zkz2tSIsNgKfZibd7MJ5MlAzdPNck5myLj+c2AD/wcw/nfL58+dtQkxKsRsuDWqlu24VzLnm1xrY2OSfLO1UJfh5C4n656W2iashDD95Bmb1O/HQQ9rYMmlNEUBL39kztTqnSoQUINVWkYh0bM/FxSQEYN/Agj9yhDUKb+l8qs7veZvtkfZErTV/HGo8evQID+m8y9lIHJVIzNefc8+efZ1z+BKci7wcEp65teYhS7nAKP+ppZwSranAhUmXy3jM2vUAACAASURBVGw/sW3hm3Uo2WIcnwsz+CmddTf1FoxgOGcVxM2SYa75GzZ5mo47lZ5noJpSYgIwP+ZVJaeUOwmlqaiEcwv2TXuykF1u0+Dc3OqQ0kyxsRQnpCupBZCrVXp1axrJXi4Y2q7QsMMq+Omn/zBUGkzMbtWTsTJl5b0ekL6lp6d0w0WqOGBO3pwsZmwap5k4MWT5RfNWVfwhF4yfCOUkbmU4+LsMPgzBb28tEdVOh7B32ZOdslgSIer/FvnCwHK5hdezs6hMmTUCFsnJWDqov8RdcKUrPUu+e7XbjwBQNlbOpYU8KZ6SMJh6UlkF3hYmtuaofe0t0X2Qr9PvqR4XF29qcj9EKx00qdIsBmKDODtpqdjNrqUw6q0MnglYLihLLvGJxOJz8VwFAWxZOxTSpQx4+MHBwYFP/duxb2/Zth+E2I6K33v3fDSP9PNyJRHxI7Cdq8cGrXKtku8i7D6XSO0B1Nhpgls6k4VZVTFtgvSZUw7s+wJoFRSLJ2TiW1hq2geTVuNTTxhKvhhrUskVDVy0V9B1d+ENfHMPHz585513euOXAxmfi3uJUqLCGTD5Mt/yrQhbKYztuxT97n3uyDmakfANT2lMJx4iMRlz65b/aTN1A7a1IwbYEn6nRAWDtOVt7bOzM2+5OxZGp8uxBRNIJUMGyyRITwPAkzNlqvQQtqYptb2gmm8EiVgSUTLZzcy+WmVV75PYlHxwcOBDYJVmXmjpg38tJaTCt956y5d2fQbDT32LZL/Jc3Jycn5+/t///d937tx55513/LqOUx59Kvvy8vLBgwdISJTlRMb1nRLPFGggG0032AZS4k/lp3/nMqBiCwm6k1Q92K7AgacYE4o2jHRSdR6Yx9bAMClIx8rLR2IiASaVTkH4cEg0kAafa6WuckeuBYm4o67Dhw8fToEjkI6WnoKq/slKaayzCgk/BybMzk4IyRNkjYXu114a2HBysRDz1FNyTSElo7YJhGLYttQXcgE0hNtFegIEI97ABIlPMxLT+v2mMOR2s2eSy/naqDMZyumGT+9BGrbz83NB7ssZfrsCAy9fvjz//d/R0dHbb799fHzsC0IYjlUfFPSOLQZ8iovUPr+x5AIBMNWyyJjtpouDj7rLTum4XKJlDkl7weiZDjmRa/Pk6c/hgbzL12zEEvjpeDjhpSazWfdltebyuGKLdPUHu/0ZHj1SNVEYE6Ipg84WFamjBXDeBhL3MTFRaW8Bvp0Gd2Lm8dwooXrMmxIoUeVCj9WN/UbSFv/kM131aapU2sTSeXIDK0koc4ttsjfzwuRkuunJyUkq5S64amJZHoM5UdemRkO8AGeq9F0QeJRFfhnm+Pj4/v37PpLjHIHFlElSpmjydKLBCYXLy0u/xic19LWluSwiOIXE/HShbmXZBJ9qnIqakHP4hMkVdTYfuGTQyUZjs349f2RjQZgSko6KYmwfV4HdvNU3kead9JJ7xfcE3nbiI30hYwi3ngzVnw3m8Eko8aJY45ZbYAAEBi0xi8DUUSOAjpdmZmgnezEjZqI1hS2HLnjCT9VUF/IuBaEyShtRNeT2RZQGeg4PbC4KWrlY9Jlypz+VhlhHnY+0WbTPCnk9TlT74W2ytHwlzsuXL/0ar37MCH7f86V8dWnLzBls+dVUeO2p9jqRJkt6Y4IUvrifsTuxBTktCz6TzUsS7UMVk7MRsEaXlfd4aOmdoWNJD+nCnNeF8KYK6JXeBa7BQW9V79YUewscczWyQRTTacPnLXdvubUAL5cGNrxd1hn5iUbqZCdaE34+tJCYlxEK56IfAN1tyT37Zw4KeXhmQwhVYQEOwGVn9VuCOV8QRXs0FUR4Mwp71g7gixw/ttEbtScnJ76T8/LlSxsT7Rrw1MvLS5/Wbc6ProfwTl74fV6/cXh2dlb84Kr/MymkIpsF+FyCgU76n/4bm3R6FvykXjA3ViMYYGgVdQvwvstILPws2EKrvwiKkw595UtuTbluPuaxIHLZXn3Y0xeAuFzECF5/Dqc/JLEb9RDORncXKl0GXM/SABDYZK+27e4EpyChPk+D2aOqFl0I7buEtijaHqNeZMSVCVAaAjDBiDP5R32qV09z/gSW+FrLCHu0gJVTEL179+75+fnR0ZFfzvDTIz6M8+TJE5/BslfafB4n9ho9UfZpLTvBShLx72C1c43tBJ+envqJ4ZmRF1UsQlW5LLaw1k2BeJPdZjCULzgnsPynKSE8NZqfgomBCVNn8O7O/8FEV0/Gcom3lpPoTjw9up60amu8ep8/dy/RGqzYmPTiKUphzN4JkDYBg/S/hBSe2QhDnfUsDfwsnfMyhnUuxoa/BbbL2G7pW0Mus/SdVGrnjvXAaXKuEnZ3Spf24qFGqFIaDvPOEkqQqUWdlRK2XsKr/DdXx1UN78kK75TTYwjPg+7cuXN6eur9mYuLixJK8z/mLy4u1BHwCP4XL16cnp7GPLmQ89FeQyw30J2TCj4LvNieje7mhJlAYzEcHtJwTr5VYBWTBqLhnJcJuPAw+2tnMj0uYzL7Lv7c8B5kbJei9dyc8AtRAtepJ4zxMUWa6dZsmYIWXmPU/MAbwExRZ8/kZGHj210uFU0Gi9W5LsDVPJODn95v2fIQnilRGq5zyqg9ezqTv4hPYxReVIvbhe5kLGPFRmYNYdmE+Kbf4vzq6koFfn5+7ni/X7x+/Pjxn/zJnxwdHZ2fn/twuM/pP3nyRH10eHjoJ0M6QWzvwPnR6ovr6+uzszOQXEiRlfg8CttGzbctp7BLeu1WG5mUMF0RzHTjBG94qjNwRgompyZju+HbRgiXW9lx6fe6AVMWXyXWBRgzs3ORzq3Dd999V/3TAE/sp39oq534XMLHTcJL0n6j9uTkpOOf1S3tUeVwW1qTb22PNKgMUXG7T1kLhhiOVki6BSHNUqvpBdFZBNkk6w08YPTWE+NYjZNlyyAGAIBfYBqbnqf+uys9wVCnIZbQrON9Ne6r9u5oU+vtKr5ef/SY8/79+30Hfsr48uVLv3tbdKFl58838/uNem9PO1DglgnfrwA/e/aswxSYtA3JYRg6v/eUoUyR1BozpxvOf5aozgSzAQMZEe0/VRQpk1Y/KKqTbzjRkJ/HlVDMQzLc1plzTk9PcgM4OYNcM703LYHHUkmqyyP0FqAiJLgaZs4uNTzJi/WpowRbhuxMRQvM/4fLDEkDU4R9nOOqu3P6avgtnKfwxREXncMflTDX6BZa9U/Sy/ZEoeILRZXfvc3ej96rDCvsr6+vVfIsO585q9tbNbx48eLk5OTtt9+W9P3Ct9nF8wXHfslePvWiUa5czp3LmcJAo8eBAkythJnEzLhzATz1c0t7GxEzYmnbf/0xvxjuFhLf4lYS7RubG6gUBHzz7t27d53UJN1XwT/rpUW2SWlb9gCe5TTzKCBv8dFuxfEktLR3wuzsXAbuu0yPGpiZETjNH6Fy1oRP3n20dvaHc+fdlDNzBEIYC2CufhdUYJpwTAgygl+z0lO/2C72JjaTM2bmxGKTn/N4Sd5XsfXbDsC2Sl4ciupwHh8fzxfpBJIVPmamsXAlcYBx8AmG3tqERLnqhN8UR3ZbeuYlP9fDUv6n9m7pr/Ch7YxbYyL/du1QLdrocqIFvHDbeuQPgr/MbTVrZMQm0mXmj3BGms5qhpl4clxsxeKEmeRmu8hs1Lz7mu05NubFg1sTgI8umCfnxcnMFAv8vEQRiSwx6e68NVUKAw/TLx81cJJrF10MNJPbwOOvKpccoAf+nbEFkOE8mS9fmHIr/ZzSsVcn2qmo1YQNPIo1Pfg9uYqOtFHOSqKp5A5HFaVJ59RDZ/ULgFRUT4qdPbMdwNJI56oMQRHD+Mxd4/+PacT8dNrpAFjC/PZMXbZu+XyzCxNDzWl62CwHnWBTEbXnOjDgGljHWXsHIU+e4G9pbLVwC/C+W1GcjSaofaOW/lbaRc4tJ/+WsUmRAvcB5EOLDvPRtLoTFSar1yrH7t27ZztAbLcDzCicoYTOrWfA2xNR1dvAv3///snJSa8etGmCIhWpLKQPS3FxUgC7NIRCppgz+HuCWIKzzeTFLXsZ/UJZVl5wpvMAJjn61BOAIbkKo1BUxW8w4X9TjdiY/hO5GcIToFEZlyZvyn5wU5464V2QTvikEvzTihMs8gB8G1dnXAYTztkILBfHVdaawLe0ozIb4SwfwZAeJpXaO+/eQjqcUdkK1fB5S2d0NfA/S4DGAihUgjerG/jw4cO+b8F2zcPhiW5PN0x0+p0L9sPY2Dg8PLx3797z3//BabVvn4+Sp5uJGXO4u+UmPKvtUwXOU7vhs3JZSn0akHFKf7DlPF0mNdKQL52YBJA4aam9hjTf8DfSWPSAgYWlCPn8HE7URJ7g0Lb+VzN/fG8JLGqi30w4/TjInkBUTqfinDWPNArTBWQyzEZWn53foh2VGhjGUowh1+W8O6WOAToEVue+RnreBzBnPzBhjiVscOvprEw74afrI60OBNmU5TcICb6tCGKVpN4mvH//vmf7vJCfWX6r523CKcWRXpxNmuAGfRuaRYJv57Ke1vYtQ/oiE6FSGtmL1elFsCXXbLhFh1OT9AzJRDU1zC6TjYn527VjNadNFcXd9laOGtHsfvM8othLquDCFcw+DeZt+eXUjvbUY/aYfEf39sZWC7fD77ybaN2FVmWrs2kkmNnAeQYoHmw+Tchv107MqTd6nvrMujloPRqSCLlM4JA8fvz49PR0/i5YW+tkUSYIrUWEae5O7Irhw8ObM6MvXry4uLgw1bSlPxlLhB7j4SQrCP5SxqKN6+vrt9566+Liou/ze17w7Nmzagc8yxoZi2jceBFqueQh+cm0Qp2RmHaZIkyRF/x/5GUKCU8M67EFi4GkDvhVpv7Od77T7ovx5OypiSU6GFvEDMYtHNv008iJ7RmSZZ7nk0U7bvJC0wu6vS4yVQZnJsztgplOP2VDsbsGioGQdLe93wI+mOYlwGpI6TPNUqWiZuKcuXLyNtsEjJwGzLWDZ8VqbNMsiuKknvTWKVo/I+95vlforNg9z/d27enpqXd1O1FHjTYOsFEPoxwfH3s+3+Y8TvouQDsF4Nv542B5FxNcX1/Poz6YAdMGJMd7/PgxPYh2Off58+fPnj0ji8nMvsbl5eXJyUlfKM552rWZGpaYsnsbOny1h2KL4TIZG3VXA/5S3gwHnf7HWNjy2HpysNyD5ktw1GXPzwNRe592SVr63RwNblM0IxEyGpOtyXSMzkoeBzOzTmJTgOnuyd/AVAZhzGSkN97YyUPZMH70vHHqpY80sI9E7xpIQxjbx5W9lZJFaaIf55ARWLzfunNZOT01A0Nuh1sbyM6TihkB0yQx639n+zio4aI0L0eiTAEVx4t6ymnCgNahMjzQjBTTOjTO3c1dIYS/9gROzxo5fy4dS4UDzmnvf86Ni6M4ocn44Rvx32GnGxPYnsVxep+ZfmoERoiyCgCXYUg7UU1rTM6cVDPRNvfG/SJM/Rpb9ibAJHo7ZKOmNqsI8FyMlQTDH/IaIXzNRq52O3zlnJjJ5CwYY/V7tNbkULzR6tStdodnZspYgoTUGDbDqO9MrQLbgw9HTdQj5EpjDJ2fNAkXLZ4XTs+EgYbh6XUDc4zzgpIOkc3DPYozNtLz9xHcyny5QeRQTMMAiDbxN1D1lLy3m7W7CxvpJ4ClUdyh21Mb2TO/hQdLcfgHr/Qm53T6SSwCDFyRmYWWWaL+XE0jPBO+9pR/ticntQF0WaN+2o9iAEtjGjUmUz3eDHF3a9R0umC+/VJCWdhjuRDORubUycXNurE9RRZUSefW9fX1+fm512ZlEwHz4sWLe/fuiShDVAEx2fCEihbG0ljlA9Xh1qLDErIHATyyF3jC49FdCTfBISxuq2w9U/BFoKurK7/Ggz3ni/HQViLnlENzsxoJMiWNGWDNfzQ/w2EbQVEP4c4GVNtb+fNya+nvMlaDn7fkxMO33357qrUMkfCNKZI1crUpVUGis1vLZchzphrdQnf+T4zZiL3ZCUnMdGsfcPky0bh+8NiDliz1hFyjIUv/vsviKsFh3oenN15jlc9NPLXZiCytRQ30cH5GeMZy7F90VcY72J8dE4eSVde97CCwXbaP6I3g2J5eLlPEAP69K9GyMYqAxbOjQQoTelP592KCSZ4sGa6Ab8ZO+am9RtGR9WtASBBZWDqI1dDOnn2eA2bSnaNu6d/6+S0k4DHk5l2P5WkqVTZjQDTRxcfsnBqZTKfoOo1a9L4siiaJpeYMz+2NhTfAvOr2gctdaoqfmIG//p1mXlDtuwzV5HlingPbcKqznbOGpEx7PNx3Btjdu3d9x8G7cULFxzkeP37s0V1RWsMuAIUIqvYdqq7VIDhRQfTNL8HsEM7x8fHZ2dnl5aWXgi4vL8WnRQT+MZxnYyOp6cpZA8rXpp/qAnzOowRzTp7L2zDPRhZJt/OuNpiScgwHOZNObHd3aSAUXbb7Wu8CH6E5HH4qnf5/U7y/8847bpe0sqt6TJQ2bOJlcvAzQc5EMJemwUxsi7LmhIAxAPu0v68/raWXuFrU3eXCicuet0/GphIwcAsb4d/Z6NHUxNCCbTskMJZOpdP5SDpXg/DMmerk5KQnF+LB3G4DuIRS1aAEqESCkB4qPdojVFpzuFAB41Rxi9UeAXCMyi4YyDhzEPwmW+4HYTlo/hqFI4DVOLkB4FnRpO3sO52HA6T2VFrDrZRM/yTKalNvkZuNZF8gFwwNEZ5ZHFj8Jyz45bj9q7I/R6EptUCd4Sp/sMfMzdkJ+XjNnGkthYqukONvp/CvEwypY2cjrmJsAdsyM3syfMEWnjAvCF/zMucIoYH0sEWiDJ7GNrCNwPQpWqb+w8YW1QLC0ks4fpnHt3oEho9z6pnCirqDgwNP9ewaFKKSSE8TDLy6unrw4IFnEB4PG37v3r2LiwtpAjMpIb9qKnLLNz/7QKi7kkL89PLiy5cv5RdTEWsKfs8CU37aS1fFTw5cMnILZHbMVbBU0kRiOtUkUXuf3eMwSI3sbhtuGY5n/5GeAK82/KjYl+opaKsF1vVAlah9Orrn3kleUVCa0INjH4F2qx7MLbJ1d+lPquqU1FoDTClsp/bTKbCAMzm64aSWRmX+euJnH+cwhLA5sLDx1r25SxbWIxR7Dk/Vc/sqeVMsZlLd1IBbKnPh7ZtQd+7csVX24sWLvqXrl7kss589e+ZJ4dHRUeV6s0W0Tk5OnCPw60D37t2zInjy5AnSnS+4c+fOs2fPnNhrsUkul/wbCYnDbmW7zr1BxLPtOOTGh4eHZ2dnDUkJFC7jMEe2LrzLOIs/J6aB+Mw3YqMztozlv5yLPTzM4CTmROVuFJfGTC4itJwe5MTWZHAj2ltvvUUdcxrP9fPptDMzcQNhXIghWSfgEGbdaAW5szEHLgC0s/wP7b6BCz/7wBYpFtLb4A9+wb8dqGdm4p0wM59WwUJeBmngNJNElqs1NUVXEPLvEJZTCCLwWpvErbtHR0cXFxfWAn3hp5hXr7VsBNYyO348IOzE0YyEgjBlliv7+kh1b1sMAefoPjQ8PWRqLCPOzlw6zZRSg3fLqDkDI6Tfw4iwvabbT8yzHYezAWAB63K52yR3kzrv378fosV1DJudE2NeUqaZZFI0L2lgijPKJZeKUPzMxsSw9EdrNvKtnQNnp/bsmfgL5tk528vwffIaErbIpcYFQKhUA5sowBATqhDmmtRoVjRXmxAgTNVtsCkrOuUJOUIcxUYaJ5YpLBDu3r177949hUDa5tym0x7smYqx1B5KnDuT39yDKAYmG/WYLft2JYpJ14srwTdpT/fobvzUs21QKYYzd9jAW1YkVHf9bgLzUX6bIMVCFFN+eMDkLUHORixtOyMRhoL/5skotspb5VEzfGInjAo/ly1i45sZ8NHdydYULNkwt9y6ZVS3kqqe2xtb+FuI3o5q593Xx79ATjbEkkgz2zdLK56zSwqcFokx8ba1AloYmLHRWkMq4Sg8xO5gz96tEF+8eOHbexcXF37ovl/mePr0aWyIz7bcyULGKlVuI8XwpZicvtebPx0oSj/IpZmQIFcRoZFOphUai/RikS0/YqRISVGMwiKWM6miOp/49RtS58Ke1DyBv3Ubk5Rzc8Iv5cKIP+2YyMmUbdNvKGV+JABCrtOaZGGXarJQO8/TGMuQnZfTYLMdw6+J8DXBtjwY+EcOn2hDZdrvOTmYwiMPo+d2rYFRrIia5hCHfezBXGTvzeN99qpYiIceqh0fH0tAYGy5+Xpndb4kEi0sMbGKo5WtosCtyXmOMZNa1SIkFFWn4dPuwnIC5M+5CkLpPCTwbC/x01ppDgx5yvf4g7AxFthErg15qQfyirUtvB5gk5PJ/HJ3Tt43D/ljqzG0Fuq4CUD6TK38L4UCk8bQhgFCbf0ly9m5U8iJYSfAa3bu4+c1h38t2O343YVktqdi83tzsssqsqlb7VwNwjy+2dv38FmHyZgGzpbcC54qAkd3bTSK1aOjI5/is5mvAm9x68G++J9FOEK+qGW3T3ZQeHdch0tUijom3JTD04q9qUn8L1oFkPO42+VOa1IUBiZk+kntE/l0fqpz99mzZ5AUww5feBlhwc9kBkYOzIScbO+UdwIs7RxAYjqct/fRAJPTmI7agGWSWVDFsUYshr9iaQLMpDO5uqWdyZdGFoo0JC7rnPzcQuWWWwvCSWXaMgwL/BRZzUWZwLhUtRhuF55BzuI2R7QNPk/alev7kgfGGsI15QUzOcUKPx7suI6wfPr0qbW9aGk+aA0cZrf8OnD1YC7ksZz6Ef75vlA1BW6xlyZxaNq0Izit0IopD5l3tfufbsPTqPSAriEzlowNXgro7YZGsWYf2Ix0+KfrGhVXAdcwypA652VaclfRp6B7NfMzKrhSFOiYZsXuZlS1ZZd54eRgshUTKS6z3b171wyzhd/XE3sLwC36WiD/dy/jM6ehDcoxQ3IXmdfESLd6YGgxnCHc9TSuD3hv07dNcj/gdXFx4Wy/6DKxS0+2DyywfaLXw7weobVw640abNvfwrbXctsObF1gJm+/QKmitldQkKJdSZEzxS+HIpFWc8KCJNVNmImKPyQ1sEKIIO5SdcmlgXMWdB4BdfA0CaEeLAUzWZ0Ab8RR59Rys+ZnUSaJj2JYAstplDFYh8gi0EFRmtLvRc6dkig53EqtRs3dVwCxW6MhE/ntqmkIbWZ4DtrWd3drGLhFPpmfd5sxpgfQHrA46XKiyqsyRB6PZ7vH2MP81HNmig3kOmOrYj85OZlB65c2Dw4OfNc5008RfCcfq351z0NswGZynDg1cHBwYBcQ22Z4n46eW8JI+xWw09PTvsOd2u0j2lnI9ziJdYSioLqDupAwUVmqmOuoZbo0jUVu2oKB8E9M5Qng6SERNaTE7ctIi01bFLSxwrH147maET99/yKviDeMYSnGZFUw7ftEBc6b3f4GoN0k09tRTn0Q7+XLl20sEV7iEMzpVHa0tcAq5dGkKoNWYebQRWbcv8EGuhDiCkv08McTwnyyfGuE05xMDhX8k1uRMPNX1vXenoFlVTOPWkBg+OpWh+0MF1Tx7627VumJGVfCu/m/CR+2EoogVN3gpJxu/u+y2OC+VSg53lYtMSP8CiRb7g1cfMCoqdIcI/G3Pd2ajYlk9tfONB2Woxm8zUmiIbc3QlhkxUMNGJgs/d8sBm3MUBZocmKulR49tisz0bWLmwAa8DQFyV4MVpIr15Qst6JOjRAgJFvgpSf5QzKDR6eeHGXBEMWlf9/ldCx84uGb4skWCCVImT60MAvmPMCovslX7PEVJyyJ36fv7PafnZ0Vt+KQadq6YzuRiYfcl8XB++0d2qBbwLYPp1c0GydptrDqARAV+Kc+i+pyE7rtWfjIF85ba6SikkhKnmos7GsYuP3f8BrBFBFVPekqfU5+ki4XhTPMhu+L/Nk/2cZGQX00906oTAn3/Pnz/FhSb4aBAn9xU+KnylJ7TCeGgW35ZKcZKlMRLJE6Umik65mN7d3JcFw1ZIu/W9+oEZ6FRP3fAluWVmeJyZwYZmostgsDd82xDKcik3aBtbY3Lczg56w2DnOpfMg+v+xffsle+c9c5W5ffc1SXCKGRYUVAd9LpdOhiVAAIyp95ISVvgrYskCkF6Pw1VJA5PbBR31nIwNlnQwKIX2mXsykh4W3huifhXM9Wz5hSyLGuin7+8uoFDrPftlP6iuL065z+M7+NBJ+W47ZIDmrDhI4puv5Ixtxm4KQeFOEkiU+I1TP6zRoco6dfOrPhwqAWTMzsK0y/fSv1O/bijYR+sybGbu9aL5VPMdPpizpZ812Ioyqtgcw9V+MWTbadJSbbPU7RNgRA44Ew0wHYcZty4eCVpLqMi+Nw6xPrjy2ITVut136qQEeWpxDTm/1ADMqHopV/RM4yEkoKW5hkmLx8OpXerNxvPboZRreuxyTpxg6Pj5WCi4F/CQ2eYr7qZewbcXQM0UNw0Rbe3t34kQoi051h0FjUlxu7bzcwk+6O4fc0lm5lDsueiBISbPLRLu8vGybhuFMsELUgfz6r66uLi4uZA2CiBNEZ3jTmDkf/5USYu/s7AwPkeMY6SecElOvGBMZkoCJbyZHbuph1qSwEVlOhLDn9jPq+pEVrMJJG0VEmpzMbE0279ZmjvRGCty2kUHb5aN4mCRmlpz9CE1ymJ/wCwwA/1/9Vl+rsoxKcW3zQGHDzy0yBO/UV7STYZ4oAjydIO00kGxpfIoKZivMAjMvwxM/GrRTe9ncmhgaODtvb2cMDBe3t49a7oZk2wjSLYW0Wj0/82z/8PDQizfFMME7OWNa7hUAP+NVjLU0Q6gdON7Cjpy4ygLCttZpT17AIVRp1UAbT2py4ljn9wCip9P5QP6dB05txHDyUpp+baS9mwAtieIt56mR5m9pRELD2Mkk9UpG7XcUGtFKdUkapulHEgAAHGlJREFUwqmEBIyQu41qycMPofX/qx/qzKINni91t9t///79Uleu1u8xSmPxzcmwhfWpX9qf/eU/yp2M3qLub3QrnLSTVYi/RQV+27+vhzjL3W+KZOaLaXJoZ8acNbYdATrsYI9zE1mqWGVc8xuE/s9nNDO8Cw8ay9XaVAuV6LVwgHOeAtKT+wYwFxrCQ1nhyz/tFMxaY3pzTiucpipkImqpPClJzWVLVssPC8VuvWZjcQP6F0TC5+TkJB16EBuHr0ligk1yYtDd2U/VVUA3S62zs7MU14C7d+96/NMkgHueUYTT4PHx8enp6fzIBHXntRqchsF6LoV0/4tA0bJgyG8WsfUv/yeTTM6ByogkKiynmib+AGYn33IrhKjkxGVcOY7gMRk2xsgE4awfZDOD8ni6i0JsfqyiIXO3vLDpfJ4XXS3y0635uVlaSNsmIGCKKqTv3bt3dnbmET2teip0+fs/n+7z8wGJyTpFoOf/Cg2HBfBmzdJnJiYzZBS6nlPcu3fv9PTUhwOKq9Joy4qWIULR+oLHwo83/zNTKt3noot9s+OUVDQ5ngBhKqW3hWj+355ITlsKBlNwFV9FbvZKllz6VfB3I55giZjLw8NDQc5sFQs8Pg54UvzBieSUB3/ZyTyTMAtL3/qyeNMoqb8mwmV4lxSy/OfcU8at6he6KQ2qqqGdA/nrhMwXU6O7DOcLNnheWBU2MYMNzqed+7pcPqRZ3EJLq36r78GDBw8fPmzXja87A3bnzp3T01P1YHHrkNjV1ZUTfmTMzXCIXLdiXualNAHsKVWVAotwrTJad0U7P4SkXCAsDSejntSS6vLYgqoc1/AaEyaLJEXLH7RiLGfI/WrExtLYNySHudnU2zfm+PjY9xXM9sfHx854lZymFnpLDDaE5/8pM76b2cLDyWJ6YeybXgqGlE7Rk40F4b5bKWuBX/qTYl//Prmim7rop7VV/USwe19tVdAWDxgwz9ujaXoRPCKhh73NObm4UsJ/1DG5eKQpWhHXN7ksN46Pj/1cV3djO1Qwt2AUkD7U4+iBgKcHYaC/NCRmljCQZYwlkQg3aso4cxz8ijU1lD3UZrVQpecEwUZ25CeQG7W91a4ZK1CsXTMVt4HT5SJHb9OxJ9jXtuHx/9Wv9MZrgyeN/OPq6kqFz9iqEU6QF5IEc4ldI+3PHkSjGA+v09ji2YdtH+TrUNnClFzmLQvgLSH+MSFrJ3UNtyBBRTzz8u5GxUBu2lzRcn1WuRLuDH5jWxEUM/lDucy0XGEiVn0h6/nz5xcXFx4W+ukuX+YyYZycnDica+3w+PFjs2vnlA0/OztLewCSFC0VxPPnz4Vf+qnEIIvDaflnG59Pnz4F4P+ihK2B2juQMZFLLSl/Rv40UIrN0Esj4G1xXWAjF1E4Z0KJjQX5NncEUOV78wZXvTUm3zOSKb33yblFKXPKIFvryXHhT4ApYRmhOSdm3kjjFh2FPy+vRyNlLf374Bewr70UkBlYY2ppwVDFRMl8yB6Ntv/AFNhwtqyleSTmYiE/Tl0hlOUrNzITzJbcnukKUZmoCbxnjctXQFEniBlbJDtgIlkQny8J6bwr2UtJ0+nxJsjL1IakUpJu/wPg272b3MZHiopcaGvA2WVSRHo+OsEqbPYmiqYK7YlhMnyLq0RrNmLs5uyDi27nE1Tco4i2T8/Pz52y7vtE2RijBM6uBfbkUkRlkqnEfcEWh0tjot3eSroaC8y3vtyJcEo0Md/CpKJ0Ahec2WJ6m6SD+uQBcKduZe2DgwNr4Bn/ilvGqoTGgBKACZYZFf4iCmnyguydHEtrhwJbOWJbVFf0YtJy8unTp8WDqZ4eEJJTwjxVVOTj0B5hPx/WSiGhIMSPIcmeFZIusCqpOWT6LRt1VwOe0M6GPFjZTxXSDSUvqq7emTiX5DLx396G/Gbmn+gag3s8lX6oQHkmLxTk8zBPPBUM2wKhr8HgA92dnMTSt2vAiZNss0W1j/S+IZLjNL+2LZJt/z78nLK7U3WTSQB5WPqcFqltC4bj9u4GPVdolM0jLSa7lOJn9SvMTEodAfDhXZv5glYh4FCd4DdjG+7XcrexVL/zfJ5T9IKJGI5oTttMs9NM7kqvVvKBJWaTDd0yXFaYCah8uvgSnOHJahReCMRzpjTEfwuuORPgIf2zo+oDhjJFFF+/AcOrmT9d5LU2PCbr6cUxTCmgB1pqwsmWrNaX2+gIAO+sUii5vD73QWbOejSmRPS+yHI7fHeFUJc14Iez+SES+/obXiOnyY8z6iJCjlgBz7089vODqwVVIjuUKWIRTWM221iQ22URgSqYwZufA8tk3gJ+8eKFEsPzPxsEfir76Ojo6dOnz549E8/8QWZRaJgDHzx44PL57/88ODg5OWkF0U5b/CfOjNXeVjTQt0n6Lnjx1kp+JhR4SpqUVj2SXdDNAfDjsgzSZfatx/Amyyp8J+hNKhUCuZZ9k4BjNfzQfu1/8K+c7b333gvjnIQF/1SNu1dXV9/5znfOzs6ePXv25MkT7405819ui/VUPFlEjjCx0rnunlcjR2VTpHo0cNhMGGRg9WjkvgBK53xFggubu0Udjw9zYwEUOQjxiTw1cvXvvPXKKgcH2SJmBLand/OpWE+w0EUoJmsseoAtiabJfNbROV/v1VxeXgqqfC4+fb27H95OCY73OgNy586di4sL2cGxcY/37O37/l+HXjplpASQRqve7T40Q1pxKGeQvn//vjLEr4C0G+2satiqXp8/f94CRzVEnxU+PLNHlUm6eEV7MZm1RqbUAz+zim1RoAeHDWlRUxHk9EQnOAqTpSosDTUfZDJs3KTFzB89ATAvsUha32C7uLjwLQezULVuHjaH546odgs31RpdhmRp5MdLIy0HH0A9NVBvCF1PHjKqWwGkzVB1y5B0GrbZuIWlmAnzBC4/msTcMg3SGP+YaRrdiQSH4Z8VfmGvwjw8PCwOr6+vT09PxUZjezQAP+Z77MfVDg4OfL3XGx8w+0bQkydP2obk7qe//8O/aTaPPzw8dEKRl5KCQno1mAe2j9CBdAzj1nyTWqZmWgdhgJWb+XhLxXaWmhim304fwABU4NNYeKZdkJ4z/5RXgUYEuW8xRCzBIGbrhHyyepNGe+ISXJzFa8bgKNfX146FOSsmX5YgppeEM1Qa81xADAU8NXILtsBgWNhu4NIohptR4Snvgmf1gCcS5JJ3ZpOQxFKNNJB/aMBTJ0LlHWYW6uYirt+8XdGuf/KZIDWwKpCCt9q0Fec03r1794SWz+ycnp6q7NLYxCOSPVFTykoW8E+b+uw3hcS/gZxQnWgPklpamCQC70eU7IIfWq5ImZG2WZhm6jeEULP45eR03sOLss/kpFDMiLGhARUHmw6QfeMqubhcEdfYHHL2iPMkmtgW/0xXcfgHwW9kXpg8hukHowYrl+isEsNKvJal4sytOW1K26QCtpUntAtADE8OdwbtHFiUpso5PEtgEsOGT49prFvFhktI+o//VL+zETBmWnI3nS5Ki1Dq2jZmECZIYHPaz+FQ4e44ad27VUJTa3mKw9y/f7+wbOdfzb/ozSXtkRR7L1++tFJIV/QDknI8RITfVwnAkAvzs8yO/4TVk0I08l6Cp7cMlObhITs+I+3SRh0MCULDXdIAbmdnVGpIUjNxg5//01J6Fg7MkaQ3n/EKbw1MtCZHqeliJoVmJBKGAdVJe5KkCFVWvjX1O/G8Tnvq61vjIWaoasTnLQllMhmeOqfsde5sTPNL6gzGfZ2iUUKDJKypsrcqU376ryfPngmd++Ln+vrao9w2a8QYDJO9Mp0VX6/cq+lor5BQNveUnndWb1vEkouSITdq5iDyYuPhw4d4K7MQYa692+GfM/ASnNk3kXk15pvwSZRXpJB00kxbgnCryyxeBidsHluI6mEsdVnpmCekpdjYUsnr4jwTx/PN2f5Emg2Km5xRBCF5TAVVwR/JHI4Su6zR2gYJlylo4qmThLFeY6fkqX4O15636HGB4Xy0MYN5Ulz0Hs44r6fGTv4naX6ZbufMWcov+Au/6gIsYSDD5b4RQgXy+R+f5A1Vw3suHWaE2Fe7AsGrxL63SRx69t3uVJpmrq+vPQ5ALj+sxkz8dBhjkBweHnqrJ87pB7czwcGwxCokFf8eVCVp+SLqOJwToZ4gu4Qk8RN5cfiJeQ5pR1NSSz+56MQcUUqAc2Iu7+Dz5ht+Ectx00I9UHh4a6pBSd5NCzVyNY3waPgPAwBKsTuyjJ0A3/TWFr5klAuaBnP6FBSTIUkKyo3ndD0tmpk15tgQNnBaKLuWW21xAw5PlhbA+O/u0sBDCm8+4QRRzF2iJQxK7rMf8DRZW1CXl5c26uzq82BFgacqM3TxEGalRO995lG8vGA4Pz/37XDZUBVgn9/0uDw5Y9apFm5vS1LamlzhJxmrC/DDZ2ATLE6+smzabmN12zN9AC0c9q1ECWvmerJnxLlEiu5kydiyMz5xguKrb/jl+mkndeSXBG45UJKzK9MPtoQdQ1Rce+o0MVLN9KRFO/klJ0hfW7BE2N4KSWauAGbUxsb2Ik78gxQ2CMGZcyTUTjbqhCcqhTRvKxIQmgtsiabY8NGOyT8S9UzM2ZQ/8TM8KHqJOd2rY6dzYgg5P8vXy1allaj7QOj8eS/bhPb8LG1kHNO+R1ypvd/z6PmCc0TOGh0dHfnh2bIwDmcAYJKnXV1d7fx0/ZwRM42BRWPqzVXyrtlIRTlGskxPzh+8DS2XVbBQSAeB8g3GKnvCjB//CzFsdDbn1d13332XhVpicQiuTInk32YOzpHT+11385U3NHkMrcEv2KZyaQryyq2op5QlPe3UacAozsva0wZ13tKI0AIzfWLeCh5AYF1uG6mR5rm1YIa5PNv8Qz9Uxx2VY60Jc6zpiCm/WC0mE4FbhD8v9Aht2WBrZ74kiFV7+GwKc/nFY4Xr62vvAjEHj5fa+MmiRpe4RasFS/6t/9mzZ6jTcwNLZ/UYSITCpshMIdkrWySjnoKNi7YT4R0nyauMyRzbH6cpgMtTjFV25tIe9zofcX5+fnFx4YWooiM9p8AEmfyT/dXx3gRIC4VfyiVA+zQhpZ0iHDz34tYpNLN14ooulko7f00RW0kaEhuv2diies2BbwQs6gUnJ54pidJmDwUy8CJ4AVa44jOrtQGW26EYA5nPQHRpHl3ROItS/Q7zVYBM0bTNVFm/7eGChKeS111SzHjDD26b+szbwixg3iU9Tc+ZAtamn8bmcpRgMVub7I1N50VNZ5mdvXEa0uPSarc5XSOXxmAmIz24BT8Fas/g8ug0/S/sLf5Dlvn/1Ys9KNE7Dor8SOLAzByKPEyPlYJchZUSUpzNsXmYu5LfttbYunW+lfpC+3+2UbAtzJO3qVite3V15aQNcXIyvpXUGlbROQrHyjQFf35TXi4so6IHZFFXQLboCJXn7Rl3eks/H+Zu2wG5WWXI4vQhiUoa6zRB3yYEXFrkUZEwUFIovOMW/uUTQ1Hv7VXKmaPAxBWAOcP38xZII2R2XB55ZILwQ55FlkRT6rfBSQ8CB4ZZRUKy8z/mvzrb7zpuXOayO1GkUKOmDeTmly9fOhZKBlnN/52ZCbmUNRVBtjRe42sZWwASc+nfd5lV9gG8Zn9elalgbl9qKiSivIf2KKd8im6O7pLq+i/AUmNryMVwGd1RVhzmuMKgGQkD3U2fUUHdAqS6JtJKVttac3/O8JCk1eSFFp5Z2NOAHFqlWZDQpLFT6tq9YFbY4GG7gWdIjjf5UY0fHR05mNCq0xobQpyYGlP4Nr6gnYGwiIAB+vdlrbwlW9STGmcjoq/K/qlinIleHhmurU7zuWygoX9rS8j1z7v1RCvMqWPRfqJOwf7PttN47ltgExlAzqFcTAkZoncQFk3SUh4Jp0tuPQFsyKXzeJMsWsFhdS4T5AUD4yT+DQeDPaRbuGrY1SMaN4uBXEJPzlCRCKEymzdSY6T7Gm8RWC1JA4U9BpaklsL7ok7wMZPjWYZkuJtjM0evDs6kW8WRVJhOvKCBVtjmZbRIkUpd9rjNT+mpqmgGt3M4tP3Hrf9frflTH77TVOjajQu1RjZoFqJuBLwC0LQGbZfxVANOGskV8KBzSUANXBoxufT/716mMXHl52j5BBmbKs/Pz034KWR6SfrJOsV2czJJRVckqDQDVVWGx6u11vlcdq71WksXhJlysmcmDAYeItvbT6j8uGiZeOKq9NEB3h6JgQdgI5mHzMdVU4TpGHNtn7o0lukwt6HnmCyqbTQ6gl0+ElMefCYyW0w2Ql6ozxDtrk4w5gb+07wb5D7kAMLz6oc60/LtwxoMvv/6y+JzE9jH21KWhrXrwutMb4srMOcM+xCG5P94Y8Zki2fOkTHYdQYqFywJ5hP1FPNsUU6hDTNkCN3NV+ZqIlPO7JwVrE3CiQ2RJviZI6M0EFqXbRyKW3nE23LzhzQh5wym1l6wm6mnk3mQuyXdULWtDSxZa0wHS5aFf9jYZepk8a7CO5HVQRESRyhiVXqSvEjd2JAne6S7JV/XD9JdVHoGTwnt9YRBo4E3CZqxw4LpVBAoRvVvE0Q9Jd18iA3qL6E6XJEwhTdPRSjgNxj2sbooZd/l1kL7IG/vb4Ysu5OOkVK7VTe1pIRKqvmru5mGI1pezhSDn9a0HFqQZI4MjQG+i7qBAKb1tcsyUMkjk08zYWDh8cUejzNNziZP5ff0B7I4JuQBYSW01w3hlFOg8gTRWQDDY0AZn9JKiKenp5i31YqZnofHTw2PPKtEcifnBaR1LNG/UDRFYyY/mUavM38Icx6YLJghoKSgXewsk2vIk/qVud9+++0MA+jVjYMDfHOaGN36hFGptSOZnsTYBZULInR9fd0RgDiGx8chIoeHkMd9GqkR2/EzGwuYW/P/DM7Z38DZ2RSdT6Aeezv7ZWgmLCcWJErQYpgeGLUAM5NnF2uEGcm5Rc/nAQvL7novO4lSMqfBYQphtWbIPBt1+ci53bYS+lZf/Ju9j46Onjx5kpZgxkbvydMShyGa3xRr2m+iOz099aWA1vkV4RymtQA86b8Q9UHa+EkPk7FijOCxgUR8np2d+aqKJQ8N9yCG/gEzvS+RzgeB2yVY2vMrBtGqX07R33IAGwqBGTjM2k7NzQ7FdG6gevLmXESjDRIqCywyVAxJyOccjle1UHoPMkmQWy4XZt7gZQy8QZy3oIocBfK22tJ5ug1PPdRC1UK6WwyRt9HwDP56mr7UoiZPd0VRVGbwINcM2clfJpYjLACnOJDbACI7kWMsT6hhONJFdfA+LY9zmWV+/KPobVUvq1YMU93iXTqnIFO3cC7/U5GQ69kNKVQo5ZSS7zRckyu6lANtTmJgblBDFouHeEuHGvnGguerDb9GTtDI1ChzlCliVM/U4ExmEQYv+BOvRhNOFPOhev4nGjGwIL9dG90t9y3Dl8uU3BaU4CkVOgpSrpzDo6Vzuu8sU5GoDG7GNsrdYqY5ZN7NakiY4edzewFZHCaUyQfONvaaZsnoGC+nrCqpZOAk0e2YUP6NcxNmm4Xz6yPCmzVxmDLTDP5nhJTdppfudIkq3+KKXUpPaXLKQjOTge6C95+Ysyd7xVh3y/JMjI0S+pS6sYuXfjXzE3WnwNGb+prsIjyDH6S8y5bTz6ZIC8VQRXQmizr/1xv4nGwsgsxbsy202oS3bcZUBWq/tGNgNjN2IdRlLOkphrM9bGj5n9MDzmOgWnxxWi1rCrYSgcJQ6cvuqhiBKhHA039czaRfuX737t3T01PIdZrel11ks27nytH137yaZ+Zd5Z020hZ+cuA5JDzpPNNQciumbEHwJn8Dyz7Zl4zzIzcZEcy0yERS5JPXNOAtSSsUFgGWfeG82fCbuLbhDa7/OShpS8npSM/c+e/xFVo5yiJVJBJ7YSyA/4nGdL6JHw+z51u3J6p8jk6mD8HPcgut3nXLNXPZDNGQvD+/MQpFT6Q5ZUMCyIndQiUHxa1Nuw75sXiBKjvkJIlT5RitPAet0orLvCUBe8qgR8z32f9+GogIkIDURrf+JR6S0TFhlzg0ZOE/X1XplGenrVNCnS3r5g5CLE0Oa08eEqRSi4GiTt6KynJWyoThq0d9OCsXTAKzPYM/qTQmB8jnrG7l6BW9iVSDMcCnrMnA/5E2hieHKfAWDoOfwImcI1JyJDTy4C55xrRoMM14MTMpdjplBr+x0y8Ryv+qXaeTdVfQFhsmHLxFxaImtDXmyUJ8VuO0JVYhM+WtHMD2yclJbzcGls4JmIoWT05RGr5cVjhM7QU5vbRlEbpueWswsIQqaAV/DpAyI7GoevZjiW5lugS0jCICi1B1DvZKxsi7vZ2CJr1Yics0K/FnKtz4bBMNdiqDX0K7k9xUFrDpJQs/b+oyQb4RwsU5Xmcs6dI2p+mShps2t1xVoeTEPAmGWVBAkotoVA7wgy7d7b+7TcLpP28pqj2i5215xdHRUcf4eCdDz9mYrlDUxkwFhU4S4aR47iUZ53ylAPDqglwozMmb3gg18yzghiT1ZLIzfIQtnvN8o+pf4q27GbqkFvVJbsIv0TdvZa+QeO0HVyFcHgG+Oo2YRgwOOlw1cvcsDTilNBbOnjPjo0dQTRFhrpHloJoUg3njjdheMFPx0vnHX0Yu507qHqEFgxx9cm5+sPAWhqZ9QwrU+v28V9MF/MBmeM+193TWdt0cL02ELNUjgFgqyxeci/+g5al+e/JWsPMhf17u8/620/OxIi3VTRl1lkFc+on6RZNtu1azEKTLAq/UxmqdLEreeUx4aiMLCv64WjjJ9PtcbiZo5vaf4LHBNF2+Qjuf82PODXqXFydnqXXhZmJvzgHsAalNoLTD9nJBn6zhGdZvFlEmEAvLhWJ87uzPEfFAp3XuHDIR7hOzgfRIUrIUPGCi2JCdDcE2seUi+cdsWDFNuxTh8OM8/pdKoWDwjS1DpgP1KDcMoTWZFL0RCpLI4qG33Fg/d3I3XcWeALbDh4RZvU9xN5eSd8YMBuqfCkznXiJKzxkOz4kQvOfkPjpC53y15UxpaGoPDyGxgefJi4GZ0t4E688TseZIYEt+hHbxqyqOLAusz/O1J9LWYzy8mvlj9403qCMVL1qel7UBv3FO3izCmIztDPZmCe1EO4lOctv+pUfMxHzIM5BGWbLLCkhxC+3EM9mYXlsozqkluhqwASi6ZHyvxxarCgR7SVyrZ8a3szT1MDmpPw0QJBiLEXeVzWUQzONNLghbw1NFutKYsSoFLIlj0WeXqPtfZzxD7syVdo9aZ1LG+R+80hvr2X7BfsvlHJuc5Xu6mJ4XTHxrLP23UPxfv0VLqfhbKG2RPYkWZU6dzPb0sJxsNmY7d8nVust9w4ZEWTun1F9pEEBsz0bBULIIf2ATs1IfiSZ5DfCRo5zQGlJ2mKrTDic8DYcwmAZSSxO7yxx48imEYiz8AU+R1TioZItEg8rl1/6fw0mHyemQc59vihb8esLva6neDrDwlFqzcd427TE5g8HdyeWEWXjYd2sOn0P29e/DM8fOdnjmwDon5O1tw3f+hy3tTULTI4F1d9uYDPBprgYy381lp08LKru5fKuDgHPumiS0C/4CGP6tivR03nkuDLULbKQ7ORv/lQN9HmuGAfwKBP252awg6KFwxb9pfyajDiwksi2PueeFMah6FwAbdhMaGzl3s10AS2MC5BgJm1x6jK1yaSMj5/l//UeQxa+3dlMAAAAASUVORK5CYII=)"
   ]
  },
  {
   "cell_type": "markdown",
   "metadata": {
    "id": "d4Z2V9HXIWGG"
   },
   "source": [
    "#### **Ennio Morricone**\n",
    "\n",
    "![200707100835_ennio-moriconne.webp](data:image/webp;base64,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)"
   ]
  },
  {
   "cell_type": "markdown",
   "metadata": {
    "id": "Yfkg1sEZJVUs"
   },
   "source": [
    "### Any suggestions by you?"
   ]
  }
 ],
 "metadata": {
  "colab": {
   "collapsed_sections": [
    "-shKVwRd0XqO",
    "LQvWMFz10kPd",
    "dSaeb9rg7VB1",
    "0VlbqwMB0fQv"
   ],
   "name": "Ex2.ipynb",
   "provenance": []
  },
  "kernelspec": {
   "display_name": "Python 3 (ipykernel)",
   "language": "python",
   "name": "python3"
  },
  "language_info": {
   "codemirror_mode": {
    "name": "ipython",
    "version": 3
   },
   "file_extension": ".py",
   "mimetype": "text/x-python",
   "name": "python",
   "nbconvert_exporter": "python",
   "pygments_lexer": "ipython3",
   "version": "3.9.7"
  }
 },
 "nbformat": 4,
 "nbformat_minor": 1
}
