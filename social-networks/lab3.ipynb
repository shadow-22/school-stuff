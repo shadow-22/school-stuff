{
  "cells": [
    {
      "cell_type": "markdown",
      "id": "1f35580e",
      "metadata": {
        "id": "1f35580e"
      },
      "source": [
        "<html><font size=6><B>3η εργαστηριακή άσκηση</B><BR>\n",
        "    <BR><B>Link prediction - Πρόβλεψη συνδέσμων</B></BR>\n",
        "    </font></html>"
      ]
    },
    {
      "cell_type": "markdown",
      "id": "b30af479",
      "metadata": {
        "id": "b30af479"
      },
      "source": [
        "<html><font size=4><B>1. Κατασκευή γράφου και προεργασία για την πρόβλεψη συνδέσμων</B></font>\n",
        "    <li><B>1(i).</B> Χρησιμοποιήστε το dataset <a href=\"http://konect.cc/networks/dbpedia-similar/\"> Similarities (DBpedia)</a>, για να κατασκευάσετε τον μη κατευθυνόμενο (undirected) γράφο $G$ <a href=\"https://dl.acm.org/doi/10.1145/2487788.2488173\">[1]</a>,<a href=\"https://link.springer.com/chapter/10.1007/978-3-540-76298-0_52\">[2]</a>. Οι κόμβοι του γράφου αναπαριστούν σελίδες της Wikipedia και οι ακμές σχέση ομοιότητας μεταξύ τους. Στην σελίδα <a href=\"http://konect.cc/networks/dbpedia-similar/\"> KONECT (DBpedia)</a> μπορείτε να βρείτε πληροφορίες για τις ιδιότητες του γράφου.</a><BR>\n",
        "        <B><U>Υπόδειξη:</U></B> Μπορείτε να ελέγξετε προγραμματιστικά αν το dataset περιέχει διπλότυπα των ακμών με την ίδια ή αντίστροφη σειρά (π.χ. ακμές (a,b) και (b,a)), και να λάβετε υπ' όψιν σας αυτήν σας την παρατήρηση, όπου τυχόν χρειαστεί, στην ερώτηση 2.<BR></html>"
      ]
    },
    {
      "cell_type": "code",
      "source": [
        "from google.colab import files\n",
        "uploaded = files.upload()"
      ],
      "metadata": {
        "colab": {
          "resources": {
            "http://localhost:8080/nbextensions/google.colab/files.js": {
              "data": "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",
              "ok": true,
              "headers": [
                [
                  "content-type",
                  "application/javascript"
                ]
              ],
              "status": 200,
              "status_text": ""
            }
          },
          "base_uri": "https://localhost:8080/",
          "height": 55
        },
        "id": "ZU73gWsT4vNh",
        "outputId": "7d16e458-772f-4651-a262-4c156b08ebfd"
      },
      "id": "ZU73gWsT4vNh",
      "execution_count": 4,
      "outputs": [
        {
          "output_type": "display_data",
          "data": {
            "text/html": [
              "\n",
              "     <input type=\"file\" id=\"files-f519fa85-40e5-4f74-9117-65ed46057f53\" name=\"files[]\" multiple disabled\n",
              "        style=\"border:none\" />\n",
              "     <output id=\"result-f519fa85-40e5-4f74-9117-65ed46057f53\">\n",
              "      Upload widget is only available when the cell has been executed in the\n",
              "      current browser session. Please rerun this cell to enable.\n",
              "      </output>\n",
              "      <script src=\"/nbextensions/google.colab/files.js\"></script> "
            ],
            "text/plain": [
              "<IPython.core.display.HTML object>"
            ]
          },
          "metadata": {}
        },
        {
          "output_type": "stream",
          "name": "stdout",
          "text": [
            "Saving out.dbpedia-similar to out (1).dbpedia-similar\n"
          ]
        }
      ]
    },
    {
      "cell_type": "markdown",
      "id": "4bd79bac",
      "metadata": {
        "id": "4bd79bac"
      },
      "source": [
        " <li><B>1(ii).</B> Εμφανίστε τον αριθμό των κόμβων, τον αριθμό των ακμών, τον μέσο βαθμό των κόμβων και τον αριθμό των συνεκτικών συνιστωσών (connected components) για τον γράφο $G$.</li><BR>"
      ]
    },
    {
      "cell_type": "code",
      "execution_count": 5,
      "id": "9277a4e2",
      "metadata": {
        "id": "9277a4e2",
        "outputId": "20d5b644-98b9-4144-8bd5-a1d69c4ec624",
        "colab": {
          "base_uri": "https://localhost:8080/"
        }
      },
      "outputs": [
        {
          "output_type": "stream",
          "name": "stdout",
          "text": [
            "     Node1  Node2\n",
            "0        1      2\n",
            "1        1      3\n",
            "2        1      4\n",
            "3        1      5\n",
            "4        2      3\n",
            "..     ...    ...\n",
            "560    423    424\n",
            "561    423    425\n",
            "562    426    427\n",
            "563    428    429\n",
            "564    428    430\n",
            "\n",
            "[565 rows x 2 columns]\n",
            "Number of Nodes: 430\n",
            "Number of Edges: 565\n",
            "Number of Connected Components: 95\n",
            "Average node degree: 0.006125657288447986\n"
          ]
        }
      ],
      "source": [
        "%matplotlib inline\n",
        "\n",
        "import matplotlib\n",
        "import networkx as nx\n",
        "import random\n",
        "import matplotlib.pyplot as plt\n",
        "import numpy as np\n",
        "import scipy as sp\n",
        "import csv\n",
        "import pandas as pd\n",
        "\n",
        "column_names = [\"Node1\", \"Node2\"]\n",
        "g_dataframe = pd.read_csv(r\"out.dbpedia-similar\", sep=' ', skiprows=2, names=column_names)\n",
        "print(g_dataframe)\n",
        "\n",
        "#print(g_dataframe[\"Node2\"].iloc[4])\n",
        "#print(type(g_dataframe[\"Node2\"].iloc[4]))\n",
        "\n",
        "column_nodes = g_dataframe[[\"Node1\", \"Node2\"]].values.ravel()\n",
        "unique_nodes = pd.unique(column_nodes)\n",
        "sorted_unique = np.sort(unique_nodes)\n",
        "\n",
        "#print(\"Number of Nodes:\", initial_node_count)\n",
        "#initial_connected_components =  #uncomment and complete\n",
        "\n",
        "G_graph_initial = nx.Graph()\n",
        "with open('out.dbpedia-similar') as csv_file:\n",
        "    csv_reader = csv.reader(csv_file, delimiter=' ')\n",
        "    line_count = 0\n",
        "    next(csv_reader)\n",
        "    next(csv_reader)\n",
        "    for row in csv_reader:\n",
        "        G_graph_initial.add_edge(row[0],row[1])\n",
        "        #print(\"type is:\", type(row[0]))\n",
        "        line_count += 1\n",
        "\n",
        "G_graph_initial_backup = G_graph_initial.copy()\n",
        "        \n",
        "print(\"Number of Nodes:\", G_graph_initial.number_of_nodes())\n",
        "print(\"Number of Edges:\", G_graph_initial.number_of_edges())\n",
        "print(\"Number of Connected Components:\", nx.number_connected_components(G_graph_initial))\n",
        "\n",
        "#initial_node_count = np.size(sorted_unique)\n",
        "initial_node_count = G_graph_initial.number_of_nodes()\n",
        "initial_edge_count = G_graph_initial.number_of_edges()\n",
        "initial_connected_components = nx.number_connected_components(G_graph_initial)\n",
        "\n",
        "degree_centrality = nx.degree_centrality(G_graph_initial) \n",
        "avg_degree = np.mean(list(degree_centrality.values()))\n",
        "\n",
        "print(\"Average node degree:\", avg_degree)"
      ]
    },
    {
      "cell_type": "markdown",
      "id": "bf03f6b9",
      "metadata": {
        "id": "bf03f6b9"
      },
      "source": [
        "<li><B>1(iii). </B>Υπολογίστε το σύνολο των ασύνδετων ζευγών κόμβων (unconnected pairs) στον γράφο χρησιμοποιώντας τον πίνακα γειτνίασης (adjacency matrix). Δώστε επίσης τον αριθμό τους. Λάβετε υπ' όψιν σας ότι ο γράφος είναι μη κατευθυνόμενος και δεν χρειάζεται να διατρέξετε ολόκληρο τον πίνακα γειτνίασης.</li><BR>"
      ]
    },
    {
      "cell_type": "code",
      "execution_count": 6,
      "id": "e6232aa3",
      "metadata": {
        "scrolled": false,
        "id": "e6232aa3",
        "colab": {
          "base_uri": "https://localhost:8080/"
        },
        "outputId": "6dd962eb-71e2-451f-cb85-61a3f6ad1c2e"
      },
      "outputs": [
        {
          "output_type": "stream",
          "name": "stdout",
          "text": [
            "Number of unconnected pairs: 183771\n",
            "<class 'int'>\n"
          ]
        }
      ],
      "source": [
        "ad_mx = nx.adjacency_matrix(G_graph_initial)\n",
        "array_ad_mx = ad_mx.toarray()\n",
        "#print(array_ad_mx)\n",
        "unconnected_edges = []\n",
        "\n",
        "#for i in range(0, 215):\n",
        "#    for j in range(i, 430):\n",
        "#        if array_ad_mx[i][j] == 0:\n",
        "#            unconnected_edges.append((i,j))\n",
        "\n",
        "for i in range(0, 430):\n",
        "    for j in range(0, 430):\n",
        "        if array_ad_mx[i][j] == 0:\n",
        "            unconnected_edges.append((i+1,j+1))\n",
        "\n",
        "#print(unconnected_edges)\n",
        "print(\"Number of unconnected pairs:\", len(unconnected_edges))\n",
        "print(type(unconnected_edges[0][0]))"
      ]
    },
    {
      "cell_type": "markdown",
      "id": "154c2a8d",
      "metadata": {
        "id": "154c2a8d"
      },
      "source": [
        "<li><B>1(iv).</B> Υπολογίστε το σύνολο των ακμών (removable edges) που μπορούν να αφαιρεθούν από τον γράφο χωρίς να υπάρχει κατάτμηση (splitting) του γράφου (δηλ. ο αριθμός των συνεκτικών συνιστωσών θα πρέπει να παραμένει αμετάβλητος). Υπόδειξη: Ελέγχετε επίσης ότι με αφαίρεση ακμής δεν μειώνεται ο αριθμός των κόμβων (εφόσον δεν υπάρχει ξεχωριστό αρχείο μόνο με κόμβους στο dataset). Δώστε επίσης τον αριθμό των ακμών (removable edges) που μπορούν να αφαιρεθούν υπό αυτές τις προϋποθέσεις.</li><BR>"
      ]
    },
    {
      "cell_type": "code",
      "execution_count": 7,
      "id": "b39c2241",
      "metadata": {
        "id": "b39c2241",
        "colab": {
          "base_uri": "https://localhost:8080/"
        },
        "outputId": "e8e86229-46b6-4fd6-fe67-c773fb4db091"
      },
      "outputs": [
        {
          "output_type": "stream",
          "name": "stdout",
          "text": [
            "[(1, 2), (1, 3), (1, 4), (3, 4), (3, 5), (5, 6), (5, 46), (5, 47), (11, 12), (15, 161), (15, 162), (19, 20), (19, 21), (20, 21), (20, 23), (20, 24), (20, 25), (20, 28), (20, 30), (20, 31), (20, 32), (20, 34), (21, 30), (28, 38), (28, 39), (29, 68), (29, 89), (29, 90), (29, 100), (29, 101), (30, 74), (42, 43), (62, 63), (68, 78), (68, 79), (68, 81), (68, 90), (68, 92), (68, 93), (68, 94), (68, 95), (68, 96), (68, 97), (68, 98), (68, 99), (68, 100), (75, 76), (75, 77), (75, 78), (75, 79), (75, 80), (75, 81), (76, 82), (76, 85), (78, 79), (78, 81), (78, 82), (78, 85), (78, 88), (78, 89), (79, 85), (89, 90), (89, 98), (105, 106), (105, 107), (105, 108), (105, 109), (105, 110), (105, 111), (106, 107), (106, 108), (107, 108), (108, 110), (119, 120), (119, 121), (120, 121), (126, 127), (131, 132), (131, 133), (132, 133), (132, 134), (132, 137), (141, 142), (149, 150), (149, 151), (149, 152), (150, 151), (161, 162), (167, 168), (167, 169), (172, 173), (172, 174), (186, 187), (186, 188), (186, 189), (186, 190), (186, 191), (187, 189), (187, 190), (188, 189), (188, 190), (189, 192), (225, 226), (225, 227), (226, 229), (226, 230), (237, 239), (264, 265), (332, 333), (332, 334), (332, 335), (332, 336), (332, 337), (332, 338), (332, 339), (332, 340), (332, 341), (332, 342), (332, 343), (332, 344), (332, 345), (332, 346), (333, 334), (333, 335), (333, 336), (333, 337), (333, 338), (333, 339), (333, 340), (333, 341), (333, 342), (333, 343), (333, 344), (333, 345), (333, 346), (334, 335), (334, 336), (334, 337), (334, 338), (334, 339), (334, 340), (334, 341), (334, 342), (334, 343), (334, 344), (334, 345), (334, 346), (335, 336), (335, 337), (335, 338), (335, 339), (335, 340), (335, 341), (335, 342), (335, 343), (335, 344), (335, 345), (335, 346), (336, 337), (336, 338), (336, 339), (336, 340), (336, 341), (336, 342), (336, 343), (336, 344), (336, 345), (336, 346), (337, 338), (337, 339), (337, 340), (337, 341), (337, 342), (337, 343), (337, 344), (337, 345), (337, 346), (338, 339), (338, 340), (338, 341), (338, 342), (338, 343), (338, 344), (338, 345), (338, 346), (339, 340), (339, 341), (339, 342), (339, 343), (339, 344), (339, 345), (339, 346), (340, 341), (340, 342), (340, 343), (340, 344), (340, 345), (340, 346), (341, 342), (341, 343), (341, 344), (341, 345), (341, 346), (342, 343), (342, 344), (342, 345), (342, 346), (343, 344), (343, 345), (343, 346), (344, 345), (344, 346), (345, 346), (374, 375), (399, 400), (399, 401), (399, 402), (399, 403), (399, 404), (400, 401), (400, 402), (400, 403), (400, 404), (401, 402), (401, 403), (401, 404), (402, 403), (402, 404), (403, 404), (420, 420)]\n",
            "Number of removable edges: 230\n",
            "<class 'int'>\n"
          ]
        }
      ],
      "source": [
        "# removable edges: check splitting and number of nodes\n",
        "#if ( == initial_connected_components) and ( == initial_node_count): #uncomment and complete (modifications allowed)\n",
        "# G_graph_initial cell contains a character not an int!\n",
        "removable_edges = []\n",
        "for row in range(0, initial_edge_count):\n",
        "    G_graph_initial.remove_edge(str(g_dataframe[\"Node1\"].iloc[row]), str(g_dataframe[\"Node2\"].iloc[row]))\n",
        "    if (nx.number_connected_components(G_graph_initial) == initial_connected_components and \n",
        "        G_graph_initial.number_of_nodes() == initial_node_count):\n",
        "        removable_edges.append((int(g_dataframe[\"Node1\"].iloc[row]), int(g_dataframe[\"Node2\"].iloc[row])))\n",
        "    else:\n",
        "        G_graph_initial.add_edge(str(g_dataframe[\"Node1\"].iloc[row]), str(g_dataframe[\"Node2\"].iloc[row]))\n",
        "\n",
        "print(removable_edges)\n",
        "print(\"Number of removable edges:\", len(removable_edges))\n",
        "print(type(removable_edges[0][0]))\n"
      ]
    },
    {
      "cell_type": "markdown",
      "id": "eb03d745",
      "metadata": {
        "id": "eb03d745"
      },
      "source": [
        "<li><B>1(vα).</B> Κατασκευάστε dataframe που συνενώνει τις απαντήσεις των ερωτημάτων 1(iii) και 1(iv) (unconnected+removables). Χρησιμοποιήστε την μεταβλητή $link$ που θα παίρνει τιμή 1 ή 0 ανάλογα με την ύπαρξη συνδέσμου ή μη. To dataframe αυτό συγκεντρώνει τα θετικά και αρνητικά δείγματα για την πρόβλεψη των μελλοντικών συνδέσεων (link: target variable). <BR>\n",
        "    <li><B>1(vβ).</B> Κατασκευάστε τον γράφο $G'$ που προκύπτει από την αφαίρεση από τον γράφο $G$ των ακμών του ερωτήματος 1(iv). <BR>\n",
        "    <li><B>1(vγ).</B> Εμφανίστε τον αριθμό των κόμβων, τον αριθμό των ακμών, τον μέσο βαθμό των κόμβων και τον αριθμό των συνεκτικών συνιστωσών (connected components) για τον γράφο $G'$.</li><BR>"
      ]
    },
    {
      "cell_type": "code",
      "execution_count": 9,
      "id": "cb033fc0",
      "metadata": {
        "scrolled": false,
        "id": "cb033fc0",
        "outputId": "ff038fa8-e336-4f87-dda8-d7e65ad95d61",
        "colab": {
          "base_uri": "https://localhost:8080/"
        }
      },
      "outputs": [
        {
          "output_type": "stream",
          "name": "stdout",
          "text": [
            "     Node1  Node2  Link\n",
            "0        1      2     1\n",
            "1        1      3     1\n",
            "2        1      4     1\n",
            "3        3      4     1\n",
            "4        3      5     1\n",
            "..     ...    ...   ...\n",
            "225    401    404     1\n",
            "226    402    403     1\n",
            "227    402    404     1\n",
            "228    403    404     1\n",
            "229    420    420     1\n",
            "\n",
            "[230 rows x 3 columns]\n",
            "        Node1  Node2  Link\n",
            "0           1      1     0\n",
            "1           1      6     0\n",
            "2           1      7     0\n",
            "3           1      8     0\n",
            "4           1      9     0\n",
            "...       ...    ...   ...\n",
            "183766    430    425     0\n",
            "183767    430    426     0\n",
            "183768    430    427     0\n",
            "183769    430    429     0\n",
            "183770    430    430     0\n",
            "\n",
            "[183771 rows x 3 columns]\n",
            "        Node1  Node2  Link\n",
            "0           1      2     1\n",
            "1           1      3     1\n",
            "2           1      4     1\n",
            "3           3      4     1\n",
            "4           3      5     1\n",
            "...       ...    ...   ...\n",
            "183996    430    425     0\n",
            "183997    430    426     0\n",
            "183998    430    427     0\n",
            "183999    430    429     0\n",
            "184000    430    430     0\n",
            "\n",
            "[184001 rows x 3 columns]\n",
            "Number of Nodes: 430\n",
            "Number of Edges: 565\n",
            "Number of Connected Components: 95\n",
            "Average node degree: 0.006125657288447986\n",
            "Number of Nodes: 430\n",
            "Number of Edges: 335\n",
            "Number of Connected Components: 95\n",
            "Average node degree: 0.0036320268878408408\n"
          ]
        }
      ],
      "source": [
        "#dataframe of removable edges (they will function as positive samples)\n",
        "#...['link'] = 1  #uncomment and complete\n",
        "\n",
        "removable_edges_df = pd.DataFrame(removable_edges, columns=['Node1', 'Node2'])\n",
        "#print(removable_edges_df)\n",
        "\n",
        "#dfa['A'] = list(range(len(dfa.index)))\n",
        "#link_list = [] * len(removable_edges_df)\n",
        "#for i in range(len(link_list)):\n",
        "#    link_list[i] = 1\n",
        "\n",
        "link_list = [1] * len(removable_edges_df)\n",
        "#print(link_list)\n",
        "removable_edges_df['Link'] = link_list\n",
        "\n",
        "print(removable_edges_df)\n",
        "\n",
        "#dataframe of unconnected node pairs (they will function as negative samples)\n",
        "#...['link'] = 0 # uncomment and complete\n",
        "\n",
        "unconnected_edges_df = pd.DataFrame(unconnected_edges, columns=['Node1', 'Node2'])\n",
        "link_list = [0] * len(unconnected_edges)\n",
        "unconnected_edges_df['Link'] = link_list\n",
        "\n",
        "print(unconnected_edges_df)\n",
        "\n",
        "#merge in one dataframe\n",
        "\n",
        "#unconnected_edges_df.reset_index(drop=True)\n",
        "\n",
        "merged_df = pd.concat([removable_edges_df, unconnected_edges_df], axis=0, ignore_index=True)\n",
        "print(merged_df)\n",
        "\n",
        "#build graph G'=G_reduced\n",
        "\n",
        "G2 = G_graph_initial_backup.copy()\n",
        "\n",
        "print(\"Number of Nodes:\", G2.number_of_nodes())\n",
        "print(\"Number of Edges:\", G2.number_of_edges())\n",
        "print(\"Number of Connected Components:\", nx.number_connected_components(G2))\n",
        "\n",
        "degree_centrality = nx.degree_centrality(G2) \n",
        "avg_degree = np.mean(list(degree_centrality.values()))\n",
        "\n",
        "print(\"Average node degree:\", avg_degree)\n",
        "\n",
        "\n",
        "for removable_edge in removable_edges:\n",
        "    #print(\"Edge from\", str(removable_edge[0]), \"to\", str(removable_edge[1]), \"about to be removed.\")\n",
        "    G2.remove_edge(str(removable_edge[0]), str(removable_edge[1]))\n",
        "    \n",
        "\n",
        "print(\"Number of Nodes:\", G2.number_of_nodes())\n",
        "print(\"Number of Edges:\", G2.number_of_edges())\n",
        "print(\"Number of Connected Components:\", nx.number_connected_components(G2))\n",
        "\n",
        "degree_centrality = nx.degree_centrality(G2) \n",
        "avg_degree = np.mean(list(degree_centrality.values()))\n",
        "\n",
        "print(\"Average node degree:\", avg_degree)"
      ]
    },
    {
      "cell_type": "markdown",
      "id": "184eae57",
      "metadata": {
        "id": "184eae57"
      },
      "source": [
        "<html><font size=4><B>2. Εισαγωγή σε similarity-based μετρικές για Link prediction</B></font><BR><BR>\n",
        "     <li> Η μετρική <B>Jaccard Coefficient (JC)</B> των κόμβων ${u}$ και ${v}$ ορίζεται ως $\\frac{|\\Gamma(u) \\cap \\Gamma(v)|}{|\\Gamma(u) \\cup \\Gamma(v)|}$, όπου ${\\Gamma(u)}$ είναι το σύνολο των γειτονικών κόμβων του κόμβου ${u}$.  <B></B>\n",
        "        <li> Η μετρική <B>Preferential Αttachment (PA)</B> των κόμβων $u$ και $v$ ορίζεται ως $|\\Gamma(u)| |\\Gamma(v)|$, όπου $\\Gamma(u)$ είναι το σύνολο των γειτονικών κόμβων του $u$.</li>\n",
        "        <li> Η μετρική <B>Resource Allocation (RA)</B> των κόμβων $u$ και $v$ ορίζεται ως $\\sum_{w \\in \\Gamma(u) \\cap \\Gamma(v)} \\frac{1}{|\\Gamma(w)|}$, όπου $\\Gamma(u)$ είναι το σύνολο των γειτονικών κόμβων του $u$.</li><BR><BR>\n",
        "    <li><B>2(i).</B> Για τον γράφο $G'$, που κατασκευάσατε στο ερώτημα 1(vβ), υπολογίστε την μετρική <B>Jaccard Coefficient (JC)</B>.  <u><a href=\"https://networkx.org/documentation/stable/reference/algorithms/link_prediction.html?highlight=link%20prediction\">Χρησιμοποιήστε την υλοποιημένη συνάρτηση του λογισμικού NetworkX.<a></u> <BR><BR>\n",
        "    <li><B>2(ii). </B>Δώστε τις $k$ ακμές με την υψηλότερη τιμή μετρικής $JC$, όπου $k$ ο $Α.Μ.$ σας $mod$ $10$. Για $Α.Μ.$ λήγοντα σε $0$ δώστε τις $10$ ακμές με την υψηλότερη τιμή μετρικής.\n",
        "        (Για την σύγκριση μεταξύ διαφορετικών μετρικών προτιμάται η εύρεση των $k$ επικρατέστερων συνδέσμων, αφού οι μετρικές επιστρέφουν διαφορετικό εύρος τιμών.)</li><BR>\n",
        "    <li><B>2(iii). </B>Προσδιορίστε για την μέτρηση της απόδοσης της μετρικής $JC$ τα μεγέθη $Precision$, $Recall$ και $Accuracy$ και αναπαραστήστε τα γραφικά για τιμές κατωφλίου: $0.1$, $0.15$, $0.25$, $0.5$, $1.0$.  <BR><BR>\n",
        "    $Precision=\\frac{TP}{TP+FP}$, όπου $TP$: αληθώς θετικά αποτελέσματα, $FP$: ψευδώς θετικά αποτελέσματα <BR>\n",
        "    $Recall=\\frac{TP}{TP+FN}$, όπου $TP$: αληθώς θετικά αποτελέσματα, $FN$: ψευδώς αρνητικά αποτελέσματα</li> \n",
        "    $Accuracy=\\frac{TP+TN}{TP+FN+TN+FP}$, όπου $TP$: αληθώς θετικά αποτελέσματα, $TN$: αληθώς αρνητικά αποτελέσματα, $FN$: ψευδώς αρνητικά αποτελέσματα, $FP$: ψευδώς θετικά αποτελέσματα</li><BR><BR>\n",
        "        <B><U>Υπόδειξη:</U></B>\n",
        "        Θετικό θεωρήστε ένα αποτέλεσμα, αν η μετρική $JC$ υπερβαίνει μια τιμή κατωφλίου (>=). Αρνητικό θεωρήστε το στην αντίθετη περίπτωση.\n",
        "        <li>Αληθώς θετικά είναι τα αποτελέσματα που βγήκαν θετικά (η τιμή της $JC$ υπερβαίνει την τιμή κατωφλίου) και πράγματι θα υπάρξουν οι συνδέσεις που περιγράφουν (ερ. 1(iv)).</li>\n",
        "        <li>Αληθώς αρνητικά είναι τα αποτελέσματα που βγήκαν αρνητικά και πράγματι δεν θα υπάρξουν οι συνδέσεις που περιγράφουν (ερ. 1(iii)).</li>\n",
        "        <li>Ψευδώς θετικά είναι τα αποτελέσματα που βγήκαν θετικά, ενώ δεν θα υπάρξουν οι συνδέσεις που περιγράφουν.</li>\n",
        "        <li>Ψευδώς αρνητικά είναι τα αποτελέσματα που βγήκαν αρνητικά, ενώ θα υπάρξουν οι συνδέσεις που περιγράφουν.</li>\n",
        "        <li>Το άθροισμα $TN+FP$ πρέπει κάθε φορά να σας δίνει όλες τις ασύνδετες ακμές του γράφου $G$.</li>   \n",
        "<li>Από το ερώτημα 1(iii) οι ακμές που υπολογίσατε είναι αυτές για τις οποίες δεν θα υπάρξουν συνδέσεις.</li> <li>Από το ερώτημα 1(iv) οι ακμές που υπολογίσατε είναι αυτές για τις οποίες θα υπάρξουν συνδέσεις.</li><BR></html>"
      ]
    },
    {
      "cell_type": "code",
      "execution_count": null,
      "id": "d8b0d5fd",
      "metadata": {
        "id": "d8b0d5fd",
        "outputId": "d96f4b81-ded9-4c9f-9b4e-7e1cd8d9d303"
      },
      "outputs": [
        {
          "name": "stdout",
          "output_type": "stream",
          "text": [
            "[('397', '398', 1.0), ('67', '66', 1.0), ('67', '65', 1.0), ('49', '47', 1.0), ('49', '4', 1.0), ('49', '46', 1.0), ('361', '362', 1.0), ('361', '363', 1.0), ('361', '360', 1.0), ('47', '4', 1.0), ('47', '46', 1.0), ('106', '109', 1.0), ('106', '105', 1.0), ('273', '272', 1.0), ('350', '351', 1.0), ('319', '317', 1.0), ('403', '400', 1.0), ('403', '399', 1.0), ('403', '404', 1.0), ('403', '401', 1.0), ('403', '402', 1.0), ('345', '333', 1.0), ('345', '334', 1.0), ('345', '339', 1.0), ('345', '346', 1.0), ('345', '343', 1.0), ('345', '338', 1.0), ('345', '337', 1.0), ('345', '340', 1.0), ('345', '336', 1.0), ('345', '342', 1.0), ('345', '344', 1.0), ('345', '332', 1.0), ('345', '335', 1.0), ('345', '341', 1.0), ('282', '281', 1.0), ('162', '161', 1.0), ('333', '334', 1.0), ('333', '339', 1.0), ('333', '346', 1.0), ('333', '343', 1.0), ('333', '338', 1.0), ('333', '337', 1.0), ('333', '340', 1.0), ('333', '336', 1.0), ('333', '342', 1.0), ('333', '344', 1.0), ('333', '332', 1.0), ('333', '335', 1.0), ('333', '341', 1.0), ('229', '230', 1.0), ('395', '394', 1.0), ('334', '339', 1.0), ('334', '346', 1.0), ('334', '343', 1.0), ('334', '338', 1.0), ('334', '337', 1.0), ('334', '340', 1.0), ('334', '336', 1.0), ('334', '342', 1.0), ('334', '344', 1.0), ('334', '332', 1.0), ('334', '335', 1.0), ('334', '341', 1.0), ('207', '206', 1.0), ('400', '399', 1.0), ('400', '404', 1.0), ('400', '401', 1.0), ('400', '402', 1.0), ('299', '298', 1.0), ('166', '164', 1.0), ('4', '46', 1.0), ('346', '339', 1.0), ('346', '343', 1.0), ('346', '338', 1.0), ('346', '337', 1.0), ('346', '340', 1.0), ('346', '336', 1.0), ('346', '342', 1.0), ('346', '344', 1.0), ('346', '332', 1.0), ('346', '335', 1.0), ('346', '341', 1.0), ('385', '386', 1.0), ('368', '367', 1.0), ('253', '252', 1.0), ('253', '250', 1.0), ('94', '356', 1.0), ('94', '93', 1.0), ('94', '97', 1.0), ('94', '98', 1.0), ('94', '99', 1.0), ('94', '92', 1.0), ('94', '100', 1.0), ('94', '81', 1.0), ('94', '78', 1.0), ('94', '95', 1.0), ('182', '183', 1.0), ('313', '314', 1.0), ('313', '149', 1.0)]\n",
            "<class 'pandas.core.series.Series'>\n",
            "91900\n",
            "tp: 70\n",
            "tn: 90520\n",
            "fp: 461\n",
            "fn: 38\n",
            "#####################\n",
            "tp: 70\n",
            "tn: 90548\n",
            "fp: 433\n",
            "fn: 38\n",
            "#####################\n",
            "tp: 68\n",
            "tn: 90576\n",
            "fp: 405\n",
            "fn: 40\n",
            "#####################\n",
            "tp: 60\n",
            "tn: 90698\n",
            "fp: 283\n",
            "fn: 48\n",
            "#####################\n",
            "tp: 55\n",
            "tn: 90757\n",
            "fp: 224\n",
            "fn: 53\n",
            "#####################\n",
            "[(0.6481481481481481, 0.1318267419962335, 0.9945218412761145), (0.6481481481481481, 0.13916500994035785, 0.994829232947996), (0.6296296296296297, 0.14376321353065538, 0.9951146680718858), (0.5555555555555556, 0.1749271137026239, 0.9963661913074027), (0.5092592592592593, 0.1971326164874552, 0.9969590181031738)]\n"
          ]
        }
      ],
      "source": [
        "#def JCfunction(threshold_jc):   #uncomment and complete\n",
        "#return recall_jc, precision_jc, accuracy_jc; #uncomment and complete\n",
        "\n",
        "# k = Α.Μ. mod 10 \n",
        "\n",
        "preds_j = nx.jaccard_coefficient(G2)\n",
        "k = 13302%10\n",
        "#print(preds_j)\n",
        "#for u,v,p in preds_j:\n",
        "#    print(\"(\", u, \" - \", v, \"):\", p)\n",
        "sorted_preds_j = sorted(preds_j, reverse=True, key=lambda x: x[2])\n",
        "print(sorted_preds_j[0:2])\n",
        "\n",
        "def JCfunction(threshold_jc):\n",
        "    tp = 0\n",
        "    fp = 0\n",
        "    tn = 0\n",
        "    fn = 0\n",
        "    for pred in sorted_preds_j:\n",
        "        if pred[2] >= threshold_jc:\n",
        "            picked_rows = merged_df.loc[(merged_df['Node1'] == int(pred[0])) & (merged_df['Node2'] == int(pred[1])) & (merged_df['Link'] == 1)]\n",
        "            tp += len(picked_rows.index)\n",
        "            picked_rows = merged_df.loc[(merged_df['Node1'] == int(pred[0])) & (merged_df['Node2'] == int(pred[1])) & (merged_df['Link'] == 0)]\n",
        "            fp += len(picked_rows.index)\n",
        "        else:\n",
        "            picked_rows = merged_df.loc[(merged_df['Node1'] == int(pred[0])) & (merged_df['Node2'] == int(pred[1])) & (merged_df['Link'] == 0)]\n",
        "            tn += len(picked_rows.index)\n",
        "            picked_rows = merged_df.loc[(merged_df['Node1'] == int(pred[0])) & (merged_df['Node2'] == int(pred[1])) & (merged_df['Link'] == 1)]\n",
        "            fn += len(picked_rows.index)\n",
        "    print(\"tp:\", tp)\n",
        "    print(\"tn:\", tn)\n",
        "    print(\"fp:\", fp)\n",
        "    print(\"fn:\", fn)\n",
        "    print(\"#####################\")\n",
        "    precision_jc = tp/(tp+fp)\n",
        "    recall_jc = tp/(tp+fn)\n",
        "    accuracy_jc = (tp+tn)/(tp+tn+fp+fn)        \n",
        "    return recall_jc, precision_jc, accuracy_jc\n",
        "\n",
        "\n",
        "jc_evaluate = []\n",
        "jc_evaluate.append(JCfunction(0.1))\n",
        "jc_evaluate.append(JCfunction(0.15))\n",
        "jc_evaluate.append(JCfunction(0.25))\n",
        "jc_evaluate.append(JCfunction(0.5))\n",
        "jc_evaluate.append(JCfunction(1.0))\n",
        "\n",
        "print(jc_evaluate)"
      ]
    },
    {
      "cell_type": "code",
      "execution_count": null,
      "id": "fbf9966a",
      "metadata": {
        "id": "fbf9966a",
        "outputId": "6b752dbb-06d4-47a1-b048-de1f3c3dcf53"
      },
      "outputs": [
        {
          "name": "stdout",
          "output_type": "stream",
          "text": [
            "[0.6481481481481481, 0.6481481481481481, 0.6296296296296297, 0.5555555555555556, 0.5092592592592593]\n"
          ]
        },
        {
          "data": {
            "image/png": "[encoded data removed]",
            "text/plain": [
              "<Figure size 432x288 with 1 Axes>"
            ]
          },
          "metadata": {
            "needs_background": "light"
          },
          "output_type": "display_data"
        },
        {
          "name": "stdout",
          "output_type": "stream",
          "text": [
            "[0.1318267419962335, 0.13916500994035785, 0.14376321353065538, 0.1749271137026239, 0.1971326164874552]\n"
          ]
        },
        {
          "data": {
            "image/png": "[encoded data removed]",
            "text/plain": [
              "<Figure size 432x288 with 1 Axes>"
            ]
          },
          "metadata": {
            "needs_background": "light"
          },
          "output_type": "display_data"
        },
        {
          "name": "stdout",
          "output_type": "stream",
          "text": [
            "[0.9945218412761145, 0.994829232947996, 0.9951146680718858, 0.9963661913074027, 0.9969590181031738]\n"
          ]
        },
        {
          "data": {
            "image/png": "[encoded data removed]",
            "text/plain": [
              "<Figure size 432x288 with 1 Axes>"
            ]
          },
          "metadata": {
            "needs_background": "light"
          },
          "output_type": "display_data"
        }
      ],
      "source": [
        "threshold_array = [0.1, 0.15, 0.25, 0.5, 1.0]\n",
        "recall_array = [x[0] for x in jc_evaluate]\n",
        "print(recall_array)\n",
        "plt.plot(threshold_array, recall_array)\n",
        "plt.xlabel(\"Threshold Jaccard\")\n",
        "plt.ylabel(\"Recall\")\n",
        "plt.show()\n",
        "\n",
        "threshold_array = [0.1, 0.15, 0.25, 0.5, 1.0]\n",
        "prec_array = [x[1] for x in jc_evaluate]\n",
        "print(prec_array)\n",
        "plt.plot(threshold_array, prec_array)\n",
        "plt.xlabel(\"Threshold Jaccard\")\n",
        "plt.ylabel(\"Precision\")\n",
        "plt.show()\n",
        "\n",
        "threshold_array = [0.1, 0.15, 0.25, 0.5, 1.0]\n",
        "acc_array = [x[2] for x in jc_evaluate]\n",
        "print(acc_array)\n",
        "plt.plot(threshold_array, acc_array)\n",
        "plt.xlabel(\"Threshold Jaccard\")\n",
        "plt.ylabel(\"Accuracy\")\n",
        "plt.show()"
      ]
    },
    {
      "cell_type": "markdown",
      "id": "d432396f",
      "metadata": {
        "id": "d432396f"
      },
      "source": [
        "<html><font size=4><B>3. Πρόβλεψη συνδέσμων βάσει similarity-based μετρικών</B></font>    \n",
        "        <li><B>3(i).</B> Προτείνετε μια τουλάχιστον μέθοδο, για να εξερευνήσουμε και να εκφράσουμε μέσα από τα πακέτα NumPy ή SciPy ή Pandas την συσχέτιση (correlation) μεταξύ των τιμών των μετρικών <B>Jaccard Coefficient</B>, <B>Preferential Attachment</B>, <B>Resource Allocation</B> για τον μειωμένο γράφο $G'$. Σημ.: Δεν χρειάζεται κάποια υλοποίηση, μόνο αναφορά της μεθόδου συσχέτισης και επεξήγηση της επιλογής σας.\n",
        "     <li><B>3(ii).</B> Εργαστείτε πάνω σε <B><U>αντίγραφο</U></B> του dataframe που κατασκευάσατε στο ερώτημα 1(vα) (unconnected+removables). Δημιουργήστε στήλη (column) με τις ακμές του γράφου και θέστε την ως index του dataframe. Στο dataframe θα προσθέσετε ως στήλες τις τιμές των μετρικών (<B>Jaccard Coefficient</B>, <B>Preferential Attachment</B>, <B>Resource Allocation</B>) για τον μειωμένο γράφο $G'$. Οι τιμές των μετρικών μπορούν να υπολογιστούν με τις συναρτήσεις του πακέτου NetworkX.</li>   </font></html>\n",
        "    \n",
        "    |       | link  |Jacc.Coeff.|Pr.Attachment| Resource Allocation|\n",
        "    |-------|-------|-----------|-------------|--------------------|\n",
        "    |(1, 6) |  0    |  0.333333 |     32      |    0.700000        |\n",
        "    |(1, 46)|  0    |  0.200000 |      8      |    0.166667        |"
      ]
    },
    {
      "cell_type": "code",
      "execution_count": null,
      "id": "7c40c8d6",
      "metadata": {
        "scrolled": false,
        "id": "7c40c8d6",
        "outputId": "cb553463-e5ff-4e05-ef6d-b8fad0fccb5e"
      },
      "outputs": [
        {
          "name": "stdout",
          "output_type": "stream",
          "text": [
            "<class 'int'>\n",
            "        Node1  Node2  Link  Jacc.Coeff  Pr.Attachment  Resource Allocation\n",
            "0           1      2     1         0.0              1             0.000000\n",
            "1           1      3     1         0.0              2             0.000000\n",
            "2           1      4     1         0.0              1             0.000000\n",
            "3           3      4     1         0.5              2             0.142857\n",
            "4           3      5     1         0.0              4             0.000000\n",
            "...       ...    ...   ...         ...            ...                  ...\n",
            "184455    430    425     0         0.0              1             0.000000\n",
            "184456    430    426     0         0.0              1             0.000000\n",
            "184457    430    427     0         0.0              1             0.000000\n",
            "184458    430    429     0         1.0              1             0.500000\n",
            "184459    430    430     0         1.0              1             0.500000\n",
            "\n",
            "[184460 rows x 6 columns]\n"
          ]
        }
      ],
      "source": [
        "#replicate of the dataframe \"unconnected+removables\"---dataframe will be used again in (4)\n",
        "\n",
        "merged_df_backup = merged_df.copy()\n",
        "merged_list = merged_df_backup.values.tolist()\n",
        "merged_list_two_cols = [[x[0], x[1]] for x in merged_list]\n",
        "#print(merged_list_two_cols)\n",
        "#print(merged_list_two_cols[0][0])\n",
        "\n",
        "# its int\n",
        "#print(type(merged_list_two_cols[0][0]))\n",
        "#print(type(merged_list_two_cols[230][0]))\n",
        "\n",
        "# this works!\n",
        "#j_preds = nx.jaccard_coefficient(G2, [('1', '2'), ('1', '3'), ('1', '4')])\n",
        "#for u,v,p in j_preds:\n",
        "#    print(u, v, p)\n",
        "\n",
        "# this works too!\n",
        "#j_preds = nx.jaccard_coefficient(G2, [('1', '2'), ('1', '3'), ('1', '4')])\n",
        "#for j_pred in j_preds:\n",
        "#    print(j_pred[2])\n",
        "\n",
        "# this works!\n",
        "#j_pred = nx.jaccard_coefficient(G2, [('1', '2')])\n",
        "#tp = j_pred\n",
        "#print(tp)\n",
        "#for u,v,p in tp:\n",
        "#    print(p)\n",
        "\n",
        "# works!!!!\n",
        "#j_pred = nx.jaccard_coefficient(G2, [('1', '2')])\n",
        "#mylist = [x for x in j_pred]\n",
        "#print(mylist)\n",
        "#print(mylist[0][0])\n",
        "#tmp = mylist[0][0]\n",
        "#print(tmp)\n",
        "\n",
        "counter = 0\n",
        "for row in merged_list_two_cols:\n",
        "    str_row = [str(x) for x in row]\n",
        "    tuple_row = (str_row[0], str_row[1])\n",
        "    tmp_list_t = []\n",
        "    tmp_list_t.append(tuple_row)\n",
        "    j_preds = nx.jaccard_coefficient(G2, tmp_list_t)\n",
        "    tmp_list = [x for x in j_preds]\n",
        "    merged_list[counter].append(tmp_list[0][2])\n",
        "    pr_att = nx.preferential_attachment(G2, tmp_list_t)\n",
        "    tmp_list = [x for x in pr_att]\n",
        "    merged_list[counter].append(tmp_list[0][2])\n",
        "    res_allo = nx.resource_allocation_index(G2, tmp_list_t)\n",
        "    tmp_list = [x for x in res_allo]\n",
        "    merged_list[counter].append(tmp_list[0][2])\n",
        "    counter += 1\n",
        "\n",
        "    \n",
        "columns_arr = [\"Node1\", \"Node2\", \"Link\", \"Jacc.Coeff\", \"Pr.Attachment\", \"Resource Allocation\"]\n",
        "merged_df_backup_additions = pd.DataFrame(merged_list, columns = columns_arr)\n",
        "print(merged_df_backup_additions)\n"
      ]
    },
    {
      "cell_type": "code",
      "execution_count": null,
      "id": "8c65a3e6",
      "metadata": {
        "id": "8c65a3e6"
      },
      "outputs": [],
      "source": [
        "#dataframe for similarity-based measurement values\n",
        "#Jaccard Coefficient\n",
        "\n",
        "#Preferential Attachment\n",
        "\n",
        "#Resource Allocation"
      ]
    },
    {
      "cell_type": "markdown",
      "id": "76f9318d",
      "metadata": {
        "id": "76f9318d"
      },
      "source": [
        "<li><B>3(iiiα).</B> Χρησιμοποιήστε τον Random Forest Classifier και το αντίγραφο dataframe που κατασκευάσατε στο ερώτημα 3(ii), για να προβλέψετε συνδέσεις. Συμπληρώστε στον κώδικα: τα features ($X$), την target variable ($y$) και τα ορίσματα της συνάρτησης $fit$ για το training του μοντέλου.</li>\n",
        "<li><B>3(iiiβ).</B> Δώστε τις ($A.M$ $mod$ $10$) πρώτες προβλέψεις και την ακρίβεια ($accuracy$) του μοντέλου. </li>\n",
        "<li><B>3(iiiγ).</B>Υπολογίστε την πιθανότητα να συνδεθούν οι κόμβοι ($1$,$47$) βάσει του μοντέλου σας. </li>  "
      ]
    },
    {
      "cell_type": "code",
      "execution_count": null,
      "id": "df4a65f5",
      "metadata": {
        "id": "df4a65f5"
      },
      "outputs": [],
      "source": [
        "#uncomment whole cell\n",
        "from sklearn.model_selection import train_test_split\n",
        "from sklearn.ensemble import RandomForestClassifier\n",
        "from sklearn.metrics import accuracy_score\n",
        "from sklearn.model_selection import GridSearchCV\n",
        " \n",
        "X = merged_df_backup[['Node1', 'Node2']]            #features, uncomment and complete\n",
        "y = merged_df_backup['Link']    #target, uncomment and complete\n",
        "\n",
        "X_train, X_test, y_train, y_test = train_test_split(X, y, random_state = 0) #uncomment and complete"
      ]
    },
    {
      "cell_type": "code",
      "execution_count": null,
      "id": "26affc3a",
      "metadata": {
        "id": "26affc3a"
      },
      "outputs": [],
      "source": [
        "#uncomment whole cell\n",
        "classifier = RandomForestClassifier()   \n",
        "\n",
        "from sklearn.preprocessing import MinMaxScaler \n",
        "mm_scaler = MinMaxScaler() \n",
        "X_train_scaled = mm_scaler.fit_transform(X_train)\n",
        "X_test_scaled = mm_scaler.transform(X_test)\n",
        "\n",
        "parameters = {'n_estimators' : [10,50,100], 'max_depth' : [5,10,15]} \n",
        "model = GridSearchCV(classifier, param_grid = parameters) "
      ]
    },
    {
      "cell_type": "code",
      "execution_count": null,
      "id": "431e2d35",
      "metadata": {
        "id": "431e2d35",
        "outputId": "1e5ac285-8e60-4ef8-9c84-536f7e247738"
      },
      "outputs": [
        {
          "data": {
            "text/plain": [
              "GridSearchCV(estimator=RandomForestClassifier(),\n",
              "             param_grid={'max_depth': [5, 10, 15],\n",
              "                         'n_estimators': [10, 50, 100]})"
            ]
          },
          "execution_count": 175,
          "metadata": {},
          "output_type": "execute_result"
        }
      ],
      "source": [
        "model.fit(X_train_scaled, y_train)#train the model, uncomment and complete"
      ]
    },
    {
      "cell_type": "code",
      "execution_count": null,
      "id": "1b075584",
      "metadata": {
        "id": "1b075584",
        "outputId": "a0d4142c-e3e4-4503-83c5-8881976ebf79"
      },
      "outputs": [
        {
          "data": {
            "text/plain": [
              "array([0, 0], dtype=int64)"
            ]
          },
          "execution_count": 177,
          "metadata": {},
          "output_type": "execute_result"
        }
      ],
      "source": [
        "predictions = model.predict(X_test_scaled)       #uncomment\n",
        "predictions[0:2] #get (A.M. last digit) first predictions, uncomment and complete"
      ]
    },
    {
      "cell_type": "code",
      "execution_count": null,
      "id": "b042eca7",
      "metadata": {
        "id": "b042eca7",
        "outputId": "5510a9a4-36d2-4af1-e2ba-1eee7a308e90"
      },
      "outputs": [
        {
          "name": "stdout",
          "output_type": "stream",
          "text": [
            "[[9.99735990e-01 2.64010440e-04]\n",
            " [9.99863945e-01 1.36054644e-04]\n",
            " [9.99893779e-01 1.06220540e-04]\n",
            " [9.99654124e-01 3.45875512e-04]\n",
            " [9.99850350e-01 1.49650161e-04]\n",
            " [1.00000000e+00 0.00000000e+00]\n",
            " [9.99723969e-01 2.76030916e-04]\n",
            " [9.98904179e-01 1.09582056e-03]]\n",
            "[1. 0.]\n"
          ]
        }
      ],
      "source": [
        "predict_proba = model.predict_proba(X_test_scaled) #uncomment and complete\n",
        "print(predict_proba[270:278])\n",
        "print(predict_proba[275])"
      ]
    },
    {
      "cell_type": "code",
      "execution_count": null,
      "id": "1cc107f8",
      "metadata": {
        "id": "1cc107f8",
        "outputId": "cfebbe20-d245-453c-d52b-cde3da72e12f"
      },
      "outputs": [
        {
          "name": "stdout",
          "output_type": "stream",
          "text": [
            "Int64Index([275], dtype='int64')\n"
          ]
        }
      ],
      "source": [
        "# prepei na vrw to index gt dn to orisa ws tuple twn nodes\n",
        "# gia praktikes dyskolies...\n",
        "merged_df_backup[['Node1', 'Node2']]\n",
        "picked_rows = merged_df_backup.loc[(merged_df['Node1'] == 1) & (merged_df['Node2'] == 47)]\n",
        "picked_index = picked_rows.index\n",
        "print(picked_index)"
      ]
    },
    {
      "cell_type": "markdown",
      "id": "f4c43988",
      "metadata": {
        "id": "f4c43988"
      },
      "source": [
        "<html><font size=4><B>4. Πρόβλεψη συνδέσμων με embedding βασισμένο σε τυχαίους περιπάτους (Random Walks) </B></font><BR><BR>\n",
        "    <li><B>4(i).</B> Εξάγετε τα χαρακτηριστικά (features) του γράφου $G'$, που προέκυψε από την αφαίρεση των ακμών. Για τον σκοπό αυτό χρησιμοποιήστε τον αλγόριθμο <B>Node2vec</B> <a href=\"https://cs.stanford.edu/~jure/pubs/node2vec-kdd16.pdf\">[3]</a>. Ο αλγόριθμος αντιστοιχίζει τους κόμβους του γράφου μέσω τυχαίων περιπάτων (biased 2nd order random walks) σε ένα χώρο μικρού αριθμού διαστάσεων (low dimensional space) διατηρώντας την μεταξύ τους γειτνίαση.\n",
        "        <BR>Για την επιλογή των παραμέτρων: \n",
        "            <li>p - παράμετρος τυχαίων περιπάτων p που καθορίζει την πιθανότητα “1/p” επιστροφής στον κόμβο προέλευσης (source node), </li>\n",
        "                <li>q - παράμετρος τυχαίων περιπάτων q που καθορίζει την πιθανότητα  “1/q” μετακίνησης σε κόμβο μακριά από τον κόμβο προέλευσης (source node), </li>\n",
        "                 <li>dimensions - πλήθος διαστάσεων των Node2Vec embeddings, </li>\n",
        "                     <li>num_walks - αριθμός περιπάτων από κάθε κόμβο, </li>\n",
        "                         <li>walk_length - μήκος τυχαίου περιπάτου, </li>\n",
        "                             <li>window_size - μέγεθος παραθύρου context για τον αλγόριθμο Word2Vec, </li><li>num_iter - αριθμός SGD επαναλήψεων (epochs), </li>\n",
        "            <li>workers - αριθμός workers για τον Word2Vec,</li>\n",
        "            χρησιμοποιήστε τις τιμές:   </html>\n",
        "   \n",
        "                   "
      ]
    },
    {
      "cell_type": "markdown",
      "id": "fdbc5274",
      "metadata": {
        "id": "fdbc5274"
      },
      "source": [
        " |   p   |   q   | dimensions|  num_walks  |walk_length |window_size|        workers            |\n",
        " |-------|-------|-----------|-------------|------------|-----------|---------------------------|\n",
        " |  1.0  |  1.0  |  128      |     10      |    80      |     10    |multiprocessing.cpu_count()|"
      ]
    },
    {
      "cell_type": "code",
      "execution_count": 10,
      "id": "aa8e668d",
      "metadata": {
        "id": "aa8e668d",
        "outputId": "7ed8cdde-1903-49d1-a0f7-a98457e2b929",
        "colab": {
          "base_uri": "https://localhost:8080/",
          "height": 205,
          "referenced_widgets": [
            "8a8fa3d1ccc64e2d92bf7885b1cff57c",
            "ef37797513a04eae96344a697e0f8a27",
            "9fca3c9451a546be9e0ececcd5c19ff9",
            "47ef5bd2bb46406bb4527dbcddcdeb7a",
            "458d80805875446f8bd9d25bd61e8f8b",
            "7411763e6ab74d0eb0f620bec2cfff75",
            "370aa50957ed46b48666c7c10a44e6a6",
            "7ebf17e68a464874ba45ae8176211c43",
            "9d82e4a8e06345fca74f70eeed61fb99",
            "45fcd52679cf44488e6294728204f39c",
            "f966ea5912b1418faa459c974181f5ab"
          ]
        }
      },
      "outputs": [
        {
          "output_type": "stream",
          "name": "stdout",
          "text": [
            "Requirement already satisfied: node2vec in /usr/local/lib/python3.7/dist-packages (0.4.3)\n",
            "Requirement already satisfied: networkx in /usr/local/lib/python3.7/dist-packages (from node2vec) (2.6.3)\n",
            "Requirement already satisfied: numpy in /usr/local/lib/python3.7/dist-packages (from node2vec) (1.19.5)\n",
            "Requirement already satisfied: gensim in /usr/local/lib/python3.7/dist-packages (from node2vec) (3.6.0)\n",
            "Requirement already satisfied: tqdm in /usr/local/lib/python3.7/dist-packages (from node2vec) (4.62.3)\n",
            "Requirement already satisfied: joblib>=0.13.2 in /usr/local/lib/python3.7/dist-packages (from node2vec) (1.1.0)\n",
            "Requirement already satisfied: scipy>=0.18.1 in /usr/local/lib/python3.7/dist-packages (from gensim->node2vec) (1.4.1)\n",
            "Requirement already satisfied: six>=1.5.0 in /usr/local/lib/python3.7/dist-packages (from gensim->node2vec) (1.15.0)\n",
            "Requirement already satisfied: smart-open>=1.2.1 in /usr/local/lib/python3.7/dist-packages (from gensim->node2vec) (5.2.1)\n"
          ]
        },
        {
          "output_type": "display_data",
          "data": {
            "application/vnd.jupyter.widget-view+json": {
              "model_id": "8a8fa3d1ccc64e2d92bf7885b1cff57c",
              "version_minor": 0,
              "version_major": 2
            },
            "text/plain": [
              "Computing transition probabilities:   0%|          | 0/430 [00:00<?, ?it/s]"
            ]
          },
          "metadata": {}
        }
      ],
      "source": [
        "#install node2vec with conda / pip\n",
        "import sys\n",
        "if 'google.colab' in sys.modules:\n",
        "  %pip install node2vec\n",
        "\n",
        "from node2vec import Node2Vec   #uncomment\n",
        "import multiprocessing          #uncomment\n",
        "\n",
        "#generate walks\n",
        "node2vec_walker = Node2Vec(G2, p=1.0, q=1.0, dimensions=128, num_walks=10, walk_length=80, workers=multiprocessing.cpu_count()) #uncomment and complete\n",
        "\n",
        "#train node2vec model\n",
        "n2v_model = node2vec_walker.fit(window=10 , min_count=1) #uncomment and complete"
      ]
    },
    {
      "cell_type": "markdown",
      "id": "294f0aab",
      "metadata": {
        "id": "294f0aab"
      },
      "source": [
        "<html><font>\n",
        "    <li><B>4(ii).</B> Εφαρμόστε τον αλγόριθμο Random Forest Classifier, για να προβλέψετε τις συνδέσεις.</li><BR>\n",
        "    <li><B>4(iii).</B> Υπολογίστε την ακρίβεια ($accuracy$) του μοντέλου. </li><BR></font></html>"
      ]
    },
    {
      "cell_type": "code",
      "execution_count": 11,
      "id": "6269b89a",
      "metadata": {
        "id": "6269b89a"
      },
      "outputs": [],
      "source": [
        "#apply trained Node2Vec model on each node pair of the dataframe \"unconnected+removables\"\n",
        "#uncomment:\n",
        "x = [(n2v_model.wv[str(i)]+n2v_model.wv[str(j)]) for i,j in zip(merged_df['Node1'], merged_df['Node2'])]"
      ]
    },
    {
      "cell_type": "code",
      "execution_count": 14,
      "id": "b74e7aa7",
      "metadata": {
        "id": "b74e7aa7"
      },
      "outputs": [],
      "source": [
        "from sklearn.model_selection import train_test_split\n",
        "X_train, X_test, y_train, y_test = train_test_split(x, merged_df['Link'], random_state = 0)  #uncomment and complete"
      ]
    },
    {
      "cell_type": "code",
      "execution_count": 16,
      "id": "e75cfde7",
      "metadata": {
        "id": "e75cfde7",
        "colab": {
          "base_uri": "https://localhost:8080/"
        },
        "outputId": "bb6d6db6-1473-4852-faa1-e1b2c441cda5"
      },
      "outputs": [
        {
          "output_type": "stream",
          "name": "stdout",
          "text": [
            "[0 0 0 ... 0 0 0]\n"
          ]
        }
      ],
      "source": [
        "#uncomment whole cell\n",
        "from sklearn.ensemble import RandomForestClassifier\n",
        "from sklearn.metrics import accuracy_score\n",
        "\n",
        "classifier = RandomForestClassifier(max_depth=2, random_state=0) \n",
        "classifier.fit(X_train, y_train)   #uncomment and complete\n",
        "\n",
        "predictions = classifier.predict(X_test)\n",
        "print(predictions)"
      ]
    },
    {
      "cell_type": "code",
      "source": [
        "pr_pr = classifier.predict_proba(X_test)\n",
        "print(pr_pr[270:278])\n",
        "print(pr_pr[275])\n",
        "# seems about right"
      ],
      "metadata": {
        "colab": {
          "base_uri": "https://localhost:8080/"
        },
        "id": "PI_gpxA8H8vk",
        "outputId": "0f773dfd-15b0-40ca-b307-53cff87b2ea5"
      },
      "id": "PI_gpxA8H8vk",
      "execution_count": 18,
      "outputs": [
        {
          "output_type": "stream",
          "name": "stdout",
          "text": [
            "[[9.99404160e-01 5.95840476e-04]\n",
            " [9.99404160e-01 5.95840476e-04]\n",
            " [9.99404160e-01 5.95840476e-04]\n",
            " [9.99337759e-01 6.62241383e-04]\n",
            " [9.99337759e-01 6.62241383e-04]\n",
            " [9.99404160e-01 5.95840476e-04]\n",
            " [9.99404160e-01 5.95840476e-04]\n",
            " [9.99404160e-01 5.95840476e-04]]\n",
            "[9.99404160e-01 5.95840476e-04]\n"
          ]
        }
      ]
    },
    {
      "cell_type": "code",
      "source": [
        "accuracy_score(y_test, predictions)"
      ],
      "metadata": {
        "colab": {
          "base_uri": "https://localhost:8080/"
        },
        "id": "1CK7fzSyKKlU",
        "outputId": "a15fd1bd-32b2-4a3d-901a-facb80ef2d40"
      },
      "id": "1CK7fzSyKKlU",
      "execution_count": 20,
      "outputs": [
        {
          "output_type": "execute_result",
          "data": {
            "text/plain": [
              "0.9987174191865394"
            ]
          },
          "metadata": {},
          "execution_count": 20
        }
      ]
    },
    {
      "cell_type": "markdown",
      "id": "a0c0b3bb",
      "metadata": {
        "id": "a0c0b3bb"
      },
      "source": [
        "<html><font size=4> <B><U>Ερώτηση bonus (+10/100)</U><B>: </font>Για τους binary operators για learning των edge features με τον αλγόριθμο Node2Vec που αναφέρονται στο <a href=\"https://cs.stanford.edu/~jure/pubs/node2vec-kdd16.pdf\">[3]</a> ((α) Average, (β) Hadamard, (γ) Weighted-L1 και (δ) Weighted-L2) τροποποιήστε τoν κώδικά σας και σημειώστε τις παρατηρήσεις σας ως προς την απόδοση του αλγορίθμου.</font></html>"
      ]
    },
    {
      "cell_type": "markdown",
      "id": "8da3a402",
      "metadata": {
        "id": "8da3a402"
      },
      "source": [
        "<html><font size=4><B><U>Βιβλιογραφία:</U></B><BR></font>\n",
        "<a href=\"https://dl.acm.org/doi/10.1145/2487788.2488173\">[1]\tJérôme Kunegis. KONECT – The Koblenz Network Collection. In Proc. Int. Conf. on World Wide Web Companion, pages 1343–1350, 2013.</a><BR>\n",
        "<a href=\"https://link.springer.com/chapter/10.1007/978-3-540-76298-0_52\">[2]\tSören Auer, Christian Bizer, Georgi Kobilarov, Jens Lehmann, Richard Cyganiak, and Zachary Ives. DBpedia: A nucleus for a web of open data. In Proc. Int. Semant. Web Conf., pages 722–735, 2008.<BR>\n",
        "<a href=\"https://cs.stanford.edu/~jure/pubs/node2vec-kdd16.pdf\">[3] A. Grover, J. Leskovec, Node2vec: Scalable Feature Learning for Networks. ACM KDD, 2016.</a><BR>\n",
        " <a href=\"https://proceedings.neurips.cc/paper/2013/file/9aa42b31882ec039965f3c4923ce901b-Paper.pdf\">[4] T.Mikolov, I.Sutskever, K.Chen, G.S.Corrado and J.Dean, Distributed representations of words and phrases and their compositionality. In NIPS, 2013.</a><BR></font></html>"
      ]
    },
    {
      "cell_type": "code",
      "execution_count": null,
      "id": "89f16b76",
      "metadata": {
        "id": "89f16b76"
      },
      "outputs": [],
      "source": [
        ""
      ]
    }
  ],
  "metadata": {
    "kernelspec": {
      "display_name": "Python 3 (ipykernel)",
      "language": "python",
      "name": "python3"
    },
    "language_info": {
      "codemirror_mode": {
        "name": "ipython",
        "version": 3
      },
      "file_extension": ".py",
      "mimetype": "text/x-python",
      "name": "python",
      "nbconvert_exporter": "python",
      "pygments_lexer": "ipython3",
      "version": "3.9.7"
    },
    "colab": {
      "name": "ΑΚΔ_3η_Άσκηση_student_version.ipynb",
      "provenance": [],
      "collapsed_sections": []
    },
    "widgets": {
      "application/vnd.jupyter.widget-state+json": {
        "8a8fa3d1ccc64e2d92bf7885b1cff57c": {
          "model_module": "@jupyter-widgets/controls",
          "model_name": "HBoxModel",
          "model_module_version": "1.5.0",
          "state": {
            "_view_name": "HBoxView",
            "_dom_classes": [],
            "_model_name": "HBoxModel",
            "_view_module": "@jupyter-widgets/controls",
            "_model_module_version": "1.5.0",
            "_view_count": null,
            "_view_module_version": "1.5.0",
            "box_style": "",
            "layout": "IPY_MODEL_ef37797513a04eae96344a697e0f8a27",
            "_model_module": "@jupyter-widgets/controls",
            "children": [
              "IPY_MODEL_9fca3c9451a546be9e0ececcd5c19ff9",
              "IPY_MODEL_47ef5bd2bb46406bb4527dbcddcdeb7a",
              "IPY_MODEL_458d80805875446f8bd9d25bd61e8f8b"
            ]
          }
        },
        "ef37797513a04eae96344a697e0f8a27": {
          "model_module": "@jupyter-widgets/base",
          "model_name": "LayoutModel",
          "model_module_version": "1.2.0",
          "state": {
            "_view_name": "LayoutView",
            "grid_template_rows": null,
            "right": null,
            "justify_content": null,
            "_view_module": "@jupyter-widgets/base",
            "overflow": null,
            "_model_module_version": "1.2.0",
            "_view_count": null,
            "flex_flow": null,
            "width": null,
            "min_width": null,
            "border": null,
            "align_items": null,
            "bottom": null,
            "_model_module": "@jupyter-widgets/base",
            "top": null,
            "grid_column": null,
            "overflow_y": null,
            "overflow_x": null,
            "grid_auto_flow": null,
            "grid_area": null,
            "grid_template_columns": null,
            "flex": null,
            "_model_name": "LayoutModel",
            "justify_items": null,
            "grid_row": null,
            "max_height": null,
            "align_content": null,
            "visibility": null,
            "align_self": null,
            "height": null,
            "min_height": null,
            "padding": null,
            "grid_auto_rows": null,
            "grid_gap": null,
            "max_width": null,
            "order": null,
            "_view_module_version": "1.2.0",
            "grid_template_areas": null,
            "object_position": null,
            "object_fit": null,
            "grid_auto_columns": null,
            "margin": null,
            "display": null,
            "left": null
          }
        },
        "9fca3c9451a546be9e0ececcd5c19ff9": {
          "model_module": "@jupyter-widgets/controls",
          "model_name": "HTMLModel",
          "model_module_version": "1.5.0",
          "state": {
            "_view_name": "HTMLView",
            "style": "IPY_MODEL_7411763e6ab74d0eb0f620bec2cfff75",
            "_dom_classes": [],
            "description": "",
            "_model_name": "HTMLModel",
            "placeholder": "​",
            "_view_module": "@jupyter-widgets/controls",
            "_model_module_version": "1.5.0",
            "value": "Computing transition probabilities: 100%",
            "_view_count": null,
            "_view_module_version": "1.5.0",
            "description_tooltip": null,
            "_model_module": "@jupyter-widgets/controls",
            "layout": "IPY_MODEL_370aa50957ed46b48666c7c10a44e6a6"
          }
        },
        "47ef5bd2bb46406bb4527dbcddcdeb7a": {
          "model_module": "@jupyter-widgets/controls",
          "model_name": "FloatProgressModel",
          "model_module_version": "1.5.0",
          "state": {
            "_view_name": "ProgressView",
            "style": "IPY_MODEL_7ebf17e68a464874ba45ae8176211c43",
            "_dom_classes": [],
            "description": "",
            "_model_name": "FloatProgressModel",
            "bar_style": "success",
            "max": 430,
            "_view_module": "@jupyter-widgets/controls",
            "_model_module_version": "1.5.0",
            "value": 430,
            "_view_count": null,
            "_view_module_version": "1.5.0",
            "orientation": "horizontal",
            "min": 0,
            "description_tooltip": null,
            "_model_module": "@jupyter-widgets/controls",
            "layout": "IPY_MODEL_9d82e4a8e06345fca74f70eeed61fb99"
          }
        },
        "458d80805875446f8bd9d25bd61e8f8b": {
          "model_module": "@jupyter-widgets/controls",
          "model_name": "HTMLModel",
          "model_module_version": "1.5.0",
          "state": {
            "_view_name": "HTMLView",
            "style": "IPY_MODEL_45fcd52679cf44488e6294728204f39c",
            "_dom_classes": [],
            "description": "",
            "_model_name": "HTMLModel",
            "placeholder": "​",
            "_view_module": "@jupyter-widgets/controls",
            "_model_module_version": "1.5.0",
            "value": " 430/430 [00:00&lt;00:00, 4416.05it/s]",
            "_view_count": null,
            "_view_module_version": "1.5.0",
            "description_tooltip": null,
            "_model_module": "@jupyter-widgets/controls",
            "layout": "IPY_MODEL_f966ea5912b1418faa459c974181f5ab"
          }
        },
        "7411763e6ab74d0eb0f620bec2cfff75": {
          "model_module": "@jupyter-widgets/controls",
          "model_name": "DescriptionStyleModel",
          "model_module_version": "1.5.0",
          "state": {
            "_view_name": "StyleView",
            "_model_name": "DescriptionStyleModel",
            "description_width": "",
            "_view_module": "@jupyter-widgets/base",
            "_model_module_version": "1.5.0",
            "_view_count": null,
            "_view_module_version": "1.2.0",
            "_model_module": "@jupyter-widgets/controls"
          }
        },
        "370aa50957ed46b48666c7c10a44e6a6": {
          "model_module": "@jupyter-widgets/base",
          "model_name": "LayoutModel",
          "model_module_version": "1.2.0",
          "state": {
            "_view_name": "LayoutView",
            "grid_template_rows": null,
            "right": null,
            "justify_content": null,
            "_view_module": "@jupyter-widgets/base",
            "overflow": null,
            "_model_module_version": "1.2.0",
            "_view_count": null,
            "flex_flow": null,
            "width": null,
            "min_width": null,
            "border": null,
            "align_items": null,
            "bottom": null,
            "_model_module": "@jupyter-widgets/base",
            "top": null,
            "grid_column": null,
            "overflow_y": null,
            "overflow_x": null,
            "grid_auto_flow": null,
            "grid_area": null,
            "grid_template_columns": null,
            "flex": null,
            "_model_name": "LayoutModel",
            "justify_items": null,
            "grid_row": null,
            "max_height": null,
            "align_content": null,
            "visibility": null,
            "align_self": null,
            "height": null,
            "min_height": null,
            "padding": null,
            "grid_auto_rows": null,
            "grid_gap": null,
            "max_width": null,
            "order": null,
            "_view_module_version": "1.2.0",
            "grid_template_areas": null,
            "object_position": null,
            "object_fit": null,
            "grid_auto_columns": null,
            "margin": null,
            "display": null,
            "left": null
          }
        },
        "7ebf17e68a464874ba45ae8176211c43": {
          "model_module": "@jupyter-widgets/controls",
          "model_name": "ProgressStyleModel",
          "model_module_version": "1.5.0",
          "state": {
            "_view_name": "StyleView",
            "_model_name": "ProgressStyleModel",
            "description_width": "",
            "_view_module": "@jupyter-widgets/base",
            "_model_module_version": "1.5.0",
            "_view_count": null,
            "_view_module_version": "1.2.0",
            "bar_color": null,
            "_model_module": "@jupyter-widgets/controls"
          }
        },
        "9d82e4a8e06345fca74f70eeed61fb99": {
          "model_module": "@jupyter-widgets/base",
          "model_name": "LayoutModel",
          "model_module_version": "1.2.0",
          "state": {
            "_view_name": "LayoutView",
            "grid_template_rows": null,
            "right": null,
            "justify_content": null,
            "_view_module": "@jupyter-widgets/base",
            "overflow": null,
            "_model_module_version": "1.2.0",
            "_view_count": null,
            "flex_flow": null,
            "width": null,
            "min_width": null,
            "border": null,
            "align_items": null,
            "bottom": null,
            "_model_module": "@jupyter-widgets/base",
            "top": null,
            "grid_column": null,
            "overflow_y": null,
            "overflow_x": null,
            "grid_auto_flow": null,
            "grid_area": null,
            "grid_template_columns": null,
            "flex": null,
            "_model_name": "LayoutModel",
            "justify_items": null,
            "grid_row": null,
            "max_height": null,
            "align_content": null,
            "visibility": null,
            "align_self": null,
            "height": null,
            "min_height": null,
            "padding": null,
            "grid_auto_rows": null,
            "grid_gap": null,
            "max_width": null,
            "order": null,
            "_view_module_version": "1.2.0",
            "grid_template_areas": null,
            "object_position": null,
            "object_fit": null,
            "grid_auto_columns": null,
            "margin": null,
            "display": null,
            "left": null
          }
        },
        "45fcd52679cf44488e6294728204f39c": {
          "model_module": "@jupyter-widgets/controls",
          "model_name": "DescriptionStyleModel",
          "model_module_version": "1.5.0",
          "state": {
            "_view_name": "StyleView",
            "_model_name": "DescriptionStyleModel",
            "description_width": "",
            "_view_module": "@jupyter-widgets/base",
            "_model_module_version": "1.5.0",
            "_view_count": null,
            "_view_module_version": "1.2.0",
            "_model_module": "@jupyter-widgets/controls"
          }
        },
        "f966ea5912b1418faa459c974181f5ab": {
          "model_module": "@jupyter-widgets/base",
          "model_name": "LayoutModel",
          "model_module_version": "1.2.0",
          "state": {
            "_view_name": "LayoutView",
            "grid_template_rows": null,
            "right": null,
            "justify_content": null,
            "_view_module": "@jupyter-widgets/base",
            "overflow": null,
            "_model_module_version": "1.2.0",
            "_view_count": null,
            "flex_flow": null,
            "width": null,
            "min_width": null,
            "border": null,
            "align_items": null,
            "bottom": null,
            "_model_module": "@jupyter-widgets/base",
            "top": null,
            "grid_column": null,
            "overflow_y": null,
            "overflow_x": null,
            "grid_auto_flow": null,
            "grid_area": null,
            "grid_template_columns": null,
            "flex": null,
            "_model_name": "LayoutModel",
            "justify_items": null,
            "grid_row": null,
            "max_height": null,
            "align_content": null,
            "visibility": null,
            "align_self": null,
            "height": null,
            "min_height": null,
            "padding": null,
            "grid_auto_rows": null,
            "grid_gap": null,
            "max_width": null,
            "order": null,
            "_view_module_version": "1.2.0",
            "grid_template_areas": null,
            "object_position": null,
            "object_fit": null,
            "grid_auto_columns": null,
            "margin": null,
            "display": null,
            "left": null
          }
        }
      }
    }
  },
  "nbformat": 4,
  "nbformat_minor": 5
}